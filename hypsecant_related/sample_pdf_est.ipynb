{
 "cells": [
  {
   "cell_type": "markdown",
   "metadata": {},
   "source": [
    "# Sample program for pdf estimation\n",
    "+ Model\n",
    "    $p(x|w) = \\prod_{j=1}^M \\frac{\\sqrt{s}}{2\\pi} \\frac{1}{\\cosh(\\frac{\\sqrt{s_j}}{2\\pi} (x_j - b_j))}$\n",
    "    + In many cases, we have just data x, and want to know $b_j and s_j$ to summarize data form.\n",
    "    + Note: this sample case focuses on $M=2$. However, in many cases, $M$ is very large, thus summarize without visualization is necessary,\n",
    "    and we consider the summarization.\n",
    "    \n",
    "+ In this notebook, the following two things are demonstrated:\n",
    "    1. Plot data following to the above distribution\n",
    "    1. Estimation of $b$ and $s$."
   ]
  },
  {
   "cell_type": "code",
   "execution_count": 1,
   "metadata": {},
   "outputs": [],
   "source": [
    "%matplotlib inline\n",
    "%load_ext autoreload\n",
    "%autoreload 2"
   ]
  },
  {
   "cell_type": "code",
   "execution_count": 14,
   "metadata": {},
   "outputs": [],
   "source": [
    "import sys\n",
    "sys.path.append(\"../lib\")"
   ]
  },
  {
   "cell_type": "code",
   "execution_count": 19,
   "metadata": {},
   "outputs": [],
   "source": [
    "import numpy as np\n",
    "import matplotlib.pyplot as plt\n",
    "from scipy.stats import hypsecant, norm\n",
    "from mpl_toolkits.mplot3d import Axes3D\n",
    "\n",
    "from HyperbolicSecantMixtureModelVB import HyperbolicSecantMixtureVB\n",
    "from learning import GaussianMixtureModelVB"
   ]
  },
  {
   "cell_type": "code",
   "execution_count": 3,
   "metadata": {},
   "outputs": [],
   "source": [
    "### data settings\n",
    "n = 100 ### The number of training data\n",
    "M = 2 ### dimension of the data\n",
    "data_seed = 20190930\n",
    "\n",
    "### true b and s\n",
    "true_b = np.array([0, 0])\n",
    "true_s = np.array([2, 0.5])"
   ]
  },
  {
   "cell_type": "markdown",
   "metadata": {},
   "source": [
    "# Plot data following to the above distribution\n",
    "+ In this sample case,\n",
    "    $$(x_1, x_2) \\sim \\frac{\\sqrt{2}}{2\\pi}\\frac{1}{\\cosh(\\frac{\\sqrt{2}}{2}x_1)}\\frac{\\sqrt{0.5}}{2\\pi}\\frac{1}{\\cosh(\\frac{\\sqrt{0.5}}{2}x_2)}$$\n",
    "+ Here, the data is plotted."
   ]
  },
  {
   "cell_type": "code",
   "execution_count": 4,
   "metadata": {},
   "outputs": [],
   "source": [
    "train_X = np.array([hypsecant.rvs(loc = true_b[j], scale = 2/(np.sqrt(true_s[j])), size = n) for j in range(M)]).T"
   ]
  },
  {
   "cell_type": "code",
   "execution_count": 5,
   "metadata": {},
   "outputs": [
    {
     "data": {
      "image/png": "[encoded data removed]",
      "text/plain": [
       "<Figure size 432x288 with 1 Axes>"
      ]
     },
     "metadata": {
      "needs_background": "light"
     },
     "output_type": "display_data"
    }
   ],
   "source": [
    "plt.scatter(train_X[:,0], train_X[:,1])\n",
    "plt.show()"
   ]
  },
  {
   "cell_type": "code",
   "execution_count": 6,
   "metadata": {},
   "outputs": [
    {
     "data": {
      "text/plain": [
       "array([-0.319228  , -0.36214548])"
      ]
     },
     "execution_count": 6,
     "metadata": {},
     "output_type": "execute_result"
    }
   ],
   "source": [
    "train_X.mean(axis = 0)"
   ]
  },
  {
   "cell_type": "code",
   "execution_count": 7,
   "metadata": {},
   "outputs": [
    {
     "data": {
      "text/plain": [
       "array([2.19385641, 3.92670833])"
      ]
     },
     "execution_count": 7,
     "metadata": {},
     "output_type": "execute_result"
    }
   ],
   "source": [
    "train_X.std(axis = 0)"
   ]
  },
  {
   "cell_type": "markdown",
   "metadata": {},
   "source": [
    "# Estimation of b and s\n",
    "+ When we have the above data, the following command enables us to summarize its mean and scale.\n",
    "+ Note: When you prepare another data whose data type is np.ndarray with $n \\times M$, $n$ is the number of the data, $M$ is dimension of the data,  \n",
    "    the following calculation can be applied."
   ]
  },
  {
   "cell_type": "code",
   "execution_count": 8,
   "metadata": {},
   "outputs": [
    {
     "data": {
      "text/plain": [
       "HyperbolicSecantMixtureVB(K=1, iteration=1000, learning_seed=-1, pri_alpha=0.1,\n",
       "                          pri_beta=0.001, pri_delta=2, pri_gamma=2,\n",
       "                          restart_num=5, step=1, tol=1e-05)"
      ]
     },
     "execution_count": 8,
     "metadata": {},
     "output_type": "execute_result"
    }
   ],
   "source": [
    "hsm_obj = HyperbolicSecantMixtureVB(K = 1, step = 1)\n",
    "hsm_obj.fit(train_X)"
   ]
  },
  {
   "cell_type": "markdown",
   "metadata": {},
   "source": [
    "## Estimated true_b = $(0,0)$ is this one."
   ]
  },
  {
   "cell_type": "code",
   "execution_count": 9,
   "metadata": {},
   "outputs": [
    {
     "data": {
      "text/plain": [
       "array([[-0.23693262, -0.09106507]])"
      ]
     },
     "execution_count": 9,
     "metadata": {},
     "output_type": "execute_result"
    }
   ],
   "source": [
    "hsm_obj.result_[\"mean\"]"
   ]
  },
  {
   "cell_type": "markdown",
   "metadata": {},
   "source": [
    "## Estimated true_s = $(2, 0.5)$ is this one."
   ]
  },
  {
   "cell_type": "code",
   "execution_count": 10,
   "metadata": {},
   "outputs": [
    {
     "data": {
      "text/plain": [
       "array([[2.23600999, 0.69729424]])"
      ]
     },
     "execution_count": 10,
     "metadata": {},
     "output_type": "execute_result"
    }
   ],
   "source": [
    "hsm_obj.result_[\"precision\"]"
   ]
  },
  {
   "cell_type": "markdown",
   "metadata": {},
   "source": [
    "## Compare p(x|true_w) with p(x|est_w)"
   ]
  },
  {
   "cell_type": "code",
   "execution_count": 12,
   "metadata": {},
   "outputs": [],
   "source": [
    "N = 1000\n",
    "x1 = np.linspace(-5, 5, N)\n",
    "x2 = np.linspace(-5, 5, N)\n",
    "\n",
    "X1, X2 = np.meshgrid(x1, x2)\n",
    "X = np.c_[np.ravel(X1), np.ravel(X2)]\n",
    "\n",
    "True_Y = hypsecant.pdf(x=X, loc=true_b, scale=2/np.sqrt(true_s)).prod(axis=1)\n",
    "True_Y = True_Y.reshape(X1.shape)\n",
    "\n",
    "Est_Y = hypsecant.pdf(x=X, loc=hsm_obj.result_[\"mean\"], scale=2/np.sqrt(hsm_obj.result_[\"precision\"])).prod(axis=1)\n",
    "Est_Y = Est_Y.reshape(X1.shape)"
   ]
  },
  {
   "cell_type": "code",
   "execution_count": 13,
   "metadata": {},
   "outputs": [
    {
     "data": {
      "text/plain": [
       "<Figure size 432x288 with 0 Axes>"
      ]
     },
     "metadata": {},
     "output_type": "display_data"
    },
    {
     "data": {
      "image/png": "[encoded data removed]",
      "text/plain": [
       "<Figure size 576x288 with 4 Axes>"
      ]
     },
     "metadata": {
      "needs_background": "light"
     },
     "output_type": "display_data"
    }
   ],
   "source": [
    "plt.subplots_adjust(wspace=0.6, hspace=0.6)\n",
    "plt.subplots(figsize=(8,4))\n",
    "\n",
    "ax = plt.subplot(1, 2, 1)\n",
    "cont10 = ax.contourf(X1, X2, True_Y, levels = 10)\n",
    "ax.set_title(\"True contour\")\n",
    "plt.colorbar(cont10)\n",
    "\n",
    "ax = plt.subplot(1, 2, 2)\n",
    "cont10 = ax.contourf(X1, X2, Est_Y, levels = 10)\n",
    "ax.set_title(\"Estimated contour\")\n",
    "plt.colorbar(cont10)\n",
    "\n",
    "plt.show()"
   ]
  },
  {
   "cell_type": "markdown",
   "metadata": {},
   "source": [
    "## For reference, compare estimation based on Gaussian model with this model."
   ]
  },
  {
   "cell_type": "code",
   "execution_count": 17,
   "metadata": {},
   "outputs": [
    {
     "data": {
      "text/plain": [
       "GaussianMixtureModelVB(K=1, iteration=1000, learning_seed=-1, pri_alpha=0.1,\n",
       "                       pri_beta=0.001, pri_delta=2, pri_gamma=2, restart_num=5,\n",
       "                       step=1, tol=1e-05)"
      ]
     },
     "execution_count": 17,
     "metadata": {},
     "output_type": "execute_result"
    }
   ],
   "source": [
    "gm_obj = GaussianMixtureModelVB(K = 1, step = 1)\n",
    "gm_obj.fit(train_X)"
   ]
  },
  {
   "cell_type": "code",
   "execution_count": 21,
   "metadata": {},
   "outputs": [],
   "source": [
    "N = 1000\n",
    "x1 = np.linspace(-5, 5, N)\n",
    "x2 = np.linspace(-5, 5, N)\n",
    "\n",
    "X1, X2 = np.meshgrid(x1, x2)\n",
    "X = np.c_[np.ravel(X1), np.ravel(X2)]\n",
    "\n",
    "True_Y = hypsecant.pdf(x=X, loc=true_b, scale=2/np.sqrt(true_s)).prod(axis=1)\n",
    "True_Y = True_Y.reshape(X1.shape)\n",
    "\n",
    "norm_Est_Y = norm.pdf(x=X, loc=gm_obj.result_[\"mean\"], scale=1/np.sqrt(gm_obj.result_[\"precision\"])).prod(axis=1)\n",
    "norm_Est_Y = norm_Est_Y.reshape(X1.shape)\n",
    "\n",
    "hypsecant_Est_Y = hypsecant.pdf(x=X, loc=hsm_obj.result_[\"mean\"], scale=2/np.sqrt(hsm_obj.result_[\"precision\"])).prod(axis=1)\n",
    "hypsecant_Est_Y = hypsecant_Est_Y.reshape(X1.shape)"
   ]
  },
  {
   "cell_type": "code",
   "execution_count": 29,
   "metadata": {},
   "outputs": [
    {
     "data": {
      "text/plain": [
       "<Figure size 432x288 with 0 Axes>"
      ]
     },
     "metadata": {},
     "output_type": "display_data"
    },
    {
     "data": {
      "image/png": "[encoded data removed]",
      "text/plain": [
       "<Figure size 576x288 with 6 Axes>"
      ]
     },
     "metadata": {
      "needs_background": "light"
     },
     "output_type": "display_data"
    }
   ],
   "source": [
    "plt.subplots_adjust(wspace=2, hspace=1)\n",
    "plt.subplots(figsize=(8,4))\n",
    "\n",
    "ax = plt.subplot(1, 3, 1)\n",
    "cont10 = ax.contourf(X1, X2, True_Y, levels = 10)\n",
    "ax.set_title(\"True contour\")\n",
    "plt.colorbar(cont10)\n",
    "\n",
    "ax = plt.subplot(1, 3, 2)\n",
    "cont10 = ax.contourf(X1, X2, norm_Est_Y, levels = 10)\n",
    "ax.set_title(\"Estimated contour \\n by Gaussian\")\n",
    "plt.colorbar(cont10)\n",
    "\n",
    "ax = plt.subplot(1, 3, 3)\n",
    "cont10 = ax.contourf(X1, X2, hypsecant_Est_Y, levels = 10)\n",
    "ax.set_title(\"Estimated contour \\n by Hyperbolic secant\")\n",
    "plt.colorbar(cont10)\n",
    "\n",
    "plt.show()"
   ]
  },
  {
   "cell_type": "markdown",
   "metadata": {},
   "source": [
    "+ From above result, Estimation based on Gaussian overestimate the variance."
   ]
  },
  {
   "cell_type": "code",
   "execution_count": null,
   "metadata": {},
   "outputs": [],
   "source": []
  }
 ],
 "metadata": {
  "jupytext": {
   "text_representation": {
    "extension": ".py",
    "format_name": "light",
    "format_version": "1.4",
    "jupytext_version": "1.2.4"
   }
  },
  "kernelspec": {
   "display_name": "Python 3",
   "language": "python",
   "name": "python3"
  },
  "language_info": {
   "codemirror_mode": {
    "name": "ipython",
    "version": 3
   },
   "file_extension": ".py",
   "mimetype": "text/x-python",
   "name": "python",
   "nbconvert_exporter": "python",
   "pygments_lexer": "ipython3",
   "version": "3.6.3"
  },
  "toc-autonumbering": true
 },
 "nbformat": 4,
 "nbformat_minor": 4
}
