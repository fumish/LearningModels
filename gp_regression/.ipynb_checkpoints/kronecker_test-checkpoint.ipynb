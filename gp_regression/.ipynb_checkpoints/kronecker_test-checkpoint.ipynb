{
 "cells": [
  {
   "cell_type": "markdown",
   "metadata": {},
   "source": [
    "# クロネッカー積のテスト\n",
    "+ ガウスカーネル行列のクロネッカー積で格子点のカーネル行列を表現できるかということ\n",
    "+ クロネッカー積の固有値が掛けられた2つの行列の固有値の積であるかということ\n",
    "+ クロネッカー積の固有ベクトルが2つの行列の固有ベクトルのクロネッカー積になるといったことを確認する"
   ]
  },
  {
   "cell_type": "code",
   "execution_count": 1,
   "metadata": {},
   "outputs": [],
   "source": [
    "%matplotlib inline"
   ]
  },
  {
   "cell_type": "code",
   "execution_count": 2,
   "metadata": {},
   "outputs": [],
   "source": [
    "import itertools\n",
    "\n",
    "import numpy as np\n",
    "from scipy.spatial import distance_matrix\n",
    "from sklearn.utils.extmath import cartesian"
   ]
  },
  {
   "cell_type": "markdown",
   "metadata": {},
   "source": [
    "# 2軸の格子点の定義域を設定する"
   ]
  },
  {
   "cell_type": "code",
   "execution_count": 3,
   "metadata": {},
   "outputs": [],
   "source": [
    "n1 = 10\n",
    "n2 = 15\n",
    "X1_domain = (-10, 5)\n",
    "X2_domain = (-8, -3)\n",
    "X1_candidate = np.linspace(start = X1_domain[0], stop = X1_domain[1], num = n1).reshape(n1, 1)\n",
    "X2_candidate = np.linspace(start = X2_domain[0], stop = X2_domain[1], num = n2).reshape(n2, 1)"
   ]
  },
  {
   "cell_type": "markdown",
   "metadata": {},
   "source": [
    "## 格子点の各座標を求める\n",
    "+ X1とX2の直積を求める"
   ]
  },
  {
   "cell_type": "code",
   "execution_count": 4,
   "metadata": {},
   "outputs": [],
   "source": [
    "X_candidate = cartesian([X1_candidate.squeeze(), X2_candidate.squeeze()])"
   ]
  },
  {
   "cell_type": "markdown",
   "metadata": {},
   "source": [
    "## カーネル行列を定義する\n",
    "+ 今回は、ガウスカーネルを考える"
   ]
  },
  {
   "cell_type": "code",
   "execution_count": 5,
   "metadata": {},
   "outputs": [],
   "source": [
    "gauss_kernel = lambda x,y: np.exp(-distance_matrix(x,y, p=2)**2/2)"
   ]
  },
  {
   "cell_type": "code",
   "execution_count": 15,
   "metadata": {},
   "outputs": [],
   "source": [
    "quasi_gauss_kernel = lambda x,y: np.exp(-distance_matrix(x,y, p=2)/2)"
   ]
  },
  {
   "cell_type": "markdown",
   "metadata": {},
   "source": [
    "# クロネッカー積が正しく動くか検証する"
   ]
  },
  {
   "cell_type": "code",
   "execution_count": 19,
   "metadata": {},
   "outputs": [
    {
     "data": {
      "text/plain": [
       "True"
      ]
     },
     "execution_count": 19,
     "metadata": {},
     "output_type": "execute_result"
    }
   ],
   "source": [
    "K1 = gauss_kernel(X1_candidate, X1_candidate)\n",
    "K2 = gauss_kernel(X2_candidate, X2_candidate)\n",
    "K = gauss_kernel(X_candidate, X_candidate)\n",
    "K_kron = np.kron(K1, K2)\n",
    "np.allclose(K, K_kron)"
   ]
  },
  {
   "cell_type": "markdown",
   "metadata": {},
   "source": [
    "# クロネッカー積の固有値が2つの行列の固有値の積かどうか検証する"
   ]
  },
  {
   "cell_type": "code",
   "execution_count": 41,
   "metadata": {},
   "outputs": [
    {
     "data": {
      "text/plain": [
       "True"
      ]
     },
     "execution_count": 41,
     "metadata": {},
     "output_type": "execute_result"
    }
   ],
   "source": [
    "(eig1_val, eig1_vec) = np.linalg.eigh(K1)\n",
    "(eig2_val, eig2_vec) = np.linalg.eigh(K2)\n",
    "(eig_val, eig_vec) = np.linalg.eigh(K)\n",
    "kron_eig_val = np.kron(eig1_val, eig2_val)\n",
    "np.allclose(np.sort(kron_eig_val), eig_val)"
   ]
  },
  {
   "cell_type": "markdown",
   "metadata": {},
   "source": [
    "# クロネッカー積の固有ベクトルが2つの行列の固有ベクトルのクロネッカー積かどうか検証する\n",
    "+ 固有ベクトル同士を完全に同じにするのは難しい(長さの自由度がある)ので以下が成り立つかどうかを考えた:\n",
    "$$\n",
    "K = P V P^T.\n",
    "$$\n",
    "$V$は固有値のクロネッカー積を対角成分に持つ行列(大きい順にソート), Pは固有ベクトルのクロネッカー積をVに対応するように並べ替えたもの"
   ]
  },
  {
   "cell_type": "code",
   "execution_count": 68,
   "metadata": {},
   "outputs": [
    {
     "data": {
      "text/plain": [
       "True"
      ]
     },
     "execution_count": 68,
     "metadata": {},
     "output_type": "execute_result"
    }
   ],
   "source": [
    "kron_eig_vec = np.kron(eig1_vec, eig2_vec)\n",
    "kron_perm_ind = np.argsort(kron_eig_val)\n",
    "np.allclose(K, kron_eig_vec[:,kron_perm_ind] @ np.diag(np.sort(kron_eig_val))  @ kron_eig_vec[:,kron_perm_ind].T)"
   ]
  },
  {
   "cell_type": "markdown",
   "metadata": {},
   "source": [
    "# 結論\n",
    "+ 以下のことが言えた:\n",
    "\n",
    "\n",
    "1. カーネル行列が独立(要素ごとの積)で表せる場合は、クロネッカー積でカーネル行列を表現できる\n",
    "2. クロネッカー積でカーネル行列を表すことができると、固有値、固有ベクトルもクロネッカー積で与えることができる\n",
    "3. 固有値、固有ベクトルが求まれば、格子状に与えられた補助変数のカーネル行列の逆行列や行列式が求まるのでうれしい"
   ]
  },
  {
   "cell_type": "code",
   "execution_count": null,
   "metadata": {},
   "outputs": [],
   "source": []
  }
 ],
 "metadata": {
  "jupytext": {
   "text_representation": {
    "extension": ".py",
    "format_name": "light",
    "format_version": "1.4",
    "jupytext_version": "1.1.3"
   }
  },
  "kernelspec": {
   "display_name": "Python 3",
   "language": "python",
   "name": "python3"
  },
  "language_info": {
   "codemirror_mode": {
    "name": "ipython",
    "version": 3
   },
   "file_extension": ".py",
   "mimetype": "text/x-python",
   "name": "python",
   "nbconvert_exporter": "python",
   "pygments_lexer": "ipython3",
   "version": "3.7.3"
  },
  "toc-autonumbering": true
 },
 "nbformat": 4,
 "nbformat_minor": 4
}
