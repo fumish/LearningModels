{
 "cells": [
  {
   "cell_type": "markdown",
   "metadata": {},
   "source": [
    "# スパースガウス過程でロジスティック回帰をminibatchでやるための試作"
   ]
  },
  {
   "cell_type": "code",
   "execution_count": 1,
   "metadata": {},
   "outputs": [],
   "source": [
    "%matplotlib inline\n",
    "%load_ext autoreload\n",
    "%autoreload 2"
   ]
  },
  {
   "cell_type": "code",
   "execution_count": 2,
   "metadata": {},
   "outputs": [],
   "source": [
    "import sys\n",
    "sys.path.append(\"../lib\")"
   ]
  },
  {
   "cell_type": "code",
   "execution_count": 3,
   "metadata": {},
   "outputs": [],
   "source": [
    "import numpy as np\n",
    "import matplotlib.pyplot as plt\n",
    "from scipy.special import expit\n",
    "from scipy.spatial import distance_matrix\n",
    "from scipy.stats import wishart\n",
    "\n",
    "from util import logcosh, ratio_tanh_x"
   ]
  },
  {
   "cell_type": "markdown",
   "metadata": {},
   "source": [
    "## 学習設定"
   ]
  },
  {
   "cell_type": "code",
   "execution_count": 4,
   "metadata": {},
   "outputs": [],
   "source": [
    "data_seed = 20190908\n",
    "n = 1000\n",
    "sub_n = 400\n",
    "M = 1\n",
    "domain_X = (-10, 10)\n",
    "\n",
    "true_func = lambda x: (x * np.sin(x)).sum(axis = 1)"
   ]
  },
  {
   "cell_type": "markdown",
   "metadata": {},
   "source": [
    "## データ生成"
   ]
  },
  {
   "cell_type": "code",
   "execution_count": 5,
   "metadata": {},
   "outputs": [],
   "source": [
    "np.random.seed(data_seed)\n",
    "\n",
    "train_X = np.random.uniform(low = domain_X[0], high = domain_X[1], size = (n, M))\n",
    "train_func = true_func(train_X)\n",
    "train_prob = expit(train_func)\n",
    "train_Y = np.random.binomial(n = 1, p = train_prob, size = n)"
   ]
  },
  {
   "cell_type": "markdown",
   "metadata": {},
   "source": [
    "# 学習開始"
   ]
  },
  {
   "cell_type": "markdown",
   "metadata": {},
   "source": [
    "## 学習設定"
   ]
  },
  {
   "cell_type": "code",
   "execution_count": 6,
   "metadata": {},
   "outputs": [],
   "source": [
    "learning_seed = 20190909\n",
    "\n",
    "iteration = 1000\n",
    "theta1 = 1; theta2 = 1; theta3 = 0.0001\n",
    "kronecker_delta = lambda x,y: np.exp(-distance_matrix(x,y)**2/(0.00001))\n",
    "gauss_kernel = lambda x,y: theta1 * np.exp(-distance_matrix(x,y)**2/(theta2)) + theta3 * kronecker_delta(x,y)\n",
    "gauss_kernel_diag = lambda x: theta1 * np.ones(len(x))  + theta3\n",
    "\n",
    "used_kernel = gauss_kernel\n",
    "used_kernel_diag = gauss_kernel_diag\n",
    "\n",
    "step = 0.5\n",
    "tol = 1e-7"
   ]
  },
  {
   "cell_type": "markdown",
   "metadata": {},
   "source": [
    "## 部分データの選択"
   ]
  },
  {
   "cell_type": "code",
   "execution_count": 7,
   "metadata": {},
   "outputs": [],
   "source": [
    "np.random.seed(learning_seed)\n",
    "sub_train_X = np.random.uniform(low = domain_X[0], high = domain_X[1], size = (sub_n, M))\n",
    "# sub_ind = np.random.permutation(n)[:sub_n]\n",
    "# sub_train_X = train_X[sub_ind,:]"
   ]
  },
  {
   "cell_type": "markdown",
   "metadata": {},
   "source": [
    "## 学習前の事前計算"
   ]
  },
  {
   "cell_type": "code",
   "execution_count": 8,
   "metadata": {},
   "outputs": [],
   "source": [
    "## 学習で用いるカーネルの計算\n",
    "sub_sub_kernel = used_kernel(sub_train_X, sub_train_X)\n",
    "inv_sub_sub_kernel = np.linalg.inv(sub_sub_kernel)\n",
    "train_sub_kernel = used_kernel(train_X, sub_train_X)\n",
    "\n",
    "## 事後分布の形状パラメータの初期化\n",
    "est_u = np.random.normal(size = sub_n)\n",
    "est_Sigma = wishart.rvs(df = sub_n + 2, scale = np.eye(sub_n), size = 1)\n",
    "# est_g_xi = np.random.normal(size = n)\n",
    "est_h_xi = np.abs(np.random.normal(size = n))\n",
    "nu1 = np.linalg.solve(est_Sigma, est_u)\n",
    "nu2 = -np.linalg.inv(est_Sigma)/2"
   ]
  },
  {
   "cell_type": "markdown",
   "metadata": {},
   "source": [
    "## メインの学習部分"
   ]
  },
  {
   "cell_type": "code",
   "execution_count": 9,
   "metadata": {},
   "outputs": [],
   "source": [
    "a = train_sub_kernel @ inv_sub_sub_kernel\n",
    "est_var_fu = used_kernel_diag(train_X) - ((train_sub_kernel @ inv_sub_sub_kernel) * train_sub_kernel).sum(axis = 1)"
   ]
  },
  {
   "cell_type": "code",
   "execution_count": 10,
   "metadata": {},
   "outputs": [
    {
     "name": "stdout",
     "output_type": "stream",
     "text": [
      "508.75761129928776 6.52383451398844 2591.848037292012\n",
      "437.9093824932247 3.26191725699422 1295.922512471736\n",
      "421.88975815465676 1.6309586284971103 647.9607740068735\n",
      "415.42318384036633 0.815479314248555 323.98002261759893\n",
      "411.8778126543207 0.40773965712427757 161.98971634410458\n",
      "409.65196816426464 0.20386982856213876 80.99461539778432\n",
      "408.2318157396203 0.10193491428106939 40.49710972540052\n",
      "407.34467313646866 0.050967457140534696 20.24839963504918\n",
      "406.79534743191186 0.025483728570267348 10.124083989176738\n",
      "406.45226093466994 0.012741864285133674 5.061958759146484\n",
      "406.23463015898585 0.006370932142566833 2.5309206578530064\n",
      "406.094511771418 0.00318546607128342 1.2654189915770442\n",
      "406.0032304067743 0.001592733035641713 0.6326801426853487\n",
      "405.9432416405546 0.0007963665178208529 0.3163189129839745\n",
      "405.90356238066073 0.0003981832589104237 0.15814392644361033\n",
      "405.877189063701 0.00019909162945521333 0.07906034601731386\n",
      "405.85959406101284 9.954581472760234e-05 0.039521322239236725\n",
      "405.847820782754 4.9772907363803766e-05 0.019753804726120653\n",
      "405.8399241119707 2.4886453681897624e-05 0.009871513631197565\n",
      "405.834617116125 1.2443226840951236e-05 0.0049314704745938975\n",
      "405.8310446001816 6.221613420475462e-06 0.00246229326795545\n",
      "405.8286362760968 3.1108067102361417e-06 0.0012283632784802448\n",
      "405.8270107745179 1.5554033551204366e-06 0.0006119207479536282\n",
      "405.8259124622248 7.777016775588245e-07 0.0003041206874709679\n",
      "405.8251696598023 3.888508387827603e-07 0.0001505659621789583\n",
      "405.824666863494 1.9442541938279879e-07 7.407736305998971e-05\n",
      "405.8243262629788 9.721270968767656e-08 3.60813365761285e-05\n",
      "405.8240953792874 4.8606354847968534e-08 1.730654497244326e-05\n",
      "405.82393877358885 2.4303177420427096e-08 8.136071996385968e-06\n",
      "405.82383247652297 1.2151588705007399e-08 3.7898495765806415e-06\n",
      "405.8237602974411 6.075794349048744e-09 1.9109263796839358e-06\n",
      "405.82371125773403 3.037897175896911e-09 1.265093829210633e-06\n",
      "405.82367792638274 1.518948585085649e-09 1.0671812365080286e-06\n",
      "405.8236552578708 7.5947428309386e-10 9.496545900421495e-07\n",
      "405.823639831457 3.7973714553707837e-10 8.332357258477734e-07\n",
      "405.8236293390969 1.8986858163553697e-10 7.168325483727489e-07\n",
      "405.8236221921623 9.49342836024067e-11 6.078697632748947e-07\n",
      "405.8236173243568 4.746714338620164e-11 5.106865448581102e-07\n",
      "405.82361400894723 2.373357173097352e-11 4.2655741464080824e-07\n",
      "405.82361174909397 1.1866783664131015e-11 3.55021039714419e-07\n",
      "405.82361020828097 5.933387303997763e-12 2.948406452865879e-07\n",
      "405.8236091561496 2.96669798581595e-12 2.445384170991361e-07\n",
      "405.8236084377984 1.4833392035941444e-12 2.0265515828083105e-07\n",
      "405.8236079497626 7.416716313285119e-13 1.6786307051243928e-07\n",
      "405.8236076162714 3.7083543375557e-13 1.3900291134963e-07\n",
      "405.8236073875699 1.854138539331143e-13 1.1508335824743002e-07\n",
      "405.82360723375314 9.270578502999269e-14 9.52692840104022e-08\n",
      "405.82360712841677 4.636240197786545e-14 7.886117146486032e-08\n",
      "405.82360705245287 2.317962933610269e-14 6.527619730069477e-08\n"
     ]
    }
   ],
   "source": [
    "current_F = np.inf\n",
    "for ite in range(iteration):\n",
    "    ## 補助変数のを計算用に変換する\n",
    "    est_sq_h_xi = np.sqrt(est_h_xi)\n",
    "    est_v_xi = -ratio_tanh_x(est_sq_h_xi/2)/8\n",
    "    \n",
    "    ## 事後分布の形状パラメータの計算\n",
    "    b = np.sqrt(-est_v_xi.repeat(sub_n).reshape((n, sub_n)))*a\n",
    "    dFdnu1 = -(train_Y - 0.5) @ a + nu1\n",
    "    dFdnu2 = b.T @ b + inv_sub_sub_kernel/2 + nu2\n",
    "    nu1 += -step * dFdnu1\n",
    "    nu2 += -step * dFdnu2\n",
    "    \n",
    "    ## 補助変数の計算 -> もともとのものにlogを付けた変数の最適化を行っている\n",
    "    est_Sigma = -np.linalg.inv(nu2)/2\n",
    "    est_u = -np.linalg.solve(nu2, nu1)/2\n",
    "    m2_u = est_Sigma + est_u.reshape((sub_n, 1)) @ est_u.reshape((1, sub_n))\n",
    "    est_h_xi = est_var_fu + ((a @ m2_u) * a).sum(axis = 1)\n",
    "    ### エネルギーの計算\n",
    "    est_sq_h_xi = np.sqrt(est_h_xi)\n",
    "    est_v_xi = -ratio_tanh_x(est_sq_h_xi/2)/8\n",
    "    phi_h = (-logcosh(est_sq_h_xi/2)-np.log(2)).sum()\n",
    "    F = 0\n",
    "    F += -phi_h + est_v_xi @ est_h_xi\n",
    "    F += -(train_Y - 0.5) @ a @ est_u - est_v_xi @ (est_var_fu + ((a @ m2_u)*a).sum(axis=1))\n",
    "    F += (np.trace(inv_sub_sub_kernel @ est_Sigma) + est_u @ inv_sub_sub_kernel @ est_u - sub_n + np.linalg.slogdet(sub_sub_kernel)[1] -  np.linalg.slogdet(est_Sigma)[1])/2\n",
    "    \n",
    "    print(F, np.sqrt((dFdnu1**2).mean()), np.sqrt((dFdnu2**2).mean()))\n",
    "    \n",
    "    if np.abs(F - current_F) < tol:\n",
    "        break\n",
    "    current_F = F\n",
    "    \n",
    "    pass"
   ]
  },
  {
   "cell_type": "code",
   "execution_count": null,
   "metadata": {},
   "outputs": [],
   "source": [
    "plt.plot(sub_train_X[:,0], true_func(sub_train_X))\n",
    "plt.plot(sub_train_X[:,0], true_func(sub_train_X))\n"
   ]
  }
 ],
 "metadata": {
  "jupytext": {
   "encoding": "# -*- coding: utf-8 -*-",
   "text_representation": {
    "extension": ".py",
    "format_name": "light",
    "format_version": "1.4",
    "jupytext_version": "1.1.3"
   }
  },
  "kernelspec": {
   "display_name": "Python 3",
   "language": "python",
   "name": "python3"
  },
  "language_info": {
   "codemirror_mode": {
    "name": "ipython",
    "version": 3
   },
   "file_extension": ".py",
   "mimetype": "text/x-python",
   "name": "python",
   "nbconvert_exporter": "python",
   "pygments_lexer": "ipython3",
   "version": "3.6.3"
  },
  "toc-autonumbering": true
 },
 "nbformat": 4,
 "nbformat_minor": 4
}
