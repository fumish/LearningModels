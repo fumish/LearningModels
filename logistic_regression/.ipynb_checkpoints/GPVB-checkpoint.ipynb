{
 "cells": [
  {
   "cell_type": "markdown",
   "metadata": {},
   "source": [
    "# Sparse Gaussian Process by Varitional Inference\n",
    "+ $p(u,f|y,X)$ are approximated by $q(u,f|y,X)$, where\n",
    "$$ q(u,f|y,X) = \\argmin_{\\tilde{q}} \\int \\tilde{q}(u,f|y,X) \\log \\frac{\\tilde{q}(u,f|y,X)}{p(y|f,X) p(u|f,X) p(u)} df du , \\equiv \\argmin_{\\tilde{q}} \\mathcal{F}(\\tilde{q}) $$\n",
    "$$ \\tilde{q}(u,f|y,X) = \\tilde{q}(u) \\tilde{q}(f|u) = \\tilde{q}(u) \\prod_{i=1}^n \\tilde{q}(f_i|u)$$\n",
    "+ When we minimize $q(f|u)$, then it is a same form with $p(f|u)$. Thus, let $q(u) = N(u|\\hat{u}, \\hat{\\Sigma}_u)$, then eventually,\n",
    "\\begin{equation} \\mathcal{F} = \\int \\tilde{q}(u,f|y,X) \\log \\frac{1}{p(y|f,X)} df du + KL(q(u) || p(u)) \\\\\n",
    " = \\sum_{i=1}^n \\Bigl\\{ \\frac{1}{2\\sigma^2} (y_i - a_i^T \\hat{u})^2 + \\frac{1}{2\\sigma^2}\\hat{\\sigma}_i^2 + \\frac{1}{2\\sigma^2} a_i^T \\hat{\\Sigma}_u a_i \\Bigr\\} + \\frac{1}{2} \\log \\frac{|K_{M,M}|}{|\\hat{\\Sigma}_u|} -\\frac{M}{2} + \\frac{1}{2} tr(K_{M,M}^{-1} \\hat{\\Sigma}_u) + \\frac{1}{2} \\hat{u}^T \\hat{\\Sigma}_u \\hat{u}, \\end{equation}\n",
    " where $a_i = K_{M,M}^{-1}K_{M,i}, \\hat{\\sigma}_i = K_{i,i} - K_{i,M} K_{M,M}^{-1} K_{M,i}$\n",
    "+ Hence, to obtain the optimal $q(\\cdot)$, we need to search an optimal $\\hat{u}$ and $\\hat{\\Sigma}_u$ for $\\mathcal{F}$:\n",
    "    + By using gradient for both $\\hat{u}$ and $\\hat{\\Sigma}_u$, we can obtain a local minimum. The gradients are\n",
    "    \\begin{equation} \\frac{\\partial}{\\partial \\hat{u}} \\mathcal{F} = (K_{M,M}^{-1} + \\frac{1}{\\sigma^2} a^T a)\\hat{u} - \\frac{1}{\\sigma^2}ay, \\end{equation}\n",
    "    \\begin{equation} \\frac{\\partial}{\\partial \\hat{\\Sigma}_u} \\mathcal{F} = -\\frac{1}{2}\\hat{\\Sigma}_u + \\frac{1}{2}K_{M,M}^{-1} + \\frac{1}{2\\sigma^2} a^T a, \\end{equation}\n",
    "    where $a = (a_1, a_2, \\ldots a_n)^T \\in \\mathrm{R}^{n \\times M}$."
   ]
  },
  {
   "cell_type": "code",
   "execution_count": 1,
   "metadata": {},
   "outputs": [],
   "source": [
    "%matplotlib inline"
   ]
  },
  {
   "cell_type": "code",
   "execution_count": 2,
   "metadata": {},
   "outputs": [],
   "source": [
    "import numpy as np\n",
    "import matplotlib.pyplot as plt"
   ]
  },
  {
   "cell_type": "markdown",
   "metadata": {
    "toc-hr-collapsed": false
   },
   "source": [
    "# Preparation for learning"
   ]
  },
  {
   "cell_type": "markdown",
   "metadata": {},
   "source": [
    "## Setting for data"
   ]
  },
  {
   "cell_type": "code",
   "execution_count": 3,
   "metadata": {},
   "outputs": [],
   "source": [
    "n = 100\n",
    "M = 1\n",
    "data_seed = 20190727\n",
    "N = 100\n",
    "\n",
    "x_domain = (-5, 5)\n",
    "true_func = lambda x:(np.sin(4*x)/x).sum(axis = 1)\n",
    "true_sigma = 1"
   ]
  },
  {
   "cell_type": "markdown",
   "metadata": {},
   "source": [
    "## Generating data"
   ]
  },
  {
   "cell_type": "code",
   "execution_count": 4,
   "metadata": {},
   "outputs": [],
   "source": [
    "np.random.seed(data_seed)\n",
    "train_X = np.random.uniform(low = x_domain[0], high = x_domain[1], size = (n,M))\n",
    "train_Y = true_func(train_X) + np.random.normal(scale = true_sigma, size = n)\n",
    "\n",
    "test_X = np.random.uniform(low = x_domain[0], high = x_domain[1], size = (N,M))\n",
    "test_Y = true_func(test_X) + np.random.normal(scale = true_sigma, size = N)"
   ]
  },
  {
   "cell_type": "code",
   "execution_count": 5,
   "metadata": {},
   "outputs": [
    {
     "data": {
      "image/png": "[encoded data removed]",
      "text/plain": [
       "<Figure size 432x288 with 1 Axes>"
      ]
     },
     "metadata": {
      "needs_background": "light"
     },
     "output_type": "display_data"
    }
   ],
   "source": [
    "plt.scatter(train_X[:,0], train_Y)\n",
    "plt.scatter(train_X[:,0], true_func(train_X))\n",
    "plt.show()"
   ]
  },
  {
   "cell_type": "markdown",
   "metadata": {},
   "source": [
    "## Setting for learning"
   ]
  },
  {
   "cell_type": "code",
   "execution_count": 6,
   "metadata": {},
   "outputs": [],
   "source": [
    "### used library\n",
    "from scipy.spatial import distance_matrix\n",
    "from scipy.stats import wishart"
   ]
  },
  {
   "cell_type": "code",
   "execution_count": 7,
   "metadata": {},
   "outputs": [],
   "source": [
    "iteration = 1000\n",
    "learning_seed = 20190729\n",
    "M = 10\n",
    "np.random.seed(learning_seed)\n",
    "\n",
    "theta1 = 1; theta2 = 2; theta3 = 0.0001\n",
    "ln_sigma = true_sigma\n",
    "\n",
    "cronecker_delta_sigma = 0.0001\n",
    "cronecker_delta = lambda x,y: np.exp(- distance_matrix(x,y)**2/cronecker_delta_sigma)\n",
    "gauss_kernel = lambda x,y,theta1, theta2, theta3: theta1 * np.exp(- distance_matrix(x,y)**2/theta2) + theta3 * cronecker_delta(x,y)\n",
    "exp_kernel = lambda x,y,theta1, theta2, theta3: theta1 * np.exp(- distance_matrix(x, y, p=1)/theta2) + theta3 * cronecker_delta(x,y)\n",
    "used_kernel = gauss_kernel"
   ]
  },
  {
   "cell_type": "code",
   "execution_count": 8,
   "metadata": {},
   "outputs": [],
   "source": [
    "sub_train_ind = np.argsort(np.random.dirichlet(alpha = np.ones(n), size = 1)).squeeze()[:M]\n",
    "sub_train_X = train_X[sub_train_ind,:]\n",
    "sub_train_Y = train_Y[sub_train_ind]"
   ]
  },
  {
   "cell_type": "code",
   "execution_count": 13,
   "metadata": {},
   "outputs": [],
   "source": [
    "### kernel calculation\n",
    "train_sub_kernel = used_kernel(train_X, sub_train_X, theta1, theta2, theta3)\n",
    "sub_sub_kernel = used_kernel(sub_train_X, sub_train_X, theta1, theta2, theta3)\n",
    "inv_sub_sub_kernel = np.linalg.inv(sub_sub_kernel)\n",
    "proj_train_sub = train_sub_kernel @ inv_sub_sub_kernel"
   ]
  },
  {
   "cell_type": "code",
   "execution_count": 17,
   "metadata": {},
   "outputs": [],
   "source": [
    "true_u = true_func(sub_train_X)"
   ]
  },
  {
   "cell_type": "code",
   "execution_count": 15,
   "metadata": {},
   "outputs": [],
   "source": [
    "### initialization\n",
    "est_u = np.random.normal(size = M)\n",
    "est_sigma = wishart.rvs(df = M+2, scale = np.eye(M), size = 1)"
   ]
  },
  {
   "cell_type": "code",
   "execution_count": 24,
   "metadata": {},
   "outputs": [],
   "source": [
    "obj_func = (np.linalg.slogdet(est_sigma)[1] - np.linalg.slogdet(inv_sub_sub_kernel)[1])/2 - M/2 + "
   ]
  },
  {
   "cell_type": "code",
   "execution_count": 25,
   "metadata": {},
   "outputs": [
    {
     "data": {
      "text/plain": [
       "(1.0, 12.674021310700981)"
      ]
     },
     "execution_count": 25,
     "metadata": {},
     "output_type": "execute_result"
    }
   ],
   "source": [
    "obj_func"
   ]
  },
  {
   "cell_type": "code",
   "execution_count": 21,
   "metadata": {},
   "outputs": [
    {
     "ename": "NameError",
     "evalue": "name 'epsilon' is not defined",
     "output_type": "error",
     "traceback": [
      "\u001b[1;31m---------------------------------------------------------------------------\u001b[0m",
      "\u001b[1;31mNameError\u001b[0m                                 Traceback (most recent call last)",
      "\u001b[1;32m<ipython-input-21-722c39f38eb2>\u001b[0m in \u001b[0;36m<module>\u001b[1;34m\u001b[0m\n\u001b[0;32m      3\u001b[0m     \u001b[0mdu\u001b[0m \u001b[1;33m=\u001b[0m \u001b[1;33m(\u001b[0m\u001b[0minv_sub_sub_kernel\u001b[0m \u001b[1;33m+\u001b[0m \u001b[0mproj_train_sub\u001b[0m\u001b[1;33m.\u001b[0m\u001b[0mT\u001b[0m \u001b[1;33m@\u001b[0m \u001b[0mproj_train_sub\u001b[0m\u001b[1;33m)\u001b[0m \u001b[1;33m@\u001b[0m \u001b[0mest_u\u001b[0m \u001b[1;33m-\u001b[0m \u001b[0mproj_train_sub\u001b[0m\u001b[1;33m.\u001b[0m\u001b[0mT\u001b[0m \u001b[1;33m@\u001b[0m \u001b[0mtrain_Y\u001b[0m\u001b[1;33m/\u001b[0m\u001b[0mln_sigma\u001b[0m\u001b[1;33m\u001b[0m\u001b[0m\n\u001b[0;32m      4\u001b[0m     \u001b[0mdsigma\u001b[0m \u001b[1;33m=\u001b[0m \u001b[1;33m-\u001b[0m\u001b[0mhat_sigma\u001b[0m\u001b[1;33m/\u001b[0m\u001b[1;36m2\u001b[0m \u001b[1;33m+\u001b[0m \u001b[0minv_sub_sub_kernel\u001b[0m\u001b[1;33m/\u001b[0m\u001b[1;36m2\u001b[0m \u001b[1;33m+\u001b[0m \u001b[0mproj_train_sub\u001b[0m\u001b[1;33m.\u001b[0m\u001b[0mT\u001b[0m \u001b[1;33m@\u001b[0m \u001b[0mproj_train_sub\u001b[0m\u001b[1;33m/\u001b[0m\u001b[1;33m(\u001b[0m\u001b[1;36m2\u001b[0m\u001b[1;33m*\u001b[0m\u001b[0mln_sigma\u001b[0m\u001b[1;33m)\u001b[0m\u001b[1;33m\u001b[0m\u001b[0m\n\u001b[1;32m----> 5\u001b[1;33m     \u001b[0mest_u\u001b[0m \u001b[1;33m+=\u001b[0m \u001b[1;33m-\u001b[0m\u001b[0mepsilon\u001b[0m \u001b[1;33m*\u001b[0m \u001b[0mdu\u001b[0m\u001b[1;33m\u001b[0m\u001b[0m\n\u001b[0m\u001b[0;32m      6\u001b[0m     \u001b[0mest_sigma\u001b[0m \u001b[1;33m+=\u001b[0m \u001b[1;33m-\u001b[0m\u001b[0mepsilon\u001b[0m \u001b[1;33m*\u001b[0m \u001b[0mdsigma\u001b[0m\u001b[1;33m\u001b[0m\u001b[0m\n\u001b[0;32m      7\u001b[0m     \u001b[1;32mbreak\u001b[0m\u001b[1;33m\u001b[0m\u001b[0m\n",
      "\u001b[1;31mNameError\u001b[0m: name 'epsilon' is not defined"
     ]
    }
   ],
   "source": [
    "### gradient based calculation\n",
    "eta0 = 1\n",
    "for ite in range(iteration):\n",
    "    du = (inv_sub_sub_kernel + proj_train_sub.T @ proj_train_sub) @ est_u - proj_train_sub.T @ train_Y/ln_sigma\n",
    "    dsigma = -hat_sigma/2 + inv_sub_sub_kernel/2 + proj_train_sub.T @ proj_train_sub/(2*ln_sigma)\n",
    "    est_u += -eta0 * du\n",
    "    est_sigma += -eta0 * dsigma\n",
    "    break\n",
    "    pass"
   ]
  },
  {
   "cell_type": "code",
   "execution_count": 18,
   "metadata": {},
   "outputs": [
    {
     "data": {
      "text/plain": [
       "array([-0.29589615, -0.17757156,  2.36998793, -0.21701056, -0.18563475,\n",
       "        2.22302033,  3.65597805,  0.13709608, -0.34575016,  0.02731914])"
      ]
     },
     "execution_count": 18,
     "metadata": {},
     "output_type": "execute_result"
    }
   ],
   "source": [
    "true_u"
   ]
  },
  {
   "cell_type": "code",
   "execution_count": 19,
   "metadata": {},
   "outputs": [
    {
     "data": {
      "text/plain": [
       "array([    76.00698253,    -59.18450109, -10073.68517859,     70.16417959,\n",
       "           28.64476509,   9746.27515242,    494.2322649 ,    -40.4673718 ,\n",
       "           20.35227654,    -64.63921854])"
      ]
     },
     "execution_count": 19,
     "metadata": {},
     "output_type": "execute_result"
    }
   ],
   "source": [
    "du"
   ]
  },
  {
   "cell_type": "code",
   "execution_count": 20,
   "metadata": {},
   "outputs": [
    {
     "data": {
      "text/plain": [
       "array([-1.50274774,  1.89437592, -0.08993591,  2.08477826, -0.85014173,\n",
       "        1.64895204,  2.39740451, -0.89936495,  0.27741541, -0.4933787 ])"
      ]
     },
     "execution_count": 20,
     "metadata": {},
     "output_type": "execute_result"
    }
   ],
   "source": [
    "est_u"
   ]
  }
 ],
 "metadata": {
  "jupytext": {
   "text_representation": {
    "extension": ".py",
    "format_name": "light",
    "format_version": "1.4",
    "jupytext_version": "1.2.1"
   }
  },
  "kernelspec": {
   "display_name": "Python 3",
   "language": "python",
   "name": "python3"
  },
  "language_info": {
   "codemirror_mode": {
    "name": "ipython",
    "version": 3
   },
   "file_extension": ".py",
   "mimetype": "text/x-python",
   "name": "python",
   "nbconvert_exporter": "python",
   "pygments_lexer": "ipython3",
   "version": "3.6.3"
  },
  "toc-autonumbering": true,
  "toc-showcode": false,
  "toc-showmarkdowntxt": true,
  "toc-showtags": false
 },
 "nbformat": 4,
 "nbformat_minor": 4
}
