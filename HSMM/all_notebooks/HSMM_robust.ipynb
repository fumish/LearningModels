{
 "cells": [
  {
   "cell_type": "markdown",
   "metadata": {},
   "source": [
    "# HSMMのrobust性の検証\n",
    "+ As the true distribution $q(x)$, we consider the following distribution:  \n",
    "$q(x) = \\sum_{k=1}^{K^*} (a_k - \\delta_k) N(x|b_k, s_k) + \\delta_k Cauchy(x|b_k)$,  \n",
    "where we restrict $a_k$ and $\\delta_k$ that $q(x)$ is a distribution.\n",
    "\n",
    "# Estimation for Hyperbolic Secant Mixture model(HSMM)\n",
    "+ To estimate the HSMM, we use the local variational approximation method to approximate bayesian posterior distribution.\n",
    "+ Learning model:\n",
    "    + $p(x|w) = \\sum_{k=1}^K a_k \\frac{\\sqrt{s_k}}{2} \\frac{1}{\\cosh(\\frac{s_k}{2}(x - b_k))}$\n",
    "    + $x, b_k \\in \\mathbb{R}, s_k \\in \\mathbb{R}_+$\n",
    "+ Prior distribution:\n",
    "    + $\\varphi(w) = Dir(a|\\{ \\alpha_k \\}_{k=1}^K) \\prod_{k=1}^K N(b_k|0, (s_k \\beta_k)^{-1} ) Gam(s_k|\\gamma_k, \\delta_k)$\n",
    "+ Algorithm:\n",
    "   1. Initialize the following variables:\n",
    "       + $g_{ik}(\\eta), v_{ik}(\\eta), h_{ik}(\\xi), u_{ik}(\\xi)$\n",
    "   2. Update the approximated posterior distribution:\n",
    "       + $\\hat{\\alpha}_k = \\alpha_k + \\sum_{i=1}^n u_{ik}(\\xi)$\n",
    "       + $\\hat{\\beta}_k = \\beta_k + \\sum_{i=1}^n -2v_{ik}(\\eta)$\n",
    "       + $\\hat{m}_k = \\frac{1}{\\hat{\\beta}_k} \\sum_{i=1}^n -2v_{ik}(\\eta)x_i$\n",
    "       + $\\hat{\\gamma}_k = \\gamma_k + \\frac{1}{2}\\sum_{i=1}^n u_{ik}(\\xi)$\n",
    "       + $\\hat{\\delta}_k = \\delta_k + \\sum_{i=1}^n -v_{ik}(\\eta)x_i^2 - \\frac{\\hat{\\beta}_k}{2}\\hat{m}_k^2$\n",
    "   3. Update the auxililary variables for log cosh term.\n",
    "       + $g_{ik}(\\eta) = \\frac{\\hat{\\gamma}_k}{\\hat{\\delta}_k} (x_i - \\hat{m}_k)^2 + \\frac{1}{\\hat{\\beta}_k}$\n",
    "       + $v_{ik}(\\eta) = -u_{ik}(\\xi)\\frac{ \\tanh(\\sqrt{g_{ik}(\\eta)}/2) }{4\\sqrt{g_{ik}(\\eta)}}$\n",
    "   4. Update the auxililary variables for mixture term\n",
    "       + $h_{ik}(\\xi) = \\psi(\\hat{\\alpha}_k) - \\psi(\\sum_{l=1}^K \\hat{\\alpha}_l) + \\frac{1}{2}(\\psi(\\hat{\\gamma}_k) - \\log(\\hat{\\delta}_k)) - \\log(\\cosh(\\sqrt{g_{ik}(\\eta)}/2)) $\n",
    "       + $u_{ik}(\\xi) = \\frac{ \\exp(h_{ik}(\\xi)) }{ \\sum_{l=1}^K \\exp(h_{il}(\\xi)) }$  \n",
    "       where ,$\\psi(x) = \\frac{d}{dx}\\log \\Gamma(x)$\n",
    "   5. Return back to 2.\n",
    "   \n",
    "+ Evaluation function $\\overline{F}_{\\xi, \\eta}(x^n)$:\n",
    "    + $\\overline{F}_{\\xi, \\eta}(x^n) = - \\phi(h(\\xi)) - \\psi(g(\\eta)) + u(\\xi) \\cdot h(\\xi) + v(\\eta) \\cdot g(\\eta) $  \n",
    "        $+ n \\log 2 \\pi + \\log \\Gamma(\\sum_{l = 1}^K \\hat{\\alpha}_l) - \\log \\Gamma({\\sum_{l = 1}^K\\alpha}_l) + \\sum_{k=1}^K \\log \\frac{\\Gamma(\\alpha_k)}{\\Gamma(\\hat{\\alpha}_k)}$  \n",
    "        $+ \\sum_{k=1}^K \\bigl\\{ \\frac{1}{2} \\log \\frac{\\hat{\\beta}_k}{\\beta_k} + \\hat{\\gamma}_k \\log \\hat{\\delta}_k - \\gamma_k \\log \\delta_k - \\log \\Gamma(\\hat{\\gamma}_k) + \\log \\Gamma(\\gamma_k) \\bigr\\}$"
   ]
  },
  {
   "cell_type": "code",
   "execution_count": 1,
   "metadata": {},
   "outputs": [],
   "source": [
    "%matplotlib inline"
   ]
  },
  {
   "cell_type": "code",
   "execution_count": 2,
   "metadata": {},
   "outputs": [],
   "source": [
    "import numpy as np\n",
    "from scipy.stats import t\n",
    "from scipy.special import gammaln, psi\n",
    "import matplotlib.pyplot as plt\n",
    "import seaborn as sns"
   ]
  },
  {
   "cell_type": "markdown",
   "metadata": {},
   "source": [
    "## Generate random variables which follows a true distribution $q(x)$."
   ]
  },
  {
   "cell_type": "code",
   "execution_count": 3,
   "metadata": {},
   "outputs": [],
   "source": [
    "data_seed = 20190514\n",
    "n = 2000\n",
    "true_ratio = np.array([0.33, 0.33, 0.34])\n",
    "true_delta = np.array([0.02,0.02])\n",
    "true_s = np.array([[2, 0.5], [2, 0.5]])\n",
    "true_b = np.array([[4, -4], [4, -4]])\n",
    "np.random.seed(data_seed)"
   ]
  },
  {
   "cell_type": "code",
   "execution_count": 4,
   "metadata": {},
   "outputs": [],
   "source": [
    "true_label = np.random.multinomial(n = 1, pvals = true_ratio, size = n)\n",
    "true_label_arg = np.argmax(true_label, axis = 1)"
   ]
  },
  {
   "cell_type": "code",
   "execution_count": 5,
   "metadata": {},
   "outputs": [],
   "source": [
    "def random_hsm(n, loc = 0, scale = 1):\n",
    "    \"\"\"\n",
    "    hyperbolic secant distributionに従う確率変数を生成する\n",
    "    $Y \\sim standard_cauchy(x)$の時,  \n",
    "    $X = \\frac{2}{s}\\sinh^{-1}(Y) + b$は,  \n",
    "    $X \\sim p(x) = \\frac{s}{2\\pi}\\frac{1}{\\cosh(s(x-b)/2)}$に従うはずなので、その確認を行う\n",
    "    \"\"\"\n",
    "    Y = np.random.standard_cauchy(size=n)\n",
    "    X = 2/np.sqrt(scale)*np.arcsinh(Y) + loc    \n",
    "    return X"
   ]
  },
  {
   "cell_type": "code",
   "execution_count": 6,
   "metadata": {},
   "outputs": [
    {
     "ename": "IndexError",
     "evalue": "index 2 is out of bounds for axis 0 with size 2",
     "output_type": "error",
     "traceback": [
      "\u001b[1;31m---------------------------------------------------------------------------\u001b[0m",
      "\u001b[1;31mIndexError\u001b[0m                                Traceback (most recent call last)",
      "\u001b[1;32m<ipython-input-6-d2c329bc7c2b>\u001b[0m in \u001b[0;36m<module>\u001b[1;34m\u001b[0m\n\u001b[0;32m      2\u001b[0m \u001b[0mis_outlier\u001b[0m \u001b[1;33m=\u001b[0m \u001b[1;33m-\u001b[0m\u001b[1;36m1\u001b[0m\u001b[1;33m*\u001b[0m\u001b[0mnp\u001b[0m\u001b[1;33m.\u001b[0m\u001b[0mones\u001b[0m\u001b[1;33m(\u001b[0m\u001b[0mn\u001b[0m\u001b[1;33m)\u001b[0m\u001b[1;33m\u001b[0m\u001b[1;33m\u001b[0m\u001b[0m\n\u001b[0;32m      3\u001b[0m \u001b[1;32mfor\u001b[0m \u001b[0mi\u001b[0m \u001b[1;32min\u001b[0m \u001b[0mrange\u001b[0m\u001b[1;33m(\u001b[0m\u001b[0mn\u001b[0m\u001b[1;33m)\u001b[0m\u001b[1;33m:\u001b[0m\u001b[1;33m\u001b[0m\u001b[1;33m\u001b[0m\u001b[0m\n\u001b[1;32m----> 4\u001b[1;33m     \u001b[0mx\u001b[0m\u001b[1;33m[\u001b[0m\u001b[0mi\u001b[0m\u001b[1;33m]\u001b[0m \u001b[1;33m=\u001b[0m  \u001b[0mt\u001b[0m\u001b[1;33m.\u001b[0m\u001b[0mrvs\u001b[0m\u001b[1;33m(\u001b[0m\u001b[0mdf\u001b[0m \u001b[1;33m=\u001b[0m \u001b[1;36m2\u001b[0m\u001b[1;33m,\u001b[0m \u001b[0mloc\u001b[0m\u001b[1;33m=\u001b[0m\u001b[0mtrue_b\u001b[0m\u001b[1;33m[\u001b[0m\u001b[0mtrue_label_arg\u001b[0m\u001b[1;33m[\u001b[0m\u001b[0mi\u001b[0m\u001b[1;33m]\u001b[0m\u001b[1;33m]\u001b[0m\u001b[1;33m,\u001b[0m \u001b[0mscale\u001b[0m\u001b[1;33m=\u001b[0m\u001b[0mtrue_s\u001b[0m\u001b[1;33m[\u001b[0m\u001b[0mtrue_label_arg\u001b[0m\u001b[1;33m[\u001b[0m\u001b[0mi\u001b[0m\u001b[1;33m]\u001b[0m\u001b[1;33m]\u001b[0m\u001b[1;33m,\u001b[0m \u001b[0msize\u001b[0m\u001b[1;33m=\u001b[0m\u001b[1;36m1\u001b[0m\u001b[1;33m)\u001b[0m\u001b[1;33m\u001b[0m\u001b[1;33m\u001b[0m\u001b[0m\n\u001b[0m",
      "\u001b[1;31mIndexError\u001b[0m: index 2 is out of bounds for axis 0 with size 2"
     ]
    }
   ],
   "source": [
    "x = np.zeros(n)\n",
    "is_outlier = -1*np.ones(n)\n",
    "for i in range(n):\n",
    "    x[i] =  t.rvs(df = 2, loc=true_b[true_label_arg[i]], scale=true_s[true_label_arg[i]], size=1)"
   ]
  },
  {
   "cell_type": "code",
   "execution_count": 7,
   "metadata": {},
   "outputs": [],
   "source": [
    "# x = np.zeros(n)\n",
    "# is_outlier = -1*np.ones(n)\n",
    "# for i in range(n):\n",
    "#     if np.random.uniform(size=1) < true_delta[true_label_arg[i]]:\n",
    "# #         x[i] =  (np.random.standard_cauchy(size=1) - true_b[true_label_arg[i]])/true_s[true_label_arg[i]]\n",
    "#         x[i] =  20 if np.random.uniform(size=1) > 0.5 else -20     \n",
    "#         is_outlier[i] = true_label_arg[i]\n",
    "#     else:\n",
    "#         x[i] =  np.random.normal(loc=true_b[true_label_arg[i]], scale=true_s[true_label_arg[i]], size=1)"
   ]
  },
  {
   "cell_type": "code",
   "execution_count": 8,
   "metadata": {},
   "outputs": [],
   "source": [
    "# x = np.zeros(n)\n",
    "# for i in range(n):\n",
    "#     x[i] = random_hsm(n=1, loc=true_b[true_label_arg[i]], scale=true_s[true_label_arg[i]])"
   ]
  },
  {
   "cell_type": "code",
   "execution_count": 9,
   "metadata": {},
   "outputs": [
    {
     "data": {
      "text/plain": [
       "<matplotlib.collections.PathCollection at 0x21a00b815f8>"
      ]
     },
     "execution_count": 9,
     "metadata": {},
     "output_type": "execute_result"
    },
    {
     "data": {
      "image/png": "[encoded data removed]",
      "text/plain": [
       "<Figure size 432x288 with 1 Axes>"
      ]
     },
     "metadata": {
      "needs_background": "light"
     },
     "output_type": "display_data"
    }
   ],
   "source": [
    "plt.scatter(x,np.zeros(n))"
   ]
  },
  {
   "cell_type": "code",
   "execution_count": 10,
   "metadata": {},
   "outputs": [
    {
     "data": {
      "text/plain": [
       "(array([  5.,   3.,  40., 978., 374., 520.,  63.,  13.,   2.,   2.]),\n",
       " array([-19.350635  , -14.77472417, -10.19881333,  -5.6229025 ,\n",
       "         -1.04699166,   3.52891917,   8.10483001,  12.68074084,\n",
       "         17.25665168,  21.83256251,  26.40847335]),\n",
       " <a list of 10 Patch objects>)"
      ]
     },
     "execution_count": 10,
     "metadata": {},
     "output_type": "execute_result"
    },
    {
     "data": {
      "image/png": "[encoded data removed]",
      "text/plain": [
       "<Figure size 432x288 with 1 Axes>"
      ]
     },
     "metadata": {
      "needs_background": "light"
     },
     "output_type": "display_data"
    }
   ],
   "source": [
    "plt.hist(x)"
   ]
  },
  {
   "cell_type": "code",
   "execution_count": 11,
   "metadata": {},
   "outputs": [
    {
     "data": {
      "text/plain": [
       "(array([  1.,   2.,  10.,  98., 810.,  52.,   7.,   4.,   0.,   1.]),\n",
       " array([-12.64028027, -10.68447568,  -8.72867109,  -6.7728665 ,\n",
       "         -4.81706191,  -2.86125732,  -0.90545273,   1.05035186,\n",
       "          3.00615645,   4.96196104,   6.91776563]),\n",
       " <a list of 10 Patch objects>)"
      ]
     },
     "execution_count": 11,
     "metadata": {},
     "output_type": "execute_result"
    },
    {
     "data": {
      "image/png": "[encoded data removed]",
      "text/plain": [
       "<Figure size 432x288 with 1 Axes>"
      ]
     },
     "metadata": {
      "needs_background": "light"
     },
     "output_type": "display_data"
    }
   ],
   "source": [
    "plt.hist(x[np.where(true_label_arg == 1)])"
   ]
  },
  {
   "cell_type": "code",
   "execution_count": 12,
   "metadata": {},
   "outputs": [
    {
     "data": {
      "text/plain": [
       "(array([  5.,   2.,  10.,  37., 362., 519.,  63.,  13.,   2.,   2.]),\n",
       " array([-19.350635  , -14.77472417, -10.19881333,  -5.6229025 ,\n",
       "         -1.04699166,   3.52891917,   8.10483001,  12.68074084,\n",
       "         17.25665168,  21.83256251,  26.40847335]),\n",
       " <a list of 10 Patch objects>)"
      ]
     },
     "execution_count": 12,
     "metadata": {},
     "output_type": "execute_result"
    },
    {
     "data": {
      "image/png": "[encoded data removed]",
      "text/plain": [
       "<Figure size 432x288 with 1 Axes>"
      ]
     },
     "metadata": {
      "needs_background": "light"
     },
     "output_type": "display_data"
    }
   ],
   "source": [
    "plt.hist(x[np.where(true_label_arg == 0)])"
   ]
  },
  {
   "cell_type": "markdown",
   "metadata": {},
   "source": [
    "# 学習を行う"
   ]
  },
  {
   "cell_type": "code",
   "execution_count": 27,
   "metadata": {},
   "outputs": [],
   "source": [
    "### 初期設定を行う\n",
    "iteration = 1000\n",
    "learning_seed = 20190515\n",
    "\n",
    "## 学習モデルのコンポーネントの数\n",
    "K = 4\n",
    "\n",
    "## ハイパーパラメータ\n",
    "pri_alpha = 0.1\n",
    "pri_beta = 0.001\n",
    "pri_gamma = 2\n",
    "pri_delta = 2\n",
    "\n",
    "np.random.seed(learning_seed)\n",
    "\n",
    "energy = np.zeros(iteration)"
   ]
  },
  {
   "cell_type": "code",
   "execution_count": 28,
   "metadata": {},
   "outputs": [],
   "source": [
    "### 初期値の設定\n",
    "est_h_xi = np.random.gamma(shape = 1, size = (n, K))\n",
    "est_u_xi = np.exp(est_h_xi) / np.repeat(np.exp(est_h_xi).sum(axis = 1), K).reshape(n,K)\n",
    "est_u_xi = np.random.dirichlet(alpha = np.ones(K), size=n)\n",
    "\n",
    "# est_alpha = np.random.gamma(shape = 10, size = K)\n",
    "# est_beta = np.random.gamma(shape = 10, size = K)\n",
    "# est_m = np.random.normal(scale = 3, size = K)\n",
    "# est_gamma = np.random.gamma(shape = 10, size = K)\n",
    "# est_delta = np.random.gamma(shape = 10, size = K)\n",
    "\n",
    "est_g_eta = np.abs(np.random.normal(size=(n,K)))\n",
    "est_v_eta = - est_u_xi * np.tanh(np.sqrt(est_g_eta)/2)/(4*np.sqrt(est_g_eta))"
   ]
  },
  {
   "cell_type": "code",
   "execution_count": 29,
   "metadata": {},
   "outputs": [
    {
     "name": "stdout",
     "output_type": "stream",
     "text": [
      "1389.6406668342756\n"
     ]
    }
   ],
   "source": [
    "### 繰り返し計算部分\n",
    "for ite in range(iteration):    \n",
    "    ### 事後分布の更新\n",
    "    est_alpha = pri_alpha + est_u_xi.sum(axis = 0)\n",
    "    est_beta = pri_beta + (-2*est_v_eta.sum(axis = 0))\n",
    "    est_m = (-2*x @ est_v_eta)/est_beta\n",
    "    est_gamma = pri_gamma + est_u_xi.sum(axis = 0)/2\n",
    "    est_delta = pri_delta - (x**2) @ est_v_eta - est_beta / 2 * est_m**2\n",
    "    \n",
    "    ### 対数双曲線関数の更新\n",
    "    est_g_eta = est_gamma / est_delta * (np.repeat(x,K).reshape(n,K) - np.repeat(est_m,n).reshape(K,n).T)**2 + 1/est_beta\n",
    "    est_v_eta = - est_u_xi * np.tanh(np.sqrt(est_g_eta)/2)/(4*np.sqrt(est_g_eta))\n",
    "    \n",
    "    ### 隠れ変数の更新\n",
    "    est_h_xi = np.repeat(psi(est_alpha) - psi(est_alpha.sum()) + (psi(est_gamma) - np.log(est_delta))/2, n).reshape(K,n).T - np.log(np.cosh(np.sqrt(est_g_eta)/2))\n",
    "    max_h_xi = est_h_xi.max(axis = 1)\n",
    "    norm_h_xi = est_h_xi - np.repeat(max_h_xi,K).reshape(n,K)\n",
    "    est_u_xi = np.exp(norm_h_xi) / np.repeat(np.exp(norm_h_xi).sum(axis = 1), K).reshape(n,K)        \n",
    "    \n",
    "    ### エネルギーの計算\n",
    "    energy[ite] = (est_u_xi * np.log(np.cosh(np.sqrt(est_g_eta)/2))).sum() - (np.log(np.exp(norm_h_xi).sum(axis = 1)) + max_h_xi).sum() + (est_u_xi * est_h_xi + est_v_eta * est_g_eta).sum()\n",
    "    energy[ite] += gammaln(est_alpha.sum()) - gammaln(K*pri_alpha) + (-gammaln(est_alpha) + gammaln(pri_alpha)).sum()\n",
    "    energy[ite] += (np.log(est_beta/pri_beta)/2 + est_gamma * np.log(est_delta) - pri_gamma * np.log(pri_delta) - gammaln(est_gamma) + gammaln(pri_gamma)).sum()\n",
    "#     print(energy[ite])\n",
    "print(energy[-1])"
   ]
  },
  {
   "cell_type": "code",
   "execution_count": 30,
   "metadata": {},
   "outputs": [
    {
     "data": {
      "text/plain": [
       "{'est_ratio': array([4.99900020e-05, 4.76099687e-01, 1.02180171e-01, 4.21670152e-01]),\n",
       " 'est_b': array([-5.23441378e-11, -4.00326590e+00,  2.40433407e+00,  4.15118412e+00]),\n",
       " 'est_s': array([ 1.        , 17.19133568,  0.1783031 ,  1.51919728])}"
      ]
     },
     "execution_count": 30,
     "metadata": {},
     "output_type": "execute_result"
    }
   ],
   "source": [
    "{\n",
    "    \"est_ratio\": est_alpha / est_alpha.sum(),\n",
    "    \"est_b\": est_m,\n",
    "    \"est_s\": est_gamma / est_delta\n",
    "}"
   ]
  },
  {
   "cell_type": "code",
   "execution_count": null,
   "metadata": {},
   "outputs": [],
   "source": []
  },
  {
   "cell_type": "code",
   "execution_count": null,
   "metadata": {},
   "outputs": [],
   "source": []
  }
 ],
 "metadata": {
  "kernelspec": {
   "display_name": "Python 3",
   "language": "python",
   "name": "python3"
  },
  "language_info": {
   "codemirror_mode": {
    "name": "ipython",
    "version": 3
   },
   "file_extension": ".py",
   "mimetype": "text/x-python",
   "name": "python",
   "nbconvert_exporter": "python",
   "pygments_lexer": "ipython3",
   "version": "3.7.1"
  }
 },
 "nbformat": 4,
 "nbformat_minor": 2
}
