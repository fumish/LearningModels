{
 "cells": [
  {
   "cell_type": "markdown",
   "metadata": {},
   "source": [
    "# Clustering by Bayesian technique\n",
    "+ 2 Bayesian methods can cluster data:\n",
    "    1. Sampling the latent variables from joint distribution of parameter and latent variables.\n",
    "    2. Sampling the latetn variables from marginalized distribution over parameter.\n",
    "\n",
    "## About method 1:\n",
    "+ Procedure of method 1 is as follows:\n",
    "    1. Decide initial state of latent variables\n",
    "    2. Sampling parameter $w$ from the following distribution:\n",
    "        + $p(w|y^n) = Dir(a|\\{\\hat{\\alpha}_k\\}_{k=1}^K) \\prod_{k=1}^K \\prod_{j=1}^M N(b_{kj}|\\hat{\\mu}_{kj}, (s_{kj} \\hat{\\beta}_{kj})^{-1} ) Gam(s_{kj}|\\hat{\\gamma}_{kj}, \\hat{\\delta}_{kj})$, where  \n",
    "            + $\\hat{\\alpha}_k = \\sum_{i=1}^n y_k^{(i)} + \\alpha$,  \n",
    "            + $\\hat{\\beta}_k = \\sum_{i=1}^n y_k^{(i)} + \\beta$,  \n",
    "            + $\\hat{\\mu}_k = \\frac{1}{\\hat{\\beta}_k} \\sum_{i=1}^n y_k^{(i)} x^{(i)}$\n",
    "            + $\\hat{\\gamma}_{kj} = \\gamma_k + \\frac{1}{2}\\sum_{i=1}^n y_k^{(i)}$\n",
    "            + $\\hat{\\delta}_{kj} = \\delta_k + \\frac{1}{2}\\sum_{i=1}^n y_{k}^{(i)}(x_{j}^{(i)})^2 - \\frac{\\hat{\\beta}_{kj}}{2}\\hat{m}_{kj}^2$\n",
    "    3. Sampling latent variables from the following distribution:\n",
    "        + Let $L_{ik} = \\log a_k + \\frac{1}{2}\\sum_{j=1}^M \\log s_{kj} - \\sum_{j=1}^M \\frac{s_{kj}}{2} (x_j^{(i)} - b_{kj})^2$,\n",
    "        + Then for each $i = 1,...,n$, $p(y_k^{(i)}=1|w) = \\frac{\\exp(L_{ik})}{\\sum_{l=1}^K \\exp(L_{il})}$.\n",
    "    4. Back to 2.\n",
    "\n",
    "## About method 2:"
   ]
  },
  {
   "cell_type": "code",
   "execution_count": 2,
   "metadata": {},
   "outputs": [],
   "source": [
    "%matplotlib inline"
   ]
  },
  {
   "cell_type": "code",
   "execution_count": 3,
   "metadata": {},
   "outputs": [],
   "source": [
    "from IPython.core.display import display, Markdown, Latex\n",
    "import numpy as np\n",
    "from scipy.special import gammaln, psi\n",
    "import matplotlib.pyplot as plt\n",
    "import seaborn as sns\n",
    "from scipy.stats import t, cauchy, laplace, gumbel_r, norm, skewnorm\n",
    "import math"
   ]
  },
  {
   "cell_type": "code",
   "execution_count": 4,
   "metadata": {},
   "outputs": [],
   "source": [
    "def printmd(x):\n",
    "    display(Markdown(x))"
   ]
  },
  {
   "cell_type": "markdown",
   "metadata": {},
   "source": [
    "## Generate training data from true distribution"
   ]
  },
  {
   "cell_type": "code",
   "execution_count": 5,
   "metadata": {},
   "outputs": [],
   "source": [
    "data_seed = 20190522\n",
    "true_ratio = np.array([0.33, 0.33, 0.34])\n",
    "true_delta = 0\n",
    "true_s = np.array([[2, 2], [0.5, 0.5], [1, 1]])\n",
    "true_b = np.array([[4, 4], [-4, -4], [0, 0]])\n",
    "n = 2000\n",
    "M = true_b.shape[1]\n",
    "np.random.seed(data_seed)"
   ]
  },
  {
   "cell_type": "code",
   "execution_count": 6,
   "metadata": {},
   "outputs": [],
   "source": [
    "true_label = np.random.multinomial(n = 1, pvals = true_ratio, size = n)\n",
    "true_label_arg = np.argmax(true_label, axis = 1)"
   ]
  },
  {
   "cell_type": "code",
   "execution_count": 7,
   "metadata": {},
   "outputs": [],
   "source": [
    "# ### true distribution is GMM\n",
    "# import math\n",
    "# x = np.zeros((n, M))\n",
    "# for i in range(n):\n",
    "#     for j in range(M):\n",
    "#         x[i, j] = norm.rvs(loc=true_b[true_label_arg[i],j], scale=1/true_s[true_label_arg[i],j], size = 1)\n",
    "# noise_data_num = math.ceil(n*true_delta)\n",
    "# if noise_data_num > 0:\n",
    "#     x[-noise_data_num:,:] = np.random.uniform(low=-30, high=30, size = noise_data_num*M).reshape(noise_data_num,M)"
   ]
  },
  {
   "cell_type": "code",
   "execution_count": 8,
   "metadata": {},
   "outputs": [],
   "source": [
    "# ### ラプラス分布の混合の場合\n",
    "# import math\n",
    "# x = np.zeros((n, M))\n",
    "# for i in range(n):\n",
    "#     for j in range(M):\n",
    "#         x[i, j] = laplace.rvs(loc=true_b[true_label_arg[i],j], scale=1/true_s[true_label_arg[i],j], size = 1)\n",
    "# noise_data_num = math.ceil(n*true_delta)\n",
    "# if noise_data_num > 0:\n",
    "#     x[-noise_data_num:,:] = np.random.uniform(low=-30, high=30, size = noise_data_num*M).reshape(noise_data_num,M)"
   ]
  },
  {
   "cell_type": "code",
   "execution_count": 9,
   "metadata": {},
   "outputs": [],
   "source": [
    "# ### Mixture of Gumbel distribution\n",
    "# np.random.seed(data_seed)\n",
    "# x = np.zeros((n, M))\n",
    "# for i in range(n):\n",
    "#     for j in range(M):\n",
    "#         x[i, j] = gumbel_r.rvs(loc=true_b[true_label_arg[i],j], scale=1/true_s[true_label_arg[i],j], size = 1)\n",
    "\n",
    "# noise_data_num = math.ceil(n*true_delta)\n",
    "# if noise_data_num > 0:\n",
    "#     x[-noise_data_num:,:] = np.random.uniform(low=-30, high=30, size = noise_data_num*M).reshape(noise_data_num,M)"
   ]
  },
  {
   "cell_type": "code",
   "execution_count": 10,
   "metadata": {},
   "outputs": [],
   "source": [
    "# ### Mixture of student distribution\n",
    "# np.random.seed(data_seed)\n",
    "# x = np.zeros((n, M))\n",
    "# for i in range(n):\n",
    "#     for j in range(M):\n",
    "#         x[i, j] = t.rvs(df = 1.5, loc=true_b[true_label_arg[i],j], scale=1/true_s[true_label_arg[i],j], size = 1)\n",
    "\n",
    "# noise_data_num = math.ceil(n*true_delta)\n",
    "# if noise_data_num > 0:\n",
    "#     x[-noise_data_num:,:] = np.random.uniform(low=-30, high=30, size = noise_data_num*M).reshape(noise_data_num,M)"
   ]
  },
  {
   "cell_type": "code",
   "execution_count": 11,
   "metadata": {},
   "outputs": [],
   "source": [
    "### Mixture of normal-skew distribution\n",
    "np.random.seed(data_seed)\n",
    "x = np.zeros((n, M))\n",
    "for i in range(n):\n",
    "    for j in range(M):\n",
    "        x[i, j] = skewnorm.rvs(a = 2, loc=true_b[true_label_arg[i],j], scale=1/true_s[true_label_arg[i],j], size = 1)\n",
    "\n",
    "noise_data_num = math.ceil(n*true_delta)\n",
    "if noise_data_num > 0:\n",
    "    x[-noise_data_num:,:] = np.random.uniform(low=-30, high=30, size = noise_data_num*M).reshape(noise_data_num,M)"
   ]
  },
  {
   "cell_type": "code",
   "execution_count": 12,
   "metadata": {},
   "outputs": [
    {
     "data": {
      "image/png": "[encoded data removed]",
      "text/plain": [
       "<Figure size 432x288 with 1 Axes>"
      ]
     },
     "metadata": {
      "needs_background": "light"
     },
     "output_type": "display_data"
    }
   ],
   "source": [
    "plt.scatter(x[:,0], x[:,1])\n",
    "plt.show()"
   ]
  },
  {
   "cell_type": "code",
   "execution_count": 13,
   "metadata": {},
   "outputs": [],
   "source": [
    "### learning setting\n",
    "learning_seed = 20190529\n",
    "burn_in = 20\n",
    "sampling_interval = 5\n",
    "sampling_num = 1000\n",
    "\n",
    "K = 5\n",
    "pri_alpha = 0.1\n",
    "pri_beta = 0.01\n",
    "pri_gamma = 2\n",
    "pri_delta = 2\n"
   ]
  },
  {
   "cell_type": "code",
   "execution_count": 15,
   "metadata": {},
   "outputs": [],
   "source": [
    "(post_a, post_s, post_b, post_latent_prob, post_latet_label) = bayesian_sampling_gibbs(x = x, sampling_num = sampling_num, K = K,                             \n",
    "                                                                                       learning_seed = learning_seed, burn_in=burn_in, sampling_interval=sampling_interval,\n",
    "                                                                                       pri_alpha=pri_alpha, pri_beta=pri_beta, pri_gamma=pri_gamma, pri_delta=pri_delta)"
   ]
  },
  {
   "cell_type": "code",
   "execution_count": 15,
   "metadata": {},
   "outputs": [],
   "source": [
    "np.random.seed(learning_seed)"
   ]
  },
  {
   "cell_type": "code",
   "execution_count": 16,
   "metadata": {},
   "outputs": [],
   "source": [
    "### Decide initial value\n",
    "current_latent_label = np.random.multinomial(1, pvals = np.ones(K)/K, size=n)\n",
    "current_latent_arg = np.argmax(current_latent_label, axis = 1)"
   ]
  },
  {
   "cell_type": "code",
   "execution_count": 14,
   "metadata": {},
   "outputs": [],
   "source": [
    "def bayesian_sampling_gibbs(x:np.ndarray, sampling_num:int, K:int,\n",
    "                            learning_seed:int=-1, burn_in:int=20, sampling_interval:int=5,\n",
    "                            pri_alpha:float=0.1, pri_beta:float=0.01, pri_gamma=2, pri_delta=2) -> (np.ndarray, np.ndarray, np.ndarray, np.ndarray, np.ndarray):\n",
    "    \"\"\"\n",
    "    Bayesian clustering based on gibbs sampling of joint posterior distribution of parameter and latent variables.\n",
    "    \n",
    "    \"\"\"\n",
    "    (n, M) = x.shape\n",
    "    if learning_seed > 0:\n",
    "        np.random.seed(learning_seed)\n",
    "    ### Decide initial value\n",
    "    current_latent_label = np.random.multinomial(1, pvals = np.ones(K)/K, size=n)\n",
    "    current_latent_arg = np.argmax(current_latent_label, axis = 1)    \n",
    "    expand_x = np.repeat(x, K).reshape(n,M,K).transpose(0,2,1)\n",
    "\n",
    "    ### Calculate the steps until burn_in times\n",
    "    for i_burnin in range(burn_in):\n",
    "        ### Samnpling from parameters\n",
    "        n_k = current_latent_label.sum(axis = 0)\n",
    "        current_alpha = n_k + pri_alpha\n",
    "        current_beta = n_k + pri_beta\n",
    "        current_mu = current_latent_label.T @ x / (np.repeat(current_beta, M).reshape(K,M))\n",
    "        current_gamma = n_k/2 + pri_gamma\n",
    "        current_delta = current_latent_label.T @ x**2/2 - np.repeat(current_beta,M).reshape(K,M) * current_mu**2/2 + pri_delta\n",
    "\n",
    "        current_s = np.random.gamma(shape=np.repeat(current_gamma, M).reshape(K,M), scale=1/current_delta)\n",
    "        current_b = np.array([np.random.multivariate_normal(current_mu[k,:], np.diag(1/(current_s[k,:]*current_beta[k]))) for k in range(K)])\n",
    "        current_a = np.random.dirichlet(current_alpha)\n",
    "\n",
    "        ### Sampling from latent variables\n",
    "        expand_s = np.repeat(current_s, n).reshape(K,M,n).transpose(2,0,1)\n",
    "        expand_b = np.repeat(current_b, n).reshape(K,M,n).transpose(2,0,1)\n",
    "        loglik = np.repeat(np.log(current_a) + np.log(current_s).sum(axis=1)/2, n).reshape(K,n).T - (expand_s * (expand_b - expand_x)**2/2).sum(axis = 2)\n",
    "        max_loglik = loglik.max(axis = 1)\n",
    "        norm_loglik = loglik - np.repeat(max_loglik,K).reshape(n,K)\n",
    "        current_latent_prob = np.exp(norm_loglik) / np.repeat(np.exp(norm_loglik).sum(axis = 1), K).reshape(n,K)\n",
    "        current_latent_label = np.array([np.random.multinomial(n=1, pvals = current_latent_prob[i,:], size = 1) for i in range(n)]).squeeze()\n",
    "\n",
    "    ind = 0\n",
    "    post_s = np.zeros((sampling_num,K,M))\n",
    "    post_b = np.zeros((sampling_num,K,M))\n",
    "    post_a = np.zeros((sampling_num,K))\n",
    "\n",
    "    post_latent_prob = np.zeros((sampling_num,n,K))\n",
    "    post_latent_label = np.zeros((sampling_num,n,K))\n",
    "    for ite in range(sampling_interval * sampling_num):\n",
    "        ### Samnpling from parameters\n",
    "        n_k = current_latent_label.sum(axis = 0)\n",
    "        current_alpha = n_k + pri_alpha\n",
    "        current_beta = n_k + pri_beta\n",
    "        current_mu = current_latent_label.T @ x / (np.repeat(current_beta, M).reshape(K,M))\n",
    "        current_gamma = n_k/2 + pri_gamma\n",
    "        current_delta = current_latent_label.T @ x**2/2 - np.repeat(current_beta,M).reshape(K,M) * current_mu**2/2 + pri_delta\n",
    "\n",
    "        current_s = np.random.gamma(shape=np.repeat(current_gamma, M).reshape(K,M), scale=1/current_delta)\n",
    "        current_b = np.array([np.random.multivariate_normal(current_mu[k,:], np.diag(1/(current_s[k,:]*current_beta[k]))) for k in range(K)])\n",
    "        current_a = np.random.dirichlet(current_alpha)\n",
    "\n",
    "        ### Sampling from latent variables\n",
    "        expand_s = np.repeat(current_s, n).reshape(K,M,n).transpose(2,0,1)\n",
    "        expand_b = np.repeat(current_b, n).reshape(K,M,n).transpose(2,0,1)\n",
    "        loglik = np.repeat(np.log(current_a) + np.log(current_s).sum(axis=1)/2, n).reshape(K,n).T - (expand_s * (expand_b - expand_x)**2/2).sum(axis = 2)\n",
    "        max_loglik = loglik.max(axis = 1)\n",
    "        norm_loglik = loglik - np.repeat(max_loglik,K).reshape(n,K)\n",
    "        current_latent_prob = np.exp(norm_loglik) / np.repeat(np.exp(norm_loglik).sum(axis = 1), K).reshape(n,K)\n",
    "        current_latent_label = np.array([np.random.multinomial(n=1, pvals = current_latent_prob[i,:], size = 1) for i in range(n)]).squeeze()\n",
    "\n",
    "        if ite % sampling_interval == 0:\n",
    "            post_s[ind,:,:] = current_s\n",
    "            post_b[ind,:,:] = current_b\n",
    "            post_a[ind,:] = current_a\n",
    "            post_latent_prob[ind,:,:] = current_latent_prob\n",
    "            post_latent_label[ind,:,:] = current_latent_label\n",
    "            ind += 1\n",
    "        \n",
    "    return(post_a, post_s, post_b, post_latent_prob, post_latent_label)"
   ]
  },
  {
   "cell_type": "code",
   "execution_count": 18,
   "metadata": {
    "lines_to_next_cell": 2
   },
   "outputs": [],
   "source": [
    "expand_x = np.repeat(x, K).reshape(n,M,K).transpose(0,2,1)\n",
    "\n",
    "### Calculate the steps until burn_in times\n",
    "for i_burnin in range(burn_in):\n",
    "    ### Samnpling from parameters\n",
    "    n_k = current_latent_label.sum(axis = 0)\n",
    "    current_alpha = n_k + pri_alpha\n",
    "    current_beta = n_k + pri_beta\n",
    "    current_mu = current_latent_label.T @ x / (np.repeat(current_beta, M).reshape(K,M))\n",
    "    current_gamma = n_k/2 + pri_gamma\n",
    "    current_delta = current_latent_label.T @ x**2/2 - np.repeat(current_beta,M).reshape(K,M) * current_mu**2/2 + pri_delta\n",
    "\n",
    "    current_s = np.random.gamma(shape=np.repeat(current_gamma, M).reshape(K,M), scale=1/current_delta)\n",
    "    current_b = np.array([np.random.multivariate_normal(current_mu[k,:], np.diag(1/(current_s[k,:]*current_beta[k]))) for k in range(K)])\n",
    "    current_a = np.random.dirichlet(current_alpha)\n",
    "\n",
    "    ### Sampling from latent variables\n",
    "    expand_s = np.repeat(current_s, n).reshape(K,M,n).transpose(2,0,1)\n",
    "    expand_b = np.repeat(current_b, n).reshape(K,M,n).transpose(2,0,1)\n",
    "    loglik = np.repeat(np.log(current_a) + np.log(current_s).sum(axis=1)/2, n).reshape(K,n).T - (expand_s * (expand_b - expand_x)**2/2).sum(axis = 2)\n",
    "    max_loglik = loglik.max(axis = 1)\n",
    "    norm_loglik = loglik - np.repeat(max_loglik,K).reshape(n,K)\n",
    "    current_latent_prob = np.exp(norm_loglik) / np.repeat(np.exp(norm_loglik).sum(axis = 1), K).reshape(n,K)\n",
    "    current_latent_label = np.array([np.random.multinomial(n=1, pvals = current_latent_prob[i,:], size = 1) for i in range(n)]).squeeze()"
   ]
  },
  {
   "cell_type": "code",
   "execution_count": 19,
   "metadata": {},
   "outputs": [],
   "source": [
    "ind = 0\n",
    "post_s = np.zeros((sampling_num,K,M))\n",
    "post_b = np.zeros((sampling_num,K,M))\n",
    "post_a = np.zeros((sampling_num,K))\n",
    "\n",
    "post_latent_prob = np.zeros((sampling_num,n,K))\n",
    "post_latent_label = np.zeros((sampling_num,n,K))\n",
    "for ite in range(sampling_interval * sampling_num):\n",
    "    ### Samnpling from parameters\n",
    "    n_k = current_latent_label.sum(axis = 0)\n",
    "    current_alpha = n_k + pri_alpha\n",
    "    current_beta = n_k + pri_beta\n",
    "    current_mu = current_latent_label.T @ x / (np.repeat(current_beta, M).reshape(K,M))\n",
    "    current_gamma = n_k/2 + pri_gamma\n",
    "    current_delta = current_latent_label.T @ x**2/2 - np.repeat(current_beta,M).reshape(K,M) * current_mu**2/2 + pri_delta\n",
    "\n",
    "    current_s = np.random.gamma(shape=np.repeat(current_gamma, M).reshape(K,M), scale=1/current_delta)\n",
    "    current_b = np.array([np.random.multivariate_normal(current_mu[k,:], np.diag(1/(current_s[k,:]*current_beta[k]))) for k in range(K)])\n",
    "    current_a = np.random.dirichlet(current_alpha)\n",
    "\n",
    "    ### Sampling from latent variables\n",
    "    expand_s = np.repeat(current_s, n).reshape(K,M,n).transpose(2,0,1)\n",
    "    expand_b = np.repeat(current_b, n).reshape(K,M,n).transpose(2,0,1)\n",
    "    loglik = np.repeat(np.log(current_a) + np.log(current_s).sum(axis=1)/2, n).reshape(K,n).T - (expand_s * (expand_b - expand_x)**2/2).sum(axis = 2)\n",
    "    max_loglik = loglik.max(axis = 1)\n",
    "    norm_loglik = loglik - np.repeat(max_loglik,K).reshape(n,K)\n",
    "    current_latent_prob = np.exp(norm_loglik) / np.repeat(np.exp(norm_loglik).sum(axis = 1), K).reshape(n,K)\n",
    "    current_latent_label = np.array([np.random.multinomial(n=1, pvals = current_latent_prob[i,:], size = 1) for i in range(n)]).squeeze()\n",
    "    \n",
    "    if ite % sampling_interval == 0:\n",
    "        post_s[ind,:,:] = current_s\n",
    "        post_b[ind,:,:] = current_b\n",
    "        post_a[ind,:] = current_a\n",
    "        post_latent_prob[ind,:,:] = current_latent_prob\n",
    "        post_latent_label[ind,:,:] = current_latent_label\n",
    "        ind += 1"
   ]
  },
  {
   "cell_type": "code",
   "execution_count": 18,
   "metadata": {},
   "outputs": [],
   "source": [
    "import itertools\n",
    "label_prob_gibbs = post_latent_prob.mean(axis=0)\n",
    "if noise_data_num > 0:\n",
    "    target_label_arg = true_label_arg[:-noise_data_num]\n",
    "    label_arg_gibbs = np.argmax(label_prob_gibbs, axis = 1)[:-noise_data_num]    \n",
    "else:\n",
    "    target_label_arg = true_label_arg\n",
    "    label_arg_gibbs = np.argmax(label_prob_gibbs, axis = 1)\n",
    "max_correct_num_gibbs = 0\n",
    "for perm in list(itertools.permutations(range(K), K)):\n",
    "    permed_label_arg_gibbs = label_arg_gibbs.copy()\n",
    "    for i in range(len(perm)):\n",
    "        permed_label_arg_gibbs[label_arg_gibbs == i] = perm[i]\n",
    "    correct_num_gibbs = (permed_label_arg_gibbs == target_label_arg).sum()\n",
    "    if correct_num_gibbs > max_correct_num_gibbs:\n",
    "        max_correct_num_gibbs = correct_num_gibbs\n",
    "        max_perm_gibbs = perm\n",
    "        max_label_arg_gibbs = permed_label_arg_gibbs"
   ]
  },
  {
   "cell_type": "code",
   "execution_count": 19,
   "metadata": {},
   "outputs": [
    {
     "data": {
      "text/plain": [
       "1677"
      ]
     },
     "execution_count": 19,
     "metadata": {},
     "output_type": "execute_result"
    }
   ],
   "source": [
    "max_correct_num_gibbs"
   ]
  },
  {
   "cell_type": "code",
   "execution_count": 20,
   "metadata": {
    "lines_to_next_cell": 0
   },
   "outputs": [
    {
     "data": {
      "image/png": "[encoded data removed]",
      "text/plain": [
       "<Figure size 432x288 with 1 Axes>"
      ]
     },
     "metadata": {
      "needs_background": "light"
     },
     "output_type": "display_data"
    }
   ],
   "source": [
    "for i in range(K):\n",
    "    if noise_data_num > 0:\n",
    "        plt.scatter(x[np.where(max_label_arg_gibbs[:-noise_data_num] == i)[0],0], x[np.where(max_label_arg_gibbs[:-noise_data_num] == i)[0],1])\n",
    "    else:\n",
    "        plt.scatter(x[np.where(max_label_arg_gibbs == i)[0],0], x[np.where(max_label_arg_gibbs == i)[0],1])\n",
    "    \n",
    "plt.show()"
   ]
  },
  {
   "cell_type": "code",
   "execution_count": null,
   "metadata": {
    "lines_to_next_cell": 2
   },
   "outputs": [],
   "source": []
  }
 ],
 "metadata": {
  "jupytext": {
   "text_representation": {
    "extension": ".py",
    "format_name": "light",
    "format_version": "1.4",
    "jupytext_version": "1.1.3"
   }
  },
  "kernelspec": {
   "display_name": "Python 3",
   "language": "python",
   "name": "python3"
  },
  "language_info": {
   "codemirror_mode": {
    "name": "ipython",
    "version": 3
   },
   "file_extension": ".py",
   "mimetype": "text/x-python",
   "name": "python",
   "nbconvert_exporter": "python",
   "pygments_lexer": "ipython3",
   "version": "3.7.1"
  }
 },
 "nbformat": 4,
 "nbformat_minor": 2
}
