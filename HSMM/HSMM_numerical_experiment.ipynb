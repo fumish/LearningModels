{
 "cells": [
  {
   "cell_type": "code",
   "execution_count": 1,
   "metadata": {},
   "outputs": [],
   "source": [
    "%load_ext autoreload\n",
    "%autoreload 2\n",
    "%matplotlib inline"
   ]
  },
  {
   "cell_type": "markdown",
   "metadata": {},
   "source": [
    "# HSMMの性能比較の数値実験"
   ]
  },
  {
   "cell_type": "code",
   "execution_count": 2,
   "metadata": {},
   "outputs": [],
   "source": [
    "import sys\n",
    "sys.path.append(\"../lib\")"
   ]
  },
  {
   "cell_type": "code",
   "execution_count": 3,
   "metadata": {},
   "outputs": [],
   "source": [
    "import math\n",
    "\n",
    "from IPython.core.display import display, Markdown, Latex\n",
    "import numpy as np\n",
    "from scipy.special import gammaln, psi\n",
    "import matplotlib.pyplot as plt\n",
    "import seaborn as sns\n",
    "from scipy.stats import norm, t, cauchy, laplace, gumbel_r, gamma, skewnorm, pareto, multivariate_normal\n",
    "from typing import Callable\n",
    "from sklearn.mixture import BayesianGaussianMixture\n",
    "\n",
    "from learning import HyperbolicSecantMixtureVB, GaussianMixtureModelVB\n",
    "from util import GaussianMixtureModel, HyperbolicSecantMixtureModel, StudentMixtureModel, LaplaceMixtureModel, GumbelMixtureModel"
   ]
  },
  {
   "cell_type": "markdown",
   "metadata": {},
   "source": [
    "# 問題設定"
   ]
  },
  {
   "cell_type": "markdown",
   "metadata": {},
   "source": [
    "## 真の分布の設定\n",
    "+ データ生成分布は変更しますが、混合比, 中心, scaleは同じものを流用"
   ]
  },
  {
   "cell_type": "code",
   "execution_count": 4,
   "metadata": {},
   "outputs": [],
   "source": [
    "true_ratio = np.array([0.33, 0.33, 0.34])\n",
    "true_delta = 0\n",
    "true_s = np.array([[0.1, 0.1], [0.5, 0.5], [1, 1]])\n",
    "true_b = np.array([[2, 4], [-4, -2], [0, 0]])\n",
    "true_param = dict()\n",
    "true_param[\"ratio\"] = true_ratio\n",
    "true_param[\"mean\"] = true_b\n",
    "true_param[\"precision\"] = true_s\n",
    "true_param[\"scale\"] = np.array([np.diag(1/np.sqrt(true_s[k,:])) for k in range(len(true_ratio))])\n",
    "K0 = len(true_ratio)\n",
    "M = true_b.shape[1]"
   ]
  },
  {
   "cell_type": "markdown",
   "metadata": {},
   "source": [
    "## Learning setting:"
   ]
  },
  {
   "cell_type": "code",
   "execution_count": 6,
   "metadata": {},
   "outputs": [],
   "source": [
    "### 学習データの数\n",
    "n = 400\n",
    "\n",
    "### テストデータの数\n",
    "N = 10000\n",
    "\n",
    "### データの出方の個数\n",
    "ndataset = 1\n",
    "\n",
    "### 事前分布のハイパーパラメータ\n",
    "pri_params = {\n",
    "    \"pri_alpha\": 0.1,\n",
    "    \"pri_beta\": 0.001,\n",
    "    \"pri_gamma\": M+2,\n",
    "    \"pri_delta\": 1\n",
    "}\n",
    "\n",
    "### データ生成の回数\n",
    "data_seed_start = 201907\n",
    "data_seeds = np.arange(start = data_seed_start, stop = data_seed_start + ndataset, step = 1)\n",
    "\n",
    "### 学習モデルの初期値の乱数 -> データseedにoffsetを加えたものを使う\n",
    "learning_num = 10\n",
    "learning_seed_offset = 100\n",
    "\n",
    "### 繰り返しアルゴリズムの繰り返し回数\n",
    "learning_iteration = 1000\n",
    "\n",
    "### 学習モデルのコンポーネントの数\n",
    "K = np.array([3, 5])"
   ]
  },
  {
   "cell_type": "markdown",
   "metadata": {},
   "source": [
    "# 性能評価\n",
    "+ 1連の流れ\n",
    "    1. データ生成する\n",
    "    1. 学習を行う\n",
    "    1. 精度評価を行う\n",
    "    1. 1に戻って再度計算"
   ]
  },
  {
   "cell_type": "markdown",
   "metadata": {},
   "source": [
    "# コンポーネントの分布が正規分布の場合"
   ]
  },
  {
   "cell_type": "code",
   "execution_count": 7,
   "metadata": {
    "lines_to_next_cell": 2
   },
   "outputs": [],
   "source": [
    "gerror_gmm = np.zeros(len(data_seeds))\n",
    "cklerror_gmm = np.zeros(len(data_seeds))\n",
    "c01error_gmm = np.zeros(len(data_seeds))\n",
    "\n",
    "gerror_hsmm = np.zeros(len(data_seeds))\n",
    "cklerror_hsmm = np.zeros(len(data_seeds))\n",
    "c01error_hsmm = np.zeros(len(data_seeds))\n",
    "\n",
    "for i, data_seed in enumerate(data_seeds):\n",
    "    ### データを生成する\n",
    "    (train_X, train_label, train_label_arg) = GaussianMixtureModel.rvs(true_ratio, true_b, true_s, size = n, data_seed = data_seed)\n",
    "    (test_X, test_label, test_label_arg) = GaussianMixtureModel.rvs(true_ratio, true_b, true_s, size = N)\n",
    "    \n",
    "    gmm_diag_obj = GaussianMixtureModelVB(K = K[0],\n",
    "                                     pri_alpha = pri_params[\"pri_alpha\"], pri_beta = pri_params[\"pri_beta\"], pri_gamma = pri_params[\"pri_gamma\"], pri_delta = pri_params[\"pri_delta\"], \n",
    "                                     iteration = 1000, restart_num=learning_num, learning_seed=data_seed + learning_seed_offset, method = \"diag\")\n",
    "    gmm_diag_obj.fit(train_X)\n",
    "    \n",
    "    hsmm_obj = HyperbolicSecantMixtureVB(K = K[0],                                     \n",
    "                                         pri_alpha = pri_params[\"pri_alpha\"], pri_beta = pri_params[\"pri_beta\"], pri_gamma = pri_params[\"pri_gamma\"], pri_delta = pri_params[\"pri_delta\"], \n",
    "                                         iteration = 1000, restart_num=learning_num, learning_seed=data_seed + learning_seed_offset)\n",
    "    hsmm_obj.fit(train_X)\n",
    "    posterior_true_logprob = GaussianMixtureModel().latent_posterior_logprob(train_X, true_ratio, true_b, true_s)\n",
    "    cklerror_gmm[i] = gmm_diag_obj.score_latent_kl(posterior_true_logprob)[0]/len(train_X)\n",
    "    cklerror_hsmm[i] = hsmm_obj.score_latent_kl(posterior_true_logprob)[0]/len(train_X)\n",
    "    \n",
    "    c01error_gmm[i] = gmm_diag_obj.score_clustering(train_label_arg)[0]/len(train_X)\n",
    "    c01error_hsmm[i] = hsmm_obj.score_clustering(train_label_arg)[0]/len(train_X)\n",
    "    \n",
    "    true_empirical_entropy = -GaussianMixtureModel.logpdf(test_X, true_ratio, true_b, true_s)\n",
    "    gerror_gmm[i] = (-true_empirical_entropy - gmm_diag_obj.predict_logproba(test_X))/len(test_X)\n",
    "    gerror_hsmm[i] = (-true_empirical_entropy - hsmm_obj.predict_logproba(test_X))/len(test_X)"
   ]
  },
  {
   "cell_type": "code",
   "execution_count": 7,
   "metadata": {},
   "outputs": [
    {
     "name": "stdout",
     "output_type": "stream",
     "text": [
      "\n",
      "gerror_gmm: 0.023986380276039432,\n",
      "gerror_hsmm: 0.04337281269765235,\n",
      "cklerror_gmm: 0.014579801789498532,\n",
      "cklerror_hsmm: 0.0709953482507086,\n",
      "c01error_gmm: 0.922,\n",
      "c01error_hsmm: 0.9018\n",
      "\n"
     ]
    }
   ],
   "source": [
    "print(f\"\"\"\n",
    "gerror_gmm: {gerror_gmm.mean()},\n",
    "gerror_hsmm: {gerror_hsmm.mean()},\n",
    "cklerror_gmm: {cklerror_gmm.mean()},\n",
    "cklerror_hsmm: {cklerror_hsmm.mean()},\n",
    "c01error_gmm: {c01error_gmm.mean()},\n",
    "c01error_hsmm: {c01error_hsmm.mean()}\n",
    "\"\"\")"
   ]
  },
  {
   "cell_type": "markdown",
   "metadata": {},
   "source": [
    "# コンポーネントの分布が双曲線正割分布の場合"
   ]
  },
  {
   "cell_type": "code",
   "execution_count": 19,
   "metadata": {},
   "outputs": [
    {
     "ename": "KeyboardInterrupt",
     "evalue": "",
     "output_type": "error",
     "traceback": [
      "\u001b[1;31m---------------------------------------------------------------------------\u001b[0m",
      "\u001b[1;31mKeyboardInterrupt\u001b[0m                         Traceback (most recent call last)",
      "\u001b[1;32m<ipython-input-19-0de0269903c9>\u001b[0m in \u001b[0;36m<module>\u001b[1;34m\u001b[0m\n\u001b[0;32m     23\u001b[0m                                          \u001b[0mpri_alpha\u001b[0m \u001b[1;33m=\u001b[0m \u001b[0mpri_params\u001b[0m\u001b[1;33m[\u001b[0m\u001b[1;34m\"pri_alpha\"\u001b[0m\u001b[1;33m]\u001b[0m\u001b[1;33m,\u001b[0m \u001b[0mpri_beta\u001b[0m \u001b[1;33m=\u001b[0m \u001b[0mpri_params\u001b[0m\u001b[1;33m[\u001b[0m\u001b[1;34m\"pri_beta\"\u001b[0m\u001b[1;33m]\u001b[0m\u001b[1;33m,\u001b[0m \u001b[0mpri_gamma\u001b[0m \u001b[1;33m=\u001b[0m \u001b[0mpri_params\u001b[0m\u001b[1;33m[\u001b[0m\u001b[1;34m\"pri_gamma\"\u001b[0m\u001b[1;33m]\u001b[0m\u001b[1;33m,\u001b[0m \u001b[0mpri_delta\u001b[0m \u001b[1;33m=\u001b[0m \u001b[0mpri_params\u001b[0m\u001b[1;33m[\u001b[0m\u001b[1;34m\"pri_delta\"\u001b[0m\u001b[1;33m]\u001b[0m\u001b[1;33m,\u001b[0m\u001b[1;33m\u001b[0m\u001b[1;33m\u001b[0m\u001b[0m\n\u001b[0;32m     24\u001b[0m                                          iteration = 1000, restart_num=learning_num, learning_seed=data_seed + learning_seed_offset)\n\u001b[1;32m---> 25\u001b[1;33m     \u001b[0mhsmm_obj\u001b[0m\u001b[1;33m.\u001b[0m\u001b[0mfit\u001b[0m\u001b[1;33m(\u001b[0m\u001b[0mtrain_X\u001b[0m\u001b[1;33m)\u001b[0m\u001b[1;33m\u001b[0m\u001b[1;33m\u001b[0m\u001b[0m\n\u001b[0m\u001b[0;32m     26\u001b[0m \u001b[1;33m\u001b[0m\u001b[0m\n\u001b[0;32m     27\u001b[0m     \u001b[0mposterior_true_logprob\u001b[0m \u001b[1;33m=\u001b[0m \u001b[0mHyperbolicSecantMixtureModel\u001b[0m\u001b[1;33m(\u001b[0m\u001b[1;33m)\u001b[0m\u001b[1;33m.\u001b[0m\u001b[0mlatent_posterior_logprob\u001b[0m\u001b[1;33m(\u001b[0m\u001b[0mtrain_X\u001b[0m\u001b[1;33m,\u001b[0m \u001b[0mtrue_ratio\u001b[0m\u001b[1;33m,\u001b[0m \u001b[0mtrue_b\u001b[0m\u001b[1;33m,\u001b[0m \u001b[0mtrue_s\u001b[0m\u001b[1;33m)\u001b[0m\u001b[1;33m\u001b[0m\u001b[1;33m\u001b[0m\u001b[0m\n",
      "\u001b[1;32m~\\git\\LearningModels\\lib\\learning\\MixtureModel.py\u001b[0m in \u001b[0;36mfit\u001b[1;34m(self, train_X, y)\u001b[0m\n\u001b[0;32m    290\u001b[0m                 \u001b[0mmax_h_xi\u001b[0m \u001b[1;33m=\u001b[0m \u001b[0mest_h_xi\u001b[0m\u001b[1;33m.\u001b[0m\u001b[0mmax\u001b[0m\u001b[1;33m(\u001b[0m\u001b[0maxis\u001b[0m \u001b[1;33m=\u001b[0m \u001b[1;36m1\u001b[0m\u001b[1;33m)\u001b[0m\u001b[1;33m\u001b[0m\u001b[1;33m\u001b[0m\u001b[0m\n\u001b[0;32m    291\u001b[0m                 \u001b[0mnorm_h_xi\u001b[0m \u001b[1;33m=\u001b[0m \u001b[0mest_h_xi\u001b[0m \u001b[1;33m-\u001b[0m \u001b[0mnp\u001b[0m\u001b[1;33m.\u001b[0m\u001b[0mrepeat\u001b[0m\u001b[1;33m(\u001b[0m\u001b[0mmax_h_xi\u001b[0m\u001b[1;33m,\u001b[0m \u001b[0mself\u001b[0m\u001b[1;33m.\u001b[0m\u001b[0mK\u001b[0m\u001b[1;33m)\u001b[0m\u001b[1;33m.\u001b[0m\u001b[0mreshape\u001b[0m\u001b[1;33m(\u001b[0m\u001b[0mn\u001b[0m\u001b[1;33m,\u001b[0m\u001b[0mself\u001b[0m\u001b[1;33m.\u001b[0m\u001b[0mK\u001b[0m\u001b[1;33m)\u001b[0m\u001b[1;33m\u001b[0m\u001b[1;33m\u001b[0m\u001b[0m\n\u001b[1;32m--> 292\u001b[1;33m                 \u001b[0mest_u_xi\u001b[0m \u001b[1;33m=\u001b[0m \u001b[0mnp\u001b[0m\u001b[1;33m.\u001b[0m\u001b[0mexp\u001b[0m\u001b[1;33m(\u001b[0m\u001b[0mnorm_h_xi\u001b[0m\u001b[1;33m)\u001b[0m \u001b[1;33m/\u001b[0m \u001b[0mnp\u001b[0m\u001b[1;33m.\u001b[0m\u001b[0mrepeat\u001b[0m\u001b[1;33m(\u001b[0m\u001b[0mnp\u001b[0m\u001b[1;33m.\u001b[0m\u001b[0mexp\u001b[0m\u001b[1;33m(\u001b[0m\u001b[0mnorm_h_xi\u001b[0m\u001b[1;33m)\u001b[0m\u001b[1;33m.\u001b[0m\u001b[0msum\u001b[0m\u001b[1;33m(\u001b[0m\u001b[0maxis\u001b[0m \u001b[1;33m=\u001b[0m \u001b[1;36m1\u001b[0m\u001b[1;33m)\u001b[0m\u001b[1;33m,\u001b[0m \u001b[0mself\u001b[0m\u001b[1;33m.\u001b[0m\u001b[0mK\u001b[0m\u001b[1;33m)\u001b[0m\u001b[1;33m.\u001b[0m\u001b[0mreshape\u001b[0m\u001b[1;33m(\u001b[0m\u001b[0mn\u001b[0m\u001b[1;33m,\u001b[0m \u001b[0mself\u001b[0m\u001b[1;33m.\u001b[0m\u001b[0mK\u001b[0m\u001b[1;33m)\u001b[0m\u001b[1;33m\u001b[0m\u001b[1;33m\u001b[0m\u001b[0m\n\u001b[0m\u001b[0;32m    293\u001b[0m \u001b[1;33m\u001b[0m\u001b[0m\n\u001b[0;32m    294\u001b[0m                 \u001b[1;32mif\u001b[0m \u001b[0mite\u001b[0m \u001b[1;33m%\u001b[0m \u001b[0mself\u001b[0m\u001b[1;33m.\u001b[0m\u001b[0mstep\u001b[0m \u001b[1;33m==\u001b[0m \u001b[1;36m0\u001b[0m\u001b[1;33m:\u001b[0m\u001b[1;33m\u001b[0m\u001b[1;33m\u001b[0m\u001b[0m\n",
      "\u001b[1;32m~\\Anaconda3\\lib\\site-packages\\numpy\\core\\_methods.py\u001b[0m in \u001b[0;36m_sum\u001b[1;34m(a, axis, dtype, out, keepdims, initial)\u001b[0m\n\u001b[0;32m     34\u001b[0m def _sum(a, axis=None, dtype=None, out=None, keepdims=False,\n\u001b[0;32m     35\u001b[0m          initial=_NoValue):\n\u001b[1;32m---> 36\u001b[1;33m     \u001b[1;32mreturn\u001b[0m \u001b[0mumr_sum\u001b[0m\u001b[1;33m(\u001b[0m\u001b[0ma\u001b[0m\u001b[1;33m,\u001b[0m \u001b[0maxis\u001b[0m\u001b[1;33m,\u001b[0m \u001b[0mdtype\u001b[0m\u001b[1;33m,\u001b[0m \u001b[0mout\u001b[0m\u001b[1;33m,\u001b[0m \u001b[0mkeepdims\u001b[0m\u001b[1;33m,\u001b[0m \u001b[0minitial\u001b[0m\u001b[1;33m)\u001b[0m\u001b[1;33m\u001b[0m\u001b[1;33m\u001b[0m\u001b[0m\n\u001b[0m\u001b[0;32m     37\u001b[0m \u001b[1;33m\u001b[0m\u001b[0m\n\u001b[0;32m     38\u001b[0m def _prod(a, axis=None, dtype=None, out=None, keepdims=False,\n",
      "\u001b[1;31mKeyboardInterrupt\u001b[0m: "
     ]
    }
   ],
   "source": [
    "gerror_gmm = np.zeros(len(data_seeds))\n",
    "cklerror_gmm = np.zeros(len(data_seeds))\n",
    "c01error_gmm = np.zeros(len(data_seeds))\n",
    "norm_energy_gmm = np.zeros(len(data_seeds))\n",
    "\n",
    "gerror_hsmm = np.zeros(len(data_seeds))\n",
    "cklerror_hsmm = np.zeros(len(data_seeds))\n",
    "c01error_hsmm = np.zeros(len(data_seeds))\n",
    "norm_energy_hsmm = np.zeros(len(data_seeds))\n",
    "\n",
    "for i, data_seed in enumerate(data_seeds):\n",
    "    ### データを生成する\n",
    "    (train_X, train_label, train_label_arg) = HyperbolicSecantMixtureModel.rvs(true_ratio, true_b, true_s, size = n, data_seed = data_seed)\n",
    "    (test_X, test_label, test_label_arg) = HyperbolicSecantMixtureModel.rvs(true_ratio, true_b, true_s, size = N)\n",
    "    \n",
    "    gmm_diag_obj = GaussianMixtureModelVB(K = K[0],\n",
    "                                     pri_alpha = pri_params[\"pri_alpha\"], pri_beta = pri_params[\"pri_beta\"], pri_gamma = pri_params[\"pri_gamma\"], pri_delta = pri_params[\"pri_delta\"], \n",
    "                                     iteration = 1000, method = \"diag\", \n",
    "                                     restart_num=learning_num, learning_seed=data_seed + learning_seed_offset)\n",
    "    gmm_diag_obj.fit(train_X)\n",
    "    \n",
    "    hsmm_obj = HyperbolicSecantMixtureVB(K = K[0],                                     \n",
    "                                         pri_alpha = pri_params[\"pri_alpha\"], pri_beta = pri_params[\"pri_beta\"], pri_gamma = pri_params[\"pri_gamma\"], pri_delta = pri_params[\"pri_delta\"], \n",
    "                                         iteration = 1000, restart_num=learning_num, learning_seed=data_seed + learning_seed_offset)\n",
    "    hsmm_obj.fit(train_X)\n",
    "    \n",
    "    posterior_true_logprob = HyperbolicSecantMixtureModel().latent_posterior_logprob(train_X, true_ratio, true_b, true_s)\n",
    "    cklerror_gmm[i] = gmm_diag_obj.score_latent_kl(posterior_true_logprob)[0]/len(train_X)\n",
    "    cklerror_hsmm[i] = hsmm_obj.score_latent_kl(posterior_true_logprob)[0]/len(train_X)\n",
    "    \n",
    "    c01error_gmm[i] = gmm_diag_obj.score_clustering(train_label_arg)[0]/len(train_X)\n",
    "    c01error_hsmm[i] = hsmm_obj.score_clustering(train_label_arg)[0]/len(train_X)\n",
    "    \n",
    "    true_empirical_entropy = -HyperbolicSecantMixtureModel.logpdf(test_X, true_ratio, true_b, true_s)\n",
    "    gerror_gmm[i] = (-true_empirical_entropy - gmm_diag_obj.predict_logproba(test_X))/len(test_X)\n",
    "    gerror_hsmm[i] = (-true_empirical_entropy - hsmm_obj.predict_logproba(test_X))/len(test_X)\n",
    "    "
   ]
  },
  {
   "cell_type": "code",
   "execution_count": 20,
   "metadata": {},
   "outputs": [
    {
     "name": "stdout",
     "output_type": "stream",
     "text": [
      "\n",
      "gerror_gmm: 0.06892306319813438, \n",
      "gerror_hsmm: 0.025866372869894683,\n",
      "cklerror_gmm: 23.196797851652317,\n",
      "cklerror_hsmm: 1.9863084679143197,\n",
      "c01error_gmm: 0.6836,\n",
      "c01error_hsmm: 0.7382500000000001\n",
      "\n"
     ]
    }
   ],
   "source": [
    "print(f\"\"\"\n",
    "gerror_gmm: {gerror_gmm.mean()}, \n",
    "gerror_hsmm: {gerror_hsmm.mean()},\n",
    "cklerror_gmm: {cklerror_gmm.mean()},\n",
    "cklerror_hsmm: {cklerror_hsmm.mean()},\n",
    "c01error_gmm: {c01error_gmm.mean()},\n",
    "c01error_hsmm: {c01error_hsmm.mean()}\n",
    "\"\"\")"
   ]
  },
  {
   "cell_type": "markdown",
   "metadata": {},
   "source": [
    "# コンポーネントの分布がt分布の場合"
   ]
  },
  {
   "cell_type": "code",
   "execution_count": 10,
   "metadata": {},
   "outputs": [],
   "source": [
    "gerror_gmm = np.zeros(len(data_seeds))\n",
    "cklerror_gmm = np.zeros(len(data_seeds))\n",
    "c01error_gmm = np.zeros(len(data_seeds))\n",
    "# norm_energy_gmm = np.zeros(len(data_seeds))\n",
    "\n",
    "gerror_hsmm = np.zeros(len(data_seeds))\n",
    "cklerror_hsmm = np.zeros(len(data_seeds))\n",
    "c01error_hsmm = np.zeros(len(data_seeds))\n",
    "# norm_energy_hsmm = np.zeros(len(data_seeds))\n",
    "\n",
    "true_df = 3\n",
    "for i, data_seed in enumerate(data_seeds):\n",
    "    ### データを生成する\n",
    "    (train_X, train_label, train_label_arg) = StudentMixtureModel.rvs(true_ratio, true_b, true_s, size = n, data_seed = data_seed, df = true_df)\n",
    "    (test_X, test_label, test_label_arg) = StudentMixtureModel.rvs(true_ratio, true_b, true_s, size = N, df = true_df)\n",
    "    \n",
    "    gmm_diag_obj = GaussianMixtureModelVB(K = K[0],\n",
    "                                     pri_alpha = pri_params[\"pri_alpha\"], pri_beta = pri_params[\"pri_beta\"], pri_gamma = pri_params[\"pri_gamma\"], pri_delta = pri_params[\"pri_delta\"], \n",
    "                                     iteration = 1000, method = \"diag\", \n",
    "                                     restart_num=learning_num, learning_seed=data_seed + learning_seed_offset)\n",
    "    gmm_diag_obj.fit(train_X)\n",
    "    \n",
    "    hsmm_obj = HyperbolicSecantMixtureVB(K = K[0],                                     \n",
    "                                         pri_alpha = pri_params[\"pri_alpha\"], pri_beta = pri_params[\"pri_beta\"], pri_gamma = pri_params[\"pri_gamma\"], pri_delta = pri_params[\"pri_delta\"], \n",
    "                                         iteration = 1000, restart_num=learning_num, learning_seed=data_seed + learning_seed_offset)\n",
    "    hsmm_obj.fit(train_X)\n",
    "    \n",
    "    posterior_true_logprob = StudentMixtureModel().latent_posterior_logprob(train_X, true_ratio, true_b, true_s, df = true_df)\n",
    "    cklerror_gmm[i] = gmm_diag_obj.score_latent_kl(posterior_true_logprob)[0]/len(train_X)\n",
    "    cklerror_hsmm[i] = hsmm_obj.score_latent_kl(posterior_true_logprob)[0]/len(train_X)    \n",
    "    \n",
    "    c01error_gmm[i] = gmm_diag_obj.score_clustering(train_label_arg)[0]/len(train_X)\n",
    "    c01error_hsmm[i] = hsmm_obj.score_clustering(train_label_arg)[0]/len(train_X)\n",
    "    \n",
    "    true_empirical_entropy = -StudentMixtureModel.logpdf(test_X, true_ratio, true_b, true_s, df = true_df)\n",
    "    gerror_gmm[i] = (-true_empirical_entropy - gmm_diag_obj.predict_logproba(test_X))/len(test_X)\n",
    "    gerror_hsmm[i] = (-true_empirical_entropy - hsmm_obj.predict_logproba(test_X))/len(test_X)\n",
    "    "
   ]
  },
  {
   "cell_type": "code",
   "execution_count": 11,
   "metadata": {},
   "outputs": [
    {
     "name": "stdout",
     "output_type": "stream",
     "text": [
      "\n",
      "gerror_gmm: 0.19620487509839105,\n",
      "gerror_hsmm: 0.03907924619254339,\n",
      "cklerror_gmm: 3.719392759549088,\n",
      "cklerror_hsmm: 1.5787704723958722,\n",
      "c01error_gmm: 0.7676500000000002,\n",
      "c01error_hsmm: 0.8492999999999999\n",
      "\n"
     ]
    }
   ],
   "source": [
    "print(f\"\"\"\n",
    "gerror_gmm: {gerror_gmm.mean()},\n",
    "gerror_hsmm: {gerror_hsmm.mean()},\n",
    "cklerror_gmm: {cklerror_gmm.mean()},\n",
    "cklerror_hsmm: {cklerror_hsmm.mean()},\n",
    "c01error_gmm: {c01error_gmm.mean()},\n",
    "c01error_hsmm: {c01error_hsmm.mean()}\n",
    "\"\"\")"
   ]
  },
  {
   "cell_type": "markdown",
   "metadata": {},
   "source": [
    "# コンポーネントの分布がラプラス分布の場合"
   ]
  },
  {
   "cell_type": "code",
   "execution_count": 12,
   "metadata": {},
   "outputs": [],
   "source": [
    "gerror_gmm = np.zeros(len(data_seeds))\n",
    "cklerror_gmm = np.zeros(len(data_seeds))\n",
    "c01error_gmm = np.zeros(len(data_seeds))\n",
    "# norm_energy_gmm = np.zeros(len(data_seeds))\n",
    "\n",
    "gerror_hsmm = np.zeros(len(data_seeds))\n",
    "cklerror_hsmm = np.zeros(len(data_seeds))\n",
    "c01error_hsmm = np.zeros(len(data_seeds))\n",
    "# norm_energy_hsmm = np.zeros(len(data_seeds))\n",
    "\n",
    "for i, data_seed in enumerate(data_seeds):\n",
    "    ### データを生成する\n",
    "    (train_X, train_label, train_label_arg) = LaplaceMixtureModel.rvs(true_ratio, true_b, true_s, size = n, data_seed = data_seed)\n",
    "    (test_X, test_label, test_label_arg) = LaplaceMixtureModel.rvs(true_ratio, true_b, true_s, size = N)\n",
    "    \n",
    "    gmm_diag_obj = GaussianMixtureModelVB(K = K[0],\n",
    "                                     pri_alpha = pri_params[\"pri_alpha\"], pri_beta = pri_params[\"pri_beta\"], pri_gamma = pri_params[\"pri_gamma\"], pri_delta = pri_params[\"pri_delta\"], \n",
    "                                     iteration = 1000, method = \"diag\", \n",
    "                                     restart_num=learning_num, learning_seed=data_seed + learning_seed_offset)\n",
    "    gmm_diag_obj.fit(train_X)\n",
    "    \n",
    "    hsmm_obj = HyperbolicSecantMixtureVB(K = K[0],                                     \n",
    "                                         pri_alpha = pri_params[\"pri_alpha\"], pri_beta = pri_params[\"pri_beta\"], pri_gamma = pri_params[\"pri_gamma\"], pri_delta = pri_params[\"pri_delta\"], \n",
    "                                         iteration = 1000, restart_num=learning_num, learning_seed=data_seed + learning_seed_offset)\n",
    "    hsmm_obj.fit(train_X)\n",
    "    \n",
    "    posterior_true_logprob = LaplaceMixtureModel().latent_posterior_logprob(train_X, true_ratio, true_b, true_s)\n",
    "    cklerror_gmm[i] = gmm_diag_obj.score_latent_kl(posterior_true_logprob)[0]/len(train_X)\n",
    "    cklerror_hsmm[i] = hsmm_obj.score_latent_kl(posterior_true_logprob)[0]/len(train_X)   \n",
    "    \n",
    "    c01error_gmm[i] = gmm_diag_obj.score_clustering(train_label_arg)[0]/len(train_X)\n",
    "    c01error_hsmm[i] = hsmm_obj.score_clustering(train_label_arg)[0]/len(train_X)\n",
    "    \n",
    "    true_empirical_entropy = -LaplaceMixtureModel.logpdf(test_X, true_ratio, true_b, true_s)\n",
    "    gerror_gmm[i] = (-true_empirical_entropy - gmm_diag_obj.predict_logproba(test_X))/len(test_X)\n",
    "    gerror_hsmm[i] = (-true_empirical_entropy - hsmm_obj.predict_logproba(test_X))/len(test_X)\n",
    "    "
   ]
  },
  {
   "cell_type": "code",
   "execution_count": 13,
   "metadata": {},
   "outputs": [
    {
     "name": "stdout",
     "output_type": "stream",
     "text": [
      "\n",
      "gerror_gmm: 0.10545562558925133,\n",
      "gerror_hsmm: 0.03266588382364332,\n",
      "cklerror_gmm: 1.7618997379222217,\n",
      "cklerror_hsmm: 1.4220849553036825,\n",
      "c01error_gmm: 0.7943000000000001,\n",
      "c01error_hsmm: 0.8590000000000001\n",
      "\n"
     ]
    }
   ],
   "source": [
    "print(f\"\"\"\n",
    "gerror_gmm: {gerror_gmm.mean()},\n",
    "gerror_hsmm: {gerror_hsmm.mean()},\n",
    "cklerror_gmm: {cklerror_gmm.mean()},\n",
    "cklerror_hsmm: {cklerror_hsmm.mean()},\n",
    "c01error_gmm: {c01error_gmm.mean()},\n",
    "c01error_hsmm: {c01error_hsmm.mean()}\n",
    "\"\"\")"
   ]
  },
  {
   "cell_type": "markdown",
   "metadata": {},
   "source": [
    "# コンポーネントの分布がガンベル分布の場合"
   ]
  },
  {
   "cell_type": "code",
   "execution_count": 10,
   "metadata": {},
   "outputs": [],
   "source": [
    "gerror_gmm = np.zeros(len(data_seeds))\n",
    "cklerror_gmm = np.zeros(len(data_seeds))\n",
    "c01error_gmm = np.zeros(len(data_seeds))\n",
    "# norm_energy_gmm = np.zeros(len(data_seeds))\n",
    "\n",
    "gerror_hsmm = np.zeros(len(data_seeds))\n",
    "cklerror_hsmm = np.zeros(len(data_seeds))\n",
    "c01error_hsmm = np.zeros(len(data_seeds))\n",
    "# norm_energy_hsmm = np.zeros(len(data_seeds))\n",
    "\n",
    "for i, data_seed in enumerate(data_seeds):\n",
    "    ### データを生成する\n",
    "    (train_X, train_label, train_label_arg) = GumbelMixtureModel.rvs(true_ratio, true_b, true_s, size = n, data_seed = data_seed)\n",
    "    (test_X, test_label, test_label_arg) = GumbelMixtureModel.rvs(true_ratio, true_b, true_s, size = N)\n",
    "    \n",
    "    gmm_diag_obj = GaussianMixtureModelVB(K = K[0],\n",
    "                                     pri_alpha = pri_params[\"pri_alpha\"], pri_beta = pri_params[\"pri_beta\"], pri_gamma = pri_params[\"pri_gamma\"], pri_delta = pri_params[\"pri_delta\"], \n",
    "                                     iteration = 1000, method = \"diag\", \n",
    "                                     restart_num=learning_num, learning_seed=data_seed + learning_seed_offset)\n",
    "    gmm_diag_obj.fit(train_X)\n",
    "    \n",
    "    hsmm_obj = HyperbolicSecantMixtureVB(K = K[0],                                     \n",
    "                                         pri_alpha = pri_params[\"pri_alpha\"], pri_beta = pri_params[\"pri_beta\"], pri_gamma = pri_params[\"pri_gamma\"], pri_delta = pri_params[\"pri_delta\"], \n",
    "                                         iteration = 1000, restart_num=learning_num, learning_seed=data_seed + learning_seed_offset)\n",
    "    hsmm_obj.fit(train_X)\n",
    "    \n",
    "    posterior_true_logprob = GumbelMixtureModel().latent_posterior_logprob(train_X, true_ratio, true_b, true_s)\n",
    "    cklerror_gmm[i] = gmm_diag_obj.score_latent_kl(posterior_true_logprob)[0]/len(train_X)\n",
    "    cklerror_hsmm[i] = hsmm_obj.score_latent_kl(posterior_true_logprob)[0]/len(train_X)   \n",
    "    \n",
    "    c01error_gmm[i] = gmm_diag_obj.score_clustering(train_label_arg)[0]/len(train_X)\n",
    "    c01error_hsmm[i] = hsmm_obj.score_clustering(train_label_arg)[0]/len(train_X)\n",
    "    \n",
    "    true_empirical_entropy = -GumbelMixtureModel.logpdf(test_X, true_ratio, true_b, true_s)\n",
    "    gerror_gmm[i] = (-true_empirical_entropy - gmm_diag_obj.predict_logproba(test_X))/len(test_X)\n",
    "    gerror_hsmm[i] = (-true_empirical_entropy - hsmm_obj.predict_logproba(test_X))/len(test_X)\n",
    "    "
   ]
  },
  {
   "cell_type": "code",
   "execution_count": 11,
   "metadata": {},
   "outputs": [
    {
     "name": "stdout",
     "output_type": "stream",
     "text": [
      "\n",
      "gerror_gmm: 0.22086168027272243,\n",
      "gerror_hsmm: 0.514092263661064,\n",
      "cklerror_gmm: 0.05694911380538277,\n",
      "cklerror_hsmm: 0.03389905365024883,\n",
      "c01error_gmm: 0.9869,\n",
      "c01error_hsmm: 0.9871500000000001\n",
      "\n"
     ]
    }
   ],
   "source": [
    "print(f\"\"\"\n",
    "gerror_gmm: {gerror_gmm.mean()},\n",
    "gerror_hsmm: {gerror_hsmm.mean()},\n",
    "cklerror_gmm: {cklerror_gmm.mean()},\n",
    "cklerror_hsmm: {cklerror_hsmm.mean()},\n",
    "c01error_gmm: {c01error_gmm.mean()},\n",
    "c01error_hsmm: {c01error_hsmm.mean()}\n",
    "\"\"\")"
   ]
  }
 ],
 "metadata": {
  "jupytext": {
   "encoding": "# -*- coding: utf-8 -*-",
   "formats": "ipynb,py"
  },
  "kernelspec": {
   "display_name": "Python 3",
   "language": "python",
   "name": "python3"
  },
  "language_info": {
   "codemirror_mode": {
    "name": "ipython",
    "version": 3
   },
   "file_extension": ".py",
   "mimetype": "text/x-python",
   "name": "python",
   "nbconvert_exporter": "python",
   "pygments_lexer": "ipython3",
   "version": "3.6.3"
  },
  "toc-autonumbering": true
 },
 "nbformat": 4,
 "nbformat_minor": 4
}
