{
 "cells": [
  {
   "cell_type": "code",
   "execution_count": 2,
   "metadata": {},
   "outputs": [],
   "source": [
    "%load_ext autoreload\n",
    "%autoreload 2\n",
    "%matplotlib inline"
   ]
  },
  {
   "cell_type": "markdown",
   "metadata": {},
   "source": [
    "# HSMMの性能比較の数値実験"
   ]
  },
  {
   "cell_type": "code",
   "execution_count": 3,
   "metadata": {},
   "outputs": [],
   "source": [
    "import sys\n",
    "sys.path.append(\"../lib\")"
   ]
  },
  {
   "cell_type": "code",
   "execution_count": 5,
   "metadata": {},
   "outputs": [],
   "source": [
    "import math\n",
    "\n",
    "from IPython.core.display import display, Markdown, Latex\n",
    "import numpy as np\n",
    "from scipy.special import gammaln, psi\n",
    "import matplotlib.pyplot as plt\n",
    "import seaborn as sns\n",
    "from scipy.stats import norm, t, cauchy, laplace, gumbel_r, gamma, skewnorm, pareto, multivariate_normal\n",
    "from typing import Callable\n",
    "from sklearn.mixture import BayesianGaussianMixture\n",
    "\n",
    "from learning.MixtureModel import HyperbolicSecantMixtureVB\n",
    "from learning.MixtureModel import GaussianMixtureModelVB\n",
    "from util.elementary_function import GaussianMixtureModel, HyperbolicSecantMixtureModel, StudentMixtureModel, LaplaceMixtureModel"
   ]
  },
  {
   "cell_type": "markdown",
   "metadata": {},
   "source": [
    "# 問題設定"
   ]
  },
  {
   "cell_type": "markdown",
   "metadata": {},
   "source": [
    "## 真の分布の設定\n",
    "+ データ生成分布は変更しますが、混合比, 中心, scaleは同じものを流用"
   ]
  },
  {
   "cell_type": "code",
   "execution_count": 7,
   "metadata": {},
   "outputs": [],
   "source": [
    "true_ratio = np.array([0.33, 0.33, 0.34])\n",
    "true_delta = 0\n",
    "true_s = np.array([[0.1, 0.1], [0.5, 0.5], [1, 1]])\n",
    "true_b = np.array([[2, 4], [-4, -2], [0, 0]])\n",
    "true_param = dict()\n",
    "true_param[\"ratio\"] = true_ratio\n",
    "true_param[\"mean\"] = true_b\n",
    "true_param[\"precision\"] = true_s\n",
    "true_param[\"scale\"] = np.array([np.diag(1/np.sqrt(true_s[k,:])) for k in range(len(true_ratio))])\n",
    "K0 = len(true_ratio)\n",
    "M = true_b.shape[1]"
   ]
  },
  {
   "cell_type": "markdown",
   "metadata": {},
   "source": [
    "## Learning setting:"
   ]
  },
  {
   "cell_type": "code",
   "execution_count": 8,
   "metadata": {},
   "outputs": [],
   "source": [
    "### 学習データの数\n",
    "n = 400\n",
    "\n",
    "### テストデータの数\n",
    "N = 10000\n",
    "\n",
    "### データの出方の個数\n",
    "ndataset = 50\n",
    "\n",
    "### 事前分布のハイパーパラメータ\n",
    "pri_params = {\n",
    "    \"pri_alpha\": 0.1,\n",
    "    \"pri_beta\": 0.001,\n",
    "    \"pri_gamma\": M+2,\n",
    "    \"pri_delta\": 1\n",
    "}\n",
    "\n",
    "### データ生成の回数\n",
    "data_seed_start = 201907\n",
    "data_seeds = np.arange(start = data_seed_start, stop = data_seed_start + ndataset, step = 1)\n",
    "\n",
    "### 学習モデルの初期値の乱数 -> データseedにoffsetを加えたものを使う\n",
    "learning_num = 10\n",
    "learning_seed_offset = 100\n",
    "\n",
    "### 繰り返しアルゴリズムの繰り返し回数\n",
    "learning_iteration = 1000\n",
    "\n",
    "### 学習モデルのコンポーネントの数\n",
    "K = np.array([3, 5])"
   ]
  },
  {
   "cell_type": "markdown",
   "metadata": {},
   "source": [
    "# 性能評価\n",
    "+ 1連の流れ\n",
    "    1. データ生成する\n",
    "    1. 学習を行う\n",
    "    1. 精度評価を行う\n",
    "    1. 1に戻って再度計算"
   ]
  },
  {
   "cell_type": "markdown",
   "metadata": {},
   "source": [
    "# コンポーネントの分布が正規分布の場合"
   ]
  },
  {
   "cell_type": "code",
   "execution_count": 9,
   "metadata": {
    "lines_to_next_cell": 2
   },
   "outputs": [
    {
     "ename": "KeyboardInterrupt",
     "evalue": "",
     "output_type": "error",
     "traceback": [
      "\u001b[1;31m---------------------------------------------------------------------------\u001b[0m",
      "\u001b[1;31mKeyboardInterrupt\u001b[0m                         Traceback (most recent call last)",
      "\u001b[1;32m<ipython-input-9-ee96400759e8>\u001b[0m in \u001b[0;36m<module>\u001b[1;34m\u001b[0m\n\u001b[0;32m     15\u001b[0m                                      \u001b[0mpri_alpha\u001b[0m \u001b[1;33m=\u001b[0m \u001b[0mpri_params\u001b[0m\u001b[1;33m[\u001b[0m\u001b[1;34m\"pri_alpha\"\u001b[0m\u001b[1;33m]\u001b[0m\u001b[1;33m,\u001b[0m \u001b[0mpri_beta\u001b[0m \u001b[1;33m=\u001b[0m \u001b[0mpri_params\u001b[0m\u001b[1;33m[\u001b[0m\u001b[1;34m\"pri_beta\"\u001b[0m\u001b[1;33m]\u001b[0m\u001b[1;33m,\u001b[0m \u001b[0mpri_gamma\u001b[0m \u001b[1;33m=\u001b[0m \u001b[0mpri_params\u001b[0m\u001b[1;33m[\u001b[0m\u001b[1;34m\"pri_gamma\"\u001b[0m\u001b[1;33m]\u001b[0m\u001b[1;33m,\u001b[0m \u001b[0mpri_delta\u001b[0m \u001b[1;33m=\u001b[0m \u001b[0mpri_params\u001b[0m\u001b[1;33m[\u001b[0m\u001b[1;34m\"pri_delta\"\u001b[0m\u001b[1;33m]\u001b[0m\u001b[1;33m,\u001b[0m\u001b[1;33m\u001b[0m\u001b[0m\n\u001b[0;32m     16\u001b[0m                                      iteration = 1000, restart_num=learning_num, learning_seed=data_seed + learning_seed_offset, method = \"diag\")\n\u001b[1;32m---> 17\u001b[1;33m     \u001b[0mgmm_diag_obj\u001b[0m\u001b[1;33m.\u001b[0m\u001b[0mfit\u001b[0m\u001b[1;33m(\u001b[0m\u001b[0mtrain_X\u001b[0m\u001b[1;33m)\u001b[0m\u001b[1;33m\u001b[0m\u001b[0m\n\u001b[0m\u001b[0;32m     18\u001b[0m \u001b[1;33m\u001b[0m\u001b[0m\n\u001b[0;32m     19\u001b[0m     hsmm_obj = HyperbolicSecantMixtureVB(K = K[0],                                     \n",
      "\u001b[1;32m~\\Documents\\GitHub\\LearningModels\\lib\\learning\\MixtureModel.py\u001b[0m in \u001b[0;36mfit\u001b[1;34m(self, train_X, y)\u001b[0m\n\u001b[0;32m    414\u001b[0m     \u001b[1;32mdef\u001b[0m \u001b[0mfit\u001b[0m\u001b[1;33m(\u001b[0m\u001b[0mself\u001b[0m\u001b[1;33m,\u001b[0m \u001b[0mtrain_X\u001b[0m\u001b[1;33m:\u001b[0m\u001b[0mnp\u001b[0m\u001b[1;33m.\u001b[0m\u001b[0mndarray\u001b[0m\u001b[1;33m,\u001b[0m \u001b[0my\u001b[0m\u001b[1;33m:\u001b[0m\u001b[0mnp\u001b[0m\u001b[1;33m.\u001b[0m\u001b[0mndarray\u001b[0m \u001b[1;33m=\u001b[0m \u001b[1;32mNone\u001b[0m\u001b[1;33m)\u001b[0m\u001b[1;33m:\u001b[0m\u001b[1;33m\u001b[0m\u001b[0m\n\u001b[0;32m    415\u001b[0m         \u001b[1;32mif\u001b[0m \u001b[0mself\u001b[0m\u001b[1;33m.\u001b[0m\u001b[0mmethod\u001b[0m \u001b[1;33m==\u001b[0m \u001b[1;34m\"diag\"\u001b[0m\u001b[1;33m:\u001b[0m\u001b[1;33m\u001b[0m\u001b[0m\n\u001b[1;32m--> 416\u001b[1;33m             \u001b[1;32mreturn\u001b[0m \u001b[0mself\u001b[0m\u001b[1;33m.\u001b[0m\u001b[0m_fit_diag\u001b[0m\u001b[1;33m(\u001b[0m\u001b[0mtrain_X\u001b[0m\u001b[1;33m,\u001b[0m \u001b[0my\u001b[0m\u001b[1;33m)\u001b[0m\u001b[1;33m\u001b[0m\u001b[0m\n\u001b[0m\u001b[0;32m    417\u001b[0m         \u001b[1;32melif\u001b[0m \u001b[0mself\u001b[0m\u001b[1;33m.\u001b[0m\u001b[0mmethod\u001b[0m \u001b[1;33m==\u001b[0m \u001b[1;34m\"full\"\u001b[0m\u001b[1;33m:\u001b[0m\u001b[1;33m\u001b[0m\u001b[0m\n\u001b[0;32m    418\u001b[0m             \u001b[1;32mreturn\u001b[0m \u001b[0mself\u001b[0m\u001b[1;33m.\u001b[0m\u001b[0m_fit_full\u001b[0m\u001b[1;33m(\u001b[0m\u001b[0mtrain_X\u001b[0m\u001b[1;33m,\u001b[0m \u001b[0my\u001b[0m\u001b[1;33m)\u001b[0m\u001b[1;33m\u001b[0m\u001b[0m\n",
      "\u001b[1;32m~\\Documents\\GitHub\\LearningModels\\lib\\learning\\MixtureModel.py\u001b[0m in \u001b[0;36m_fit_diag\u001b[1;34m(self, train_X, y)\u001b[0m\n\u001b[0;32m    536\u001b[0m                 \u001b[0mmax_h_xi\u001b[0m \u001b[1;33m=\u001b[0m \u001b[0mest_h_xi\u001b[0m\u001b[1;33m.\u001b[0m\u001b[0mmax\u001b[0m\u001b[1;33m(\u001b[0m\u001b[0maxis\u001b[0m \u001b[1;33m=\u001b[0m \u001b[1;36m1\u001b[0m\u001b[1;33m)\u001b[0m\u001b[1;33m\u001b[0m\u001b[0m\n\u001b[0;32m    537\u001b[0m                 \u001b[0mnorm_h_xi\u001b[0m \u001b[1;33m=\u001b[0m \u001b[0mest_h_xi\u001b[0m \u001b[1;33m-\u001b[0m \u001b[0mnp\u001b[0m\u001b[1;33m.\u001b[0m\u001b[0mrepeat\u001b[0m\u001b[1;33m(\u001b[0m\u001b[0mmax_h_xi\u001b[0m\u001b[1;33m,\u001b[0m\u001b[0mself\u001b[0m\u001b[1;33m.\u001b[0m\u001b[0mK\u001b[0m\u001b[1;33m)\u001b[0m\u001b[1;33m.\u001b[0m\u001b[0mreshape\u001b[0m\u001b[1;33m(\u001b[0m\u001b[0mn\u001b[0m\u001b[1;33m,\u001b[0m\u001b[0mself\u001b[0m\u001b[1;33m.\u001b[0m\u001b[0mK\u001b[0m\u001b[1;33m)\u001b[0m\u001b[1;33m\u001b[0m\u001b[0m\n\u001b[1;32m--> 538\u001b[1;33m                 \u001b[0mest_u_xi\u001b[0m \u001b[1;33m=\u001b[0m \u001b[0mnp\u001b[0m\u001b[1;33m.\u001b[0m\u001b[0mexp\u001b[0m\u001b[1;33m(\u001b[0m\u001b[0mnorm_h_xi\u001b[0m\u001b[1;33m)\u001b[0m \u001b[1;33m/\u001b[0m \u001b[0mnp\u001b[0m\u001b[1;33m.\u001b[0m\u001b[0mrepeat\u001b[0m\u001b[1;33m(\u001b[0m\u001b[0mnp\u001b[0m\u001b[1;33m.\u001b[0m\u001b[0mexp\u001b[0m\u001b[1;33m(\u001b[0m\u001b[0mnorm_h_xi\u001b[0m\u001b[1;33m)\u001b[0m\u001b[1;33m.\u001b[0m\u001b[0msum\u001b[0m\u001b[1;33m(\u001b[0m\u001b[0maxis\u001b[0m \u001b[1;33m=\u001b[0m \u001b[1;36m1\u001b[0m\u001b[1;33m)\u001b[0m\u001b[1;33m,\u001b[0m \u001b[0mself\u001b[0m\u001b[1;33m.\u001b[0m\u001b[0mK\u001b[0m\u001b[1;33m)\u001b[0m\u001b[1;33m.\u001b[0m\u001b[0mreshape\u001b[0m\u001b[1;33m(\u001b[0m\u001b[0mn\u001b[0m\u001b[1;33m,\u001b[0m\u001b[0mself\u001b[0m\u001b[1;33m.\u001b[0m\u001b[0mK\u001b[0m\u001b[1;33m)\u001b[0m\u001b[1;33m\u001b[0m\u001b[0m\n\u001b[0m\u001b[0;32m    539\u001b[0m \u001b[1;33m\u001b[0m\u001b[0m\n\u001b[0;32m    540\u001b[0m                 \u001b[1;31m### Calculate evaluation function\u001b[0m\u001b[1;33m\u001b[0m\u001b[1;33m\u001b[0m\u001b[0m\n",
      "\u001b[1;31mKeyboardInterrupt\u001b[0m: "
     ]
    }
   ],
   "source": [
    "gerror_gmm = np.zeros(len(data_seeds))\n",
    "cklerror_gmm = np.zeros(len(data_seeds))\n",
    "c01error_gmm = np.zeros(len(data_seeds))\n",
    "\n",
    "gerror_hsmm = np.zeros(len(data_seeds))\n",
    "cklerror_hsmm = np.zeros(len(data_seeds))\n",
    "c01error_hsmm = np.zeros(len(data_seeds))\n",
    "\n",
    "for i, data_seed in enumerate(data_seeds):\n",
    "    ### データを生成する\n",
    "    (train_X, train_label, train_label_arg) = GaussianMixtureModel.rvs(true_ratio, true_b, true_s, size = n, data_seed = data_seed)\n",
    "    (test_X, test_label, test_label_arg) = GaussianMixtureModel.rvs(true_ratio, true_b, true_s, size = N)\n",
    "    \n",
    "    gmm_diag_obj = GaussianMixtureModelVB(K = K[0],\n",
    "                                     pri_alpha = pri_params[\"pri_alpha\"], pri_beta = pri_params[\"pri_beta\"], pri_gamma = pri_params[\"pri_gamma\"], pri_delta = pri_params[\"pri_delta\"], \n",
    "                                     iteration = 1000, restart_num=learning_num, learning_seed=data_seed + learning_seed_offset, method = \"diag\")\n",
    "    gmm_diag_obj.fit(train_X)\n",
    "    \n",
    "    hsmm_obj = HyperbolicSecantMixtureVB(K = K[0],                                     \n",
    "                                         pri_alpha = pri_params[\"pri_alpha\"], pri_beta = pri_params[\"pri_beta\"], pri_gamma = pri_params[\"pri_gamma\"], pri_delta = pri_params[\"pri_delta\"], \n",
    "                                         iteration = 1000, restart_num=learning_num, learning_seed=data_seed + learning_seed_offset)\n",
    "    hsmm_obj.fit(train_X)\n",
    "    true_latent_kl, _ = GaussianMixtureModel().score_latent_kl(train_X, true_ratio, true_b, true_s)\n",
    "    cklerror_gmm[i] = (-true_latent_kl + gmm_diag_obj.score_latent_kl())/len(train_X)\n",
    "    cklerror_hsmm[i] = (-true_latent_kl + hsmm_obj.score_latent_kl())/len(train_X)\n",
    "    \n",
    "    c01error_gmm[i] = gmm_diag_obj.score_clustering(train_label_arg)[0]/len(train_X)\n",
    "    c01error_hsmm[i] = hsmm_obj.score_clustering(train_label_arg)[0]/len(train_X)\n",
    "    \n",
    "    true_empirical_entropy = -GaussianMixtureModel.logpdf(test_X, true_ratio, true_b, true_s)\n",
    "    gerror_gmm[i] = (-true_empirical_entropy - gmm_diag_obj.predict_logproba(test_X))/len(test_X)\n",
    "    gerror_hsmm[i] = (-true_empirical_entropy - hsmm_obj.predict_logproba(test_X))/len(test_X)"
   ]
  },
  {
   "cell_type": "code",
   "execution_count": 7,
   "metadata": {},
   "outputs": [
    {
     "name": "stdout",
     "output_type": "stream",
     "text": [
      "\n",
      "gerror_gmm: 0.025395829264575634,\n",
      "gerror_hsmm: 0.04544454340595758,\n",
      "cklerror_gmm: 2.376653909999569,\n",
      "cklerror_hsmm: -9.352626102907418,\n",
      "c01error_gmm: 0.9219166666666666,\n",
      "c01error_hsmm: 0.9010833333333335\n",
      "\n"
     ]
    }
   ],
   "source": [
    "print(f\"\"\"\n",
    "gerror_gmm: {gerror_gmm.mean()},\n",
    "gerror_hsmm: {gerror_hsmm.mean()},\n",
    "cklerror_gmm: {cklerror_gmm.mean()},\n",
    "cklerror_hsmm: {cklerror_hsmm.mean()},\n",
    "c01error_gmm: {c01error_gmm.mean()},\n",
    "c01error_hsmm: {c01error_hsmm.mean()}\n",
    "\"\"\")"
   ]
  },
  {
   "cell_type": "markdown",
   "metadata": {},
   "source": [
    "# コンポーネントの分布が双曲線正割分布の場合"
   ]
  },
  {
   "cell_type": "code",
   "execution_count": 12,
   "metadata": {},
   "outputs": [],
   "source": [
    "gerror_gmm = np.zeros(len(data_seeds))\n",
    "cklerror_gmm = np.zeros(len(data_seeds))\n",
    "c01error_gmm = np.zeros(len(data_seeds))\n",
    "norm_energy_gmm = np.zeros(len(data_seeds))\n",
    "\n",
    "gerror_hsmm = np.zeros(len(data_seeds))\n",
    "cklerror_hsmm = np.zeros(len(data_seeds))\n",
    "c01error_hsmm = np.zeros(len(data_seeds))\n",
    "norm_energy_hsmm = np.zeros(len(data_seeds))\n",
    "\n",
    "for i, data_seed in enumerate(data_seeds):\n",
    "    ### データを生成する\n",
    "    (train_X, train_label, train_label_arg) = HyperbolicSecantMixtureModel.rvs(true_ratio, true_b, true_s, size = n, data_seed = data_seed)\n",
    "    (test_X, test_label, test_label_arg) = HyperbolicSecantMixtureModel.rvs(true_ratio, true_b, true_s, size = N)\n",
    "    \n",
    "    gmm_diag_obj = GaussianMixtureModelVB(K = K[0],\n",
    "                                     pri_alpha = pri_params[\"pri_alpha\"], pri_beta = pri_params[\"pri_beta\"], pri_gamma = pri_params[\"pri_gamma\"], pri_delta = pri_params[\"pri_delta\"], \n",
    "                                     iteration = 1000, method = \"diag\", \n",
    "                                     restart_num=learning_num, learning_seed=data_seed + learning_seed_offset)\n",
    "    gmm_diag_obj.fit(train_X)\n",
    "    \n",
    "    hsmm_obj = HyperbolicSecantMixtureVB(K = K[0],                                     \n",
    "                                         pri_alpha = pri_params[\"pri_alpha\"], pri_beta = pri_params[\"pri_beta\"], pri_gamma = pri_params[\"pri_gamma\"], pri_delta = pri_params[\"pri_delta\"], \n",
    "                                         iteration = 1000, restart_num=learning_num, learning_seed=data_seed + learning_seed_offset)\n",
    "    hsmm_obj.fit(train_X)\n",
    "    \n",
    "    true_latent_kl, _ = HyperbolicSecantMixtureModel().score_latent_kl(train_X, true_ratio, true_b, true_s)\n",
    "    cklerror_gmm[i] = (-true_latent_kl + gmm_diag_obj.score_latent_kl())/len(train_X)\n",
    "    cklerror_hsmm[i] = (-true_latent_kl + hsmm_obj.score_latent_kl())/len(train_X)\n",
    "    \n",
    "    c01error_gmm[i] = gmm_diag_obj.score_clustering(train_label_arg)[0]/len(train_X)\n",
    "    c01error_hsmm[i] = hsmm_obj.score_clustering(train_label_arg)[0]/len(train_X)\n",
    "    \n",
    "    true_empirical_entropy = -HyperbolicSecantMixtureModel.logpdf(test_X, true_ratio, true_b, true_s)\n",
    "    gerror_gmm[i] = (-true_empirical_entropy - gmm_diag_obj.predict_logproba(test_X))/len(test_X)\n",
    "    gerror_hsmm[i] = (-true_empirical_entropy - hsmm_obj.predict_logproba(test_X))/len(test_X)\n",
    "    "
   ]
  },
  {
   "cell_type": "code",
   "execution_count": 13,
   "metadata": {},
   "outputs": [
    {
     "name": "stdout",
     "output_type": "stream",
     "text": [
      "\n",
      "gerror_gmm: 0.07308802942641764,\n",
      "gerror_hsmm: 0.02797083078313875,\n",
      "cklerror_gmm: 128.57478884472354,\n",
      "cklerror_hsmm: 12.270455757958707,\n",
      "c01error_gmm: 0.726,\n",
      "c01error_hsmm: 0.7832000000000001\n",
      "\n"
     ]
    }
   ],
   "source": [
    "print(f\"\"\"\n",
    "gerror_gmm: {gerror_gmm.mean()},\n",
    "gerror_hsmm: {gerror_hsmm.mean()},\n",
    "cklerror_gmm: {cklerror_gmm.mean()},\n",
    "cklerror_hsmm: {cklerror_hsmm.mean()},\n",
    "c01error_gmm: {c01error_gmm.mean()},\n",
    "c01error_hsmm: {c01error_hsmm.mean()}\n",
    "\"\"\")"
   ]
  },
  {
   "cell_type": "markdown",
   "metadata": {},
   "source": [
    "# コンポーネントの分布がt分布の場合"
   ]
  },
  {
   "cell_type": "code",
   "execution_count": 14,
   "metadata": {},
   "outputs": [],
   "source": [
    "gerror_gmm = np.zeros(len(data_seeds))\n",
    "# cklerror_gmm = np.zeros(len(data_seeds))\n",
    "c01error_gmm = np.zeros(len(data_seeds))\n",
    "# norm_energy_gmm = np.zeros(len(data_seeds))\n",
    "\n",
    "gerror_hsmm = np.zeros(len(data_seeds))\n",
    "# cklerror_hsmm = np.zeros(len(data_seeds))\n",
    "c01error_hsmm = np.zeros(len(data_seeds))\n",
    "# norm_energy_hsmm = np.zeros(len(data_seeds))\n",
    "\n",
    "true_df = 1.5\n",
    "for i, data_seed in enumerate(data_seeds):\n",
    "    ### データを生成する\n",
    "    (train_X, train_label, train_label_arg) = StudentMixtureModel.rvs(true_ratio, true_b, true_s, size = n, data_seed = data_seed, df = true_df)\n",
    "    (test_X, test_label, test_label_arg) = StudentMixtureModel.rvs(true_ratio, true_b, true_s, size = N, df = true_df)\n",
    "    \n",
    "    gmm_diag_obj = GaussianMixtureModelVB(K = K[0],\n",
    "                                     pri_alpha = pri_params[\"pri_alpha\"], pri_beta = pri_params[\"pri_beta\"], pri_gamma = pri_params[\"pri_gamma\"], pri_delta = pri_params[\"pri_delta\"], \n",
    "                                     iteration = 1000, method = \"diag\", \n",
    "                                     restart_num=learning_num, learning_seed=data_seed + learning_seed_offset)\n",
    "    gmm_diag_obj.fit(train_X)\n",
    "    \n",
    "    hsmm_obj = HyperbolicSecantMixtureVB(K = K[0],                                     \n",
    "                                         pri_alpha = pri_params[\"pri_alpha\"], pri_beta = pri_params[\"pri_beta\"], pri_gamma = pri_params[\"pri_gamma\"], pri_delta = pri_params[\"pri_delta\"], \n",
    "                                         iteration = 1000, restart_num=learning_num, learning_seed=data_seed + learning_seed_offset)\n",
    "    hsmm_obj.fit(train_X)\n",
    "    \n",
    "#     true_latent_kl, _ = HyperbolicSecantMixtureModel().score_latent_kl(train_X, true_ratio, true_b, true_s)\n",
    "#     cklerror_gmm[i] = (-true_latent_kl + gmm_diag_obj.score_latent_kl())/len(train_X)\n",
    "#     cklerror_hsmm[i] = (-true_latent_kl + hsmm_obj.score_latent_kl())/len(train_X)\n",
    "    \n",
    "    c01error_gmm[i] = gmm_diag_obj.score_clustering(train_label_arg)[0]/len(train_X)\n",
    "    c01error_hsmm[i] = hsmm_obj.score_clustering(train_label_arg)[0]/len(train_X)\n",
    "    \n",
    "    true_empirical_entropy = -StudentMixtureModel.logpdf(test_X, true_ratio, true_b, true_s, df = true_df)\n",
    "    gerror_gmm[i] = (-true_empirical_entropy - gmm_diag_obj.predict_logproba(test_X))/len(test_X)\n",
    "    gerror_hsmm[i] = (-true_empirical_entropy - hsmm_obj.predict_logproba(test_X))/len(test_X)\n",
    "    "
   ]
  },
  {
   "cell_type": "code",
   "execution_count": 15,
   "metadata": {},
   "outputs": [
    {
     "name": "stdout",
     "output_type": "stream",
     "text": [
      "\n",
      "gerror_gmm: 1.3069640425323783,\n",
      "gerror_hsmm: 0.24942439364582664,\n",
      "cklerror_gmm: 128.57478884472354,\n",
      "cklerror_hsmm: 12.270455757958707,\n",
      "c01error_gmm: 0.5565,\n",
      "c01error_hsmm: 0.6847999999999999\n",
      "\n"
     ]
    }
   ],
   "source": [
    "print(f\"\"\"\n",
    "gerror_gmm: {gerror_gmm.mean()},\n",
    "gerror_hsmm: {gerror_hsmm.mean()},\n",
    "cklerror_gmm: {cklerror_gmm.mean()},\n",
    "cklerror_hsmm: {cklerror_hsmm.mean()},\n",
    "c01error_gmm: {c01error_gmm.mean()},\n",
    "c01error_hsmm: {c01error_hsmm.mean()}\n",
    "\"\"\")"
   ]
  },
  {
   "cell_type": "markdown",
   "metadata": {},
   "source": [
    "# コンポーネントの分布がラプラス分布の場合"
   ]
  },
  {
   "cell_type": "code",
   "execution_count": 10,
   "metadata": {},
   "outputs": [],
   "source": [
    "gerror_gmm = np.zeros(len(data_seeds))\n",
    "# cklerror_gmm = np.zeros(len(data_seeds))\n",
    "c01error_gmm = np.zeros(len(data_seeds))\n",
    "# norm_energy_gmm = np.zeros(len(data_seeds))\n",
    "\n",
    "gerror_hsmm = np.zeros(len(data_seeds))\n",
    "# cklerror_hsmm = np.zeros(len(data_seeds))\n",
    "c01error_hsmm = np.zeros(len(data_seeds))\n",
    "# norm_energy_hsmm = np.zeros(len(data_seeds))\n",
    "\n",
    "for i, data_seed in enumerate(data_seeds):\n",
    "    ### データを生成する\n",
    "    (train_X, train_label, train_label_arg) = LaplaceMixtureModel.rvs(true_ratio, true_b, true_s, size = n, data_seed = data_seed)\n",
    "    (test_X, test_label, test_label_arg) = LaplaceMixtureModel.rvs(true_ratio, true_b, true_s, size = N)\n",
    "    \n",
    "    gmm_diag_obj = GaussianMixtureModelVB(K = K[0],\n",
    "                                     pri_alpha = pri_params[\"pri_alpha\"], pri_beta = pri_params[\"pri_beta\"], pri_gamma = pri_params[\"pri_gamma\"], pri_delta = pri_params[\"pri_delta\"], \n",
    "                                     iteration = 1000, method = \"diag\", \n",
    "                                     restart_num=learning_num, learning_seed=data_seed + learning_seed_offset)\n",
    "    gmm_diag_obj.fit(train_X)\n",
    "    \n",
    "    hsmm_obj = HyperbolicSecantMixtureVB(K = K[0],                                     \n",
    "                                         pri_alpha = pri_params[\"pri_alpha\"], pri_beta = pri_params[\"pri_beta\"], pri_gamma = pri_params[\"pri_gamma\"], pri_delta = pri_params[\"pri_delta\"], \n",
    "                                         iteration = 1000, restart_num=learning_num, learning_seed=data_seed + learning_seed_offset)\n",
    "    hsmm_obj.fit(train_X)\n",
    "    \n",
    "#     true_latent_kl, _ = HyperbolicSecantMixtureModel().score_latent_kl(train_X, true_ratio, true_b, true_s)\n",
    "#     cklerror_gmm[i] = (-true_latent_kl + gmm_diag_obj.score_latent_kl())/len(train_X)\n",
    "#     cklerror_hsmm[i] = (-true_latent_kl + hsmm_obj.score_latent_kl())/len(train_X)\n",
    "    \n",
    "    c01error_gmm[i] = gmm_diag_obj.score_clustering(train_label_arg)[0]/len(train_X)\n",
    "    c01error_hsmm[i] = hsmm_obj.score_clustering(train_label_arg)[0]/len(train_X)\n",
    "    \n",
    "    true_empirical_entropy = -LaplaceMixtureModel.logpdf(test_X, true_ratio, true_b, true_s)\n",
    "    gerror_gmm[i] = (-true_empirical_entropy - gmm_diag_obj.predict_logproba(test_X))/len(test_X)\n",
    "    gerror_hsmm[i] = (-true_empirical_entropy - hsmm_obj.predict_logproba(test_X))/len(test_X)\n",
    "    "
   ]
  },
  {
   "cell_type": "code",
   "execution_count": 11,
   "metadata": {},
   "outputs": [
    {
     "name": "stdout",
     "output_type": "stream",
     "text": [
      "\n",
      "gerror_gmm: 0.10545562558925098,\n",
      "gerror_hsmm: 0.032665883823643015,\n",
      "cklerror_gmm: 0.0,\n",
      "cklerror_hsmm: 0.0,\n",
      "c01error_gmm: 0.7943000000000001,\n",
      "c01error_hsmm: 0.8590000000000001\n",
      "\n"
     ]
    }
   ],
   "source": [
    "print(f\"\"\"\n",
    "gerror_gmm: {gerror_gmm.mean()},\n",
    "gerror_hsmm: {gerror_hsmm.mean()},\n",
    "cklerror_gmm: {cklerror_gmm.mean()},\n",
    "cklerror_hsmm: {cklerror_hsmm.mean()},\n",
    "c01error_gmm: {c01error_gmm.mean()},\n",
    "c01error_hsmm: {c01error_hsmm.mean()}\n",
    "\"\"\")"
   ]
  }
 ],
 "metadata": {
  "jupytext": {
   "encoding": "# -*- coding: utf-8 -*-",
   "formats": "ipynb,py"
  },
  "kernelspec": {
   "display_name": "Python 3",
   "language": "python",
   "name": "python3"
  },
  "language_info": {
   "codemirror_mode": {
    "name": "ipython",
    "version": 3
   },
   "file_extension": ".py",
   "mimetype": "text/x-python",
   "name": "python",
   "nbconvert_exporter": "python",
   "pygments_lexer": "ipython3",
   "version": "3.6.3"
  },
  "toc-autonumbering": true
 },
 "nbformat": 4,
 "nbformat_minor": 4
}
