{
 "cells": [
  {
   "cell_type": "code",
   "execution_count": 1,
   "metadata": {},
   "outputs": [],
   "source": [
    "%load_ext autoreload\n",
    "%autoreload 2\n",
    "%matplotlib inline"
   ]
  },
  {
   "cell_type": "markdown",
   "metadata": {},
   "source": [
    "# HSMMの性能比較の数値実験"
   ]
  },
  {
   "cell_type": "code",
   "execution_count": 2,
   "metadata": {},
   "outputs": [],
   "source": [
    "from IPython.core.display import display, Markdown, Latex\n",
    "import math\n",
    "import numpy as np\n",
    "from scipy.special import gammaln, psi\n",
    "import matplotlib.pyplot as plt\n",
    "import seaborn as sns\n",
    "from scipy.stats import norm, t, cauchy, laplace, gumbel_r, gamma, skewnorm, pareto, multivariate_normal\n",
    "from typing import Callable"
   ]
  },
  {
   "cell_type": "code",
   "execution_count": 3,
   "metadata": {},
   "outputs": [],
   "source": [
    "from sklearn.mixture import BayesianGaussianMixture"
   ]
  },
  {
   "cell_type": "code",
   "execution_count": 4,
   "metadata": {},
   "outputs": [],
   "source": [
    "import sys\n",
    "sys.path.append(\"../lib\")\n",
    "from learning.MixtureModel import HyperbolicSecantMixtureVB\n",
    "from learning.MixtureModel import GaussianMixtureModelVB\n",
    "from util.elementary_function import GaussianMixtureModel"
   ]
  },
  {
   "cell_type": "markdown",
   "metadata": {},
   "source": [
    "# 問題設定"
   ]
  },
  {
   "cell_type": "markdown",
   "metadata": {},
   "source": [
    "## 真の分布の設定\n",
    "+ データ生成分布は変更しますが、混合比, 中心, scaleは同じものを流用"
   ]
  },
  {
   "cell_type": "code",
   "execution_count": 5,
   "metadata": {},
   "outputs": [],
   "source": [
    "true_ratio = np.array([0.33, 0.33, 0.34])\n",
    "true_delta = 0\n",
    "true_s = np.array([[1.5, 1.5], [0.5, 0.5], [1, 1]])\n",
    "true_b = np.array([[2, 4], [-4, -2], [0, 0]])\n",
    "true_param = dict()\n",
    "true_param[\"ratio\"] = true_ratio\n",
    "true_param[\"mean\"] = true_b\n",
    "true_param[\"precision\"] = true_s\n",
    "true_param[\"scale\"] = np.array([np.diag(1/np.sqrt(true_s[k,:])) for k in range(len(true_ratio))])\n",
    "K0 = len(true_ratio)\n",
    "M = true_b.shape[1]"
   ]
  },
  {
   "cell_type": "markdown",
   "metadata": {},
   "source": [
    "## Learning setting:"
   ]
  },
  {
   "cell_type": "code",
   "execution_count": 11,
   "metadata": {},
   "outputs": [],
   "source": [
    "### 学習データの数\n",
    "n = 400\n",
    "\n",
    "### テストデータの数\n",
    "N = 10000\n",
    "\n",
    "### データの出方の個数\n",
    "ndataset = 10\n",
    "\n",
    "### 事前分布のハイパーパラメータ\n",
    "pri_params = {\n",
    "    \"pri_alpha\": 0.1,\n",
    "    \"pri_beta\": 0.001,\n",
    "    \"pri_gamma\": M+2,\n",
    "    \"pri_delta\": 1\n",
    "}\n",
    "\n",
    "### データ生成の回数\n",
    "data_seed_start = 201907\n",
    "data_seeds = np.arange(start = data_seed_start, stop = data_seed_start + ndataset, step = 1)\n",
    "\n",
    "### 学習モデルの初期値の乱数 -> データseedにoffsetを加えたものを使う\n",
    "learning_num = 10\n",
    "learning_seed_offset = 100\n",
    "\n",
    "### 繰り返しアルゴリズムの繰り返し回数\n",
    "learning_iteration = 1000\n",
    "\n",
    "### 学習モデルのコンポーネントの数\n",
    "K = np.array([3, 5])"
   ]
  },
  {
   "cell_type": "markdown",
   "metadata": {},
   "source": [
    "# 性能評価\n",
    "+ 1連の流れ\n",
    "    1. データ生成する\n",
    "    1. 学習を行う\n",
    "    1. 精度評価を行う\n",
    "    1. 1に戻って再度計算"
   ]
  },
  {
   "cell_type": "markdown",
   "metadata": {},
   "source": [
    "# コンポーネントの分布が正規分布の場合"
   ]
  },
  {
   "cell_type": "code",
   "execution_count": 23,
   "metadata": {},
   "outputs": [
    {
     "data": {
      "text/plain": [
       "0.02514180408429529"
      ]
     },
     "execution_count": 23,
     "metadata": {},
     "output_type": "execute_result"
    }
   ],
   "source": [
    "gerror_gmm.mean()"
   ]
  },
  {
   "cell_type": "code",
   "execution_count": 24,
   "metadata": {},
   "outputs": [
    {
     "data": {
      "text/plain": [
       "0.048536554645436256"
      ]
     },
     "execution_count": 24,
     "metadata": {},
     "output_type": "execute_result"
    }
   ],
   "source": [
    "gerror_hsmm.mean()"
   ]
  },
  {
   "cell_type": "code",
   "execution_count": null,
   "metadata": {},
   "outputs": [],
   "source": []
  },
  {
   "cell_type": "code",
   "execution_count": 21,
   "metadata": {
    "lines_to_next_cell": 2
   },
   "outputs": [
    {
     "name": "stdout",
     "output_type": "stream",
     "text": [
      "903.981429516437\n",
      "903.9814258786723\n",
      "903.9814281376198\n",
      "903.9814324362619\n",
      "903.9814243648941\n",
      "903.9814265684445\n",
      "903.981422071159\n",
      "903.9814303637204\n",
      "903.981426580004\n",
      "903.9814260070493\n",
      "169.7996929533939\n",
      "169.79969252397478\n",
      "169.79969250324143\n",
      "169.7996927306208\n",
      "169.79969236717153\n",
      "169.7996935318912\n",
      "169.7996929630192\n",
      "169.79969117290904\n",
      "169.79969236072054\n",
      "169.79969239595675\n",
      "871.5297778595997\n",
      "871.5297781848127\n",
      "871.5297787794649\n",
      "871.5297779481608\n",
      "871.5297776856546\n",
      "871.5297781645987\n",
      "871.5297785038308\n",
      "871.5297810126108\n",
      "871.5297779189192\n",
      "871.5297774274628\n",
      "150.0610669224758\n",
      "150.06107488010997\n",
      "150.06107353465228\n",
      "150.06106869304995\n",
      "150.0610671365531\n",
      "150.0610676509932\n",
      "150.06106963472075\n",
      "150.06107059868026\n",
      "150.06106901829196\n",
      "150.06106948484455\n",
      "885.1972054939513\n",
      "885.1972088685828\n",
      "885.1972075614395\n",
      "885.1972056657614\n",
      "885.1972055321526\n",
      "885.1972058812671\n",
      "885.197206047738\n",
      "885.1972048932628\n",
      "885.1972063375912\n",
      "885.1972055320941\n",
      "158.196597203985\n",
      "158.19659709210805\n",
      "158.19659728089903\n",
      "158.19659726244652\n",
      "158.196597563125\n",
      "158.1965870826075\n",
      "158.1965972982254\n",
      "158.1965972954228\n",
      "158.19659718207367\n",
      "158.19659712477107\n",
      "916.8472851227558\n",
      "916.8472824209014\n",
      "916.8472843735252\n",
      "916.8472758815274\n",
      "916.847282746882\n",
      "916.8472832486652\n",
      "916.8472865356728\n",
      "916.8472850017638\n",
      "916.847279164993\n",
      "916.8472835054514\n",
      "179.89039774652497\n",
      "179.89039138374278\n",
      "179.89039143999014\n",
      "179.89039107560433\n",
      "179.89038851676412\n",
      "179.8903905432245\n",
      "179.89040035105188\n",
      "179.89039208245646\n",
      "179.89039087533138\n",
      "179.8904048743169\n",
      "918.2019558378768\n",
      "918.201955849365\n",
      "918.2019559809852\n",
      "918.2019559446127\n",
      "918.201955925598\n",
      "918.2019561785046\n",
      "918.2019568229166\n",
      "918.201955597681\n",
      "918.2019559237724\n",
      "918.2019562184179\n",
      "177.67517449838624\n",
      "177.67517491710367\n",
      "177.67517563608476\n",
      "177.67517425324053\n",
      "177.6751759002916\n",
      "177.6751732007063\n",
      "177.67517448086835\n",
      "177.67517446178124\n",
      "177.67517518856675\n",
      "177.67517586053668\n",
      "896.1131509604689\n",
      "896.113148942678\n",
      "896.1131452444183\n",
      "896.1131493939283\n",
      "896.1131489310885\n",
      "896.113145244178\n",
      "896.1131452458923\n",
      "896.1131505659955\n",
      "896.1131498149058\n",
      "896.1131452441304\n",
      "167.12393070045283\n",
      "167.12393068703227\n",
      "167.12392986878035\n",
      "167.1239329075339\n",
      "167.12393057174307\n",
      "167.1239309899915\n",
      "167.1239336742268\n",
      "167.1239369176118\n",
      "167.12393046471396\n",
      "167.1239310285015\n",
      "953.7473649423815\n",
      "953.747367036423\n",
      "953.7473724016706\n",
      "953.7473680436126\n",
      "953.7473757456886\n",
      "953.7473640870958\n",
      "953.7473676863809\n",
      "953.747364577444\n",
      "953.7473673761698\n",
      "953.7473658490317\n",
      "215.1278064672855\n",
      "215.12781244026405\n",
      "215.12780723471656\n",
      "215.12780761259847\n",
      "215.1278054551628\n",
      "215.12780907729575\n",
      "215.12780631874693\n",
      "215.1278063281967\n",
      "215.1278070174979\n",
      "215.12780799376947\n",
      "904.2112455122472\n",
      "904.2112466884437\n",
      "904.2112438872372\n",
      "904.2112460880703\n",
      "904.2112455380056\n",
      "904.2112519643545\n",
      "904.2112460533497\n",
      "904.2112473580762\n",
      "904.2112443048479\n",
      "904.2112470624768\n",
      "170.33556921172897\n",
      "170.33557186839874\n",
      "170.3355718604314\n",
      "170.3355717811525\n",
      "170.33557199007572\n",
      "170.3355718539746\n",
      "170.33557194430716\n",
      "170.3355719517541\n",
      "170.33557206113943\n",
      "170.3355710628308\n",
      "951.0981875102966\n",
      "951.0981806293418\n",
      "951.0981910488858\n",
      "951.0981905913048\n",
      "951.0981847621148\n",
      "951.0981834760306\n",
      "951.0981833127272\n",
      "951.0981864943909\n",
      "951.0981905792211\n",
      "951.0981869952778\n",
      "210.50435634778387\n",
      "210.50434887596316\n",
      "210.5043488962957\n",
      "210.50434956769078\n",
      "210.50434875861055\n",
      "210.5043584664814\n",
      "210.50434892830856\n",
      "210.50435808131488\n",
      "210.5043574271823\n",
      "210.5043490333602\n",
      "883.6546325281367\n",
      "883.6546339537044\n",
      "883.6546326035435\n",
      "883.6546324979156\n",
      "883.654632391201\n",
      "883.654632591428\n",
      "883.6546326314547\n",
      "883.6546325174166\n",
      "883.6546326425423\n",
      "883.6546326441523\n",
      "146.51638172812596\n",
      "146.51638333843152\n",
      "146.51637342201525\n",
      "146.51638015007086\n",
      "146.51637374329414\n",
      "146.51638256077115\n",
      "146.5163734137904\n",
      "146.51637343744625\n",
      "146.51637342583115\n",
      "146.51637348759914\n"
     ]
    }
   ],
   "source": [
    "gerror_gmm = np.zeros(len(data_seeds))\n",
    "gerror_hsmm = np.zeros(len(data_seeds))\n",
    "for i, data_seed in enumerate(data_seeds):\n",
    "    ### データを生成する\n",
    "    (train_X, train_label, train_label_arg) = GaussianMixtureModel().rvs(true_ratio, true_b, true_s, size = n, data_seed = data_seed)\n",
    "    (test_X, test_label, test_label_arg) = GaussianMixtureModel().rvs(true_ratio, true_b, true_s, size = N)\n",
    "    \n",
    "    gmm_obj = GaussianMixtureModelVB(K = K[0],\n",
    "                                     pri_alpha = pri_params[\"pri_alpha\"], pri_beta = pri_params[\"pri_beta\"], pri_gamma = pri_params[\"pri_gamma\"], pri_delta = pri_params[\"pri_delta\"], \n",
    "                                     iteration = 1000, restart_num=learning_num, learning_seed=data_seed + learning_seed_offset)\n",
    "    gmm_obj.fit(train_X)\n",
    "    \n",
    "    hsmm_obj = HyperbolicSecantMixtureVB(K = K[0],                                     \n",
    "                                         pri_alpha = pri_params[\"pri_alpha\"], pri_beta = pri_params[\"pri_beta\"], pri_gamma = pri_params[\"pri_gamma\"], pri_delta = pri_params[\"pri_delta\"], \n",
    "                                         iteration = 1000, restart_num=learning_num, learning_seed=data_seed + learning_seed_offset)\n",
    "    hsmm_obj.fit(train_X)\n",
    "    \n",
    "    true_empirical_entropy = GaussianMixtureModel().logpdf(test_X, true_ratio, true_b, true_s)\n",
    "    gerror_gmm[i] = (true_empirical_entropy - gmm_obj.predict_logproba(test_X))/len(test_X)\n",
    "    gerror_hsmm[i] = (true_empirical_entropy - hsmm_obj.predict_logproba(test_X))/len(test_X)"
   ]
  },
  {
   "cell_type": "code",
   "execution_count": 8,
   "metadata": {},
   "outputs": [
    {
     "name": "stdout",
     "output_type": "stream",
     "text": [
      "891.0764684639321\n",
      "891.0764602682958\n",
      "891.0764866216606\n",
      "891.0764826361553\n",
      "891.0764892949285\n"
     ]
    }
   ],
   "source": [
    "\n",
    "\n",
    "gmm_obj.fit(train_X)"
   ]
  },
  {
   "cell_type": "code",
   "execution_count": 60,
   "metadata": {},
   "outputs": [
    {
     "data": {
      "text/plain": [
       "0.02437652610062796"
      ]
     },
     "execution_count": 60,
     "metadata": {},
     "output_type": "execute_result"
    }
   ],
   "source": [
    "(GaussianMixtureModel().logpdf(test_X, true_ratio, true_b, true_s) - gmm_obj.predict_logproba(test_X))/N"
   ]
  },
  {
   "cell_type": "code",
   "execution_count": 65,
   "metadata": {},
   "outputs": [
    {
     "name": "stdout",
     "output_type": "stream",
     "text": [
      "215.33659546075836\n",
      "215.33659711340323\n",
      "215.33659884373162\n",
      "215.33659457223905\n",
      "215.33659817248923\n"
     ]
    },
    {
     "data": {
      "text/plain": [
       "HyperbolicSecantMixtureVB(K=3, iteration=1000, learning_seed=-1, pri_alpha=0.1,\n",
       "                          pri_beta=0.001, pri_delta=2, pri_gamma=2,\n",
       "                          restart_num=5, step=2, tol=1e-05)"
      ]
     },
     "execution_count": 65,
     "metadata": {},
     "output_type": "execute_result"
    }
   ],
   "source": [
    "hsmm_obj = HyperbolicSecantMixtureVB(iteration = 1000, step=2)\n",
    "\n",
    "hsmm_obj.fit(train_X)"
   ]
  },
  {
   "cell_type": "code",
   "execution_count": 67,
   "metadata": {},
   "outputs": [
    {
     "data": {
      "text/plain": [
       "{'ratio': array([0.33642493, 0.35290046, 0.31067461]),\n",
       " 'mean': array([[ 0.06221552, -0.13512344],\n",
       "        [ 1.91053983,  4.14906158],\n",
       "        [-4.05100871, -2.09342019]]),\n",
       " 'precision': array([[6.52674772, 6.00226438],\n",
       "        [8.82705598, 9.60987196],\n",
       "        [3.42154027, 3.53654596]]),\n",
       " 'scale': array([[[0.15321567, 0.        ],\n",
       "         [0.        , 0.16660379]],\n",
       " \n",
       "        [[0.11328805, 0.        ],\n",
       "         [0.        , 0.10405966]],\n",
       " \n",
       "        [[0.29226603, 0.        ],\n",
       "         [0.        , 0.28276177]]]),\n",
       " 'alpha': array([134.67089895, 141.26605459, 124.36304647]),\n",
       " 'beta': array([[25.99235773, 25.82612603],\n",
       "        [27.57578457, 27.77076546],\n",
       "        [23.27811503, 23.12094903]]),\n",
       " 'mu': array([[ 0.06221552, -0.13512344],\n",
       "        [ 1.91053983,  4.14906158],\n",
       "        [-4.05100871, -2.09342019]]),\n",
       " 'gamma': array([[69.28544947, 69.28544947],\n",
       "        [72.58302729, 72.58302729],\n",
       "        [64.13152323, 64.13152323]]),\n",
       " 'delta': array([[10.61561629, 11.54321855],\n",
       "        [ 8.22278996,  7.55296507],\n",
       "        [18.74346584, 18.13394313]]),\n",
       " 'h_xi': array([[ -2.00537435,  -3.50817478,  -6.20591806],\n",
       "        [ -3.61325105,  -0.65691864,  -8.21522659],\n",
       "        [  0.59559762,  -7.69315295,  -3.72223542],\n",
       "        ...,\n",
       "        [ -0.64599734,  -5.11680017,  -5.54065905],\n",
       "        [ -7.46557838, -18.36988977,  -0.51923535],\n",
       "        [ -0.11701654,  -7.40408886,  -3.83827818]]),\n",
       " 'u_xi': array([[8.08084988e-01, 1.79803898e-01, 1.21111138e-02],\n",
       "        [4.94135688e-02, 9.50090714e-01, 4.95716800e-04],\n",
       "        [9.86601884e-01, 2.47960958e-04, 1.31501552e-02],\n",
       "        ...,\n",
       "        [9.81426917e-01, 1.12256880e-02, 7.34739508e-03],\n",
       "        [9.61222421e-04, 1.76661383e-08, 9.99038760e-01],\n",
       "        [9.75716617e-01, 6.67710807e-04, 2.36156720e-02]]),\n",
       " 'g_eta': array([[[1.71971466e+00, 4.17516704e+01],\n",
       "         [4.90271027e+01, 2.61351136e+01],\n",
       "         [4.45263666e+01, 7.46975237e+01]],\n",
       " \n",
       "        [[2.80136280e-01, 1.00267320e+02],\n",
       "         [2.42401310e+01, 4.12030038e-01],\n",
       "         [6.34735197e+01, 1.29261788e+02]],\n",
       " \n",
       "        [[2.65627164e-01, 8.82680490e-01],\n",
       "         [3.65868330e+01, 2.08645002e+02],\n",
       "         [5.27987088e+01, 8.90903503e+00]],\n",
       " \n",
       "        ...,\n",
       " \n",
       "        [[1.65014377e+01, 2.09178766e-01],\n",
       "         [6.33536362e-01, 1.90566925e+02],\n",
       "         [1.11264422e+02, 1.13718711e+01]],\n",
       " \n",
       "        [[1.32199641e+02, 5.89036016e+01],\n",
       "         [3.55766960e+02, 5.28524445e+02],\n",
       "         [5.54559233e-01, 4.91206009e+00]],\n",
       " \n",
       "        [[6.16905011e+00, 1.92136158e+00],\n",
       "         [7.01081108e+01, 1.33317124e+02],\n",
       "         [3.38650370e+01, 2.24722603e+01]]]),\n",
       " 'v_eta': array([[[-8.86552918e-02, -3.11675666e-02],\n",
       "         [-6.40812310e-03, -8.68752638e-03],\n",
       "         [-4.52608381e-04, -3.50205957e-04]],\n",
       " \n",
       "        [[-6.03643013e-03, -1.23358065e-03],\n",
       "         [-4.75465745e-02, -1.14844861e-01],\n",
       "         [-1.55446980e-05, -1.09002039e-05]],\n",
       " \n",
       "        [[-1.20665954e-01, -1.14988885e-01],\n",
       "         [-1.02002316e-05, -4.29159425e-06],\n",
       "         [-4.51811615e-04, -9.95442872e-04]],\n",
       " \n",
       "        ...,\n",
       " \n",
       "        [[-5.83560806e-02, -1.20583680e-01],\n",
       "         [-1.33353950e-03, -2.03295762e-04],\n",
       "         [-1.74132225e-04, -5.08567057e-04]],\n",
       " \n",
       "        [[-2.08993986e-05, -3.12812061e-05],\n",
       "         [-2.34153101e-10, -1.92110095e-10],\n",
       "         [-1.19411778e-01, -9.05373946e-02]],\n",
       " \n",
       "        [[-8.30844860e-02, -1.05577808e-01],\n",
       "         [-1.99271049e-05, -1.44569814e-05],\n",
       "         [-1.00853421e-03, -1.22387072e-03]]]),\n",
       " 'energy': array([753.405492  , 599.91126786, 582.96357997, 578.85180666,\n",
       "        571.74427242, 550.26951088, 478.03240946, 374.31759258,\n",
       "        315.27931331, 305.17391737, 272.20092124, 241.30329347,\n",
       "        226.89791199, 220.50717862, 217.61622065, 216.32214193,\n",
       "        215.75740411, 215.51596475, 215.41375251, 215.37044174,\n",
       "        215.35188872, 215.34377586, 215.34011945, 215.33840589,\n",
       "        215.33756541, 215.33713286, 215.33689979, 215.33676908,\n",
       "        215.33669337, 215.33664846, 215.33662134, 215.33660477,\n",
       "        215.33659457])}"
      ]
     },
     "execution_count": 67,
     "metadata": {},
     "output_type": "execute_result"
    }
   ],
   "source": [
    "hsmm_obj._result"
   ]
  },
  {
   "cell_type": "code",
   "execution_count": 66,
   "metadata": {},
   "outputs": [
    {
     "data": {
      "text/plain": [
       "0.06657115960186492"
      ]
     },
     "execution_count": 66,
     "metadata": {},
     "output_type": "execute_result"
    }
   ],
   "source": [
    "(GaussianMixtureModel().logpdf(test_X, true_ratio, true_b, true_s) - hsmm_obj.predict_logproba(test_X))/N"
   ]
  },
  {
   "cell_type": "code",
   "execution_count": 6,
   "metadata": {},
   "outputs": [
    {
     "name": "stdout",
     "output_type": "stream",
     "text": [
      "aa\n"
     ]
    }
   ],
   "source": [
    "a = 0\n",
    "if a == 0: print(\"aa\")"
   ]
  },
  {
   "cell_type": "code",
   "execution_count": 13,
   "metadata": {},
   "outputs": [],
   "source": [
    "true_train_label = np.random.multinomial(n = 1, pvals = true_ratio, size = n)\n",
    "true_train_label_arg = np.argmax(true_train_label, axis = 1)\n",
    "# true_test_label = np.random.multinomial(n = 1, pvals = true_ratio, size = test_data_num)\n",
    "# true_test_label_arg = np.argmax(true_test_label, axis = 1)"
   ]
  },
  {
   "cell_type": "code",
   "execution_count": null,
   "metadata": {},
   "outputs": [],
   "source": []
  },
  {
   "cell_type": "code",
   "execution_count": 56,
   "metadata": {
    "lines_to_next_cell": 0
   },
   "outputs": [],
   "source": [
    "np.random.seed(data_seed)\n",
    "train_x = np.zeros((n, M))\n",
    "for i in range(n):\n",
    "    for j in range(M):\n",
    "        train_x[i, j] = t.rvs(df = 3, loc=true_b[true_train_label_arg[i],j], scale=1/true_s[true_train_label_arg[i],j], size=1)\n",
    "\n",
    "noise_data_num = math.ceil(n*true_delta)\n",
    "if noise_data_num > 0:\n",
    "    train_x[-noise_data_num:,:] = np.random.uniform(low=-30, high=30, size = noise_data_num*M).reshape(noise_data_num,M)\n",
    "    \n",
    "np.random.seed(test_seed)\n",
    "test_x = np.zeros((test_data_num, M))\n",
    "for i in range(test_data_num):\n",
    "    for j in range(M):\n",
    "        test_x[i, j] = t.rvs(df = 1.5, loc=true_b[true_test_label_arg[i],j], scale=1/true_s[true_test_label_arg[i],j], size=1)\n",
    "\n",
    "noise_data_num = math.ceil(test_data_num*true_delta)\n",
    "if noise_data_num > 0:\n",
    "    test_x[-noise_data_num:,:] = np.random.uniform(low=-30, high=30, size = noise_data_num*M).reshape(noise_data_num,M)"
   ]
  },
  {
   "cell_type": "code",
   "execution_count": null,
   "metadata": {},
   "outputs": [],
   "source": []
  },
  {
   "cell_type": "code",
   "execution_count": null,
   "metadata": {},
   "outputs": [],
   "source": []
  },
  {
   "cell_type": "code",
   "execution_count": null,
   "metadata": {},
   "outputs": [],
   "source": []
  },
  {
   "cell_type": "code",
   "execution_count": null,
   "metadata": {},
   "outputs": [],
   "source": []
  },
  {
   "cell_type": "code",
   "execution_count": null,
   "metadata": {},
   "outputs": [],
   "source": []
  },
  {
   "cell_type": "code",
   "execution_count": null,
   "metadata": {
    "lines_to_next_cell": 2
   },
   "outputs": [],
   "source": []
  },
  {
   "cell_type": "markdown",
   "metadata": {},
   "source": [
    "# HSMMの数値実験\n",
    "1. 比較対象:\n",
    "    + HSMM, GMM(diag), GMM(cov)\n",
    "2. 評価方法:\n",
    "    + データの出方を変えて、平均汎化誤差, クラスタ一致の平均0-1損失, クラスタの平均KL,\n",
    "        + クラスタKL $KL(q(y^n|x^n) || p(y^n|x^n)) = \\sum_{(y^n)^{(l)} \\in Cluster} \\log \\frac{q((y^n)^{(l)},|(x^n)^{(l)})}{p((y^n)^{(l)},|(x^n)^{(l)})},$\n",
    "        + 学習に用いる乱数の種はそれぞれの推定で共有 -> 推定の初期値は同じで計算する\n",
    "        + 真の分布の変更に対して同じラベルを用いて推定と評価を行う\n",
    "        + 真の分布について\n",
    "            + データの事件は2, コンポーネントの数は3, 混合比は等分割, 平均は(4,4), (-4,-4), (0,0), scaleは(1.5, 1.5), (0.5, 0.5), (1,1)\n",
    "        + **その他の実験設定は後程記述**\n",
    "3. 真の分布:混合分布で以下の分布の混合\n",
    "    1. 正規分布\n",
    "    2. 双曲正割分布\n",
    "    3. ラプラス分布\n",
    "    4. t-分布\n",
    "    5. 他にうまく行く分布\n",
    "4. 実験の詳細設定\n",
    "    1. 学習データの個数: 400個\n",
    "    2 データの出方を変える回数: 10回\n",
    "    3. 1回の学習の繰り返し回数: 1000回\n",
    "    4. 1回の学習の初期値を変える回数: 10回\n",
    "    5. 学習モデルのコンポーネントの数: trueと同じ場合, trueより2大きい場合\n",
    "    6. ハイパーパラメータ$ \\eta = (\\alpha, \\beta, \\nu, \\sigma)$: $\\eta = (\\alpha, \\beta, \\nu, \\sigma) = (0.1, 0.001, M+2, I_M)$\n",
    "    7. 汎化誤差の近似に用いるテストデータの数: 10000個"
   ]
  },
  {
   "cell_type": "markdown",
   "metadata": {},
   "source": [
    "### Suplementary material: Local Variational Approximation algorithm for HSMM\n",
    "+ Model:\n",
    "    + $p(x|w) = \\sum_{k=1}^K a_k \\prod_{j = 1}^M \\frac{\\sqrt{s_{kj}}}{2\\pi} \\frac{1}{\\cosh(\\frac{s_{kj}}{2}(x_j - b_{kj}))}$\n",
    "    + $x, b_k \\in \\mathbb{R}^M, s_k \\in \\mathbb{R}_+^M$\n",
    "+ Prior distribution:\n",
    "    + $\\varphi(w) = Dir(a|\\{ \\alpha_k \\}_{k=1}^K) \\prod_{k=1}^K N(b_k|0, (s_k \\beta_k)^{-1} ) Gam(s_k|\\gamma_k, \\delta_k)$\n",
    "+ Algorithm\n",
    "   1. Initializing the following values:\n",
    "       + $g_{ikj}(\\eta), v_{ikj}(\\eta), h_{ik}(\\xi), u_{ik}(\\xi)$\n",
    "   2. Update the following values\n",
    "       + $\\hat{\\alpha}_k = \\alpha_k + \\sum_{i=1}^n u_{ik}(\\xi)$\n",
    "       + $\\hat{\\beta}_{kj} = \\beta_k + \\sum_{i=1}^n -2v_{ikj}(\\eta)$\n",
    "       + $\\hat{m}_{kj} = \\frac{1}{\\hat{\\beta}_k} \\sum_{i=1}^n -2v_{ik}(\\eta)x_i$\n",
    "       + $\\hat{\\gamma}_{kj} = \\gamma_k + \\frac{1}{2}\\sum_{i=1}^n u_{ik}(\\xi)$\n",
    "       + $\\hat{\\delta}_{kj} = \\delta_k + \\sum_{i=1}^n -v_{ikj}(\\eta)x_{ij}^2 - \\frac{\\hat{\\beta}_{kj}}{2}\\hat{m}_{kj}^2$\n",
    "   3. Update the following values\n",
    "       + $g_{ikj}(\\eta) = \\frac{\\hat{\\gamma}_{kj}}{\\hat{\\delta}_{kj}} (x_{ij} - \\hat{m}_{kj})^2 + \\frac{1}{\\hat{\\beta}_{kj}}$\n",
    "       + $v_{ikj}(\\eta) = -u_{ik}(\\xi)\\frac{ \\tanh(\\sqrt{g_{ikj}(\\eta)}/2) }{4\\sqrt{g_{ikj}(\\eta)}}$\n",
    "   4. Update the following values\n",
    "       + $h_{ik}(\\xi) = \\psi(\\hat{\\alpha}_k) - \\psi(\\sum_{l=1}^K \\hat{\\alpha}_l) + \\frac{1}{2} \\sum_{j=1}^M (\\psi(\\hat{\\gamma}_{kj}) - \\log(\\hat{\\delta}_{kj})) - \\sum_{j=1}^M \\log(\\cosh(\\sqrt{g_{ikj}(\\eta)}/2)) $\n",
    "       + $u_{ik}(\\xi) = \\frac{ \\exp(h_{ik}(\\xi)) }{ \\sum_{l=1}^K \\exp(h_{il}(\\xi)) }$\n",
    "       + where,$\\psi(x) = \\frac{d}{dx}\\log \\Gamma(x)$\n",
    "   5. Return back to 2.\n",
    "   \n",
    "+ Evaluation function $\\overline{F}_{\\xi, \\eta}(x^n)$:\n",
    "    + $\\overline{F}_{\\xi, \\eta}(x^n) = - \\phi(h(\\xi)) - \\psi(g(\\eta)) + u(\\xi) \\cdot h(\\xi) + v(\\eta) \\cdot g(\\eta) $  \n",
    "        $+ nM \\log 2 \\pi + \\log \\Gamma(\\sum_{l = 1}^K \\hat{\\alpha}_l) - \\log \\Gamma({\\sum_{l = 1}^K\\alpha}_l) + \\sum_{k=1}^K \\log \\frac{\\Gamma(\\alpha_k)}{\\Gamma(\\hat{\\alpha}_k)}$  \n",
    "        $+ \\sum_{k=1}^K \\sum_{j=1}^M \\bigl\\{ \\frac{1}{2} \\log \\frac{\\hat{\\beta}_{kj}}{\\beta_{kj}} + \\hat{\\gamma}_{kj} \\log \\hat{\\delta}_{kj} - \\gamma_{kj} \\log \\delta_{kj} - \\log \\Gamma(\\hat{\\gamma}_{kj}) + \\log \\Gamma(\\gamma_{kj}) \\bigr\\}$"
   ]
  },
  {
   "cell_type": "markdown",
   "metadata": {},
   "source": [
    "## Used funtions"
   ]
  },
  {
   "cell_type": "code",
   "execution_count": 8,
   "metadata": {},
   "outputs": [],
   "source": [
    "def printmd(x):\n",
    "    display(Markdown(x))"
   ]
  },
  {
   "cell_type": "code",
   "execution_count": 9,
   "metadata": {},
   "outputs": [],
   "source": [
    "def random_hsm(n, loc = 0, scale = 1):\n",
    "    \"\"\"\n",
    "    Generate data following hyperbolic secant distribution.\n",
    "    Let $Y \\sim standard_cauchy(x)$,  \n",
    "    random variable $X = \\frac{2}{\\sqrt{s}}\\sinh^{-1}(Y) + b$ follows to  \n",
    "    $X \\sim p(x) = \\frac{\\sqrt{s}}{2\\pi}\\frac{1}{\\cosh(s(x-b)/2)}$.\n",
    "    \"\"\"\n",
    "    Y = np.random.standard_cauchy(size=n)\n",
    "    X = 2/np.sqrt(scale)*np.arcsinh(Y) + loc    \n",
    "    return X"
   ]
  },
  {
   "cell_type": "code",
   "execution_count": 10,
   "metadata": {},
   "outputs": [],
   "source": [
    "def logpdf_hypsecant(x:np.ndarray, mean:np.ndarray, precision:np.ndarray):\n",
    "    \"\"\"\n",
    "    Calculate \\log p(x|w) = \\sum_{j=1}^M \\log(\\frac{\\sqrt{s_j}}{2\\pi} 1/cosh(\\sqrt{s_j}/2(x_j - b_j)))\n",
    "    Input:\n",
    "     + x: n*M\n",
    "     + mean: M\n",
    "     + precision :M*M\n",
    "    Output:\n",
    "     + n*M\n",
    "    \"\"\"\n",
    "    (n, M) = x.shape\n",
    "    expand_precision = np.repeat(np.diag(precision), n).reshape(M,n).T\n",
    "    y = np.sqrt(expand_precision)*(x - np.repeat(mean, n).reshape(M,n).T)/2\n",
    "    return(np.log(expand_precision)/2 - np.log(2*np.pi) - logcosh(y)).sum(axis = 1)\n",
    "\n",
    "def logpdf_multivariate_normal(x:np.ndarray, mean:np.ndarray, cov:np.ndarray):\n",
    "    \"\"\"\n",
    "    Calculate \\log p(x|w) = \\sum_{j=1}^M \\log(\\frac{\\sqrt{s_j}}{2\\pi} 1/cosh(\\sqrt{s_j}/2(x_j - b_j)))\n",
    "    Input:\n",
    "     + x: n*M\n",
    "     + mean: M\n",
    "     + cov :M * M\n",
    "    Output:\n",
    "     + n*M\n",
    "    \"\"\"\n",
    "    return(multivariate_normal.logpdf(x, mean = mean, cov = cov))"
   ]
  },
  {
   "cell_type": "code",
   "execution_count": 11,
   "metadata": {},
   "outputs": [],
   "source": [
    "def logcosh(x:np.ndarray):\n",
    "    \"\"\"\n",
    "    対数双曲線関数の計算\n",
    "    + 普通にライブラリを呼ぶと、オーバーフローするのでその対策\n",
    "    \"\"\"\n",
    "    return np.abs(x) + np.log((1 + np.exp(-2 * np.abs(x)))/2)\n",
    "    \n",
    "#     ret_val = -x + np.log((1 + np.exp(2*x))/2)\n",
    "#     (row, col) = np.where(x > 0)\n",
    "#     ret_val[row, col] = x[row, col] + np.log((1 + np.exp(-2*x[row,col]))/2)\n",
    "#     return ret_val\n",
    "\n",
    "def logpdf_mixture_dist(x:np.ndarray, param:dict, component_log_dist:Callable[[np.ndarray, np.ndarray, np.ndarray], np.ndarray]):\n",
    "    \"\"\"\n",
    "    対数尤度の計算\n",
    "    確率分布が混合分布の時を想定:\n",
    "    $\\log p(x|w) = \\sum_{i = 1}^n \\log p(x_i|w) = \\sum_{i = 1}^n \\log \\exp(L_{ik}(w)) =  \\sum_{i = 1}^n \\{\\hat{L}_{i} + \\log \\exp(L_{ik}(w) - \\hat{L}(i)) \\}$,\n",
    "    where L_{ik} = \\log a_k + \\log p(x_i|w, y_{ik} = 1)\\hat{L}(i) = \\max_{k} L_{ik}, p(x_i|w, y_{ik}=1):i番目のサンプルのk番目のクラスタの確率分布    \n",
    "    \n",
    "    + 入力:\n",
    "        1. x:入力データ(n*M)\n",
    "        2. param: 確率分布のパラメータ(ratio: 混合比, mean: 各クラスタの平均値 K*M, scale: 各クラスタのscale(正規分布における標準偏差) K*M)\n",
    "        3. component_log_dist: 各クラスタの対数確率密度の値 logp(x|w,y)    \n",
    "    \"\"\"\n",
    "    n = x.shape[0]\n",
    "    K = len(param[\"ratio\"])\n",
    "    loglik = np.zeros((n,K))\n",
    "    for k in range(K):\n",
    "        if param[\"scale\"].ndim == 2:\n",
    "            loglik[:,k] = np.log(param[\"ratio\"][k]) + component_log_dist(test_x, param[\"mean\"][k,:],  param[\"scale\"][k,:])\n",
    "        elif param[\"scale\"].ndim == 3:\n",
    "            loglik[:,k] = np.log(param[\"ratio\"][k]) + component_log_dist(test_x, param[\"mean\"][k,:],  param[\"scale\"][k,:,:])\n",
    "        else:\n",
    "            raise ValueError(\"Error precision, dimension of precision must be 2 or 3!\")\n",
    "    max_loglik = loglik.max(axis = 1)\n",
    "    norm_loglik = loglik - np.repeat(max_loglik,K).reshape(n,K)\n",
    "    return (np.log(np.exp(norm_loglik).sum(axis = 1)) + max_loglik)"
   ]
  },
  {
   "cell_type": "code",
   "execution_count": 12,
   "metadata": {},
   "outputs": [],
   "source": [
    "from sklearn.mixture import BayesianGaussianMixture\n",
    "def fit_gmm_sklearn(train_X:np.ndarray, K:int,\n",
    "                    pri_alpha = 0.1, pri_beta = 0.001, pri_gamma = 2, pri_delta = 2,\n",
    "                    iteration = 1000, restart_num:int = 5, learning_seeds:list = None):\n",
    "    \"\"\"\n",
    "    Estimating GMM by sklearn library.\n",
    "    \n",
    "    + Input:\n",
    "        + train_X: input data\n",
    "        + pri_alpha: hyperparameter for prior distribution of symmetric Dirichlet distribution.\n",
    "        + pri_beta: hyperparameter for prior distribution of Normal distribution for inverse variance.\n",
    "        + pri_gamma: hyperparameter for prior distribution of Gamma distribution for shape parameter.\n",
    "        + pri_delta: hyperparameter for prior distribution of Gamma distribution for rate parameter.\n",
    "        + iteration: Number of iteration.\n",
    "        + restart_num: Number of restart of inital values.\n",
    "        + learning_seeds: Seeds for initial values.\n",
    "        \n",
    "    + Output:\n",
    "        + Dictionary of the best estimated result:\n",
    "            1. alpha: parameter for posterior distribution of Dirichlet distribution.\n",
    "            2. mu: parameter for posterior distribution of Normal distribution for mean parameter.\n",
    "            3. beta: parameter for posterior distribution of Normal distribution for inverse variance parameter.\n",
    "            4. gamma: parameter for posterior distribution of Gamma distribution for shape parameter.\n",
    "            5. delta: parameter for posterior distribution of Gamma distribution for rate parameter.\n",
    "            6. h_xi: Value of E_w[log p(x_i, z_i = k|w)], where z_i is latent variable. This parameters form posterior latent distribution.\n",
    "            7. u_xi: Value of p(z_i = k). This parameters represent posterior probability of latent variable\n",
    "            8. energy: Value of the best evaluation function.\n",
    "            9. seed: Value of the best learning seed.\n",
    "    \"\"\"\n",
    "    M = train_X.shape[1]\n",
    "    sklearn_gmm_obj = BayesianGaussianMixture(n_components=K,\n",
    "                                              covariance_type=\"full\",\n",
    "                                              max_iter=iteration,\n",
    "                                              mean_precision_prior = pri_beta,\n",
    "                                              degrees_of_freedom_prior = M*pri_gamma,\n",
    "                                              covariance_prior = pri_delta * np.eye(M),\n",
    "                                              weight_concentration_prior_type=\"dirichlet_distribution\",\n",
    "                                              weight_concentration_prior=pri_alpha,\n",
    "                                              n_init=5)\n",
    "    sklearn_gmm_obj.fit(train_X)\n",
    "        \n",
    "    result = dict()\n",
    "    result[\"ratio\"] = sklearn_gmm_obj.weights_\n",
    "    result[\"mean\"] = sklearn_gmm_obj.means_\n",
    "    result[\"precision\"] = sklearn_gmm_obj.precisions_\n",
    "    result[\"scale\"] = sklearn_gmm_obj.covariances_\n",
    "    result[\"u_xi\"] = sklearn_gmm_obj.predict_proba(train_X)\n",
    "    \n",
    "    return result"
   ]
  },
  {
   "cell_type": "code",
   "execution_count": 13,
   "metadata": {},
   "outputs": [],
   "source": [
    "def fit_lva_gmm(train_X:np.ndarray, K:int,\n",
    "                 pri_alpha = 0.1, pri_beta = 0.001, pri_gamma = 2, pri_delta = 2,\n",
    "                 iteration = 1000, restart_num:int = 5, learning_seeds:list = None):\n",
    "    \"\"\"\n",
    "    LVA for GMM.\n",
    "    This is same with Variational Bayes inference for GMM.\n",
    "    Since the algorithm fails to local minima, the best estimator are chosen in several initial values.\n",
    "    \n",
    "    + Input:\n",
    "        + train_X: input data\n",
    "        + pri_alpha: hyperparameter for prior distribution of symmetric Dirichlet distribution.\n",
    "        + pri_beta: hyperparameter for prior distribution of Normal distribution for inverse variance.\n",
    "        + pri_gamma: hyperparameter for prior distribution of Gamma distribution for shape parameter.\n",
    "        + pri_delta: hyperparameter for prior distribution of Gamma distribution for rate parameter.\n",
    "        + iteration: Number of iteration.\n",
    "        + restart_num: Number of restart of inital values.\n",
    "        + learning_seeds: Seeds for initial values.\n",
    "        \n",
    "    + Output:\n",
    "        + Dictionary of the best estimated result:\n",
    "            1. alpha: parameter for posterior distribution of Dirichlet distribution.\n",
    "            2. mu: parameter for posterior distribution of Normal distribution for mean parameter.\n",
    "            3. beta: parameter for posterior distribution of Normal distribution for inverse variance parameter.\n",
    "            4. gamma: parameter for posterior distribution of Gamma distribution for shape parameter.\n",
    "            5. delta: parameter for posterior distribution of Gamma distribution for rate parameter.\n",
    "            6. h_xi: Value of E_w[log p(x_i, z_i = k|w)], where z_i is latent variable. This parameters form posterior latent distribution.\n",
    "            7. u_xi: Value of p(z_i = k). This parameters represent posterior probability of latent variable\n",
    "            8. energy: Value of the best evaluation function.\n",
    "            9. seed: Value of the best learning seed.\n",
    "    \"\"\"\n",
    "    \n",
    "    (n, M) = train_X.shape\n",
    "    ### Setting for static variable in the algorithm.\n",
    "    expand_x = np.repeat(train_X, K).reshape(n, M, K).transpose((0, 2, 1)) ### n * K * M data with the same matrix among 2nd dimension\n",
    "\n",
    "    min_energy = np.inf\n",
    "    result = dict()\n",
    "    \n",
    "    for restart in range(restart_num):\n",
    "        ### Set learning seed if learning_seeds is specified.\n",
    "        if learning_seeds is not None and len(learning_seeds) >= restart:\n",
    "            np.random.seed(learning_seeds[restart])\n",
    "\n",
    "        energy = np.zeros(iteration)\n",
    "        ### Setting for initial value\n",
    "        est_u_xi = np.random.dirichlet(alpha = np.ones(K), size=n)\n",
    "    \n",
    "        ### Start learning.\n",
    "        for ite in range(iteration):\n",
    "            ### Update posterior distribution of parameter.\n",
    "            est_alpha = pri_alpha + est_u_xi.sum(axis = 0)\n",
    "            est_beta = np.repeat(pri_beta + est_u_xi.sum(axis = 0), M).reshape(K,M)\n",
    "            est_m = est_u_xi.T @ train_X / est_beta\n",
    "            est_gamma = np.repeat(pri_gamma + est_u_xi.sum(axis = 0)/2, M).reshape(K,M)\n",
    "            est_delta = pri_delta + est_u_xi.T @ (train_X**2) /2 - est_beta / 2 * est_m**2\n",
    "            \n",
    "            ### Update posterior distribution of latent variable\n",
    "            est_g_eta = np.repeat(est_gamma / est_delta, n).reshape(K,M,n).transpose((2,0,1)) * (expand_x - np.repeat(est_m,n).reshape(K,M,n).transpose((2,0,1)))**2 + 1/np.repeat(est_beta, n).reshape(K,M,n).transpose((2,0,1))\n",
    "            est_h_xi = -M/2*np.log(2*np.pi) + np.repeat(psi(est_alpha) - psi(est_alpha.sum()) + (psi(est_gamma) - np.log(est_delta)).sum(axis = 1)/2, n).reshape(K,n).T - est_g_eta.sum(axis = 2)/2\n",
    "            max_h_xi = est_h_xi.max(axis = 1)\n",
    "            norm_h_xi = est_h_xi - np.repeat(max_h_xi,K).reshape(n,K)\n",
    "            est_u_xi = np.exp(norm_h_xi) / np.repeat(np.exp(norm_h_xi).sum(axis = 1), K).reshape(n,K)\n",
    "\n",
    "            ### Calculate evaluation function\n",
    "            energy[ite] = - (np.log(np.exp(norm_h_xi).sum(axis = 1)) + max_h_xi).sum() + (est_u_xi * est_h_xi).sum()\n",
    "            energy[ite] += gammaln(est_alpha.sum()) - gammaln(K*pri_alpha) + (-gammaln(est_alpha) + gammaln(pri_alpha)).sum()\n",
    "            energy[ite] += (np.log(est_beta/pri_beta)/2 + est_gamma * np.log(est_delta) - pri_gamma * np.log(pri_delta) - gammaln(est_gamma) + gammaln(pri_gamma)).sum()\n",
    "        \n",
    "        print(energy[-1])        \n",
    "        if energy[-1] < min_energy:\n",
    "            min_energy = energy[-1]\n",
    "            result[\"ratio\"] = est_alpha / est_alpha.sum()\n",
    "            result[\"mean\"] = est_m\n",
    "            result[\"precision\"] = est_gamma / est_delta\n",
    "            result[\"scale\"] = np.array([np.diag(est_delta[k,:] / est_gamma[k,:]) for k in range(K)])\n",
    "            result[\"alpha\"] = est_alpha\n",
    "            result[\"mu\"] = est_m\n",
    "            result[\"beta\"] = est_beta\n",
    "            result[\"gamma\"] = est_gamma\n",
    "            result[\"delta\"] = est_delta\n",
    "            result[\"h_xi\"] = est_h_xi\n",
    "            result[\"u_xi\"] = est_u_xi\n",
    "            result[\"energy\"] = energy\n",
    "            if learning_seeds is not None and len(learning_seeds) >= restart:\n",
    "                result[\"seed\"] = learning_seeds[restart]\n",
    "    return result"
   ]
  },
  {
   "cell_type": "code",
   "execution_count": 14,
   "metadata": {},
   "outputs": [],
   "source": [
    "def fit_lva_hsmm(train_X:np.ndarray, K:int,\n",
    "                 pri_alpha = 0.1, pri_beta = 0.001, pri_gamma = 2, pri_delta = 2,\n",
    "                 iteration = 1000, restart_num:int = 5, learning_seeds:list = None):\n",
    "    \"\"\"\n",
    "    LVA for HSMM.\n",
    "    The algorithm is described in the above cell.\n",
    "    Since the algorithm fails to local minima, the best estimator are chosen in several initial values.\n",
    "    \n",
    "    + Input:\n",
    "        + train_X: input data\n",
    "        + pri_alpha: hyperparameter for prior distribution of symmetric Dirichlet distribution.\n",
    "        + pri_beta: hyperparameter for prior distribution of Normal distribution for inverse variance.\n",
    "        + pri_gamma: hyperparameter for prior distribution of Gamma distribution for shape parameter.\n",
    "        + pri_delta: hyperparameter for prior distribution of Gamma distribution for rate parameter.\n",
    "        + iteration: Number of iteration.\n",
    "        + restart_num: Number of restart of inital values.\n",
    "        + learning_seeds: Seeds for initial values.\n",
    "        \n",
    "    + Output:\n",
    "        + Dictionary of the best estimated result:\n",
    "            1. alpha: parameter for posterior distribution of Dirichlet distribution.\n",
    "            2. mu: parameter for posterior distribution of Normal distribution for mean parameter.\n",
    "            3. beta: parameter for posterior distribution of Normal distribution for inverse variance parameter.\n",
    "            4. gamma: parameter for posterior distribution of Gamma distribution for shape parameter.\n",
    "            5. delta: parameter for posterior distribution of Gamma distribution for rate parameter.\n",
    "            6. h_xi: Value of E_w[log p(x_i, z_i = k|w)], where z_i is latent variable. This parameters form posterior latent distribution.\n",
    "            7. u_xi: Value of p(z_i = k). This parameters represent posterior probability of latent variable.\n",
    "            8. g_eta: Value of auxiliary variable, which represents g(\\eta) in the algorithm.\n",
    "            9. v_eta: Value of auxiliary variable, which represents v(\\eta) in the algorithm.\n",
    "            10. energy: Value of the best evaluation function.\n",
    "            11. seed: Value of the best learning seed.\n",
    "    \"\"\"    \n",
    "    \n",
    "    (n, M) = train_X.shape\n",
    "    ### Setting for static variable in the algorithm.\n",
    "    expand_x = np.repeat(train_X, K).reshape(n, M, K).transpose((0, 2, 1)) ### n * K * M data with the same matrix among 2nd dimension\n",
    "\n",
    "    min_energy = np.inf\n",
    "    result = dict()\n",
    "    \n",
    "    for restart in range(restart_num):\n",
    "        ### Set learning seed if learning_seeds is specified.\n",
    "        if learning_seeds is not None and len(learning_seeds) >= restart:\n",
    "            np.random.seed(learning_seeds[restart])\n",
    "\n",
    "        energy = np.zeros(iteration)\n",
    "        ### Setting for initial value\n",
    "        est_u_xi = np.random.dirichlet(alpha = np.ones(K), size=n)\n",
    "\n",
    "        est_g_eta = np.abs(np.random.normal(size=(n,K,M)))\n",
    "        est_v_eta = - np.repeat(est_u_xi, M).reshape(n, K, M) * np.tanh(np.sqrt(est_g_eta)/2)/(4*np.sqrt(est_g_eta))\n",
    "\n",
    "        ### Start learning.\n",
    "        for ite in range(iteration):\n",
    "            ### Update posterior distribution of parameter\n",
    "            est_alpha = pri_alpha + est_u_xi.sum(axis = 0)\n",
    "            est_beta = pri_beta + (-2*est_v_eta.sum(axis = 0))\n",
    "            est_m = -2 * (expand_x * est_v_eta).sum(axis = 0) / est_beta\n",
    "            est_gamma = np.repeat(pri_gamma + est_u_xi.sum(axis = 0)/2, M).reshape(K,M)\n",
    "            est_delta = pri_delta - (expand_x**2 * est_v_eta).sum(axis = 0) - est_beta / 2 * est_m**2\n",
    "            \n",
    "            ### Update auxiliary variables\n",
    "            est_g_eta = np.repeat(est_gamma / est_delta, n).reshape(K,M,n).transpose((2,0,1)) * (expand_x - np.repeat(est_m,n).reshape(K,M,n).transpose((2,0,1)))**2 + 1/np.repeat(est_beta, n).reshape(K,M,n).transpose((2,0,1))\n",
    "            est_v_eta = - np.repeat(est_u_xi, M).reshape(n, K, M) * np.tanh(np.sqrt(est_g_eta)/2)/(4*np.sqrt(est_g_eta))\n",
    "\n",
    "            ### Update posterior distribution of latent variable\n",
    "            sqrt_g_eta = np.sqrt(est_g_eta)\n",
    "            est_h_xi = np.repeat(psi(est_alpha) - psi(est_alpha.sum()) + (psi(est_gamma) - np.log(est_delta)).sum(axis = 1)/2, n).reshape(K,n).T - (sqrt_g_eta/2 +  np.log( (1 + np.exp(-2*sqrt_g_eta/2 ))/2)).sum(axis = 2)\n",
    "            max_h_xi = est_h_xi.max(axis = 1)\n",
    "            norm_h_xi = est_h_xi - np.repeat(max_h_xi,K).reshape(n,K)\n",
    "            est_u_xi = np.exp(norm_h_xi) / np.repeat(np.exp(norm_h_xi).sum(axis = 1), K).reshape(n,K)\n",
    "\n",
    "            ### Calculate evaluation function\n",
    "            energy[ite] = (np.repeat(est_u_xi, M).reshape(n, K, M) * (sqrt_g_eta/2 +  np.log( (1 + np.exp(-2*sqrt_g_eta/2 ))/2)) ).sum() - (np.log(np.exp(norm_h_xi).sum(axis = 1)) + max_h_xi).sum() + (est_u_xi * est_h_xi).sum() + (est_v_eta * est_g_eta).sum()\n",
    "            energy[ite] += gammaln(est_alpha.sum()) - gammaln(K*pri_alpha) + (-gammaln(est_alpha) + gammaln(pri_alpha)).sum()\n",
    "            energy[ite] += (np.log(est_beta/pri_beta)/2 + est_gamma * np.log(est_delta) - pri_gamma * np.log(pri_delta) - gammaln(est_gamma) + gammaln(pri_gamma)).sum()\n",
    "        \n",
    "        print(energy[-1])        \n",
    "        if energy[-1] < min_energy:\n",
    "            min_energy = energy[-1]\n",
    "            result[\"ratio\"] = est_alpha / est_alpha.sum()\n",
    "            result[\"mean\"] = est_m\n",
    "            result[\"precision\"] = est_gamma / est_delta\n",
    "            result[\"scale\"] = np.array([np.diag(est_delta[k,:] / est_gamma[k,:]) for k in range(K)])\n",
    "            result[\"alpha\"] = est_alpha\n",
    "            result[\"beta\"] = est_beta\n",
    "            result[\"mu\"] = est_m\n",
    "            result[\"gamma\"] = est_gamma\n",
    "            result[\"delta\"] = est_delta\n",
    "            result[\"h_xi\"] = est_h_xi\n",
    "            result[\"u_xi\"] = est_u_xi\n",
    "            result[\"g_eta\"] = est_g_eta\n",
    "            result[\"v_eta\"] = est_v_eta            \n",
    "            result[\"energy\"] = energy\n",
    "            if learning_seeds is not None and len(learning_seeds) >= restart:\n",
    "                result[\"seed\"] = learning_seeds[restart]\n",
    "    return result"
   ]
  },
  {
   "cell_type": "code",
   "execution_count": 15,
   "metadata": {},
   "outputs": [],
   "source": [
    "import itertools\n",
    "def evaluate_correct_cluster_number(result:dict, noise_data_num:int, true_label_arg, K:int, predict_label = None) -> (float, np.ndarray, np.ndarray):\n",
    "    \"\"\"\n",
    "    0-1損失によるクラスタ分布の評価\n",
    "    1つのデータセットに対する評価で、ラベルの一致数の最大値の平均値を計算する\n",
    "    + 入力:\n",
    "        1. result: dict, u_xiをキーに持つ必要がある\n",
    "        2. noise_data_num: 外れ値データの数\n",
    "        3. true_label_arg: 真のラベル番号\n",
    "        4. predict_label: 予測されたラベル番号\n",
    "    + 出力:\n",
    "        1. max_correct_num: ラベルの最大一致数\n",
    "        2. max_perm: 最大一致数を与える置換\n",
    "        3. max_est_label_arg: 最大の一致数を与えるラベルの番号\n",
    "    \n",
    "    \"\"\"\n",
    "    \n",
    "    if predict_label is not None:\n",
    "        est_label_arg = predict_label\n",
    "    else:        \n",
    "        est_label_prob = result[\"u_xi\"]\n",
    "        target_label_arg = true_label_arg\n",
    "        est_label_arg = np.argmax(est_label_prob, axis = 1)\n",
    "\n",
    "    if noise_data_num > 0:\n",
    "        target_label_arg = true_label_arg[:-noise_data_num]\n",
    "        est_label_arg = est_label_arg[:-noise_data_num]\n",
    "    else:\n",
    "        target_label_arg = true_label_arg\n",
    "        \n",
    "    max_correct_num = 0\n",
    "    for perm in list(itertools.permutations(range(K), K)):\n",
    "        permed_est_label_arg = est_label_arg.copy()\n",
    "        for i in range(len(perm)):\n",
    "            permed_est_label_arg[est_label_arg == i] = perm[i]\n",
    "        correct_num = (permed_est_label_arg == target_label_arg).sum()\n",
    "        if correct_num > max_correct_num:\n",
    "            max_correct_num = correct_num\n",
    "            max_perm = perm\n",
    "            max_est_label_arg = permed_est_label_arg\n",
    "    return (max_correct_num, max_perm, max_est_label_arg)"
   ]
  },
  {
   "cell_type": "code",
   "execution_count": 16,
   "metadata": {},
   "outputs": [],
   "source": [
    "def evaluate_log_loss(fit_result:dict, true_param:dict, noise_data_num:int, test_x:np.ndarray,\n",
    "                      true_logpdf:Callable[[np.ndarray, dict],np.ndarray], pred_logpdf:Callable[[np.ndarray, dict], np.ndarray]):\n",
    "    \"\"\"\n",
    "    汎化誤差の計算を行う\n",
    "    HSMMについては予測分布の計算が面倒なので、とりあえず平均プラグインでそれぞれの分布の性能比較を行う。\n",
    "    + 汎化誤差G(x^n,y^n):\n",
    "        + G(x^n) = \\int q(x) \\log q(x) / p(x|x^n) dx \\arrox \\sum_{l = 1}^N \\log q(x^l) / p(x^l|x^n), x_l ~ q(x_l),\n",
    "        + where p(x|x^n) = \\int p(x|w) p(w|x^n) dw \\approx p(x|E[w])\n",
    "    + 入力\n",
    "        1. fit_result: dict, ratio, mean, scaleをキーに持つ必要がある\n",
    "        2. true_param: dict: ratio, mean, scaleをキーに持つ必要がある\n",
    "        3. noise_data_num: データに含まれる外れ値の数\n",
    "        4. test_x: x_jのデータ N*M行列\n",
    "        5. true_logpdf: 真の分布の対数尤度関数\n",
    "        6. pred_logpdf: 予測分布の対数尤度関数\n",
    "    + 出力 汎化誤差の値\n",
    "    \"\"\"\n",
    "    \n",
    "    if noise_data_num > 0:\n",
    "        return (true_logpdf(test_x, true_param) - pred_logpdf(test_x, fit_result))[:-noise_data_num].mean()\n",
    "    else:\n",
    "        return (true_logpdf(test_x, true_param) - pred_logpdf(test_x, fit_result)).mean()"
   ]
  },
  {
   "cell_type": "code",
   "execution_count": 17,
   "metadata": {},
   "outputs": [],
   "source": [
    "from sklearn.mixture import BayesianGaussianMixture\n",
    "def learning_and_labeling():\n",
    "    \"\"\"\n",
    "    テストに用いたメイン関数\n",
    "    やっていること:\n",
    "    1. データ生成分布のプロット\n",
    "    2. それぞれの分布による推定\n",
    "    3. 0-1損失をそれぞれ計算\n",
    "    4. 汎化誤差の計算\n",
    "    5. それぞれの推定によって得られたラベルを用いて色付けした結果\n",
    "    \"\"\"\n",
    "    \n",
    "    printmd(\"### 1. Data distribution:\")\n",
    "    plot_scatter_with_label(train_x, true_train_label_arg,  K0, noise_data_num)\n",
    "    \n",
    "    printmd(\"### 2. Learning by sklearn.mixture.BayesianGaussianMixture:\")\n",
    "    sklearn_gmm_result = fit_gmm_sklearn(train_x, K, pri_alpha = pri_alpha, pri_beta = pri_beta, pri_gamma = pri_gamma, pri_delta = pri_delta, learning_seeds = learning_seeds)\n",
    "    print(\"mean plug-in parameters \\n {0}\".format({\n",
    "        \"est_ratio\": sklearn_gmm_result[\"ratio\"],\n",
    "        \"est_mean\": sklearn_gmm_result[\"mean\"],\n",
    "        \"est_precision\": sklearn_gmm_result[\"precision\"]\n",
    "    }))\n",
    "    (correct_num_skgmm, perm_skgmm, label_arg_skgmm) = evaluate_correct_cluster_number(sklearn_gmm_result, noise_data_num, true_train_label_arg, K)    \n",
    "    \n",
    "    printmd(\"### 3. Learning by GMM:\")\n",
    "    gmm_result = fit_lva_gmm(train_x, K, pri_alpha = pri_alpha, pri_beta = pri_beta, pri_gamma = pri_gamma, pri_delta = pri_delta, learning_seeds = learning_seeds)\n",
    "    print(\"mean plug-in parameters: \\n {0}\".format({\n",
    "        \"est_ratio\": gmm_result[\"alpha\"] / sum(gmm_result[\"alpha\"]),\n",
    "        \"est_mean\": gmm_result[\"mu\"],\n",
    "        \"est_precision\": gmm_result[\"gamma\"] / gmm_result[\"delta\"]\n",
    "    }))\n",
    "    (correct_num_gmm, perm_gmm, label_arg_gmm) = evaluate_correct_cluster_number(gmm_result, noise_data_num, true_train_label_arg, K)\n",
    "\n",
    "    printmd(\"### 4. Learning by HSMM:\")\n",
    "    hsmm_result = fit_lva_hsmm(train_x, K, pri_alpha = pri_alpha, pri_beta = pri_beta, pri_gamma = pri_gamma, pri_delta = pri_delta, learning_seeds=learning_seeds)\n",
    "    print(\"mean plug-in parameters: \\n {0}\".format({\n",
    "        \"est_ratio\": hsmm_result[\"alpha\"] / sum(hsmm_result[\"alpha\"]),\n",
    "        \"est_mean\": hsmm_result[\"mu\"],\n",
    "        \"est_precision\": hsmm_result[\"gamma\"] / hsmm_result[\"delta\"]\n",
    "    }))\n",
    "    (correct_num_hsmm, perm_hsmm, label_arg_hsmm) = evaluate_correct_cluster_number(hsmm_result, noise_data_num, true_train_label_arg, K)\n",
    "\n",
    "    printmd(\"### 5. Correct number of labeling of GMM by sklearn:\")\n",
    "    printmd(\"+ {0}/{1}\".format(correct_num_skgmm, len(label_arg_hsmm)))\n",
    "        \n",
    "    printmd(\"### 5. Correct number of labeling of GMM:\")\n",
    "    printmd(\"+ {0}/{1}\".format(correct_num_gmm, len(label_arg_hsmm)))\n",
    "\n",
    "    printmd(\"### 6. Correct number of labeling of HSMM:\")\n",
    "    printmd(\"+ {0}/{1}\".format(correct_num_hsmm, len(label_arg_hsmm)))\n",
    "\n",
    "    printmd(\"### 7. Generalization error of GMM by sklearn:\")\n",
    "    printmd(\"+ {0}\".format(evaluate_log_loss(sklearn_gmm_result, true_param, noise_data_num, test_x, true_logpdf, pred_logpdf_gmm)))\n",
    "    \n",
    "    printmd(\"### 8. Generalization error of GMM:\")\n",
    "    printmd(\"+ {0}\".format(evaluate_log_loss(gmm_result, true_param, noise_data_num, test_x, true_logpdf, pred_logpdf_gmm)))\n",
    "    \n",
    "    printmd(\"### 9. Generalization error of HSMM:\")\n",
    "    printmd(\"+ {0}\".format(evaluate_log_loss(hsmm_result, true_param, noise_data_num, test_x, true_logpdf, pred_logpdf_hsmm)))\n",
    "\n",
    "    printmd(\"### 10. Data distribution labeled by GMM by sklearn:\")\n",
    "    plot_scatter_with_label(train_x, label_arg_skgmm,  K, noise_data_num)\n",
    "    \n",
    "    printmd(\"### 11. Data distribution labeled by GMM:\")\n",
    "    plot_scatter_with_label(train_x, label_arg_gmm,  K, noise_data_num)\n",
    "\n",
    "    printmd(\"### 12. Data distribution labeled by HSMM:\")\n",
    "    plot_scatter_with_label(train_x, label_arg_hsmm,  K, noise_data_num)"
   ]
  },
  {
   "cell_type": "code",
   "execution_count": 18,
   "metadata": {},
   "outputs": [],
   "source": [
    "def plot_scatter_with_label(x:np.ndarray, label_arg:np.ndarray,  K:int, noise_data_num):\n",
    "    \"\"\"\n",
    "    Scatter plot for data x\n",
    "    \"\"\"\n",
    "    for i in range(K):\n",
    "        if noise_data_num > 0:\n",
    "            plt.scatter(x[np.where(label_arg[:-noise_data_num] == i)[0],0], x[np.where(label_arg[:-noise_data_num] == i)[0],1])\n",
    "        else:\n",
    "            plt.scatter(x[np.where(label_arg == i)[0],0], x[np.where(label_arg == i)[0],1])        \n",
    "    plt.show()"
   ]
  },
  {
   "cell_type": "markdown",
   "metadata": {},
   "source": [
    "## Problem setting:"
   ]
  },
  {
   "cell_type": "code",
   "execution_count": 44,
   "metadata": {},
   "outputs": [],
   "source": [
    "true_ratio = np.array([0.33, 0.33, 0.34])\n",
    "true_delta = 0\n",
    "true_s = np.array([[1.5, 1.5], [0.5, 0.5], [1, 1]])\n",
    "true_b = np.array([[4, 4], [-4, -4], [0, 0]])\n",
    "true_param = dict()\n",
    "true_param[\"ratio\"] = true_ratio\n",
    "true_param[\"mean\"] = true_b\n",
    "true_param[\"precision\"] = true_s\n",
    "true_param[\"scale\"] = np.array([np.diag(1/np.sqrt(true_s[k,:])) for k in range(len(true_ratio))])\n",
    "K0 = len(true_ratio)\n",
    "M = true_b.shape[1]"
   ]
  },
  {
   "cell_type": "markdown",
   "metadata": {},
   "source": [
    "## Learning setting:"
   ]
  },
  {
   "cell_type": "code",
   "execution_count": 50,
   "metadata": {},
   "outputs": [],
   "source": [
    "### 学習データの数\n",
    "n = 400\n",
    "\n",
    "### テストデータの数\n",
    "N = 10000\n",
    "\n",
    "### データの出方の個数\n",
    "ndataset = 10\n",
    "\n",
    "### 事前分布のハイパーパラメータ\n",
    "pri_params = {\n",
    "    \"pri_alpha\": 0.1,\n",
    "    \"pri_beta\": 0.001,\n",
    "    \"pri_gamma\": M+2,\n",
    "    \"pri_delta\": 1\n",
    "}\n",
    "\n",
    "### データ生成の回数\n",
    "data_seed_start = 201907\n",
    "data_seeds = np.arange(start = data_seed_start, stop = data_seed_start + ndataset, step = 1)\n",
    "\n",
    "### 学習モデルの初期値の乱数 -> データseedにoffsetを加えたものを使う\n",
    "learning_num = 10\n",
    "learning_seed_offset = np.arange(learning_num)+1\n",
    "\n",
    "### 繰り返しアルゴリズムの繰り返し回数\n",
    "learning_iteration = 1000\n",
    "\n",
    "### 学習モデルのコンポーネントの数\n",
    "K = np.array([3, 5])\n",
    "\n",
    "### 予測分布の対数確率密度巻子の値を生成する関数\n",
    "pred_logpdf_gmm = lambda x, param: logpdf_mixture_dist(x, param, logpdf_multivariate_normal)\n",
    "pred_logpdf_hsmm = lambda x, param: logpdf_mixture_dist(x, param, logpdf_hypsecant)"
   ]
  },
  {
   "cell_type": "markdown",
   "metadata": {},
   "source": [
    "## 実験設定で変更するパラメータを設定する\n",
    "+ このパラメータをgrid計算して学習と評価を繰り返す"
   ]
  },
  {
   "cell_type": "code",
   "execution_count": 51,
   "metadata": {},
   "outputs": [],
   "source": [
    "### 実験設定で変更するパラメータを設定する\n",
    "experiment_params = {\n",
    "    \"learning_ncomponent\": K,\n",
    "    \"learning_seed_offset\": learning_seed_offset,\n",
    "    \"pri_params\": [pri_params],\n",
    "    \"ndataset\": [ndataset],\n",
    "    \"learning_iteration\": [learning_iteration]\n",
    "}"
   ]
  },
  {
   "cell_type": "markdown",
   "metadata": {},
   "source": [
    "## 学習部分"
   ]
  },
  {
   "cell_type": "code",
   "execution_count": 22,
   "metadata": {},
   "outputs": [],
   "source": [
    "from sklearn.model_selection import ParameterGrid"
   ]
  },
  {
   "cell_type": "code",
   "execution_count": 23,
   "metadata": {},
   "outputs": [],
   "source": [
    "experiment_grids = ParameterGrid(experiment_params)"
   ]
  },
  {
   "cell_type": "code",
   "execution_count": 24,
   "metadata": {},
   "outputs": [],
   "source": [
    "for data_seed in data_seeds:\n",
    "    ### データ生成\n",
    "    np.random.seed(data_seed)\n",
    "    true_train_label = np.random.multinomial(n = 1, pvals = true_ratio, size = n)\n",
    "    true_train_label_arg = np.argmax(true_train_label, axis = 1)\n",
    "    true_test_label = np.random.multinomial(n = 1, pvals = true_ratio, size = N)\n",
    "    true_test_label_arg = np.argmax(true_test_label, axis = 1)\n",
    "    \n",
    "    for experiment_grid in experiment_grids:\n",
    "        \n",
    "        break"
   ]
  },
  {
   "cell_type": "code",
   "execution_count": 52,
   "metadata": {},
   "outputs": [
    {
     "name": "stdout",
     "output_type": "stream",
     "text": [
      "{'learning_iteration': 1000, 'learning_ncomponent': 3, 'learning_seed_offset': 1, 'ndataset': 10, 'pri_params': {'pri_alpha': 0.1, 'pri_beta': 0.001, 'pri_gamma': 4, 'pri_delta': 1}}\n"
     ]
    }
   ],
   "source": [
    "for a in ParameterGrid(experiment_params):\n",
    "    print(a)\n",
    "    break"
   ]
  },
  {
   "cell_type": "code",
   "execution_count": 60,
   "metadata": {},
   "outputs": [],
   "source": [
    "for params, value in a[\"pri_params\"].items():\n",
    "    setattr(hsmm_obj, params, value)"
   ]
  },
  {
   "cell_type": "code",
   "execution_count": 65,
   "metadata": {},
   "outputs": [
    {
     "data": {
      "text/plain": [
       "{'pri_alpha': 0.1, 'pri_beta': 0.001, 'pri_gamma': 4, 'pri_delta': 1}"
      ]
     },
     "execution_count": 65,
     "metadata": {},
     "output_type": "execute_result"
    }
   ],
   "source": [
    "a[\"pri_params\"]"
   ]
  },
  {
   "cell_type": "code",
   "execution_count": 64,
   "metadata": {},
   "outputs": [
    {
     "name": "stdout",
     "output_type": "stream",
     "text": [
      "> c:\\users\\user\\git\\lva\\lib\\learning\\mixturemodel.py(242)set_params()\n",
      "-> for params, value in params.items():\n"
     ]
    },
    {
     "name": "stdin",
     "output_type": "stream",
     "text": [
      "(Pdb)  params\n"
     ]
    },
    {
     "name": "stdout",
     "output_type": "stream",
     "text": [
      "{'params': {'pri_alpha': 0.1, 'pri_beta': 0.001, 'pri_gamma': 4, 'pri_delta': 1}}\n"
     ]
    },
    {
     "name": "stdin",
     "output_type": "stream",
     "text": [
      "(Pdb)  n\n"
     ]
    },
    {
     "name": "stdout",
     "output_type": "stream",
     "text": [
      "> c:\\users\\user\\git\\lva\\lib\\learning\\mixturemodel.py(243)set_params()\n",
      "-> setattr(self, params, value)\n"
     ]
    },
    {
     "name": "stdin",
     "output_type": "stream",
     "text": [
      "(Pdb)  params\n"
     ]
    },
    {
     "name": "stdout",
     "output_type": "stream",
     "text": [
      "'params'\n"
     ]
    },
    {
     "name": "stdin",
     "output_type": "stream",
     "text": [
      "(Pdb)  exit\n"
     ]
    },
    {
     "ename": "BdbQuit",
     "evalue": "",
     "output_type": "error",
     "traceback": [
      "\u001b[1;31m---------------------------------------------------------------------------\u001b[0m",
      "\u001b[1;31mBdbQuit\u001b[0m                                   Traceback (most recent call last)",
      "\u001b[1;32m<ipython-input-64-66b31e2a5fa9>\u001b[0m in \u001b[0;36m<module>\u001b[1;34m\u001b[0m\n\u001b[0;32m      1\u001b[0m \u001b[0mhsmm_obj\u001b[0m \u001b[1;33m=\u001b[0m \u001b[0mHyperbolicSecantMixtureVB\u001b[0m\u001b[1;33m(\u001b[0m\u001b[1;33m)\u001b[0m\u001b[1;33m\u001b[0m\u001b[1;33m\u001b[0m\u001b[0m\n\u001b[1;32m----> 2\u001b[1;33m \u001b[0mhsmm_obj\u001b[0m\u001b[1;33m.\u001b[0m\u001b[0mset_params\u001b[0m\u001b[1;33m(\u001b[0m\u001b[0mparams\u001b[0m \u001b[1;33m=\u001b[0m \u001b[0ma\u001b[0m\u001b[1;33m[\u001b[0m\u001b[1;34m\"pri_params\"\u001b[0m\u001b[1;33m]\u001b[0m\u001b[1;33m)\u001b[0m\u001b[1;33m\u001b[0m\u001b[1;33m\u001b[0m\u001b[0m\n\u001b[0m",
      "\u001b[1;32m~\\git\\lva\\lib\\learning\\MixtureModel.py\u001b[0m in \u001b[0;36mset_params\u001b[1;34m(self, **params)\u001b[0m\n\u001b[0;32m    241\u001b[0m         \u001b[1;32mimport\u001b[0m \u001b[0mpdb\u001b[0m\u001b[1;33m;\u001b[0m \u001b[0mpdb\u001b[0m\u001b[1;33m.\u001b[0m\u001b[0mset_trace\u001b[0m\u001b[1;33m(\u001b[0m\u001b[1;33m)\u001b[0m\u001b[1;33m\u001b[0m\u001b[1;33m\u001b[0m\u001b[0m\n\u001b[0;32m    242\u001b[0m         \u001b[1;32mfor\u001b[0m \u001b[0mparams\u001b[0m\u001b[1;33m,\u001b[0m \u001b[0mvalue\u001b[0m \u001b[1;32min\u001b[0m \u001b[0mparams\u001b[0m\u001b[1;33m.\u001b[0m\u001b[0mitems\u001b[0m\u001b[1;33m(\u001b[0m\u001b[1;33m)\u001b[0m\u001b[1;33m:\u001b[0m\u001b[1;33m\u001b[0m\u001b[1;33m\u001b[0m\u001b[0m\n\u001b[1;32m--> 243\u001b[1;33m             \u001b[0msetattr\u001b[0m\u001b[1;33m(\u001b[0m\u001b[0mself\u001b[0m\u001b[1;33m,\u001b[0m \u001b[0mparams\u001b[0m\u001b[1;33m,\u001b[0m \u001b[0mvalue\u001b[0m\u001b[1;33m)\u001b[0m\u001b[1;33m\u001b[0m\u001b[1;33m\u001b[0m\u001b[0m\n\u001b[0m\u001b[0;32m    244\u001b[0m         \u001b[1;32mreturn\u001b[0m \u001b[0mself\u001b[0m\u001b[1;33m\u001b[0m\u001b[1;33m\u001b[0m\u001b[0m\n\u001b[0;32m    245\u001b[0m \u001b[1;33m\u001b[0m\u001b[0m\n",
      "\u001b[1;32m~\\git\\lva\\lib\\learning\\MixtureModel.py\u001b[0m in \u001b[0;36mset_params\u001b[1;34m(self, **params)\u001b[0m\n\u001b[0;32m    241\u001b[0m         \u001b[1;32mimport\u001b[0m \u001b[0mpdb\u001b[0m\u001b[1;33m;\u001b[0m \u001b[0mpdb\u001b[0m\u001b[1;33m.\u001b[0m\u001b[0mset_trace\u001b[0m\u001b[1;33m(\u001b[0m\u001b[1;33m)\u001b[0m\u001b[1;33m\u001b[0m\u001b[1;33m\u001b[0m\u001b[0m\n\u001b[0;32m    242\u001b[0m         \u001b[1;32mfor\u001b[0m \u001b[0mparams\u001b[0m\u001b[1;33m,\u001b[0m \u001b[0mvalue\u001b[0m \u001b[1;32min\u001b[0m \u001b[0mparams\u001b[0m\u001b[1;33m.\u001b[0m\u001b[0mitems\u001b[0m\u001b[1;33m(\u001b[0m\u001b[1;33m)\u001b[0m\u001b[1;33m:\u001b[0m\u001b[1;33m\u001b[0m\u001b[1;33m\u001b[0m\u001b[0m\n\u001b[1;32m--> 243\u001b[1;33m             \u001b[0msetattr\u001b[0m\u001b[1;33m(\u001b[0m\u001b[0mself\u001b[0m\u001b[1;33m,\u001b[0m \u001b[0mparams\u001b[0m\u001b[1;33m,\u001b[0m \u001b[0mvalue\u001b[0m\u001b[1;33m)\u001b[0m\u001b[1;33m\u001b[0m\u001b[1;33m\u001b[0m\u001b[0m\n\u001b[0m\u001b[0;32m    244\u001b[0m         \u001b[1;32mreturn\u001b[0m \u001b[0mself\u001b[0m\u001b[1;33m\u001b[0m\u001b[1;33m\u001b[0m\u001b[0m\n\u001b[0;32m    245\u001b[0m \u001b[1;33m\u001b[0m\u001b[0m\n",
      "\u001b[1;32m~\\Anaconda3\\lib\\bdb.py\u001b[0m in \u001b[0;36mtrace_dispatch\u001b[1;34m(self, frame, event, arg)\u001b[0m\n\u001b[0;32m     86\u001b[0m             \u001b[1;32mreturn\u001b[0m \u001b[1;31m# None\u001b[0m\u001b[1;33m\u001b[0m\u001b[1;33m\u001b[0m\u001b[0m\n\u001b[0;32m     87\u001b[0m         \u001b[1;32mif\u001b[0m \u001b[0mevent\u001b[0m \u001b[1;33m==\u001b[0m \u001b[1;34m'line'\u001b[0m\u001b[1;33m:\u001b[0m\u001b[1;33m\u001b[0m\u001b[1;33m\u001b[0m\u001b[0m\n\u001b[1;32m---> 88\u001b[1;33m             \u001b[1;32mreturn\u001b[0m \u001b[0mself\u001b[0m\u001b[1;33m.\u001b[0m\u001b[0mdispatch_line\u001b[0m\u001b[1;33m(\u001b[0m\u001b[0mframe\u001b[0m\u001b[1;33m)\u001b[0m\u001b[1;33m\u001b[0m\u001b[1;33m\u001b[0m\u001b[0m\n\u001b[0m\u001b[0;32m     89\u001b[0m         \u001b[1;32mif\u001b[0m \u001b[0mevent\u001b[0m \u001b[1;33m==\u001b[0m \u001b[1;34m'call'\u001b[0m\u001b[1;33m:\u001b[0m\u001b[1;33m\u001b[0m\u001b[1;33m\u001b[0m\u001b[0m\n\u001b[0;32m     90\u001b[0m             \u001b[1;32mreturn\u001b[0m \u001b[0mself\u001b[0m\u001b[1;33m.\u001b[0m\u001b[0mdispatch_call\u001b[0m\u001b[1;33m(\u001b[0m\u001b[0mframe\u001b[0m\u001b[1;33m,\u001b[0m \u001b[0marg\u001b[0m\u001b[1;33m)\u001b[0m\u001b[1;33m\u001b[0m\u001b[1;33m\u001b[0m\u001b[0m\n",
      "\u001b[1;32m~\\Anaconda3\\lib\\bdb.py\u001b[0m in \u001b[0;36mdispatch_line\u001b[1;34m(self, frame)\u001b[0m\n\u001b[0;32m    111\u001b[0m         \u001b[1;32mif\u001b[0m \u001b[0mself\u001b[0m\u001b[1;33m.\u001b[0m\u001b[0mstop_here\u001b[0m\u001b[1;33m(\u001b[0m\u001b[0mframe\u001b[0m\u001b[1;33m)\u001b[0m \u001b[1;32mor\u001b[0m \u001b[0mself\u001b[0m\u001b[1;33m.\u001b[0m\u001b[0mbreak_here\u001b[0m\u001b[1;33m(\u001b[0m\u001b[0mframe\u001b[0m\u001b[1;33m)\u001b[0m\u001b[1;33m:\u001b[0m\u001b[1;33m\u001b[0m\u001b[1;33m\u001b[0m\u001b[0m\n\u001b[0;32m    112\u001b[0m             \u001b[0mself\u001b[0m\u001b[1;33m.\u001b[0m\u001b[0muser_line\u001b[0m\u001b[1;33m(\u001b[0m\u001b[0mframe\u001b[0m\u001b[1;33m)\u001b[0m\u001b[1;33m\u001b[0m\u001b[1;33m\u001b[0m\u001b[0m\n\u001b[1;32m--> 113\u001b[1;33m             \u001b[1;32mif\u001b[0m \u001b[0mself\u001b[0m\u001b[1;33m.\u001b[0m\u001b[0mquitting\u001b[0m\u001b[1;33m:\u001b[0m \u001b[1;32mraise\u001b[0m \u001b[0mBdbQuit\u001b[0m\u001b[1;33m\u001b[0m\u001b[1;33m\u001b[0m\u001b[0m\n\u001b[0m\u001b[0;32m    114\u001b[0m         \u001b[1;32mreturn\u001b[0m \u001b[0mself\u001b[0m\u001b[1;33m.\u001b[0m\u001b[0mtrace_dispatch\u001b[0m\u001b[1;33m\u001b[0m\u001b[1;33m\u001b[0m\u001b[0m\n\u001b[0;32m    115\u001b[0m \u001b[1;33m\u001b[0m\u001b[0m\n",
      "\u001b[1;31mBdbQuit\u001b[0m: "
     ]
    }
   ],
   "source": [
    "hsmm_obj = HyperbolicSecantMixtureVB()\n",
    "hsmm_obj.set_params(params = a[\"pri_params\"])"
   ]
  },
  {
   "cell_type": "code",
   "execution_count": 63,
   "metadata": {},
   "outputs": [
    {
     "data": {
      "text/plain": [
       "HyperbolicSecantMixtureVB(K=3, iteration=1000, learning_seed=-1, pri_alpha=0.1,\n",
       "                          pri_beta=0.001, pri_delta=2, pri_gamma=2,\n",
       "                          restart_num=5, step=20, tol=1e-05)"
      ]
     },
     "execution_count": 63,
     "metadata": {},
     "output_type": "execute_result"
    }
   ],
   "source": [
    "hsmm_obj"
   ]
  },
  {
   "cell_type": "code",
   "execution_count": null,
   "metadata": {},
   "outputs": [],
   "source": []
  },
  {
   "cell_type": "code",
   "execution_count": null,
   "metadata": {},
   "outputs": [],
   "source": []
  },
  {
   "cell_type": "code",
   "execution_count": null,
   "metadata": {},
   "outputs": [],
   "source": []
  },
  {
   "cell_type": "markdown",
   "metadata": {},
   "source": [
    "### Label setting for each data\n",
    "+ Remark: Label is fixed through each cluster distribution."
   ]
  },
  {
   "cell_type": "code",
   "execution_count": 25,
   "metadata": {},
   "outputs": [],
   "source": [
    "true_train_label = np.random.multinomial(n = 1, pvals = true_ratio, size = n)\n",
    "true_train_label_arg = np.argmax(true_train_label, axis = 1)\n",
    "true_test_label = np.random.multinomial(n = 1, pvals = true_ratio, size = test_data_num)\n",
    "true_test_label_arg = np.argmax(true_test_label, axis = 1)"
   ]
  },
  {
   "cell_type": "code",
   "execution_count": null,
   "metadata": {},
   "outputs": [],
   "source": []
  },
  {
   "cell_type": "code",
   "execution_count": 56,
   "metadata": {},
   "outputs": [],
   "source": [
    "np.random.seed(data_seed)\n",
    "train_x = np.zeros((n, M))\n",
    "for i in range(n):\n",
    "    for j in range(M):\n",
    "        train_x[i, j] = t.rvs(df = 3, loc=true_b[true_train_label_arg[i],j], scale=1/true_s[true_train_label_arg[i],j], size=1)\n",
    "\n",
    "noise_data_num = math.ceil(n*true_delta)\n",
    "if noise_data_num > 0:\n",
    "    train_x[-noise_data_num:,:] = np.random.uniform(low=-30, high=30, size = noise_data_num*M).reshape(noise_data_num,M)\n",
    "    \n",
    "np.random.seed(test_seed)\n",
    "test_x = np.zeros((test_data_num, M))\n",
    "for i in range(test_data_num):\n",
    "    for j in range(M):\n",
    "        test_x[i, j] = t.rvs(df = 1.5, loc=true_b[true_test_label_arg[i],j], scale=1/true_s[true_test_label_arg[i],j], size=1)\n",
    "\n",
    "noise_data_num = math.ceil(test_data_num*true_delta)\n",
    "if noise_data_num > 0:\n",
    "    test_x[-noise_data_num:,:] = np.random.uniform(low=-30, high=30, size = noise_data_num*M).reshape(noise_data_num,M)"
   ]
  },
  {
   "cell_type": "code",
   "execution_count": 20,
   "metadata": {
    "lines_to_end_of_cell_marker": 2
   },
   "outputs": [
    {
     "data": {
      "text/markdown": [
       "### 1. Data distribution:"
      ],
      "text/plain": [
       "<IPython.core.display.Markdown object>"
      ]
     },
     "metadata": {},
     "output_type": "display_data"
    },
    {
     "data": {
      "image/png": "[encoded data removed]",
      "text/plain": [
       "<Figure size 432x288 with 1 Axes>"
      ]
     },
     "metadata": {
      "needs_background": "light"
     },
     "output_type": "display_data"
    },
    {
     "data": {
      "text/markdown": [
       "### 2. Learning by sklearn.mixture.BayesianGaussianMixture:"
      ],
      "text/plain": [
       "<IPython.core.display.Markdown object>"
      ]
     },
     "metadata": {},
     "output_type": "display_data"
    },
    {
     "name": "stdout",
     "output_type": "stream",
     "text": [
      "mean plug-in parameters \n",
      " {'est_ratio': array([0.25343994, 0.31219223, 0.07387599, 0.30873266, 0.05175918]), 'est_mean': array([[-3.77333385, -3.94325864],\n",
      "       [ 4.03602824,  3.9787871 ],\n",
      "       [-2.54275755, -0.97490761],\n",
      "       [ 0.04493278,  0.05859144],\n",
      "       [-1.44396895, -4.34403408]]), 'est_precision': array([[[ 5.37773697e+00,  4.72238511e-01],\n",
      "        [ 4.72238511e-01,  3.98076828e+00]],\n",
      "\n",
      "       [[ 8.23570091e-01,  1.00589877e-01],\n",
      "        [ 1.00589877e-01,  7.39385520e-01]],\n",
      "\n",
      "       [[ 4.57897123e+01,  1.02705645e+01],\n",
      "        [ 1.02705645e+01,  1.93077549e+01]],\n",
      "\n",
      "       [[ 1.76123495e+00, -5.62644502e-02],\n",
      "        [-5.62644502e-02,  1.44004723e+00]],\n",
      "\n",
      "       [[ 7.70739359e+00,  1.05855377e+01],\n",
      "        [ 1.05855377e+01,  5.84721200e+01]]])}\n"
     ]
    },
    {
     "data": {
      "text/markdown": [
       "### 3. Learning by GMM:"
      ],
      "text/plain": [
       "<IPython.core.display.Markdown object>"
      ]
     },
     "metadata": {},
     "output_type": "display_data"
    },
    {
     "name": "stdout",
     "output_type": "stream",
     "text": [
      "5892.130561009437\n",
      "5883.411621329451\n",
      "5962.292465487174\n",
      "5892.130561009437\n",
      "5883.411621329455\n",
      "mean plug-in parameters: \n",
      " {'est_ratio': array([0.311262  , 0.28031398, 0.2755337 , 0.03617049, 0.09671983]), 'est_mean': array([[-3.6773607 , -3.85000641],\n",
      "       [ 4.06151129,  4.02944491],\n",
      "       [-0.01657528, -0.04763281],\n",
      "       [-4.36768934, -5.60907922],\n",
      "       [ 2.30639037,  2.55123946]]), 'est_precision': array([[0.16332818, 0.17370826],\n",
      "       [1.59462073, 1.80704577],\n",
      "       [0.77262553, 0.83734551],\n",
      "       [0.01838514, 0.0153678 ],\n",
      "       [0.14326214, 0.22391138]])}\n"
     ]
    },
    {
     "data": {
      "text/markdown": [
       "### 4. Learning by HSMM:"
      ],
      "text/plain": [
       "<IPython.core.display.Markdown object>"
      ]
     },
     "metadata": {},
     "output_type": "display_data"
    },
    {
     "name": "stdout",
     "output_type": "stream",
     "text": [
      "2166.614292250481\n",
      "2166.6142922504832\n",
      "2166.6142922504546\n",
      "2166.61429225049\n",
      "2166.614292250477\n",
      "mean plug-in parameters: \n",
      " {'est_ratio': array([4.99875031e-05, 3.73535233e-02, 3.25886427e-01, 3.55713250e-01,\n",
      "       2.80996813e-01]), 'est_mean': array([[ 1.47452346e-16,  1.43724937e-16],\n",
      "       [-3.42055657e+00, -4.71706547e+00],\n",
      "       [ 4.02541047e+00,  3.99145338e+00],\n",
      "       [-2.15337460e-02,  1.42909468e-02],\n",
      "       [-4.00200773e+00, -4.06516615e+00]]), 'est_precision': array([[ 1.        ,  1.        ],\n",
      "       [ 0.22791418,  0.17952732],\n",
      "       [ 9.46539736, 10.45714795],\n",
      "       [ 4.54282492,  4.09606793],\n",
      "       [ 1.46807185,  1.46849969]])}\n"
     ]
    }
   ],
   "source": [
    "from sklearn.mixture import BayesianGaussianMixture\n",
    "printmd(\"### 1. Data distribution:\")\n",
    "plot_scatter_with_label(train_x, true_train_label_arg,  K0, noise_data_num)\n",
    "\n",
    "printmd(\"### 2. Learning by sklearn.mixture.BayesianGaussianMixture:\")\n",
    "sklearn_gmm_obj = BayesianGaussianMixture(n_components=K,covariance_type=\"full\", max_iter=1000, weight_concentration_prior_type=\"dirichlet_process\", weight_concentration_prior=5)\n",
    "sklearn_gmm_obj.fit(train_x)\n",
    "print(\"mean plug-in parameters \\n {0}\".format({\n",
    "    \"est_ratio\": sklearn_gmm_obj.weights_,\n",
    "    \"est_mean\": sklearn_gmm_obj.means_,\n",
    "    \"est_precision\": sklearn_gmm_obj.covariances_\n",
    "}))\n",
    "(correct_num_skgmm, perm_skgmm, label_arg_skgmm) = evaluate_correct_cluster_number(None, noise_data_num, true_train_label_arg, K, predict_label = sklearn_gmm_obj.predict(train_x))    \n",
    "\n",
    "printmd(\"### 3. Learning by GMM:\")\n",
    "gmm_result = fit_lva_gmm(train_x, K, pri_alpha = pri_alpha, pri_beta = pri_beta, pri_gamma = pri_gamma, pri_delta = pri_delta, learning_seeds = learning_seeds)\n",
    "print(\"mean plug-in parameters: \\n {0}\".format({\n",
    "    \"est_ratio\": gmm_result[\"alpha\"] / sum(gmm_result[\"alpha\"]),\n",
    "    \"est_mean\": gmm_result[\"mu\"],\n",
    "    \"est_precision\": gmm_result[\"gamma\"] / gmm_result[\"delta\"]\n",
    "}))\n",
    "(correct_num_gmm, perm_gmm, label_arg_gmm) = evaluate_correct_cluster_number(gmm_result, noise_data_num, true_train_label_arg, K)\n",
    "\n",
    "printmd(\"### 4. Learning by HSMM:\")\n",
    "hsmm_result = fit_lva_hsmm(train_x, K, pri_alpha = pri_alpha, pri_beta = pri_beta, pri_gamma = pri_gamma, pri_delta = pri_delta, learning_seeds=learning_seeds)\n",
    "print(\"mean plug-in parameters: \\n {0}\".format({\n",
    "    \"est_ratio\": hsmm_result[\"alpha\"] / sum(hsmm_result[\"alpha\"]),\n",
    "    \"est_mean\": hsmm_result[\"mu\"],\n",
    "    \"est_precision\": hsmm_result[\"gamma\"] / hsmm_result[\"delta\"]\n",
    "}))\n",
    "(correct_num_hsmm, perm_hsmm, label_arg_hsmm) = evaluate_correct_cluster_number(hsmm_result, noise_data_num, true_train_label_arg, K)"
   ]
  },
  {
   "cell_type": "code",
   "execution_count": 21,
   "metadata": {},
   "outputs": [],
   "source": [
    "ussebba = 50"
   ]
  },
  {
   "cell_type": "code",
   "execution_count": 22,
   "metadata": {},
   "outputs": [
    {
     "data": {
      "image/png": "[encoded data removed]",
      "text/plain": [
       "<Figure size 432x288 with 1 Axes>"
      ]
     },
     "metadata": {
      "needs_background": "light"
     },
     "output_type": "display_data"
    }
   ],
   "source": [
    "label_arg = true_train_label_arg\n",
    "\n",
    "\n",
    "for i in range(K):\n",
    "    plt.scatter(train_x[np.where((label_arg == i) & (np.abs(train_x[:,0]) < ussebba) & (np.abs(train_x[:,1]) < ussebba))[0],0],\n",
    "                train_x[np.where((label_arg == i) & (np.abs(train_x[:,0]) < ussebba) & (np.abs(train_x[:,1]) < ussebba))[0],1])        \n",
    "plt.show()"
   ]
  },
  {
   "cell_type": "code",
   "execution_count": 23,
   "metadata": {},
   "outputs": [
    {
     "data": {
      "image/png": "[encoded data removed]",
      "text/plain": [
       "<Figure size 432x288 with 1 Axes>"
      ]
     },
     "metadata": {
      "needs_background": "light"
     },
     "output_type": "display_data"
    }
   ],
   "source": [
    "label_arg = label_arg_skgmm \n",
    "\n",
    "for i in range(K):\n",
    "    plt.scatter(train_x[np.where((label_arg == i) & (np.abs(train_x[:,0]) < ussebba) & (np.abs(train_x[:,1]) < ussebba))[0],0],\n",
    "                train_x[np.where((label_arg == i) & (np.abs(train_x[:,0]) < ussebba) & (np.abs(train_x[:,1]) < ussebba))[0],1])        \n",
    "plt.show()"
   ]
  },
  {
   "cell_type": "code",
   "execution_count": 24,
   "metadata": {},
   "outputs": [
    {
     "data": {
      "image/png": "[encoded data removed]",
      "text/plain": [
       "<Figure size 432x288 with 1 Axes>"
      ]
     },
     "metadata": {
      "needs_background": "light"
     },
     "output_type": "display_data"
    }
   ],
   "source": [
    "label_arg = label_arg_gmm\n",
    "\n",
    "for i in range(K):\n",
    "    plt.scatter(train_x[np.where((label_arg == i) & (np.abs(train_x[:,0]) < ussebba) & (np.abs(train_x[:,1]) < ussebba))[0],0],\n",
    "                train_x[np.where((label_arg == i) & (np.abs(train_x[:,0]) < ussebba) & (np.abs(train_x[:,1]) < ussebba))[0],1])        \n",
    "plt.show()"
   ]
  },
  {
   "cell_type": "code",
   "execution_count": 25,
   "metadata": {},
   "outputs": [
    {
     "data": {
      "image/png": "[encoded data removed]",
      "text/plain": [
       "<Figure size 432x288 with 1 Axes>"
      ]
     },
     "metadata": {
      "needs_background": "light"
     },
     "output_type": "display_data"
    }
   ],
   "source": [
    "label_arg = label_arg_hsmm\n",
    "\n",
    "for i in range(K):\n",
    "    plt.scatter(train_x[np.where((label_arg == i) & (np.abs(train_x[:,0]) < ussebba) & (np.abs(train_x[:,1]) < ussebba))[0],0],\n",
    "                train_x[np.where((label_arg == i) & (np.abs(train_x[:,0]) < ussebba) & (np.abs(train_x[:,1]) < ussebba))[0],1])        \n",
    "plt.show()"
   ]
  },
  {
   "cell_type": "code",
   "execution_count": 28,
   "metadata": {},
   "outputs": [
    {
     "data": {
      "text/plain": [
       "<matplotlib.collections.PathCollection at 0x1d420954358>"
      ]
     },
     "execution_count": 28,
     "metadata": {},
     "output_type": "execute_result"
    },
    {
     "data": {
      "image/png": "[encoded data removed]",
      "text/plain": [
       "<Figure size 432x288 with 1 Axes>"
      ]
     },
     "metadata": {
      "needs_background": "light"
     },
     "output_type": "display_data"
    }
   ],
   "source": [
    "plt.scatter(train_x[focus_ind1,0], train_x[focus_ind1,1])"
   ]
  },
  {
   "cell_type": "code",
   "execution_count": null,
   "metadata": {
    "lines_to_next_cell": 0
   },
   "outputs": [],
   "source": [
    "printmd(\"### 5. Correct number of labeling of GMM:\")\n",
    "printmd(\"+ {0}/{1}\".format(correct_num_skgmm, len(label_arg_hsmm)))\n",
    "\n",
    "printmd(\"### 5. Correct number of labeling of GMM:\")\n",
    "printmd(\"+ {0}/{1}\".format(correct_num_gmm, len(label_arg_hsmm)))\n",
    "\n",
    "printmd(\"### 6. Correct number of labeling of HSMM:\")\n",
    "printmd(\"+ {0}/{1}\".format(correct_num_hsmm, len(label_arg_hsmm)))\n",
    "\n",
    "printmd(\"### 7. Generalization error of GMM:\")\n",
    "printmd(\"+ {0}\".format(evaluate_log_loss(gmm_result, true_param, noise_data_num, test_x, true_logpdf, pred_logpdf_gmm)))\n",
    "\n",
    "printmd(\"### 8. Generalization error of HSMM:\")\n",
    "printmd(\"+ {0}\".format(evaluate_log_loss(hsmm_result, true_param, noise_data_num, test_x, true_logpdf, pred_logpdf_hsmm)))\n",
    "\n",
    "printmd(\"### 9. Data distribution labeled by GMM:\")\n",
    "plot_scatter_with_label(train_x, label_arg_gmm,  K, noise_data_num)\n",
    "\n",
    "printmd(\"### 10. Data distribution labeled by HSMM:\")\n",
    "plot_scatter_with_label(train_x, label_arg_hsmm,  K, noise_data_num)"
   ]
  },
  {
   "cell_type": "code",
   "execution_count": null,
   "metadata": {},
   "outputs": [],
   "source": []
  },
  {
   "cell_type": "code",
   "execution_count": null,
   "metadata": {},
   "outputs": [],
   "source": []
  },
  {
   "cell_type": "code",
   "execution_count": null,
   "metadata": {},
   "outputs": [],
   "source": []
  },
  {
   "cell_type": "code",
   "execution_count": null,
   "metadata": {
    "lines_to_next_cell": 2
   },
   "outputs": [],
   "source": []
  },
  {
   "cell_type": "markdown",
   "metadata": {},
   "source": [
    "## 1. Cluster distribution is Gaussian distribution"
   ]
  },
  {
   "cell_type": "code",
   "execution_count": 19,
   "metadata": {},
   "outputs": [],
   "source": [
    "true_logpdf = lambda x, param: logpdf_mixture_dist(x, param, logpdf_multivariate_normal)"
   ]
  },
  {
   "cell_type": "code",
   "execution_count": 20,
   "metadata": {},
   "outputs": [],
   "source": [
    "np.random.seed(data_seed)\n",
    "train_x = np.zeros((n, M))\n",
    "for i in range(n):\n",
    "    for j in range(M):\n",
    "        train_x[i, j] = norm.rvs(loc=true_b[true_train_label_arg[i],j], scale=1/np.sqrt(true_s[true_train_label_arg[i],j]), size = 1)\n",
    "\n",
    "noise_data_num = math.ceil(n*true_delta)\n",
    "if noise_data_num > 0:\n",
    "    train_x[-noise_data_num:,:] = np.random.uniform(low=-30, high=30, size = noise_data_num*M).reshape(noise_data_num,M)\n",
    "    \n",
    "np.random.seed(test_seed)\n",
    "test_x = np.zeros((test_data_num, M))\n",
    "for i in range(test_data_num):\n",
    "    for j in range(M):\n",
    "        test_x[i, j] = norm.rvs(loc=true_b[true_test_label_arg[i],j], scale=1/np.sqrt(true_s[true_test_label_arg[i],j]), size = 1)\n",
    "\n",
    "noise_data_num = math.ceil(test_data_num*true_delta)\n",
    "if noise_data_num > 0:\n",
    "    test_x[-noise_data_num:,:] = np.random.uniform(low=-30, high=30, size = noise_data_num*M).reshape(noise_data_num,M)"
   ]
  },
  {
   "cell_type": "code",
   "execution_count": 21,
   "metadata": {},
   "outputs": [
    {
     "data": {
      "text/markdown": [
       "### 1. Data distribution:"
      ],
      "text/plain": [
       "<IPython.core.display.Markdown object>"
      ]
     },
     "metadata": {},
     "output_type": "display_data"
    },
    {
     "data": {
      "image/png": "[encoded data removed]",
      "text/plain": [
       "<Figure size 432x288 with 1 Axes>"
      ]
     },
     "metadata": {
      "needs_background": "light"
     },
     "output_type": "display_data"
    },
    {
     "data": {
      "text/markdown": [
       "### 2. Learning by sklearn.mixture.BayesianGaussianMixture:"
      ],
      "text/plain": [
       "<IPython.core.display.Markdown object>"
      ]
     },
     "metadata": {},
     "output_type": "display_data"
    },
    {
     "name": "stdout",
     "output_type": "stream",
     "text": [
      "mean plug-in parameters \n",
      " {'est_ratio': array([3.27961065e-01, 3.27541237e-01, 3.44397723e-01, 4.99875031e-05,\n",
      "       4.99875031e-05]), 'est_mean': array([[ 3.99490613,  3.97492335],\n",
      "       [-3.88298473, -4.08525156],\n",
      "       [-0.03757595,  0.02203085],\n",
      "       [ 0.0253976 , -0.02688319],\n",
      "       [ 0.0253976 , -0.02688319]]), 'est_precision': array([[[ 1.48314084e+00,  5.02402972e-02],\n",
      "        [ 5.02402972e-02,  1.74135280e+00]],\n",
      "\n",
      "       [[ 4.91350674e-01, -1.14627944e-03],\n",
      "        [-1.14627944e-03,  4.43830888e-01]],\n",
      "\n",
      "       [[ 9.32070381e-01, -4.73332144e-02],\n",
      "        [-4.73332144e-02,  1.00267040e+00]],\n",
      "\n",
      "       [[ 2.00000000e+00,  1.51605100e-18],\n",
      "        [ 1.51605100e-18,  2.00000000e+00]],\n",
      "\n",
      "       [[ 2.00000000e+00,  1.51605100e-18],\n",
      "        [ 1.51605100e-18,  2.00000000e+00]]])}\n"
     ]
    },
    {
     "data": {
      "text/markdown": [
       "### 3. Learning by GMM:"
      ],
      "text/plain": [
       "<IPython.core.display.Markdown object>"
      ]
     },
     "metadata": {},
     "output_type": "display_data"
    },
    {
     "name": "stdout",
     "output_type": "stream",
     "text": [
      "4440.599399477653\n",
      "4440.598942550976\n",
      "4440.598942550979\n",
      "4440.598942550982\n",
      "4440.598942550976\n",
      "mean plug-in parameters: \n",
      " {'est_ratio': array([3.28690066e-01, 8.58990002e-04, 3.42248677e-01, 3.28152280e-01,\n",
      "       4.99875031e-05]), 'est_mean': array([[-3.87611342, -4.07759515],\n",
      "       [-3.20192822,  2.66126882],\n",
      "       [-0.02517526,  0.02090824],\n",
      "       [ 3.99401152,  3.97399137],\n",
      "       [ 0.        ,  0.        ]]), 'est_precision': array([[0.48868978, 0.44228668],\n",
      "       [1.31211633, 1.31831844],\n",
      "       [0.95808489, 1.02005831],\n",
      "       [1.4723131 , 1.72638953],\n",
      "       [1.        , 1.        ]])}\n"
     ]
    },
    {
     "data": {
      "text/markdown": [
       "### 4. Learning by HSMM:"
      ],
      "text/plain": [
       "<IPython.core.display.Markdown object>"
      ]
     },
     "metadata": {},
     "output_type": "display_data"
    },
    {
     "name": "stdout",
     "output_type": "stream",
     "text": [
      "884.2708164913256\n",
      "884.2708164913383\n",
      "884.2708164913281\n",
      "884.2708164913431\n",
      "884.2708164913381\n",
      "mean plug-in parameters: \n",
      " {'est_ratio': array([3.26374733e-01, 4.99875031e-05, 3.28051204e-01, 4.99875031e-05,\n",
      "       3.45474088e-01]), 'est_mean': array([[-3.83400769e+00, -4.09095370e+00],\n",
      "       [-1.15077471e-16, -7.17684748e-17],\n",
      "       [ 3.99766450e+00,  3.99050240e+00],\n",
      "       [-1.15077471e-16, -7.17684748e-17],\n",
      "       [-2.62063661e-02,  1.61578334e-02]]), 'est_precision': array([[ 4.00996288,  3.71629168],\n",
      "       [ 1.        ,  1.        ],\n",
      "       [11.46085458, 13.06907976],\n",
      "       [ 1.        ,  1.        ],\n",
      "       [ 7.40124767,  7.69529719]])}\n"
     ]
    },
    {
     "data": {
      "text/markdown": [
       "### 5. Correct number of labeling of GMM by sklearn:"
      ],
      "text/plain": [
       "<IPython.core.display.Markdown object>"
      ]
     },
     "metadata": {},
     "output_type": "display_data"
    },
    {
     "data": {
      "text/markdown": [
       "+ 1982/2000"
      ],
      "text/plain": [
       "<IPython.core.display.Markdown object>"
      ]
     },
     "metadata": {},
     "output_type": "display_data"
    },
    {
     "data": {
      "text/markdown": [
       "### 5. Correct number of labeling of GMM:"
      ],
      "text/plain": [
       "<IPython.core.display.Markdown object>"
      ]
     },
     "metadata": {},
     "output_type": "display_data"
    },
    {
     "data": {
      "text/markdown": [
       "+ 1980/2000"
      ],
      "text/plain": [
       "<IPython.core.display.Markdown object>"
      ]
     },
     "metadata": {},
     "output_type": "display_data"
    },
    {
     "data": {
      "text/markdown": [
       "### 6. Correct number of labeling of HSMM:"
      ],
      "text/plain": [
       "<IPython.core.display.Markdown object>"
      ]
     },
     "metadata": {},
     "output_type": "display_data"
    },
    {
     "data": {
      "text/markdown": [
       "+ 1981/2000"
      ],
      "text/plain": [
       "<IPython.core.display.Markdown object>"
      ]
     },
     "metadata": {},
     "output_type": "display_data"
    },
    {
     "data": {
      "text/markdown": [
       "### 7. Generalization error of GMM by sklearn:"
      ],
      "text/plain": [
       "<IPython.core.display.Markdown object>"
      ]
     },
     "metadata": {},
     "output_type": "display_data"
    },
    {
     "data": {
      "text/markdown": [
       "+ -0.02023290806725483"
      ],
      "text/plain": [
       "<IPython.core.display.Markdown object>"
      ]
     },
     "metadata": {},
     "output_type": "display_data"
    },
    {
     "data": {
      "text/markdown": [
       "### 8. Generalization error of GMM:"
      ],
      "text/plain": [
       "<IPython.core.display.Markdown object>"
      ]
     },
     "metadata": {},
     "output_type": "display_data"
    },
    {
     "data": {
      "text/markdown": [
       "+ -0.020284715162827895"
      ],
      "text/plain": [
       "<IPython.core.display.Markdown object>"
      ]
     },
     "metadata": {},
     "output_type": "display_data"
    },
    {
     "data": {
      "text/markdown": [
       "### 9. Generalization error of HSMM:"
      ],
      "text/plain": [
       "<IPython.core.display.Markdown object>"
      ]
     },
     "metadata": {},
     "output_type": "display_data"
    },
    {
     "data": {
      "text/markdown": [
       "+ 0.019628213074995283"
      ],
      "text/plain": [
       "<IPython.core.display.Markdown object>"
      ]
     },
     "metadata": {},
     "output_type": "display_data"
    },
    {
     "data": {
      "text/markdown": [
       "### 10. Data distribution labeled by GMM by sklearn:"
      ],
      "text/plain": [
       "<IPython.core.display.Markdown object>"
      ]
     },
     "metadata": {},
     "output_type": "display_data"
    },
    {
     "data": {
      "image/png": "[encoded data removed]",
      "text/plain": [
       "<Figure size 432x288 with 1 Axes>"
      ]
     },
     "metadata": {
      "needs_background": "light"
     },
     "output_type": "display_data"
    },
    {
     "data": {
      "text/markdown": [
       "### 11. Data distribution labeled by GMM:"
      ],
      "text/plain": [
       "<IPython.core.display.Markdown object>"
      ]
     },
     "metadata": {},
     "output_type": "display_data"
    },
    {
     "data": {
      "image/png": "[encoded data removed]",
      "text/plain": [
       "<Figure size 432x288 with 1 Axes>"
      ]
     },
     "metadata": {
      "needs_background": "light"
     },
     "output_type": "display_data"
    },
    {
     "data": {
      "text/markdown": [
       "### 12. Data distribution labeled by HSMM:"
      ],
      "text/plain": [
       "<IPython.core.display.Markdown object>"
      ]
     },
     "metadata": {},
     "output_type": "display_data"
    },
    {
     "data": {
      "image/png": "[encoded data removed]",
      "text/plain": [
       "<Figure size 432x288 with 1 Axes>"
      ]
     },
     "metadata": {
      "needs_background": "light"
     },
     "output_type": "display_data"
    }
   ],
   "source": [
    "learning_and_labeling()"
   ]
  },
  {
   "cell_type": "markdown",
   "metadata": {},
   "source": [
    "## 2. Cluster distribution is Hyperbolic secant distribution"
   ]
  },
  {
   "cell_type": "code",
   "execution_count": 26,
   "metadata": {},
   "outputs": [],
   "source": [
    "true_logpdf = lambda x, param: logpdf_mixture_dist(x, param, logpdf_hypsecant)"
   ]
  },
  {
   "cell_type": "code",
   "execution_count": 27,
   "metadata": {},
   "outputs": [],
   "source": [
    "np.random.seed(data_seed)\n",
    "train_x = np.zeros((n, M))\n",
    "for i in range(n):\n",
    "    for j in range(M):\n",
    "        train_x[i, j] = random_hsm(n = 1, loc=true_b[true_train_label_arg[i],j], scale=true_s[true_train_label_arg[i],j])\n",
    "\n",
    "noise_data_num = math.ceil(n*true_delta)\n",
    "if noise_data_num > 0:\n",
    "    train_x[-noise_data_num:,:] = np.random.uniform(low=-30, high=30, size = noise_data_num*M).reshape(noise_data_num,M)\n",
    "    \n",
    "np.random.seed(test_seed)\n",
    "test_x = np.zeros((test_data_num, M))\n",
    "for i in range(test_data_num):\n",
    "    for j in range(M):\n",
    "        test_x[i, j] = random_hsm(n = 1, loc=true_b[true_test_label_arg[i],j], scale=true_s[true_test_label_arg[i],j])\n",
    "\n",
    "noise_data_num = math.ceil(test_data_num*true_delta)\n",
    "if noise_data_num > 0:\n",
    "    test_x[-noise_data_num:,:] = np.random.uniform(low=-30, high=30, size = noise_data_num*M).reshape(noise_data_num,M)"
   ]
  },
  {
   "cell_type": "code",
   "execution_count": 28,
   "metadata": {},
   "outputs": [
    {
     "data": {
      "text/markdown": [
       "### 1. Data distribution:"
      ],
      "text/plain": [
       "<IPython.core.display.Markdown object>"
      ]
     },
     "metadata": {},
     "output_type": "display_data"
    },
    {
     "data": {
      "image/png": "[encoded data removed]",
      "text/plain": [
       "<Figure size 432x288 with 1 Axes>"
      ]
     },
     "metadata": {
      "needs_background": "light"
     },
     "output_type": "display_data"
    },
    {
     "data": {
      "text/markdown": [
       "### 2. Learning by sklearn.mixture.BayesianGaussianMixture:"
      ],
      "text/plain": [
       "<IPython.core.display.Markdown object>"
      ]
     },
     "metadata": {},
     "output_type": "display_data"
    },
    {
     "name": "stdout",
     "output_type": "stream",
     "text": [
      "mean plug-in parameters \n",
      " {'est_ratio': array([4.99875031e-05, 4.99875031e-05, 4.97536095e-01, 1.28153658e-01,\n",
      "       3.74210272e-01]), 'est_mean': array([[-2.87532840e-03,  3.40317391e-02],\n",
      "       [-2.87532840e-03,  3.40317391e-02],\n",
      "       [ 2.95639989e-01,  9.84208299e-02],\n",
      "       [ 4.18630399e+00,  4.36198963e+00],\n",
      "       [-1.83406326e+00, -1.53337508e+00]]), 'est_precision': array([[[ 2.00000000e+00,  2.17276033e-19],\n",
      "        [ 2.17276033e-19,  2.00000000e+00]],\n",
      "\n",
      "       [[ 2.00000000e+00,  2.17276033e-19],\n",
      "        [ 2.17276033e-19,  2.00000000e+00]],\n",
      "\n",
      "       [[ 9.99530417e-02, -5.45297790e-02],\n",
      "        [-5.45297790e-02,  9.86165039e-02]],\n",
      "\n",
      "       [[ 4.12652734e-01,  3.97873751e-02],\n",
      "        [ 3.97873751e-02,  4.32445529e-01]],\n",
      "\n",
      "       [[ 3.35209567e-02, -1.10317739e-02],\n",
      "        [-1.10317739e-02,  3.80494812e-02]]])}\n"
     ]
    },
    {
     "data": {
      "text/markdown": [
       "### 3. Learning by GMM:"
      ],
      "text/plain": [
       "<IPython.core.display.Markdown object>"
      ]
     },
     "metadata": {},
     "output_type": "display_data"
    },
    {
     "name": "stdout",
     "output_type": "stream",
     "text": [
      "7934.703316850785\n",
      "7951.3627111769\n",
      "7934.703316845516\n",
      "7951.358662918093\n",
      "7934.703316856794\n",
      "mean plug-in parameters: \n",
      " {'est_ratio': array([0.20777418, 0.00054986, 0.17179238, 0.29263789, 0.32724568]), 'est_mean': array([[ 3.81285803,  3.51771605],\n",
      "       [-0.32087089, 24.9057342 ],\n",
      "       [ 3.9308989 ,  4.06884021],\n",
      "       [-0.35591159, -0.51621256],\n",
      "       [-4.17397022, -3.84146287]]), 'est_precision': array([[0.0718311 , 0.07846871],\n",
      "       [1.24996751, 1.08203632],\n",
      "       [0.37399122, 0.35427374],\n",
      "       [0.14824458, 0.1465054 ],\n",
      "       [0.04951194, 0.05479655]])}\n"
     ]
    },
    {
     "data": {
      "text/markdown": [
       "### 4. Learning by HSMM:"
      ],
      "text/plain": [
       "<IPython.core.display.Markdown object>"
      ]
     },
     "metadata": {},
     "output_type": "display_data"
    },
    {
     "name": "stdout",
     "output_type": "stream",
     "text": [
      "4206.942339660998\n",
      "4193.482241584531\n",
      "4193.509747416119\n",
      "4213.246819143914\n",
      "4206.898777038879\n",
      "mean plug-in parameters: \n",
      " {'est_ratio': array([4.22890231e-01, 3.24071881e-01, 4.99875031e-05, 2.52937912e-01,\n",
      "       4.99875031e-05]), 'est_mean': array([[-1.76838477e-01, -4.05409686e-01],\n",
      "       [ 4.00257903e+00,  4.08483323e+00],\n",
      "       [-2.38313734e-16,  4.82221101e-16],\n",
      "       [-4.83149341e+00, -4.41219067e+00],\n",
      "       [-2.38313734e-16,  4.82221101e-16]]), 'est_precision': array([[0.79879578, 0.89282426],\n",
      "       [1.42278561, 1.55116553],\n",
      "       [1.        , 1.        ],\n",
      "       [0.55940658, 0.52943084],\n",
      "       [1.        , 1.        ]])}\n"
     ]
    },
    {
     "data": {
      "text/markdown": [
       "### 5. Correct number of labeling of GMM by sklearn:"
      ],
      "text/plain": [
       "<IPython.core.display.Markdown object>"
      ]
     },
     "metadata": {},
     "output_type": "display_data"
    },
    {
     "data": {
      "text/markdown": [
       "+ 1240/2000"
      ],
      "text/plain": [
       "<IPython.core.display.Markdown object>"
      ]
     },
     "metadata": {},
     "output_type": "display_data"
    },
    {
     "data": {
      "text/markdown": [
       "### 5. Correct number of labeling of GMM:"
      ],
      "text/plain": [
       "<IPython.core.display.Markdown object>"
      ]
     },
     "metadata": {},
     "output_type": "display_data"
    },
    {
     "data": {
      "text/markdown": [
       "+ 1382/2000"
      ],
      "text/plain": [
       "<IPython.core.display.Markdown object>"
      ]
     },
     "metadata": {},
     "output_type": "display_data"
    },
    {
     "data": {
      "text/markdown": [
       "### 6. Correct number of labeling of HSMM:"
      ],
      "text/plain": [
       "<IPython.core.display.Markdown object>"
      ]
     },
     "metadata": {},
     "output_type": "display_data"
    },
    {
     "data": {
      "text/markdown": [
       "+ 1562/2000"
      ],
      "text/plain": [
       "<IPython.core.display.Markdown object>"
      ]
     },
     "metadata": {},
     "output_type": "display_data"
    },
    {
     "data": {
      "text/markdown": [
       "### 7. Generalization error of GMM by sklearn:"
      ],
      "text/plain": [
       "<IPython.core.display.Markdown object>"
      ]
     },
     "metadata": {},
     "output_type": "display_data"
    },
    {
     "data": {
      "text/markdown": [
       "+ -0.07248436704359014"
      ],
      "text/plain": [
       "<IPython.core.display.Markdown object>"
      ]
     },
     "metadata": {},
     "output_type": "display_data"
    },
    {
     "data": {
      "text/markdown": [
       "### 8. Generalization error of GMM:"
      ],
      "text/plain": [
       "<IPython.core.display.Markdown object>"
      ]
     },
     "metadata": {},
     "output_type": "display_data"
    },
    {
     "data": {
      "text/markdown": [
       "+ -0.06646271477498483"
      ],
      "text/plain": [
       "<IPython.core.display.Markdown object>"
      ]
     },
     "metadata": {},
     "output_type": "display_data"
    },
    {
     "data": {
      "text/markdown": [
       "### 9. Generalization error of HSMM:"
      ],
      "text/plain": [
       "<IPython.core.display.Markdown object>"
      ]
     },
     "metadata": {},
     "output_type": "display_data"
    },
    {
     "data": {
      "text/markdown": [
       "+ -0.08321906950653561"
      ],
      "text/plain": [
       "<IPython.core.display.Markdown object>"
      ]
     },
     "metadata": {},
     "output_type": "display_data"
    },
    {
     "data": {
      "text/markdown": [
       "### 10. Data distribution labeled by GMM by sklearn:"
      ],
      "text/plain": [
       "<IPython.core.display.Markdown object>"
      ]
     },
     "metadata": {},
     "output_type": "display_data"
    },
    {
     "data": {
      "image/png": "[encoded data removed]",
      "text/plain": [
       "<Figure size 432x288 with 1 Axes>"
      ]
     },
     "metadata": {
      "needs_background": "light"
     },
     "output_type": "display_data"
    },
    {
     "data": {
      "text/markdown": [
       "### 11. Data distribution labeled by GMM:"
      ],
      "text/plain": [
       "<IPython.core.display.Markdown object>"
      ]
     },
     "metadata": {},
     "output_type": "display_data"
    },
    {
     "data": {
      "image/png": "[encoded data removed]",
      "text/plain": [
       "<Figure size 432x288 with 1 Axes>"
      ]
     },
     "metadata": {
      "needs_background": "light"
     },
     "output_type": "display_data"
    },
    {
     "data": {
      "text/markdown": [
       "### 12. Data distribution labeled by HSMM:"
      ],
      "text/plain": [
       "<IPython.core.display.Markdown object>"
      ]
     },
     "metadata": {},
     "output_type": "display_data"
    },
    {
     "data": {
      "image/png": "[encoded data removed]",
      "text/plain": [
       "<Figure size 432x288 with 1 Axes>"
      ]
     },
     "metadata": {
      "needs_background": "light"
     },
     "output_type": "display_data"
    }
   ],
   "source": [
    "learning_and_labeling()"
   ]
  },
  {
   "cell_type": "markdown",
   "metadata": {},
   "source": [
    "## 3. Cluster distribution is Laplace distribution"
   ]
  },
  {
   "cell_type": "code",
   "execution_count": 29,
   "metadata": {},
   "outputs": [],
   "source": [
    "logpdf_laplace = lambda x, mean, precision: laplace.logpdf(test_x, loc=mean, scale=1/np.diag(precision)).sum(axis=1)\n",
    "true_logpdf = lambda x, param: logpdf_mixture_dist(x, param, logpdf_laplace)"
   ]
  },
  {
   "cell_type": "code",
   "execution_count": 30,
   "metadata": {},
   "outputs": [],
   "source": [
    "np.random.seed(data_seed)\n",
    "train_x = np.zeros((n, M))\n",
    "for i in range(n):\n",
    "    for j in range(M):\n",
    "        train_x[i, j] = laplace.rvs(loc=true_b[true_train_label_arg[i],j], scale=1/true_s[true_train_label_arg[i],j], size=1)\n",
    "\n",
    "noise_data_num = math.ceil(n*true_delta)\n",
    "if noise_data_num > 0:\n",
    "    train_x[-noise_data_num:,:] = np.random.uniform(low=-30, high=30, size = noise_data_num*M).reshape(noise_data_num,M)\n",
    "    \n",
    "np.random.seed(test_seed)\n",
    "test_x = np.zeros((test_data_num, M))\n",
    "for i in range(test_data_num):\n",
    "    for j in range(M):\n",
    "        test_x[i, j] = laplace.rvs(loc=true_b[true_test_label_arg[i],j], scale=1/true_s[true_test_label_arg[i],j], size=1)\n",
    "\n",
    "noise_data_num = math.ceil(test_data_num*true_delta)\n",
    "if noise_data_num > 0:\n",
    "    test_x[-noise_data_num:,:] = np.random.uniform(low=-30, high=30, size = noise_data_num*M).reshape(noise_data_num,M)"
   ]
  },
  {
   "cell_type": "code",
   "execution_count": 31,
   "metadata": {},
   "outputs": [
    {
     "data": {
      "text/markdown": [
       "### 1. Data distribution:"
      ],
      "text/plain": [
       "<IPython.core.display.Markdown object>"
      ]
     },
     "metadata": {},
     "output_type": "display_data"
    },
    {
     "data": {
      "image/png": "[encoded data removed]",
      "text/plain": [
       "<Figure size 432x288 with 1 Axes>"
      ]
     },
     "metadata": {
      "needs_background": "light"
     },
     "output_type": "display_data"
    },
    {
     "data": {
      "text/markdown": [
       "### 2. Learning by sklearn.mixture.BayesianGaussianMixture:"
      ],
      "text/plain": [
       "<IPython.core.display.Markdown object>"
      ]
     },
     "metadata": {},
     "output_type": "display_data"
    },
    {
     "name": "stdout",
     "output_type": "stream",
     "text": [
      "mean plug-in parameters \n",
      " {'est_ratio': array([0.05233909, 0.28138747, 0.20162259, 0.40380005, 0.0608508 ]), 'est_mean': array([[-3.76404119, -6.34433646],\n",
      "       [ 3.98047022,  4.06557522],\n",
      "       [-0.03036602,  0.04506686],\n",
      "       [-1.7017396 , -1.17479071],\n",
      "       [-4.35726219, -4.01497301]]), 'est_precision': array([[[ 0.93070333,  0.06859566],\n",
      "        [ 0.06859566,  0.13889793]],\n",
      "\n",
      "       [[ 2.1456326 , -0.01925136],\n",
      "        [-0.01925136,  1.86798664]],\n",
      "\n",
      "       [[ 1.86556929,  0.14572101],\n",
      "        [ 0.14572101,  1.45128777]],\n",
      "\n",
      "       [[ 0.09919331, -0.06229579],\n",
      "        [-0.06229579,  0.12465357]],\n",
      "\n",
      "       [[ 0.71722706,  0.31145524],\n",
      "        [ 0.31145524,  2.16690452]]])}\n"
     ]
    },
    {
     "data": {
      "text/markdown": [
       "### 3. Learning by GMM:"
      ],
      "text/plain": [
       "<IPython.core.display.Markdown object>"
      ]
     },
     "metadata": {},
     "output_type": "display_data"
    },
    {
     "name": "stdout",
     "output_type": "stream",
     "text": [
      "5523.8644931096105\n",
      "5561.058659868755\n",
      "5543.020798480525\n",
      "5561.058659868757\n",
      "5523.86449308451\n",
      "mean plug-in parameters: \n",
      " {'est_ratio': array([0.15733977, 0.19233999, 0.25063209, 0.11191904, 0.2877691 ]), 'est_mean': array([[-3.97993928, -3.84312714],\n",
      "       [-3.83694952, -3.54891677],\n",
      "       [ 3.99692812,  4.05246377],\n",
      "       [ 3.10596143,  3.30940895],\n",
      "       [-0.07054652,  0.0136051 ]]), 'est_precision': array([[0.50402706, 0.36123339],\n",
      "       [0.08243311, 0.08206518],\n",
      "       [2.55391918, 2.34313556],\n",
      "       [0.27944828, 0.24588962],\n",
      "       [0.96844905, 0.94556411]])}\n"
     ]
    },
    {
     "data": {
      "text/markdown": [
       "### 4. Learning by HSMM:"
      ],
      "text/plain": [
       "<IPython.core.display.Markdown object>"
      ]
     },
     "metadata": {},
     "output_type": "display_data"
    },
    {
     "name": "stdout",
     "output_type": "stream",
     "text": [
      "1781.6891874137248\n",
      "1781.689187413734\n",
      "1781.689187413714\n",
      "1781.689187413718\n",
      "1781.6891874137439\n",
      "mean plug-in parameters: \n",
      " {'est_ratio': array([4.99875031e-05, 4.99875031e-05, 3.28433003e-01, 3.50820549e-01,\n",
      "       3.20646473e-01]), 'est_mean': array([[-4.27153700e-16, -3.05866117e-16],\n",
      "       [-4.27153700e-16, -3.05866117e-16],\n",
      "       [ 3.96515634e+00,  4.03063975e+00],\n",
      "       [-3.06525510e-02,  7.98902396e-02],\n",
      "       [-4.09248537e+00, -3.92535532e+00]]), 'est_precision': array([[ 1.        ,  1.        ],\n",
      "       [ 1.        ,  1.        ],\n",
      "       [12.14852944, 10.73795094],\n",
      "       [ 5.37464419,  5.33165198],\n",
      "       [ 1.54104654,  1.38627123]])}\n"
     ]
    },
    {
     "data": {
      "text/markdown": [
       "### 5. Correct number of labeling of GMM by sklearn:"
      ],
      "text/plain": [
       "<IPython.core.display.Markdown object>"
      ]
     },
     "metadata": {},
     "output_type": "display_data"
    },
    {
     "data": {
      "text/markdown": [
       "+ 1438/2000"
      ],
      "text/plain": [
       "<IPython.core.display.Markdown object>"
      ]
     },
     "metadata": {},
     "output_type": "display_data"
    },
    {
     "data": {
      "text/markdown": [
       "### 5. Correct number of labeling of GMM:"
      ],
      "text/plain": [
       "<IPython.core.display.Markdown object>"
      ]
     },
     "metadata": {},
     "output_type": "display_data"
    },
    {
     "data": {
      "text/markdown": [
       "+ 1498/2000"
      ],
      "text/plain": [
       "<IPython.core.display.Markdown object>"
      ]
     },
     "metadata": {},
     "output_type": "display_data"
    },
    {
     "data": {
      "text/markdown": [
       "### 6. Correct number of labeling of HSMM:"
      ],
      "text/plain": [
       "<IPython.core.display.Markdown object>"
      ]
     },
     "metadata": {},
     "output_type": "display_data"
    },
    {
     "data": {
      "text/markdown": [
       "+ 1921/2000"
      ],
      "text/plain": [
       "<IPython.core.display.Markdown object>"
      ]
     },
     "metadata": {},
     "output_type": "display_data"
    },
    {
     "data": {
      "text/markdown": [
       "### 7. Generalization error of GMM by sklearn:"
      ],
      "text/plain": [
       "<IPython.core.display.Markdown object>"
      ]
     },
     "metadata": {},
     "output_type": "display_data"
    },
    {
     "data": {
      "text/markdown": [
       "+ -0.3682429520245036"
      ],
      "text/plain": [
       "<IPython.core.display.Markdown object>"
      ]
     },
     "metadata": {},
     "output_type": "display_data"
    },
    {
     "data": {
      "text/markdown": [
       "### 8. Generalization error of GMM:"
      ],
      "text/plain": [
       "<IPython.core.display.Markdown object>"
      ]
     },
     "metadata": {},
     "output_type": "display_data"
    },
    {
     "data": {
      "text/markdown": [
       "+ -0.3705443727300545"
      ],
      "text/plain": [
       "<IPython.core.display.Markdown object>"
      ]
     },
     "metadata": {},
     "output_type": "display_data"
    },
    {
     "data": {
      "text/markdown": [
       "### 9. Generalization error of HSMM:"
      ],
      "text/plain": [
       "<IPython.core.display.Markdown object>"
      ]
     },
     "metadata": {},
     "output_type": "display_data"
    },
    {
     "data": {
      "text/markdown": [
       "+ -0.40235802101412255"
      ],
      "text/plain": [
       "<IPython.core.display.Markdown object>"
      ]
     },
     "metadata": {},
     "output_type": "display_data"
    },
    {
     "data": {
      "text/markdown": [
       "### 10. Data distribution labeled by GMM by sklearn:"
      ],
      "text/plain": [
       "<IPython.core.display.Markdown object>"
      ]
     },
     "metadata": {},
     "output_type": "display_data"
    },
    {
     "data": {
      "image/png": "[encoded data removed]",
      "text/plain": [
       "<Figure size 432x288 with 1 Axes>"
      ]
     },
     "metadata": {
      "needs_background": "light"
     },
     "output_type": "display_data"
    },
    {
     "data": {
      "text/markdown": [
       "### 11. Data distribution labeled by GMM:"
      ],
      "text/plain": [
       "<IPython.core.display.Markdown object>"
      ]
     },
     "metadata": {},
     "output_type": "display_data"
    },
    {
     "data": {
      "image/png": "[encoded data removed]",
      "text/plain": [
       "<Figure size 432x288 with 1 Axes>"
      ]
     },
     "metadata": {
      "needs_background": "light"
     },
     "output_type": "display_data"
    },
    {
     "data": {
      "text/markdown": [
       "### 12. Data distribution labeled by HSMM:"
      ],
      "text/plain": [
       "<IPython.core.display.Markdown object>"
      ]
     },
     "metadata": {},
     "output_type": "display_data"
    },
    {
     "data": {
      "image/png": "[encoded data removed]",
      "text/plain": [
       "<Figure size 432x288 with 1 Axes>"
      ]
     },
     "metadata": {
      "needs_background": "light"
     },
     "output_type": "display_data"
    }
   ],
   "source": [
    "learning_and_labeling()"
   ]
  },
  {
   "cell_type": "markdown",
   "metadata": {},
   "source": [
    "## 4. Cluster distribution is Gumbel distribution"
   ]
  },
  {
   "cell_type": "code",
   "execution_count": 32,
   "metadata": {},
   "outputs": [],
   "source": [
    "logpdf_gumbel = lambda x, mean, precision: gumbel_r.logpdf(test_x, loc=mean, scale=1/np.diag(precision)).sum(axis=1)\n",
    "true_logpdf = lambda x, param: logpdf_mixture_dist(x, param, logpdf_gumbel)"
   ]
  },
  {
   "cell_type": "code",
   "execution_count": 33,
   "metadata": {},
   "outputs": [],
   "source": [
    "np.random.seed(data_seed)\n",
    "train_x = np.zeros((n, M))\n",
    "for i in range(n):\n",
    "    for j in range(M):\n",
    "        train_x[i, j] = gumbel_r.rvs(loc=true_b[true_train_label_arg[i],j], scale=1/true_s[true_train_label_arg[i],j], size=1)\n",
    "\n",
    "noise_data_num = math.ceil(n*true_delta)\n",
    "if noise_data_num > 0:\n",
    "    train_x[-noise_data_num:,:] = np.random.uniform(low=-30, high=30, size = noise_data_num*M).reshape(noise_data_num,M)\n",
    "    \n",
    "np.random.seed(test_seed)\n",
    "test_x = np.zeros((test_data_num, M))\n",
    "for i in range(test_data_num):\n",
    "    for j in range(M):\n",
    "        test_x[i, j] = gumbel_r.rvs(loc=true_b[true_test_label_arg[i],j], scale=1/true_s[true_test_label_arg[i],j], size=1)\n",
    "\n",
    "noise_data_num = math.ceil(test_data_num*true_delta)\n",
    "if noise_data_num > 0:\n",
    "    test_x[-noise_data_num:,:] = np.random.uniform(low=-30, high=30, size = noise_data_num*M).reshape(noise_data_num,M)"
   ]
  },
  {
   "cell_type": "code",
   "execution_count": 34,
   "metadata": {},
   "outputs": [
    {
     "data": {
      "text/markdown": [
       "### 1. Data distribution:"
      ],
      "text/plain": [
       "<IPython.core.display.Markdown object>"
      ]
     },
     "metadata": {},
     "output_type": "display_data"
    },
    {
     "data": {
      "image/png": "[encoded data removed]",
      "text/plain": [
       "<Figure size 432x288 with 1 Axes>"
      ]
     },
     "metadata": {
      "needs_background": "light"
     },
     "output_type": "display_data"
    },
    {
     "data": {
      "text/markdown": [
       "### 2. Learning by sklearn.mixture.BayesianGaussianMixture:"
      ],
      "text/plain": [
       "<IPython.core.display.Markdown object>"
      ]
     },
     "metadata": {},
     "output_type": "display_data"
    },
    {
     "name": "stdout",
     "output_type": "stream",
     "text": [
      "mean plug-in parameters \n",
      " {'est_ratio': array([0.26534371, 0.25798559, 0.25575292, 0.07031727, 0.15060051]), 'est_mean': array([[-3.58110686, -3.35739128],\n",
      "       [ 4.14549558,  4.19675282],\n",
      "       [ 0.1971785 ,  0.33125028],\n",
      "       [ 4.97278793,  5.30427334],\n",
      "       [ 0.8853515 ,  0.91205132]]), 'est_precision': array([[[ 0.32523006,  0.0362606 ],\n",
      "        [ 0.0362606 ,  0.26759385]],\n",
      "\n",
      "       [[ 2.68946758,  0.24955568],\n",
      "        [ 0.24955568,  2.65405288]],\n",
      "\n",
      "       [[ 1.31650756, -0.01113448],\n",
      "        [-0.01113448,  1.01237704]],\n",
      "\n",
      "       [[ 1.01110198,  0.34543805],\n",
      "        [ 0.34543805,  0.89574165]],\n",
      "\n",
      "       [[ 0.21272392,  0.08289724],\n",
      "        [ 0.08289724,  0.2054686 ]]])}\n"
     ]
    },
    {
     "data": {
      "text/markdown": [
       "### 3. Learning by GMM:"
      ],
      "text/plain": [
       "<IPython.core.display.Markdown object>"
      ]
     },
     "metadata": {},
     "output_type": "display_data"
    },
    {
     "name": "stdout",
     "output_type": "stream",
     "text": [
      "5152.479879453285\n",
      "5172.783375332232\n",
      "5172.783379045174\n",
      "5172.7833755109\n",
      "5174.980854070322\n",
      "mean plug-in parameters: \n",
      " {'est_ratio': array([0.22701177, 0.1781317 , 0.23958501, 0.084486  , 0.27078553]), 'est_mean': array([[-3.69939593, -3.60729446],\n",
      "       [ 0.13889699,  0.36237692],\n",
      "       [ 4.1633581 ,  4.18173126],\n",
      "       [ 4.70718925,  5.128972  ],\n",
      "       [ 0.26785667,  0.39140878]]), 'est_precision': array([[0.35917847, 0.31983036],\n",
      "       [0.11553733, 0.13036748],\n",
      "       [2.62138365, 2.77706305],\n",
      "       [0.95138768, 0.77287761],\n",
      "       [1.15833623, 0.95387389]])}\n"
     ]
    },
    {
     "data": {
      "text/markdown": [
       "### 4. Learning by HSMM:"
      ],
      "text/plain": [
       "<IPython.core.display.Markdown object>"
      ]
     },
     "metadata": {},
     "output_type": "display_data"
    },
    {
     "name": "stdout",
     "output_type": "stream",
     "text": [
      "1550.275814000114\n",
      "1543.5329095022748\n",
      "1529.782669374923\n",
      "1529.7826693750465\n",
      "1529.782669375022\n",
      "mean plug-in parameters: \n",
      " {'est_ratio': array([0.11690872, 0.00838079, 0.33764384, 0.39794764, 0.13911901]), 'est_mean': array([[-4.53131668, -2.21781689],\n",
      "       [ 4.15503918, -2.97401958],\n",
      "       [ 4.22169576,  4.30003591],\n",
      "       [ 0.21899951,  0.35305182],\n",
      "       [-3.03276641, -4.36576497]]), 'est_precision': array([[ 4.84923921,  1.49371812],\n",
      "       [ 2.21919861,  1.40157829],\n",
      "       [12.32125118, 10.52344545],\n",
      "       [ 4.94424793,  4.39183664],\n",
      "       [ 2.49944426,  4.07060203]])}\n"
     ]
    },
    {
     "data": {
      "text/markdown": [
       "### 5. Correct number of labeling of GMM by sklearn:"
      ],
      "text/plain": [
       "<IPython.core.display.Markdown object>"
      ]
     },
     "metadata": {},
     "output_type": "display_data"
    },
    {
     "data": {
      "text/markdown": [
       "+ 1626/2000"
      ],
      "text/plain": [
       "<IPython.core.display.Markdown object>"
      ]
     },
     "metadata": {},
     "output_type": "display_data"
    },
    {
     "data": {
      "text/markdown": [
       "### 5. Correct number of labeling of GMM:"
      ],
      "text/plain": [
       "<IPython.core.display.Markdown object>"
      ]
     },
     "metadata": {},
     "output_type": "display_data"
    },
    {
     "data": {
      "text/markdown": [
       "+ 1602/2000"
      ],
      "text/plain": [
       "<IPython.core.display.Markdown object>"
      ]
     },
     "metadata": {},
     "output_type": "display_data"
    },
    {
     "data": {
      "text/markdown": [
       "### 6. Correct number of labeling of HSMM:"
      ],
      "text/plain": [
       "<IPython.core.display.Markdown object>"
      ]
     },
     "metadata": {},
     "output_type": "display_data"
    },
    {
     "data": {
      "text/markdown": [
       "+ 1653/2000"
      ],
      "text/plain": [
       "<IPython.core.display.Markdown object>"
      ]
     },
     "metadata": {},
     "output_type": "display_data"
    },
    {
     "data": {
      "text/markdown": [
       "### 7. Generalization error of GMM by sklearn:"
      ],
      "text/plain": [
       "<IPython.core.display.Markdown object>"
      ]
     },
     "metadata": {},
     "output_type": "display_data"
    },
    {
     "data": {
      "text/markdown": [
       "+ -2.5264764253153205"
      ],
      "text/plain": [
       "<IPython.core.display.Markdown object>"
      ]
     },
     "metadata": {},
     "output_type": "display_data"
    },
    {
     "data": {
      "text/markdown": [
       "### 8. Generalization error of GMM:"
      ],
      "text/plain": [
       "<IPython.core.display.Markdown object>"
      ]
     },
     "metadata": {},
     "output_type": "display_data"
    },
    {
     "data": {
      "text/markdown": [
       "+ -2.527544816276661"
      ],
      "text/plain": [
       "<IPython.core.display.Markdown object>"
      ]
     },
     "metadata": {},
     "output_type": "display_data"
    },
    {
     "data": {
      "text/markdown": [
       "### 9. Generalization error of HSMM:"
      ],
      "text/plain": [
       "<IPython.core.display.Markdown object>"
      ]
     },
     "metadata": {},
     "output_type": "display_data"
    },
    {
     "data": {
      "text/markdown": [
       "+ -2.516878467848934"
      ],
      "text/plain": [
       "<IPython.core.display.Markdown object>"
      ]
     },
     "metadata": {},
     "output_type": "display_data"
    },
    {
     "data": {
      "text/markdown": [
       "### 10. Data distribution labeled by GMM by sklearn:"
      ],
      "text/plain": [
       "<IPython.core.display.Markdown object>"
      ]
     },
     "metadata": {},
     "output_type": "display_data"
    },
    {
     "data": {
      "image/png": "[encoded data removed]",
      "text/plain": [
       "<Figure size 432x288 with 1 Axes>"
      ]
     },
     "metadata": {
      "needs_background": "light"
     },
     "output_type": "display_data"
    },
    {
     "data": {
      "text/markdown": [
       "### 11. Data distribution labeled by GMM:"
      ],
      "text/plain": [
       "<IPython.core.display.Markdown object>"
      ]
     },
     "metadata": {},
     "output_type": "display_data"
    },
    {
     "data": {
      "image/png": "[encoded data removed]",
      "text/plain": [
       "<Figure size 432x288 with 1 Axes>"
      ]
     },
     "metadata": {
      "needs_background": "light"
     },
     "output_type": "display_data"
    },
    {
     "data": {
      "text/markdown": [
       "### 12. Data distribution labeled by HSMM:"
      ],
      "text/plain": [
       "<IPython.core.display.Markdown object>"
      ]
     },
     "metadata": {},
     "output_type": "display_data"
    },
    {
     "data": {
      "image/png": "[encoded data removed]",
      "text/plain": [
       "<Figure size 432x288 with 1 Axes>"
      ]
     },
     "metadata": {
      "needs_background": "light"
     },
     "output_type": "display_data"
    }
   ],
   "source": [
    "learning_and_labeling()"
   ]
  },
  {
   "cell_type": "markdown",
   "metadata": {},
   "source": [
    "## 5. Cluster distribution is student distribution"
   ]
  },
  {
   "cell_type": "code",
   "execution_count": 35,
   "metadata": {},
   "outputs": [],
   "source": [
    "logpdf_t = lambda x, mean, precision: t.logpdf(test_x, df=1.5, loc=mean, scale=1/np.diag(precision)).sum(axis=1)\n",
    "true_logpdf = lambda x, param: logpdf_mixture_dist(x, param, logpdf_t)"
   ]
  },
  {
   "cell_type": "code",
   "execution_count": 36,
   "metadata": {},
   "outputs": [],
   "source": [
    "np.random.seed(data_seed)\n",
    "train_x = np.zeros((n, M))\n",
    "for i in range(n):\n",
    "    for j in range(M):\n",
    "        train_x[i, j] = t.rvs(df = 2, loc=true_b[true_train_label_arg[i],j], scale=1/true_s[true_train_label_arg[i],j], size=1)\n",
    "\n",
    "noise_data_num = math.ceil(n*true_delta)\n",
    "if noise_data_num > 0:\n",
    "    train_x[-noise_data_num:,:] = np.random.uniform(low=-30, high=30, size = noise_data_num*M).reshape(noise_data_num,M)\n",
    "    \n",
    "np.random.seed(test_seed)\n",
    "test_x = np.zeros((test_data_num, M))\n",
    "for i in range(test_data_num):\n",
    "    for j in range(M):\n",
    "        test_x[i, j] = t.rvs(df = 1.5, loc=true_b[true_test_label_arg[i],j], scale=1/true_s[true_test_label_arg[i],j], size=1)\n",
    "\n",
    "noise_data_num = math.ceil(test_data_num*true_delta)\n",
    "if noise_data_num > 0:\n",
    "    test_x[-noise_data_num:,:] = np.random.uniform(low=-30, high=30, size = noise_data_num*M).reshape(noise_data_num,M)"
   ]
  },
  {
   "cell_type": "code",
   "execution_count": 37,
   "metadata": {},
   "outputs": [
    {
     "data": {
      "text/markdown": [
       "### 1. Data distribution:"
      ],
      "text/plain": [
       "<IPython.core.display.Markdown object>"
      ]
     },
     "metadata": {},
     "output_type": "display_data"
    },
    {
     "data": {
      "image/png": "[encoded data removed]",
      "text/plain": [
       "<Figure size 432x288 with 1 Axes>"
      ]
     },
     "metadata": {
      "needs_background": "light"
     },
     "output_type": "display_data"
    },
    {
     "data": {
      "text/markdown": [
       "### 2. Learning by sklearn.mixture.BayesianGaussianMixture:"
      ],
      "text/plain": [
       "<IPython.core.display.Markdown object>"
      ]
     },
     "metadata": {},
     "output_type": "display_data"
    },
    {
     "name": "stdout",
     "output_type": "stream",
     "text": [
      "mean plug-in parameters \n",
      " {'est_ratio': array([6.37918776e-02, 2.38510304e-01, 6.96598094e-01, 5.49862534e-04,\n",
      "       5.49862534e-04]), 'est_mean': array([[ -3.76944719,  -3.86329765],\n",
      "       [  4.02210107,   4.06544611],\n",
      "       [ -1.06526231,  -1.11019781],\n",
      "       [105.12029556,  -3.40919765],\n",
      "       [ -3.57279041, 139.39732802]]), 'est_precision': array([[[ 4.44299228e-03, -5.75472015e-04],\n",
      "        [-5.75472015e-04,  7.65225352e-03]],\n",
      "\n",
      "       [[ 1.88376499e+00,  2.49929857e-01],\n",
      "        [ 2.49929857e-01,  2.06415778e+00]],\n",
      "\n",
      "       [[ 1.35447180e-01, -8.09592427e-02],\n",
      "        [-8.09592427e-02,  1.41956971e-01]],\n",
      "\n",
      "       [[ 3.84884823e-01,  6.89751340e-02],\n",
      "        [ 6.89751340e-02,  2.49774943e+00]],\n",
      "\n",
      "       [[ 2.49848702e+00,  5.85218977e-02],\n",
      "        [ 5.85218977e-02,  2.34514004e-01]]])}\n"
     ]
    },
    {
     "data": {
      "text/markdown": [
       "### 3. Learning by GMM:"
      ],
      "text/plain": [
       "<IPython.core.display.Markdown object>"
      ]
     },
     "metadata": {},
     "output_type": "display_data"
    },
    {
     "name": "stdout",
     "output_type": "stream",
     "text": [
      "6592.666141651109\n",
      "6606.993021957807\n",
      "6647.515153466937\n",
      "6647.515153466934\n",
      "6647.515153466934\n",
      "mean plug-in parameters: \n",
      " {'est_ratio': array([0.22148463, 0.25896267, 0.0080632 , 0.28158133, 0.22990816]), 'est_mean': array([[-1.07996231, -1.42131119],\n",
      "       [ 0.0311296 ,  0.1070933 ],\n",
      "       [-2.99322148, -1.06370499],\n",
      "       [ 3.99079846,  4.01181472],\n",
      "       [-3.65800236, -3.54999418]]), 'est_precision': array([[3.09526435e-02, 2.93148156e-02],\n",
      "       [6.92563915e-01, 8.47036002e-01],\n",
      "       [5.85254670e-04, 6.79139232e-04],\n",
      "       [1.42498880e+00, 1.43786754e+00],\n",
      "       [1.92239130e-01, 2.32104934e-01]])}\n"
     ]
    },
    {
     "data": {
      "text/markdown": [
       "### 4. Learning by HSMM:"
      ],
      "text/plain": [
       "<IPython.core.display.Markdown object>"
      ]
     },
     "metadata": {},
     "output_type": "display_data"
    },
    {
     "name": "stdout",
     "output_type": "stream",
     "text": [
      "2827.127723962426\n",
      "2827.1277239791802\n",
      "2827.127723980212\n",
      "2815.5317882141153\n",
      "2827.127723980396\n",
      "mean plug-in parameters: \n",
      " {'est_ratio': array([0.31048485, 0.01890455, 0.02816139, 0.32707261, 0.31537661]), 'est_mean': array([[-0.02551298,  0.04412941],\n",
      "       [ 3.15841956,  0.63807722],\n",
      "       [-3.78781114, -3.01777847],\n",
      "       [-3.63145636, -3.73600477],\n",
      "       [ 4.01350529,  4.01948175]]), 'est_precision': array([[4.04289999, 4.96978727],\n",
      "       [0.01781555, 0.57555403],\n",
      "       [0.98114704, 0.03360585],\n",
      "       [0.82347117, 1.09580854],\n",
      "       [8.56930048, 8.19184484]])}\n"
     ]
    },
    {
     "data": {
      "text/markdown": [
       "### 5. Correct number of labeling of GMM by sklearn:"
      ],
      "text/plain": [
       "<IPython.core.display.Markdown object>"
      ]
     },
     "metadata": {},
     "output_type": "display_data"
    },
    {
     "data": {
      "text/markdown": [
       "+ 1276/2000"
      ],
      "text/plain": [
       "<IPython.core.display.Markdown object>"
      ]
     },
     "metadata": {},
     "output_type": "display_data"
    },
    {
     "data": {
      "text/markdown": [
       "### 5. Correct number of labeling of GMM:"
      ],
      "text/plain": [
       "<IPython.core.display.Markdown object>"
      ]
     },
     "metadata": {},
     "output_type": "display_data"
    },
    {
     "data": {
      "text/markdown": [
       "+ 1557/2000"
      ],
      "text/plain": [
       "<IPython.core.display.Markdown object>"
      ]
     },
     "metadata": {},
     "output_type": "display_data"
    },
    {
     "data": {
      "text/markdown": [
       "### 6. Correct number of labeling of HSMM:"
      ],
      "text/plain": [
       "<IPython.core.display.Markdown object>"
      ]
     },
     "metadata": {},
     "output_type": "display_data"
    },
    {
     "data": {
      "text/markdown": [
       "+ 1782/2000"
      ],
      "text/plain": [
       "<IPython.core.display.Markdown object>"
      ]
     },
     "metadata": {},
     "output_type": "display_data"
    },
    {
     "data": {
      "text/markdown": [
       "### 7. Generalization error of GMM by sklearn:"
      ],
      "text/plain": [
       "<IPython.core.display.Markdown object>"
      ]
     },
     "metadata": {},
     "output_type": "display_data"
    },
    {
     "data": {
      "text/markdown": [
       "+ 2.3117576522319236"
      ],
      "text/plain": [
       "<IPython.core.display.Markdown object>"
      ]
     },
     "metadata": {},
     "output_type": "display_data"
    },
    {
     "data": {
      "text/markdown": [
       "### 8. Generalization error of GMM:"
      ],
      "text/plain": [
       "<IPython.core.display.Markdown object>"
      ]
     },
     "metadata": {},
     "output_type": "display_data"
    },
    {
     "data": {
      "text/markdown": [
       "+ 0.15169411025949722"
      ],
      "text/plain": [
       "<IPython.core.display.Markdown object>"
      ]
     },
     "metadata": {},
     "output_type": "display_data"
    },
    {
     "data": {
      "text/markdown": [
       "### 9. Generalization error of HSMM:"
      ],
      "text/plain": [
       "<IPython.core.display.Markdown object>"
      ]
     },
     "metadata": {},
     "output_type": "display_data"
    },
    {
     "data": {
      "text/markdown": [
       "+ -0.09380373995749865"
      ],
      "text/plain": [
       "<IPython.core.display.Markdown object>"
      ]
     },
     "metadata": {},
     "output_type": "display_data"
    },
    {
     "data": {
      "text/markdown": [
       "### 10. Data distribution labeled by GMM by sklearn:"
      ],
      "text/plain": [
       "<IPython.core.display.Markdown object>"
      ]
     },
     "metadata": {},
     "output_type": "display_data"
    },
    {
     "data": {
      "image/png": "[encoded data removed]",
      "text/plain": [
       "<Figure size 432x288 with 1 Axes>"
      ]
     },
     "metadata": {
      "needs_background": "light"
     },
     "output_type": "display_data"
    },
    {
     "data": {
      "text/markdown": [
       "### 11. Data distribution labeled by GMM:"
      ],
      "text/plain": [
       "<IPython.core.display.Markdown object>"
      ]
     },
     "metadata": {},
     "output_type": "display_data"
    },
    {
     "data": {
      "image/png": "[encoded data removed]",
      "text/plain": [
       "<Figure size 432x288 with 1 Axes>"
      ]
     },
     "metadata": {
      "needs_background": "light"
     },
     "output_type": "display_data"
    },
    {
     "data": {
      "text/markdown": [
       "### 12. Data distribution labeled by HSMM:"
      ],
      "text/plain": [
       "<IPython.core.display.Markdown object>"
      ]
     },
     "metadata": {},
     "output_type": "display_data"
    },
    {
     "data": {
      "image/png": "[encoded data removed]",
      "text/plain": [
       "<Figure size 432x288 with 1 Axes>"
      ]
     },
     "metadata": {
      "needs_background": "light"
     },
     "output_type": "display_data"
    }
   ],
   "source": [
    "learning_and_labeling()"
   ]
  },
  {
   "cell_type": "markdown",
   "metadata": {},
   "source": [
    "## 6. Cluster distribution is Cauchy distribution"
   ]
  },
  {
   "cell_type": "code",
   "execution_count": 38,
   "metadata": {},
   "outputs": [],
   "source": [
    "logpdf_cauchy = lambda x, mean, precision: cauchy.logpdf(test_x, loc=mean, scale=1/np.diag(precision)).sum(axis=1)\n",
    "true_logpdf = lambda x, param: logpdf_mixture_dist(x, param, logpdf_cauchy)"
   ]
  },
  {
   "cell_type": "code",
   "execution_count": 39,
   "metadata": {},
   "outputs": [],
   "source": [
    "np.random.seed(data_seed)\n",
    "train_x = np.zeros((n, M))\n",
    "for i in range(n):\n",
    "    for j in range(M):\n",
    "        train_x[i, j] = cauchy.rvs(loc=true_b[true_train_label_arg[i],j], scale=1/true_s[true_train_label_arg[i],j], size=1)\n",
    "\n",
    "noise_data_num = math.ceil(n*true_delta)\n",
    "if noise_data_num > 0:\n",
    "    train_x[-noise_data_num:,:] = np.random.uniform(low=-30, high=30, size = noise_data_num*M).reshape(noise_data_num,M)\n",
    "    \n",
    "np.random.seed(test_seed)\n",
    "test_x = np.zeros((test_data_num, M))\n",
    "for i in range(test_data_num):\n",
    "    for j in range(M):\n",
    "        test_x[i, j] = cauchy.rvs(loc=true_b[true_test_label_arg[i],j], scale=1/true_s[true_test_label_arg[i],j], size=1)\n",
    "\n",
    "noise_data_num = math.ceil(test_data_num*true_delta)\n",
    "if noise_data_num > 0:\n",
    "    test_x[-noise_data_num:,:] = np.random.uniform(low=-30, high=30, size = noise_data_num*M).reshape(noise_data_num,M)"
   ]
  },
  {
   "cell_type": "code",
   "execution_count": 40,
   "metadata": {},
   "outputs": [
    {
     "data": {
      "text/markdown": [
       "### 1. Data distribution:"
      ],
      "text/plain": [
       "<IPython.core.display.Markdown object>"
      ]
     },
     "metadata": {},
     "output_type": "display_data"
    },
    {
     "data": {
      "image/png": "[encoded data removed]",
      "text/plain": [
       "<Figure size 432x288 with 1 Axes>"
      ]
     },
     "metadata": {
      "needs_background": "light"
     },
     "output_type": "display_data"
    },
    {
     "data": {
      "text/markdown": [
       "### 2. Learning by sklearn.mixture.BayesianGaussianMixture:"
      ],
      "text/plain": [
       "<IPython.core.display.Markdown object>"
      ]
     },
     "metadata": {},
     "output_type": "display_data"
    },
    {
     "name": "stdout",
     "output_type": "stream",
     "text": [
      "mean plug-in parameters \n",
      " {'est_ratio': array([0.34862006, 0.00104974, 0.06119905, 0.05838744, 0.53074372]), 'est_mean': array([[   2.27039009,    2.31239148],\n",
      "       [-672.75717684,   -7.71053843],\n",
      "       [  -0.82506359,   10.92929624],\n",
      "       [  -3.15555199,   -1.25608846],\n",
      "       [  -1.33786109,   -1.0218677 ]]), 'est_precision': array([[[ 7.25104982e-01, -6.35714289e-01],\n",
      "        [-6.35714289e-01,  7.45542084e-01]],\n",
      "\n",
      "       [[ 8.37043161e-03,  7.19773494e-02],\n",
      "        [ 7.19773494e-02,  7.30869161e-01]],\n",
      "\n",
      "       [[ 4.74435060e-02, -4.89861455e-05],\n",
      "        [-4.89861455e-05,  1.98153883e-04]],\n",
      "\n",
      "       [[ 1.84326235e-04, -1.82514305e-04],\n",
      "        [-1.82514305e-04,  2.74882081e-02]],\n",
      "\n",
      "       [[ 5.65892692e-02, -2.20528134e-02],\n",
      "        [-2.20528134e-02,  5.22936918e-02]]])}\n"
     ]
    },
    {
     "data": {
      "text/markdown": [
       "### 3. Learning by GMM:"
      ],
      "text/plain": [
       "<IPython.core.display.Markdown object>"
      ]
     },
     "metadata": {},
     "output_type": "display_data"
    },
    {
     "name": "stdout",
     "output_type": "stream",
     "text": [
      "8811.726910282101\n",
      "8733.451380652263\n",
      "8733.451380652263\n",
      "8644.065032025785\n",
      "8733.451380652266\n",
      "mean plug-in parameters: \n",
      " {'est_ratio': array([0.52705402, 0.2143623 , 0.0517531 , 0.05790076, 0.14892982]), 'est_mean': array([[ -1.49840544,  -1.17580959],\n",
      "       [  4.00370077,   4.00703368],\n",
      "       [-16.39571481,  -1.63610619],\n",
      "       [ -0.66738588,  11.80190751],\n",
      "       [ -0.05453447,   0.09267349]]), 'est_precision': array([[4.34370013e-02, 4.13263762e-02],\n",
      "       [1.51173743e+00, 1.32233438e+00],\n",
      "       [6.97319851e-05, 2.53060459e-02],\n",
      "       [4.47222563e-02, 1.88594233e-04],\n",
      "       [1.34868031e+00, 1.15517387e+00]])}\n"
     ]
    },
    {
     "data": {
      "text/markdown": [
       "### 4. Learning by HSMM:"
      ],
      "text/plain": [
       "<IPython.core.display.Markdown object>"
      ]
     },
     "metadata": {},
     "output_type": "display_data"
    },
    {
     "name": "stdout",
     "output_type": "stream",
     "text": [
      "4925.107278920848\n",
      "4786.173623367571\n",
      "4786.173623367533\n",
      "4786.173623367558\n",
      "4786.173623367544\n",
      "mean plug-in parameters: \n",
      " {'est_ratio': array([0.05819201, 0.2767366 , 0.06908064, 0.19871628, 0.39727447]), 'est_mean': array([[-6.43225398e-01, -6.89829751e-01],\n",
      "       [ 3.98211214e+00,  4.02536881e+00],\n",
      "       [-3.55668107e-01,  7.13428332e+00],\n",
      "       [ 2.46027552e-03,  1.32152074e-01],\n",
      "       [-3.07892297e+00, -2.71997954e+00]]), 'est_precision': array([[1.73692213e-03, 2.96904664e-01],\n",
      "       [6.67420745e+00, 5.69052551e+00],\n",
      "       [4.01755845e-01, 3.54557705e-03],\n",
      "       [6.61465253e+00, 4.87235832e+00],\n",
      "       [5.05149939e-01, 4.90709576e-01]])}\n"
     ]
    },
    {
     "data": {
      "text/markdown": [
       "### 5. Correct number of labeling of GMM by sklearn:"
      ],
      "text/plain": [
       "<IPython.core.display.Markdown object>"
      ]
     },
     "metadata": {},
     "output_type": "display_data"
    },
    {
     "data": {
      "text/markdown": [
       "+ 1019/2000"
      ],
      "text/plain": [
       "<IPython.core.display.Markdown object>"
      ]
     },
     "metadata": {},
     "output_type": "display_data"
    },
    {
     "data": {
      "text/markdown": [
       "### 5. Correct number of labeling of GMM:"
      ],
      "text/plain": [
       "<IPython.core.display.Markdown object>"
      ]
     },
     "metadata": {},
     "output_type": "display_data"
    },
    {
     "data": {
      "text/markdown": [
       "+ 1309/2000"
      ],
      "text/plain": [
       "<IPython.core.display.Markdown object>"
      ]
     },
     "metadata": {},
     "output_type": "display_data"
    },
    {
     "data": {
      "text/markdown": [
       "### 6. Correct number of labeling of HSMM:"
      ],
      "text/plain": [
       "<IPython.core.display.Markdown object>"
      ]
     },
     "metadata": {},
     "output_type": "display_data"
    },
    {
     "data": {
      "text/markdown": [
       "+ 1477/2000"
      ],
      "text/plain": [
       "<IPython.core.display.Markdown object>"
      ]
     },
     "metadata": {},
     "output_type": "display_data"
    },
    {
     "data": {
      "text/markdown": [
       "### 7. Generalization error of GMM by sklearn:"
      ],
      "text/plain": [
       "<IPython.core.display.Markdown object>"
      ]
     },
     "metadata": {},
     "output_type": "display_data"
    },
    {
     "data": {
      "text/markdown": [
       "+ 3.7948608166855906"
      ],
      "text/plain": [
       "<IPython.core.display.Markdown object>"
      ]
     },
     "metadata": {},
     "output_type": "display_data"
    },
    {
     "data": {
      "text/markdown": [
       "### 8. Generalization error of GMM:"
      ],
      "text/plain": [
       "<IPython.core.display.Markdown object>"
      ]
     },
     "metadata": {},
     "output_type": "display_data"
    },
    {
     "data": {
      "text/markdown": [
       "+ 1.7963747415083828"
      ],
      "text/plain": [
       "<IPython.core.display.Markdown object>"
      ]
     },
     "metadata": {},
     "output_type": "display_data"
    },
    {
     "data": {
      "text/markdown": [
       "### 9. Generalization error of HSMM:"
      ],
      "text/plain": [
       "<IPython.core.display.Markdown object>"
      ]
     },
     "metadata": {},
     "output_type": "display_data"
    },
    {
     "data": {
      "text/markdown": [
       "+ 0.09230829532459167"
      ],
      "text/plain": [
       "<IPython.core.display.Markdown object>"
      ]
     },
     "metadata": {},
     "output_type": "display_data"
    },
    {
     "data": {
      "text/markdown": [
       "### 10. Data distribution labeled by GMM by sklearn:"
      ],
      "text/plain": [
       "<IPython.core.display.Markdown object>"
      ]
     },
     "metadata": {},
     "output_type": "display_data"
    },
    {
     "data": {
      "image/png": "[encoded data removed]",
      "text/plain": [
       "<Figure size 432x288 with 1 Axes>"
      ]
     },
     "metadata": {
      "needs_background": "light"
     },
     "output_type": "display_data"
    },
    {
     "data": {
      "text/markdown": [
       "### 11. Data distribution labeled by GMM:"
      ],
      "text/plain": [
       "<IPython.core.display.Markdown object>"
      ]
     },
     "metadata": {},
     "output_type": "display_data"
    },
    {
     "data": {
      "image/png": "[encoded data removed]",
      "text/plain": [
       "<Figure size 432x288 with 1 Axes>"
      ]
     },
     "metadata": {
      "needs_background": "light"
     },
     "output_type": "display_data"
    },
    {
     "data": {
      "text/markdown": [
       "### 12. Data distribution labeled by HSMM:"
      ],
      "text/plain": [
       "<IPython.core.display.Markdown object>"
      ]
     },
     "metadata": {},
     "output_type": "display_data"
    },
    {
     "data": {
      "image/png": "[encoded data removed]",
      "text/plain": [
       "<Figure size 432x288 with 1 Axes>"
      ]
     },
     "metadata": {
      "needs_background": "light"
     },
     "output_type": "display_data"
    }
   ],
   "source": [
    "learning_and_labeling()"
   ]
  },
  {
   "cell_type": "markdown",
   "metadata": {},
   "source": [
    "## 7. Cluster distribution is Gamma distribution\n",
    "+ Remark: Actually support of gamma distribution is not whole real line, but scipy can generate data with loc on real value."
   ]
  },
  {
   "cell_type": "code",
   "execution_count": 41,
   "metadata": {},
   "outputs": [],
   "source": [
    "logpdf_gamma = lambda x, mean, precision: gamma.logpdf(test_x, a=1, loc=mean, scale=1/np.diag(precision)).sum(axis=1)\n",
    "true_logpdf = lambda x, param: logpdf_mixture_dist(x, param, logpdf_gamma)"
   ]
  },
  {
   "cell_type": "code",
   "execution_count": 42,
   "metadata": {},
   "outputs": [],
   "source": [
    "np.random.seed(data_seed)\n",
    "train_x = np.zeros((n, M))\n",
    "for i in range(n):\n",
    "    for j in range(M):\n",
    "        train_x[i, j] = gamma.rvs(a = 1, loc=true_b[true_train_label_arg[i],j], scale=1/true_s[true_train_label_arg[i],j], size=1)\n",
    "\n",
    "noise_data_num = math.ceil(n*true_delta)\n",
    "if noise_data_num > 0:\n",
    "    train_x[-noise_data_num:,:] = np.random.uniform(low=-30, high=30, size = noise_data_num*M).reshape(noise_data_num,M)\n",
    "    \n",
    "np.random.seed(test_seed)\n",
    "test_x = np.zeros((test_data_num, M))\n",
    "for i in range(test_data_num):\n",
    "    for j in range(M):\n",
    "        test_x[i, j] = gamma.rvs(a = 1, loc=true_b[true_test_label_arg[i],j], scale=1/true_s[true_test_label_arg[i],j], size=1)\n",
    "\n",
    "noise_data_num = math.ceil(test_data_num*true_delta)\n",
    "if noise_data_num > 0:\n",
    "    test_x[-noise_data_num:,:] = np.random.uniform(low=-30, high=30, size = noise_data_num*M).reshape(noise_data_num,M)"
   ]
  },
  {
   "cell_type": "code",
   "execution_count": 43,
   "metadata": {},
   "outputs": [
    {
     "data": {
      "text/markdown": [
       "### 1. Data distribution:"
      ],
      "text/plain": [
       "<IPython.core.display.Markdown object>"
      ]
     },
     "metadata": {},
     "output_type": "display_data"
    },
    {
     "data": {
      "image/png": "[encoded data removed]",
      "text/plain": [
       "<Figure size 432x288 with 1 Axes>"
      ]
     },
     "metadata": {
      "needs_background": "light"
     },
     "output_type": "display_data"
    },
    {
     "data": {
      "text/markdown": [
       "### 2. Learning by sklearn.mixture.BayesianGaussianMixture:"
      ],
      "text/plain": [
       "<IPython.core.display.Markdown object>"
      ]
     },
     "metadata": {},
     "output_type": "display_data"
    },
    {
     "name": "stdout",
     "output_type": "stream",
     "text": [
      "mean plug-in parameters \n",
      " {'est_ratio': array([0.12733216, 0.28856788, 0.24411629, 0.24016802, 0.09981566]), 'est_mean': array([[-2.3083558 , -3.20557915],\n",
      "       [ 4.517274  ,  4.57771848],\n",
      "       [ 0.619734  ,  0.7580205 ],\n",
      "       [ 1.46787831,  1.49393421],\n",
      "       [-3.4065856 , -1.78905225]]), 'est_precision': array([[[ 0.94615028, -0.20491481],\n",
      "        [-0.20491481,  2.97535359]],\n",
      "\n",
      "       [[ 5.36390439,  0.12486286],\n",
      "        [ 0.12486286,  4.26583684]],\n",
      "\n",
      "       [[ 4.31345196,  0.16609124],\n",
      "        [ 0.16609124,  2.83735243]],\n",
      "\n",
      "       [[ 0.16153214, -0.05828708],\n",
      "        [-0.05828708,  0.1468877 ]],\n",
      "\n",
      "       [[ 6.15562278, -0.32812456],\n",
      "        [-0.32812456,  0.54899306]]])}\n"
     ]
    },
    {
     "data": {
      "text/markdown": [
       "### 3. Learning by GMM:"
      ],
      "text/plain": [
       "<IPython.core.display.Markdown object>"
      ]
     },
     "metadata": {},
     "output_type": "display_data"
    },
    {
     "name": "stdout",
     "output_type": "stream",
     "text": [
      "3787.829759694037\n",
      "3787.8297596940197\n",
      "3848.095213853409\n",
      "3830.5038980223853\n",
      "3787.829759694114\n",
      "mean plug-in parameters: \n",
      " {'est_ratio': array([0.22903276, 0.20866636, 0.11197109, 0.23684346, 0.21348633]), 'est_mean': array([[ 0.50415927,  0.63677033],\n",
      "       [-2.80674925, -2.76638884],\n",
      "       [ 4.97454101,  5.19836739],\n",
      "       [ 0.61798782,  0.76077305],\n",
      "       [ 4.40578165,  4.43845447]]), 'est_precision': array([[0.17233099, 0.1895312 ],\n",
      "       [1.26234046, 1.10786437],\n",
      "       [1.69663446, 1.19382779],\n",
      "       [4.34174216, 2.84550196],\n",
      "       [9.78047326, 8.57166932]])}\n"
     ]
    },
    {
     "data": {
      "text/markdown": [
       "### 4. Learning by HSMM:"
      ],
      "text/plain": [
       "<IPython.core.display.Markdown object>"
      ]
     },
     "metadata": {},
     "output_type": "display_data"
    },
    {
     "name": "stdout",
     "output_type": "stream",
     "text": [
      "313.7820394830901\n",
      "345.0587259000804\n",
      "313.78203947620204\n",
      "313.78203949207636\n",
      "313.7820394865639\n",
      "mean plug-in parameters: \n",
      " {'est_ratio': array([0.07979082, 0.10322507, 0.32756911, 0.31661762, 0.17279738]), 'est_mean': array([[ 2.38708941,  0.82936606],\n",
      "       [-3.15899121, -0.99385668],\n",
      "       [ 4.48893725,  4.54900602],\n",
      "       [ 0.57455072,  0.76446438],\n",
      "       [-2.54468354, -3.1519613 ]]), 'est_precision': array([[ 2.20793479,  1.94500433],\n",
      "       [11.58376578,  2.17822554],\n",
      "       [25.03310068, 19.85344841],\n",
      "       [18.93326531,  9.31765126],\n",
      "       [ 5.29812199, 12.97859299]])}\n"
     ]
    },
    {
     "data": {
      "text/markdown": [
       "### 5. Correct number of labeling of GMM by sklearn:"
      ],
      "text/plain": [
       "<IPython.core.display.Markdown object>"
      ]
     },
     "metadata": {},
     "output_type": "display_data"
    },
    {
     "data": {
      "text/markdown": [
       "+ 1393/2000"
      ],
      "text/plain": [
       "<IPython.core.display.Markdown object>"
      ]
     },
     "metadata": {},
     "output_type": "display_data"
    },
    {
     "data": {
      "text/markdown": [
       "### 5. Correct number of labeling of GMM:"
      ],
      "text/plain": [
       "<IPython.core.display.Markdown object>"
      ]
     },
     "metadata": {},
     "output_type": "display_data"
    },
    {
     "data": {
      "text/markdown": [
       "+ 1401/2000"
      ],
      "text/plain": [
       "<IPython.core.display.Markdown object>"
      ]
     },
     "metadata": {},
     "output_type": "display_data"
    },
    {
     "data": {
      "text/markdown": [
       "### 6. Correct number of labeling of HSMM:"
      ],
      "text/plain": [
       "<IPython.core.display.Markdown object>"
      ]
     },
     "metadata": {},
     "output_type": "display_data"
    },
    {
     "data": {
      "text/markdown": [
       "+ 1650/2000"
      ],
      "text/plain": [
       "<IPython.core.display.Markdown object>"
      ]
     },
     "metadata": {},
     "output_type": "display_data"
    },
    {
     "data": {
      "text/markdown": [
       "### 7. Generalization error of GMM by sklearn:"
      ],
      "text/plain": [
       "<IPython.core.display.Markdown object>"
      ]
     },
     "metadata": {},
     "output_type": "display_data"
    },
    {
     "data": {
      "text/markdown": [
       "+ -0.11633792272288769"
      ],
      "text/plain": [
       "<IPython.core.display.Markdown object>"
      ]
     },
     "metadata": {},
     "output_type": "display_data"
    },
    {
     "data": {
      "text/markdown": [
       "### 8. Generalization error of GMM:"
      ],
      "text/plain": [
       "<IPython.core.display.Markdown object>"
      ]
     },
     "metadata": {},
     "output_type": "display_data"
    },
    {
     "data": {
      "text/markdown": [
       "+ -0.13593598257029477"
      ],
      "text/plain": [
       "<IPython.core.display.Markdown object>"
      ]
     },
     "metadata": {},
     "output_type": "display_data"
    },
    {
     "data": {
      "text/markdown": [
       "### 9. Generalization error of HSMM:"
      ],
      "text/plain": [
       "<IPython.core.display.Markdown object>"
      ]
     },
     "metadata": {},
     "output_type": "display_data"
    },
    {
     "data": {
      "text/markdown": [
       "+ -0.10291352823167303"
      ],
      "text/plain": [
       "<IPython.core.display.Markdown object>"
      ]
     },
     "metadata": {},
     "output_type": "display_data"
    },
    {
     "data": {
      "text/markdown": [
       "### 10. Data distribution labeled by GMM by sklearn:"
      ],
      "text/plain": [
       "<IPython.core.display.Markdown object>"
      ]
     },
     "metadata": {},
     "output_type": "display_data"
    },
    {
     "data": {
      "image/png": "[encoded data removed]",
      "text/plain": [
       "<Figure size 432x288 with 1 Axes>"
      ]
     },
     "metadata": {
      "needs_background": "light"
     },
     "output_type": "display_data"
    },
    {
     "data": {
      "text/markdown": [
       "### 11. Data distribution labeled by GMM:"
      ],
      "text/plain": [
       "<IPython.core.display.Markdown object>"
      ]
     },
     "metadata": {},
     "output_type": "display_data"
    },
    {
     "data": {
      "image/png": "[encoded data removed]",
      "text/plain": [
       "<Figure size 432x288 with 1 Axes>"
      ]
     },
     "metadata": {
      "needs_background": "light"
     },
     "output_type": "display_data"
    },
    {
     "data": {
      "text/markdown": [
       "### 12. Data distribution labeled by HSMM:"
      ],
      "text/plain": [
       "<IPython.core.display.Markdown object>"
      ]
     },
     "metadata": {},
     "output_type": "display_data"
    },
    {
     "data": {
      "image/png": "[encoded data removed]",
      "text/plain": [
       "<Figure size 432x288 with 1 Axes>"
      ]
     },
     "metadata": {
      "needs_background": "light"
     },
     "output_type": "display_data"
    }
   ],
   "source": [
    "learning_and_labeling()"
   ]
  },
  {
   "cell_type": "markdown",
   "metadata": {},
   "source": [
    "## 8. Cluster distribution is Skew Normal distribution"
   ]
  },
  {
   "cell_type": "code",
   "execution_count": 44,
   "metadata": {},
   "outputs": [],
   "source": [
    "logpdf_skewnormal = lambda x, mean, precision: skewnorm.logpdf(test_x, a=2, loc=mean, scale=1/np.diag(precision)).sum(axis=1)\n",
    "true_logpdf = lambda x, param: logpdf_mixture_dist(x, param, logpdf_skewnormal)"
   ]
  },
  {
   "cell_type": "code",
   "execution_count": 45,
   "metadata": {},
   "outputs": [],
   "source": [
    "np.random.seed(data_seed)\n",
    "train_x = np.zeros((n, M))\n",
    "for i in range(n):\n",
    "    for j in range(M):\n",
    "        train_x[i, j] = skewnorm.rvs(a = 2, loc=true_b[true_train_label_arg[i],j], scale=1/true_s[true_train_label_arg[i],j], size=1)\n",
    "\n",
    "noise_data_num = math.ceil(n*true_delta)\n",
    "if noise_data_num > 0:\n",
    "    train_x[-noise_data_num:,:] = np.random.uniform(low=-30, high=30, size = noise_data_num*M).reshape(noise_data_num,M)\n",
    "    \n",
    "np.random.seed(test_seed)\n",
    "test_x = np.zeros((test_data_num, M))\n",
    "for i in range(test_data_num):\n",
    "    for j in range(M):\n",
    "        test_x[i, j] = skewnorm.rvs(a = 2, loc=true_b[true_test_label_arg[i],j], scale=1/true_s[true_test_label_arg[i],j], size=1)\n",
    "\n",
    "noise_data_num = math.ceil(test_data_num*true_delta)\n",
    "if noise_data_num > 0:\n",
    "    test_x[-noise_data_num:,:] = np.random.uniform(low=-30, high=30, size = noise_data_num*M).reshape(noise_data_num,M)"
   ]
  },
  {
   "cell_type": "code",
   "execution_count": 46,
   "metadata": {},
   "outputs": [
    {
     "data": {
      "text/markdown": [
       "### 1. Data distribution:"
      ],
      "text/plain": [
       "<IPython.core.display.Markdown object>"
      ]
     },
     "metadata": {},
     "output_type": "display_data"
    },
    {
     "data": {
      "image/png": "[encoded data removed]",
      "text/plain": [
       "<Figure size 432x288 with 1 Axes>"
      ]
     },
     "metadata": {
      "needs_background": "light"
     },
     "output_type": "display_data"
    },
    {
     "data": {
      "text/markdown": [
       "### 2. Learning by sklearn.mixture.BayesianGaussianMixture:"
      ],
      "text/plain": [
       "<IPython.core.display.Markdown object>"
      ]
     },
     "metadata": {},
     "output_type": "display_data"
    },
    {
     "name": "stdout",
     "output_type": "stream",
     "text": [
      "mean plug-in parameters \n",
      " {'est_ratio': array([0.15616778, 0.32847998, 0.12328044, 0.19273975, 0.19933206]), 'est_mean': array([[ 0.53036779,  0.41286043],\n",
      "       [ 4.4912682 ,  4.49940232],\n",
      "       [-2.2310672 , -3.52553518],\n",
      "       [-2.98941372, -2.00701496],\n",
      "       [ 0.8559455 ,  0.87483415]]), 'est_precision': array([[[ 3.91468737, -0.45333779],\n",
      "        [-0.45333779,  3.34877676]],\n",
      "\n",
      "       [[ 4.52175174, -0.19334341],\n",
      "        [-0.19334341,  4.3948944 ]],\n",
      "\n",
      "       [[ 0.50386308,  0.05216014],\n",
      "        [ 0.05216014,  1.52661861]],\n",
      "\n",
      "       [[ 0.82077926, -0.12992542],\n",
      "        [-0.12992542,  0.54206278]],\n",
      "\n",
      "       [[ 1.51486284,  0.15822723],\n",
      "        [ 0.15822723,  1.44565528]]])}\n"
     ]
    },
    {
     "data": {
      "text/markdown": [
       "### 3. Learning by GMM:"
      ],
      "text/plain": [
       "<IPython.core.display.Markdown object>"
      ]
     },
     "metadata": {},
     "output_type": "display_data"
    },
    {
     "name": "stdout",
     "output_type": "stream",
     "text": [
      "3220.0170116761774\n",
      "3220.0161905092427\n",
      "3212.3160662792343\n",
      "3207.8981591473257\n",
      "3212.3058526456703\n",
      "mean plug-in parameters: \n",
      " {'est_ratio': array([0.02270847, 0.33519793, 0.18523618, 0.1283947 , 0.32846273]), 'est_mean': array([[ 0.90503674,  1.85278811],\n",
      "       [ 0.68731943,  0.58995572],\n",
      "       [-2.91225833, -1.98201453],\n",
      "       [-2.40827656, -3.54512276],\n",
      "       [ 4.49134123,  4.49946193]]), 'est_precision': array([[0.93645726, 1.44374183],\n",
      "       [2.02007702, 2.10996183],\n",
      "       [0.81693973, 0.55647397],\n",
      "       [0.45469439, 1.49043611],\n",
      "       [4.45453997, 4.33018153]])}\n"
     ]
    },
    {
     "data": {
      "text/markdown": [
       "### 4. Learning by HSMM:"
      ],
      "text/plain": [
       "<IPython.core.display.Markdown object>"
      ]
     },
     "metadata": {},
     "output_type": "display_data"
    },
    {
     "name": "stdout",
     "output_type": "stream",
     "text": [
      "-274.0286779781759\n",
      "-274.02867797814133\n",
      "-274.02867797813633\n",
      "-274.0286779781377\n",
      "-274.0286779780945\n",
      "mean plug-in parameters: \n",
      " {'est_ratio': array([3.08328147e-01, 3.62818896e-01, 4.99875031e-05, 3.28752982e-01,\n",
      "       4.99875031e-05]), 'est_mean': array([[-2.77400115e+00, -2.75769969e+00],\n",
      "       [ 6.56892425e-01,  6.22254173e-01],\n",
      "       [-5.81231159e-17, -4.07278051e-17],\n",
      "       [ 4.46355199e+00,  4.47940879e+00],\n",
      "       [-5.81231159e-17, -4.07278051e-17]]), 'est_precision': array([[ 4.81458889,  4.36678992],\n",
      "       [13.94659733, 13.16389743],\n",
      "       [ 1.        ,  1.        ],\n",
      "       [30.02846943, 28.60684406],\n",
      "       [ 1.        ,  1.        ]])}\n"
     ]
    },
    {
     "data": {
      "text/markdown": [
       "### 5. Correct number of labeling of GMM by sklearn:"
      ],
      "text/plain": [
       "<IPython.core.display.Markdown object>"
      ]
     },
     "metadata": {},
     "output_type": "display_data"
    },
    {
     "data": {
      "text/markdown": [
       "+ 1406/2000"
      ],
      "text/plain": [
       "<IPython.core.display.Markdown object>"
      ]
     },
     "metadata": {},
     "output_type": "display_data"
    },
    {
     "data": {
      "text/markdown": [
       "### 5. Correct number of labeling of GMM:"
      ],
      "text/plain": [
       "<IPython.core.display.Markdown object>"
      ]
     },
     "metadata": {},
     "output_type": "display_data"
    },
    {
     "data": {
      "text/markdown": [
       "+ 1679/2000"
      ],
      "text/plain": [
       "<IPython.core.display.Markdown object>"
      ]
     },
     "metadata": {},
     "output_type": "display_data"
    },
    {
     "data": {
      "text/markdown": [
       "### 6. Correct number of labeling of HSMM:"
      ],
      "text/plain": [
       "<IPython.core.display.Markdown object>"
      ]
     },
     "metadata": {},
     "output_type": "display_data"
    },
    {
     "data": {
      "text/markdown": [
       "+ 1974/2000"
      ],
      "text/plain": [
       "<IPython.core.display.Markdown object>"
      ]
     },
     "metadata": {},
     "output_type": "display_data"
    },
    {
     "data": {
      "text/markdown": [
       "### 7. Generalization error of GMM by sklearn:"
      ],
      "text/plain": [
       "<IPython.core.display.Markdown object>"
      ]
     },
     "metadata": {},
     "output_type": "display_data"
    },
    {
     "data": {
      "text/markdown": [
       "+ -1.602628382789609"
      ],
      "text/plain": [
       "<IPython.core.display.Markdown object>"
      ]
     },
     "metadata": {},
     "output_type": "display_data"
    },
    {
     "data": {
      "text/markdown": [
       "### 8. Generalization error of GMM:"
      ],
      "text/plain": [
       "<IPython.core.display.Markdown object>"
      ]
     },
     "metadata": {},
     "output_type": "display_data"
    },
    {
     "data": {
      "text/markdown": [
       "+ -1.602178591030022"
      ],
      "text/plain": [
       "<IPython.core.display.Markdown object>"
      ]
     },
     "metadata": {},
     "output_type": "display_data"
    },
    {
     "data": {
      "text/markdown": [
       "### 9. Generalization error of HSMM:"
      ],
      "text/plain": [
       "<IPython.core.display.Markdown object>"
      ]
     },
     "metadata": {},
     "output_type": "display_data"
    },
    {
     "data": {
      "text/markdown": [
       "+ -1.5571163127515375"
      ],
      "text/plain": [
       "<IPython.core.display.Markdown object>"
      ]
     },
     "metadata": {},
     "output_type": "display_data"
    },
    {
     "data": {
      "text/markdown": [
       "### 10. Data distribution labeled by GMM by sklearn:"
      ],
      "text/plain": [
       "<IPython.core.display.Markdown object>"
      ]
     },
     "metadata": {},
     "output_type": "display_data"
    },
    {
     "data": {
      "image/png": "[encoded data removed]",
      "text/plain": [
       "<Figure size 432x288 with 1 Axes>"
      ]
     },
     "metadata": {
      "needs_background": "light"
     },
     "output_type": "display_data"
    },
    {
     "data": {
      "text/markdown": [
       "### 11. Data distribution labeled by GMM:"
      ],
      "text/plain": [
       "<IPython.core.display.Markdown object>"
      ]
     },
     "metadata": {},
     "output_type": "display_data"
    },
    {
     "data": {
      "image/png": "[encoded data removed]",
      "text/plain": [
       "<Figure size 432x288 with 1 Axes>"
      ]
     },
     "metadata": {
      "needs_background": "light"
     },
     "output_type": "display_data"
    },
    {
     "data": {
      "text/markdown": [
       "### 12. Data distribution labeled by HSMM:"
      ],
      "text/plain": [
       "<IPython.core.display.Markdown object>"
      ]
     },
     "metadata": {},
     "output_type": "display_data"
    },
    {
     "data": {
      "image/png": "[encoded data removed]",
      "text/plain": [
       "<Figure size 432x288 with 1 Axes>"
      ]
     },
     "metadata": {
      "needs_background": "light"
     },
     "output_type": "display_data"
    }
   ],
   "source": [
    "learning_and_labeling()"
   ]
  },
  {
   "cell_type": "markdown",
   "metadata": {},
   "source": [
    "## 9. Cluster distribution is Parato distribution\n",
    "+ Parato distribution has inifite variance if $shape \\leq 2$."
   ]
  },
  {
   "cell_type": "code",
   "execution_count": 47,
   "metadata": {},
   "outputs": [],
   "source": [
    "logpdf_pareto = lambda x, mean, precision: pareto.logpdf(test_x, b=1.5, loc=mean, scale=1/np.diag(precision)).sum(axis=1)\n",
    "true_logpdf = lambda x, param: logpdf_mixture_dist(x, param, logpdf_pareto)"
   ]
  },
  {
   "cell_type": "code",
   "execution_count": 48,
   "metadata": {},
   "outputs": [],
   "source": [
    "np.random.seed(data_seed)\n",
    "train_x = np.zeros((n, M))\n",
    "for i in range(n):\n",
    "    for j in range(M):\n",
    "        train_x[i, j] = pareto.rvs(b = 1.5, loc=true_b[true_train_label_arg[i],j], scale=1/true_s[true_train_label_arg[i],j], size=1)\n",
    "\n",
    "noise_data_num = math.ceil(n*true_delta)\n",
    "if noise_data_num > 0:\n",
    "    train_x[-noise_data_num:,:] = np.random.uniform(low=-30, high=30, size = noise_data_num*M).reshape(noise_data_num,M)\n",
    "    \n",
    "np.random.seed(test_seed)\n",
    "test_x = np.zeros((test_data_num, M))\n",
    "for i in range(test_data_num):\n",
    "    for j in range(M):\n",
    "        test_x[i, j] = pareto.rvs(b = 1.5, loc=true_b[true_test_label_arg[i],j], scale=1/true_s[true_test_label_arg[i],j], size=1)\n",
    "\n",
    "noise_data_num = math.ceil(test_data_num*true_delta)\n",
    "if noise_data_num > 0:\n",
    "    test_x[-noise_data_num:,:] = np.random.uniform(low=-30, high=30, size = noise_data_num*M).reshape(noise_data_num,M)"
   ]
  },
  {
   "cell_type": "code",
   "execution_count": 49,
   "metadata": {},
   "outputs": [
    {
     "data": {
      "text/markdown": [
       "### 1. Data distribution:"
      ],
      "text/plain": [
       "<IPython.core.display.Markdown object>"
      ]
     },
     "metadata": {},
     "output_type": "display_data"
    },
    {
     "data": {
      "image/png": "[encoded data removed]",
      "text/plain": [
       "<Figure size 432x288 with 1 Axes>"
      ]
     },
     "metadata": {
      "needs_background": "light"
     },
     "output_type": "display_data"
    },
    {
     "data": {
      "text/markdown": [
       "### 2. Learning by sklearn.mixture.BayesianGaussianMixture:"
      ],
      "text/plain": [
       "<IPython.core.display.Markdown object>"
      ]
     },
     "metadata": {},
     "output_type": "display_data"
    },
    {
     "name": "stdout",
     "output_type": "stream",
     "text": [
      "mean plug-in parameters \n",
      " {'est_ratio': array([0.44325161, 0.27769354, 0.03114214, 0.02786374, 0.22004897]), 'est_mean': array([[ 0.50582994,  0.55916449],\n",
      "       [ 3.77575974,  4.32555062],\n",
      "       [ 2.29048551, 28.79518056],\n",
      "       [25.7167752 ,  2.07967188],\n",
      "       [ 5.04785733,  5.06932666]]), 'est_precision': array([[[ 9.10732876e-01, -6.40932077e-01],\n",
      "        [-6.40932077e-01,  8.60244432e-01]],\n",
      "\n",
      "       [[ 9.35070268e-02, -4.09934588e-03],\n",
      "        [-4.09934588e-03,  8.17934412e-02]],\n",
      "\n",
      "       [[ 1.06944476e-01,  2.85961744e-03],\n",
      "        [ 2.85961744e-03,  1.92526352e-03]],\n",
      "\n",
      "       [[ 2.97162334e-03, -1.03637003e-03],\n",
      "        [-1.03637003e-03,  7.88787934e-02]],\n",
      "\n",
      "       [[ 8.46299481e+00,  8.46197368e-02],\n",
      "        [ 8.46197368e-02,  7.65485736e+00]]])}\n"
     ]
    },
    {
     "data": {
      "text/markdown": [
       "### 3. Learning by GMM:"
      ],
      "text/plain": [
       "<IPython.core.display.Markdown object>"
      ]
     },
     "metadata": {},
     "output_type": "display_data"
    },
    {
     "name": "stdout",
     "output_type": "stream",
     "text": [
      "5277.432636184343\n",
      "5699.196768286507\n",
      "5541.058940584245\n",
      "5699.196768286456\n",
      "5541.0589405842875\n",
      "mean plug-in parameters: \n",
      " {'est_ratio': array([0.22092635, 0.33745926, 0.17740287, 0.217369  , 0.04684253]), 'est_mean': array([[ 5.05057861,  5.07158833],\n",
      "       [ 3.53665963,  4.02900991],\n",
      "       [-1.03137097, -1.08667622],\n",
      "       [ 1.46683623,  1.62456702],\n",
      "       [15.48982374, 18.74726772]]), 'est_precision': array([[7.98128394e+00, 7.28116454e+00],\n",
      "       [9.23782108e-02, 7.86302391e-02],\n",
      "       [1.50612426e+00, 1.74828871e+00],\n",
      "       [5.59220587e+00, 2.71765563e+00],\n",
      "       [2.85428561e-03, 1.82075976e-03]])}\n"
     ]
    },
    {
     "data": {
      "text/markdown": [
       "### 4. Learning by HSMM:"
      ],
      "text/plain": [
       "<IPython.core.display.Markdown object>"
      ]
     },
     "metadata": {},
     "output_type": "display_data"
    },
    {
     "name": "stdout",
     "output_type": "stream",
     "text": [
      "2145.011238767537\n",
      "2145.0112387675263\n",
      "1744.7424957455435\n",
      "2145.011238767616\n",
      "2145.0112387674462\n",
      "mean plug-in parameters: \n",
      " {'est_ratio': array([0.30494188, 0.18921496, 0.2724362 , 0.18511358, 0.04829338]), 'est_mean': array([[ 1.49253318,  1.57554199],\n",
      "       [ 5.12265513,  3.72442308],\n",
      "       [ 5.04031445,  5.08999536],\n",
      "       [-1.1838095 , -1.1870111 ],\n",
      "       [ 1.89715196, 16.30309548]]), 'est_precision': array([[12.75553979, 10.55285848],\n",
      "       [ 0.16691206,  0.62242507],\n",
      "       [29.26027235, 21.7244415 ],\n",
      "       [10.48261976, 10.36003039],\n",
      "       [ 1.027664  ,  0.03180667]])}\n"
     ]
    },
    {
     "data": {
      "text/markdown": [
       "### 5. Correct number of labeling of GMM by sklearn:"
      ],
      "text/plain": [
       "<IPython.core.display.Markdown object>"
      ]
     },
     "metadata": {},
     "output_type": "display_data"
    },
    {
     "data": {
      "text/markdown": [
       "+ 1137/2000"
      ],
      "text/plain": [
       "<IPython.core.display.Markdown object>"
      ]
     },
     "metadata": {},
     "output_type": "display_data"
    },
    {
     "data": {
      "text/markdown": [
       "### 5. Correct number of labeling of GMM:"
      ],
      "text/plain": [
       "<IPython.core.display.Markdown object>"
      ]
     },
     "metadata": {},
     "output_type": "display_data"
    },
    {
     "data": {
      "text/markdown": [
       "+ 1261/2000"
      ],
      "text/plain": [
       "<IPython.core.display.Markdown object>"
      ]
     },
     "metadata": {},
     "output_type": "display_data"
    },
    {
     "data": {
      "text/markdown": [
       "### 6. Correct number of labeling of HSMM:"
      ],
      "text/plain": [
       "<IPython.core.display.Markdown object>"
      ]
     },
     "metadata": {},
     "output_type": "display_data"
    },
    {
     "data": {
      "text/markdown": [
       "+ 1476/2000"
      ],
      "text/plain": [
       "<IPython.core.display.Markdown object>"
      ]
     },
     "metadata": {},
     "output_type": "display_data"
    },
    {
     "data": {
      "text/markdown": [
       "### 7. Generalization error of GMM by sklearn:"
      ],
      "text/plain": [
       "<IPython.core.display.Markdown object>"
      ]
     },
     "metadata": {},
     "output_type": "display_data"
    },
    {
     "data": {
      "text/markdown": [
       "+ -1.3277336862731068"
      ],
      "text/plain": [
       "<IPython.core.display.Markdown object>"
      ]
     },
     "metadata": {},
     "output_type": "display_data"
    },
    {
     "data": {
      "text/markdown": [
       "### 8. Generalization error of GMM:"
      ],
      "text/plain": [
       "<IPython.core.display.Markdown object>"
      ]
     },
     "metadata": {},
     "output_type": "display_data"
    },
    {
     "data": {
      "text/markdown": [
       "+ -1.4547462889426142"
      ],
      "text/plain": [
       "<IPython.core.display.Markdown object>"
      ]
     },
     "metadata": {},
     "output_type": "display_data"
    },
    {
     "data": {
      "text/markdown": [
       "### 9. Generalization error of HSMM:"
      ],
      "text/plain": [
       "<IPython.core.display.Markdown object>"
      ]
     },
     "metadata": {},
     "output_type": "display_data"
    },
    {
     "data": {
      "text/markdown": [
       "+ -1.7854519561642228"
      ],
      "text/plain": [
       "<IPython.core.display.Markdown object>"
      ]
     },
     "metadata": {},
     "output_type": "display_data"
    },
    {
     "data": {
      "text/markdown": [
       "### 10. Data distribution labeled by GMM by sklearn:"
      ],
      "text/plain": [
       "<IPython.core.display.Markdown object>"
      ]
     },
     "metadata": {},
     "output_type": "display_data"
    },
    {
     "data": {
      "image/png": "[encoded data removed]",
      "text/plain": [
       "<Figure size 432x288 with 1 Axes>"
      ]
     },
     "metadata": {
      "needs_background": "light"
     },
     "output_type": "display_data"
    },
    {
     "data": {
      "text/markdown": [
       "### 11. Data distribution labeled by GMM:"
      ],
      "text/plain": [
       "<IPython.core.display.Markdown object>"
      ]
     },
     "metadata": {},
     "output_type": "display_data"
    },
    {
     "data": {
      "image/png": "[encoded data removed]",
      "text/plain": [
       "<Figure size 432x288 with 1 Axes>"
      ]
     },
     "metadata": {
      "needs_background": "light"
     },
     "output_type": "display_data"
    },
    {
     "data": {
      "text/markdown": [
       "### 12. Data distribution labeled by HSMM:"
      ],
      "text/plain": [
       "<IPython.core.display.Markdown object>"
      ]
     },
     "metadata": {},
     "output_type": "display_data"
    },
    {
     "data": {
      "image/png": "[encoded data removed]",
      "text/plain": [
       "<Figure size 432x288 with 1 Axes>"
      ]
     },
     "metadata": {
      "needs_background": "light"
     },
     "output_type": "display_data"
    }
   ],
   "source": [
    "learning_and_labeling()"
   ]
  },
  {
   "cell_type": "code",
   "execution_count": null,
   "metadata": {},
   "outputs": [],
   "source": []
  }
 ],
 "metadata": {
  "jupytext": {
   "formats": "ipynb,py"
  },
  "kernelspec": {
   "display_name": "Python 3",
   "language": "python",
   "name": "python3"
  },
  "language_info": {
   "codemirror_mode": {
    "name": "ipython",
    "version": 3
   },
   "file_extension": ".py",
   "mimetype": "text/x-python",
   "name": "python",
   "nbconvert_exporter": "python",
   "pygments_lexer": "ipython3",
   "version": "3.7.3"
  },
  "toc-autonumbering": true
 },
 "nbformat": 4,
 "nbformat_minor": 4
}
