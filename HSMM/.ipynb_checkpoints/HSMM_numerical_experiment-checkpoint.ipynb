{
 "cells": [
  {
   "cell_type": "code",
   "execution_count": 1,
   "metadata": {},
   "outputs": [],
   "source": [
    "%load_ext autoreload\n",
    "%autoreload 2\n",
    "%matplotlib inline"
   ]
  },
  {
   "cell_type": "markdown",
   "metadata": {},
   "source": [
    "# HSMMの性能比較の数値実験"
   ]
  },
  {
   "cell_type": "code",
   "execution_count": 2,
   "metadata": {},
   "outputs": [],
   "source": [
    "import sys\n",
    "sys.path.append(\"../lib\")"
   ]
  },
  {
   "cell_type": "code",
   "execution_count": 3,
   "metadata": {},
   "outputs": [],
   "source": [
    "import math\n",
    "\n",
    "from IPython.core.display import display, Markdown, Latex\n",
    "import numpy as np\n",
    "from scipy.special import gammaln, psi\n",
    "import matplotlib.pyplot as plt\n",
    "import seaborn as sns\n",
    "from scipy.stats import norm, t, cauchy, laplace, gumbel_r, gamma, skewnorm, pareto, multivariate_normal\n",
    "from typing import Callable\n",
    "from sklearn.mixture import BayesianGaussianMixture\n",
    "from sklearn.datasets import load_iris, load_wine, load_breast_cancer\n",
    "\n",
    "from HyperbolicSecantMixtureModelVB import HyperbolicSecantMixtureVB\n",
    "from learning import GaussianMixtureModelVB\n",
    "from util import GaussianMixtureModel, HyperbolicSecantMixtureModel, StudentMixtureModel, LaplaceMixtureModel, GumbelMixtureModel"
   ]
  },
  {
   "cell_type": "markdown",
   "metadata": {},
   "source": [
    "# 問題設定"
   ]
  },
  {
   "cell_type": "markdown",
   "metadata": {},
   "source": [
    "## 真の分布の設定\n",
    "+ データ生成分布は変更しますが、混合比, 中心, scaleは同じものを流用"
   ]
  },
  {
   "cell_type": "code",
   "execution_count": 4,
   "metadata": {},
   "outputs": [],
   "source": [
    "true_ratio = np.array([0.33, 0.33, 0.34])\n",
    "true_delta = 0\n",
    "true_s = np.array([[2, 2], [0.5, 0.5], [1, 1]])\n",
    "true_b = np.array([[2, 4], [-4, -2], [0, 0]])\n",
    "true_param = dict()\n",
    "true_param[\"ratio\"] = true_ratio\n",
    "true_param[\"mean\"] = true_b\n",
    "true_param[\"precision\"] = true_s\n",
    "true_param[\"scale\"] = np.array([np.diag(1/np.sqrt(true_s[k,:])) for k in range(len(true_ratio))])\n",
    "K0 = len(true_ratio)\n",
    "M = true_b.shape[1]"
   ]
  },
  {
   "cell_type": "markdown",
   "metadata": {},
   "source": [
    "## Learning setting:"
   ]
  },
  {
   "cell_type": "code",
   "execution_count": 5,
   "metadata": {},
   "outputs": [],
   "source": [
    "### 学習データの数\n",
    "n = 400\n",
    "\n",
    "### テストデータの数\n",
    "N = 10000\n",
    "\n",
    "### データの出方の個数\n",
    "ndataset = 50\n",
    "\n",
    "### 事前分布のハイパーパラメータ\n",
    "pri_params = {\n",
    "    \"pri_alpha\": 0.1,\n",
    "    \"pri_beta\": 0.001,\n",
    "    \"pri_gamma\": M+2,\n",
    "    \"pri_delta\": 1\n",
    "}\n",
    "\n",
    "### データ生成の回数\n",
    "data_seed_start = 201907\n",
    "data_seeds = np.arange(start = data_seed_start, stop = data_seed_start + ndataset, step = 1)\n",
    "\n",
    "### 学習モデルの初期値の乱数 -> データseedにoffsetを加えたものを使う\n",
    "learning_num = 10\n",
    "learning_seed_offset = 100\n",
    "\n",
    "### 繰り返しアルゴリズムの繰り返し回数\n",
    "learning_iteration = 1000\n",
    "\n",
    "### 学習モデルのコンポーネントの数\n",
    "K = np.array([5, 3])"
   ]
  },
  {
   "cell_type": "markdown",
   "metadata": {},
   "source": [
    "# 性能評価\n",
    "+ 1連の流れ\n",
    "    1. データ生成する\n",
    "    1. 学習を行う\n",
    "    1. 精度評価を行う\n",
    "    1. 1に戻って再度計算"
   ]
  },
  {
   "cell_type": "markdown",
   "metadata": {},
   "source": [
    "# コンポーネントの分布が正規分布の場合"
   ]
  },
  {
   "cell_type": "code",
   "execution_count": 6,
   "metadata": {
    "lines_to_next_cell": 2
   },
   "outputs": [],
   "source": [
    "gerror_gmm_diag = np.zeros(len(data_seeds))\n",
    "cklerror_gmm_diag = np.zeros(len(data_seeds))\n",
    "c01error_gmm_diag = np.zeros(len(data_seeds))\n",
    "\n",
    "gerror_gmm_cov = np.zeros(len(data_seeds))\n",
    "cklerror_gmm_cov = np.zeros(len(data_seeds))\n",
    "c01error_gmm_cov = np.zeros(len(data_seeds))\n",
    "\n",
    "gerror_hsmm = np.zeros(len(data_seeds))\n",
    "cklerror_hsmm = np.zeros(len(data_seeds))\n",
    "c01error_hsmm = np.zeros(len(data_seeds))\n",
    "\n",
    "for i, data_seed in enumerate(data_seeds):\n",
    "    ### データを生成する\n",
    "    (train_X, train_label, train_label_arg) = GaussianMixtureModel.rvs(true_ratio, true_b, true_s, size = n, data_seed = data_seed)\n",
    "    (test_X, test_label, test_label_arg) = GaussianMixtureModel.rvs(true_ratio, true_b, true_s, size = N)\n",
    "    \n",
    "    gmm_diag_obj = GaussianMixtureModelVB(K = K[0],\n",
    "                                     pri_alpha = pri_params[\"pri_alpha\"], pri_beta = pri_params[\"pri_beta\"], pri_gamma = pri_params[\"pri_gamma\"], pri_delta = pri_params[\"pri_delta\"], \n",
    "                                     iteration = 1000, restart_num=learning_num, learning_seed=data_seed + learning_seed_offset, method = \"diag\")\n",
    "    gmm_diag_obj.fit(train_X)\n",
    "    \n",
    "    gmm_cov_obj = GaussianMixtureModelVB(K = K[0],\n",
    "                                     pri_alpha = pri_params[\"pri_alpha\"], pri_beta = pri_params[\"pri_beta\"], pri_gamma = pri_params[\"pri_gamma\"], pri_delta = pri_params[\"pri_delta\"], \n",
    "                                     iteration = 1000, restart_num=learning_num, learning_seed=data_seed + learning_seed_offset, method = \"full\")\n",
    "    gmm_cov_obj.fit(train_X)\n",
    "    \n",
    "    hsmm_obj = HyperbolicSecantMixtureVB(K = K[0],                                     \n",
    "                                         pri_alpha = pri_params[\"pri_alpha\"], pri_beta = pri_params[\"pri_beta\"], pri_gamma = pri_params[\"pri_gamma\"], pri_delta = pri_params[\"pri_delta\"], \n",
    "                                         iteration = 1000, restart_num=learning_num, learning_seed=data_seed + learning_seed_offset)\n",
    "    hsmm_obj.fit(train_X)\n",
    "    posterior_true_logprob = GaussianMixtureModel().latent_posterior_logprob(train_X, true_ratio, true_b, true_s)\n",
    "    cklerror_gmm_diag[i] = gmm_diag_obj.score_latent_kl(posterior_true_logprob)[0]/len(train_X)\n",
    "    cklerror_gmm_cov[i] = gmm_cov_obj.score_latent_kl(posterior_true_logprob)[0]/len(train_X)\n",
    "    cklerror_hsmm[i] = hsmm_obj.score_latent_kl(posterior_true_logprob)[0]/len(train_X)\n",
    "    \n",
    "    c01error_gmm_diag[i] = gmm_diag_obj.score_clustering(train_label_arg)[0]/len(train_X)\n",
    "    c01error_gmm_cov[i] = gmm_cov_obj.score_clustering(train_label_arg)[0]/len(train_X)\n",
    "    c01error_hsmm[i] = hsmm_obj.score_clustering(train_label_arg)[0]/len(train_X)\n",
    "    \n",
    "    true_empirical_entropy = -GaussianMixtureModel.logpdf(test_X, true_ratio, true_b, true_s)\n",
    "    gerror_gmm_diag[i] = (-true_empirical_entropy - gmm_diag_obj.predict_logproba(test_X))/len(test_X)\n",
    "    gerror_gmm_cov[i] = (-true_empirical_entropy - gmm_cov_obj.predict_logproba(test_X))/len(test_X)\n",
    "    gerror_hsmm[i] = (-true_empirical_entropy - hsmm_obj.predict_logproba(test_X))/len(test_X)"
   ]
  },
  {
   "cell_type": "code",
   "execution_count": 7,
   "metadata": {},
   "outputs": [
    {
     "name": "stdout",
     "output_type": "stream",
     "text": [
      "\n",
      "gerror_gmm_diag: 0.024506710493763878,\n",
      "gerror_gmm_cov: 0.0323919555446077,\n",
      "gerror_hsmm: 0.054748160717667,\n",
      "cklerror_gmm_diag: 0.019149422007439645,\n",
      "cklerror_gmm_cov: 0.055792030475848166,\n",
      "cklerror_hsmm: 0.01602691652464027,\n",
      "c01error_gmm_diag: 0.9721999999999998,\n",
      "c01error_gmm_cov: 0.9594499999999999,\n",
      "c01error_hsmm: 0.9734\n",
      "\n"
     ]
    }
   ],
   "source": [
    "print(f\"\"\"\n",
    "gerror_gmm_diag: {gerror_gmm_diag.mean()},\n",
    "gerror_gmm_cov: {gerror_gmm_cov.mean()},\n",
    "gerror_hsmm: {gerror_hsmm.mean()},\n",
    "cklerror_gmm_diag: {cklerror_gmm_diag.mean()},\n",
    "cklerror_gmm_cov: {cklerror_gmm_cov.mean()},\n",
    "cklerror_hsmm: {cklerror_hsmm.mean()},\n",
    "c01error_gmm_diag: {c01error_gmm_diag.mean()},\n",
    "c01error_gmm_cov: {c01error_gmm_cov.mean()},\n",
    "c01error_hsmm: {c01error_hsmm.mean()}\n",
    "\"\"\")"
   ]
  },
  {
   "cell_type": "markdown",
   "metadata": {},
   "source": [
    "# コンポーネントの分布が双曲線正割分布の場合"
   ]
  },
  {
   "cell_type": "code",
   "execution_count": 8,
   "metadata": {},
   "outputs": [],
   "source": [
    "gerror_gmm_diag = np.zeros(len(data_seeds))\n",
    "cklerror_gmm_diag = np.zeros(len(data_seeds))\n",
    "c01error_gmm_diag = np.zeros(len(data_seeds))\n",
    "\n",
    "gerror_gmm_cov = np.zeros(len(data_seeds))\n",
    "cklerror_gmm_cov = np.zeros(len(data_seeds))\n",
    "c01error_gmm_cov = np.zeros(len(data_seeds))\n",
    "\n",
    "gerror_hsmm = np.zeros(len(data_seeds))\n",
    "cklerror_hsmm = np.zeros(len(data_seeds))\n",
    "c01error_hsmm = np.zeros(len(data_seeds))\n",
    "for i, data_seed in enumerate(data_seeds):\n",
    "    ### データを生成する\n",
    "    (train_X, train_label, train_label_arg) = HyperbolicSecantMixtureModel.rvs(true_ratio, true_b, true_s, size = n, data_seed = data_seed)\n",
    "    (test_X, test_label, test_label_arg) = HyperbolicSecantMixtureModel.rvs(true_ratio, true_b, true_s, size = N)\n",
    "    \n",
    "    gmm_diag_obj = GaussianMixtureModelVB(K = K[0],\n",
    "                                     pri_alpha = pri_params[\"pri_alpha\"], pri_beta = pri_params[\"pri_beta\"], pri_gamma = pri_params[\"pri_gamma\"], pri_delta = pri_params[\"pri_delta\"], \n",
    "                                     iteration = 1000, restart_num=learning_num, learning_seed=data_seed + learning_seed_offset, method = \"diag\")\n",
    "    gmm_diag_obj.fit(train_X)\n",
    "    \n",
    "    gmm_cov_obj = GaussianMixtureModelVB(K = K[0],\n",
    "                                     pri_alpha = pri_params[\"pri_alpha\"], pri_beta = pri_params[\"pri_beta\"], pri_gamma = pri_params[\"pri_gamma\"], pri_delta = pri_params[\"pri_delta\"], \n",
    "                                     iteration = 1000, restart_num=learning_num, learning_seed=data_seed + learning_seed_offset, method = \"full\")\n",
    "    gmm_cov_obj.fit(train_X)\n",
    "    \n",
    "    hsmm_obj = HyperbolicSecantMixtureVB(K = K[0],                                     \n",
    "                                         pri_alpha = pri_params[\"pri_alpha\"], pri_beta = pri_params[\"pri_beta\"], pri_gamma = pri_params[\"pri_gamma\"], pri_delta = pri_params[\"pri_delta\"], \n",
    "                                         iteration = 1000, restart_num=learning_num, learning_seed=data_seed + learning_seed_offset)\n",
    "    hsmm_obj.fit(train_X)\n",
    "    \n",
    "    posterior_true_logprob = HyperbolicSecantMixtureModel().latent_posterior_logprob(train_X, true_ratio, true_b, true_s)\n",
    "    cklerror_gmm_diag[i] = gmm_diag_obj.score_latent_kl(posterior_true_logprob)[0]/len(train_X)\n",
    "    cklerror_gmm_cov[i] = gmm_cov_obj.score_latent_kl(posterior_true_logprob)[0]/len(train_X)\n",
    "    cklerror_hsmm[i] = hsmm_obj.score_latent_kl(posterior_true_logprob)[0]/len(train_X)\n",
    "    \n",
    "    c01error_gmm_diag[i] = gmm_diag_obj.score_clustering(train_label_arg)[0]/len(train_X)\n",
    "    c01error_gmm_cov[i] = gmm_cov_obj.score_clustering(train_label_arg)[0]/len(train_X)\n",
    "    c01error_hsmm[i] = hsmm_obj.score_clustering(train_label_arg)[0]/len(train_X)\n",
    "    \n",
    "    true_empirical_entropy = -HyperbolicSecantMixtureModel.logpdf(test_X, true_ratio, true_b, true_s)\n",
    "    gerror_gmm_diag[i] = (-true_empirical_entropy - gmm_diag_obj.predict_logproba(test_X))/len(test_X)\n",
    "    gerror_gmm_cov[i] = (-true_empirical_entropy - gmm_cov_obj.predict_logproba(test_X))/len(test_X)\n",
    "    gerror_hsmm[i] = (-true_empirical_entropy - hsmm_obj.predict_logproba(test_X))/len(test_X)"
   ]
  },
  {
   "cell_type": "code",
   "execution_count": 9,
   "metadata": {},
   "outputs": [
    {
     "name": "stdout",
     "output_type": "stream",
     "text": [
      "\n",
      "gerror_gmm_diag: -0.6045062702891912,\n",
      "gerror_gmm_cov: -0.600146172265723,\n",
      "gerror_hsmm: -0.645334544791902,\n",
      "cklerror_gmm_diag: 5.468274477807025,\n",
      "cklerror_gmm_cov: 5.764468394272928,\n",
      "cklerror_hsmm: 0.9209644359514968,\n",
      "c01error_gmm_diag: 0.85165,\n",
      "c01error_gmm_cov: 0.8230500000000001,\n",
      "c01error_hsmm: 0.8933500000000001\n",
      "\n"
     ]
    }
   ],
   "source": [
    "print(f\"\"\"\n",
    "gerror_gmm_diag: {gerror_gmm_diag.mean()},\n",
    "gerror_gmm_cov: {gerror_gmm_cov.mean()},\n",
    "gerror_hsmm: {gerror_hsmm.mean()},\n",
    "cklerror_gmm_diag: {cklerror_gmm_diag.mean()},\n",
    "cklerror_gmm_cov: {cklerror_gmm_cov.mean()},\n",
    "cklerror_hsmm: {cklerror_hsmm.mean()},\n",
    "c01error_gmm_diag: {c01error_gmm_diag.mean()},\n",
    "c01error_gmm_cov: {c01error_gmm_cov.mean()},\n",
    "c01error_hsmm: {c01error_hsmm.mean()}\n",
    "\"\"\")"
   ]
  },
  {
   "cell_type": "markdown",
   "metadata": {},
   "source": [
    "# コンポーネントの分布がt分布の場合"
   ]
  },
  {
   "cell_type": "code",
   "execution_count": 10,
   "metadata": {},
   "outputs": [],
   "source": [
    "gerror_gmm_diag = np.zeros(len(data_seeds))\n",
    "cklerror_gmm_diag = np.zeros(len(data_seeds))\n",
    "c01error_gmm_diag = np.zeros(len(data_seeds))\n",
    "\n",
    "gerror_gmm_cov = np.zeros(len(data_seeds))\n",
    "cklerror_gmm_cov = np.zeros(len(data_seeds))\n",
    "c01error_gmm_cov = np.zeros(len(data_seeds))\n",
    "\n",
    "gerror_hsmm = np.zeros(len(data_seeds))\n",
    "cklerror_hsmm = np.zeros(len(data_seeds))\n",
    "c01error_hsmm = np.zeros(len(data_seeds))\n",
    "\n",
    "true_df = 3\n",
    "for i, data_seed in enumerate(data_seeds):\n",
    "    ### データを生成する\n",
    "    (train_X, train_label, train_label_arg) = StudentMixtureModel.rvs(true_ratio, true_b, true_s, size = n, data_seed = data_seed, df = true_df)\n",
    "    (test_X, test_label, test_label_arg) = StudentMixtureModel.rvs(true_ratio, true_b, true_s, size = N, df = true_df)\n",
    "    \n",
    "    gmm_diag_obj = GaussianMixtureModelVB(K = K[0],\n",
    "                                     pri_alpha = pri_params[\"pri_alpha\"], pri_beta = pri_params[\"pri_beta\"], pri_gamma = pri_params[\"pri_gamma\"], pri_delta = pri_params[\"pri_delta\"], \n",
    "                                     iteration = 1000, restart_num=learning_num, learning_seed=data_seed + learning_seed_offset, method = \"diag\")\n",
    "    gmm_diag_obj.fit(train_X)\n",
    "    \n",
    "    gmm_cov_obj = GaussianMixtureModelVB(K = K[0],\n",
    "                                     pri_alpha = pri_params[\"pri_alpha\"], pri_beta = pri_params[\"pri_beta\"], pri_gamma = pri_params[\"pri_gamma\"], pri_delta = pri_params[\"pri_delta\"], \n",
    "                                     iteration = 1000, restart_num=learning_num, learning_seed=data_seed + learning_seed_offset, method = \"full\")\n",
    "    gmm_cov_obj.fit(train_X)\n",
    "    \n",
    "    hsmm_obj = HyperbolicSecantMixtureVB(K = K[0],                                     \n",
    "                                         pri_alpha = pri_params[\"pri_alpha\"], pri_beta = pri_params[\"pri_beta\"], pri_gamma = pri_params[\"pri_gamma\"], pri_delta = pri_params[\"pri_delta\"], \n",
    "                                         iteration = 1000, restart_num=learning_num, learning_seed=data_seed + learning_seed_offset)\n",
    "    hsmm_obj.fit(train_X)\n",
    "    \n",
    "    posterior_true_logprob = StudentMixtureModel().latent_posterior_logprob(train_X, true_ratio, true_b, true_s, df = true_df)\n",
    "    cklerror_gmm_diag[i] = gmm_diag_obj.score_latent_kl(posterior_true_logprob)[0]/len(train_X)\n",
    "    cklerror_gmm_cov[i] = gmm_cov_obj.score_latent_kl(posterior_true_logprob)[0]/len(train_X)\n",
    "    cklerror_hsmm[i] = hsmm_obj.score_latent_kl(posterior_true_logprob)[0]/len(train_X)\n",
    "    \n",
    "    c01error_gmm_diag[i] = gmm_diag_obj.score_clustering(train_label_arg)[0]/len(train_X)\n",
    "    c01error_gmm_cov[i] = gmm_cov_obj.score_clustering(train_label_arg)[0]/len(train_X)\n",
    "    c01error_hsmm[i] = hsmm_obj.score_clustering(train_label_arg)[0]/len(train_X)\n",
    "    \n",
    "    true_empirical_entropy = -StudentMixtureModel.logpdf(test_X, true_ratio, true_b, true_s, df = true_df)\n",
    "    gerror_gmm_diag[i] = (-true_empirical_entropy - gmm_diag_obj.predict_logproba(test_X))/len(test_X)\n",
    "    gerror_gmm_cov[i] = (-true_empirical_entropy - gmm_cov_obj.predict_logproba(test_X))/len(test_X)\n",
    "    gerror_hsmm[i] = (-true_empirical_entropy - hsmm_obj.predict_logproba(test_X))/len(test_X)"
   ]
  },
  {
   "cell_type": "code",
   "execution_count": 11,
   "metadata": {},
   "outputs": [
    {
     "name": "stdout",
     "output_type": "stream",
     "text": [
      "\n",
      "gerror_gmm_diag: 0.17984156410457883,\n",
      "gerror_gmm_cov: 0.16078496025847946,\n",
      "gerror_hsmm: 0.04867057924803943,\n",
      "cklerror_gmm_diag: 1.168557703907011,\n",
      "cklerror_gmm_cov: 1.3413629071166095,\n",
      "cklerror_hsmm: 0.04758842712067483,\n",
      "c01error_gmm_diag: 0.8177500000000001,\n",
      "c01error_gmm_cov: 0.78405,\n",
      "c01error_hsmm: 0.9067000000000001\n",
      "\n"
     ]
    }
   ],
   "source": [
    "print(f\"\"\"\n",
    "gerror_gmm_diag: {gerror_gmm_diag.mean()},\n",
    "gerror_gmm_cov: {gerror_gmm_cov.mean()},\n",
    "gerror_hsmm: {gerror_hsmm.mean()},\n",
    "cklerror_gmm_diag: {cklerror_gmm_diag.mean()},\n",
    "cklerror_gmm_cov: {cklerror_gmm_cov.mean()},\n",
    "cklerror_hsmm: {cklerror_hsmm.mean()},\n",
    "c01error_gmm_diag: {c01error_gmm_diag.mean()},\n",
    "c01error_gmm_cov: {c01error_gmm_cov.mean()},\n",
    "c01error_hsmm: {c01error_hsmm.mean()}\n",
    "\"\"\")"
   ]
  },
  {
   "cell_type": "markdown",
   "metadata": {},
   "source": [
    "# コンポーネントの分布がラプラス分布の場合"
   ]
  },
  {
   "cell_type": "code",
   "execution_count": 12,
   "metadata": {},
   "outputs": [],
   "source": [
    "gerror_gmm_diag = np.zeros(len(data_seeds))\n",
    "cklerror_gmm_diag = np.zeros(len(data_seeds))\n",
    "c01error_gmm_diag = np.zeros(len(data_seeds))\n",
    "\n",
    "gerror_gmm_cov = np.zeros(len(data_seeds))\n",
    "cklerror_gmm_cov = np.zeros(len(data_seeds))\n",
    "c01error_gmm_cov = np.zeros(len(data_seeds))\n",
    "\n",
    "gerror_hsmm = np.zeros(len(data_seeds))\n",
    "cklerror_hsmm = np.zeros(len(data_seeds))\n",
    "c01error_hsmm = np.zeros(len(data_seeds))\n",
    "\n",
    "for i, data_seed in enumerate(data_seeds):\n",
    "    ### データを生成する\n",
    "    (train_X, train_label, train_label_arg) = LaplaceMixtureModel.rvs(true_ratio, true_b, true_s, size = n, data_seed = data_seed)\n",
    "    (test_X, test_label, test_label_arg) = LaplaceMixtureModel.rvs(true_ratio, true_b, true_s, size = N)\n",
    "    \n",
    "    gmm_diag_obj = GaussianMixtureModelVB(K = K[0],\n",
    "                                     pri_alpha = pri_params[\"pri_alpha\"], pri_beta = pri_params[\"pri_beta\"], pri_gamma = pri_params[\"pri_gamma\"], pri_delta = pri_params[\"pri_delta\"], \n",
    "                                     iteration = 1000, restart_num=learning_num, learning_seed=data_seed + learning_seed_offset, method = \"diag\")\n",
    "    gmm_diag_obj.fit(train_X)\n",
    "    \n",
    "    gmm_cov_obj = GaussianMixtureModelVB(K = K[0],\n",
    "                                     pri_alpha = pri_params[\"pri_alpha\"], pri_beta = pri_params[\"pri_beta\"], pri_gamma = pri_params[\"pri_gamma\"], pri_delta = pri_params[\"pri_delta\"], \n",
    "                                     iteration = 1000, restart_num=learning_num, learning_seed=data_seed + learning_seed_offset, method = \"full\")\n",
    "    gmm_cov_obj.fit(train_X)\n",
    "    \n",
    "    hsmm_obj = HyperbolicSecantMixtureVB(K = K[0],                                     \n",
    "                                         pri_alpha = pri_params[\"pri_alpha\"], pri_beta = pri_params[\"pri_beta\"], pri_gamma = pri_params[\"pri_gamma\"], pri_delta = pri_params[\"pri_delta\"], \n",
    "                                         iteration = 1000, restart_num=learning_num, learning_seed=data_seed + learning_seed_offset)\n",
    "    hsmm_obj.fit(train_X)\n",
    "    \n",
    "    posterior_true_logprob = LaplaceMixtureModel().latent_posterior_logprob(train_X, true_ratio, true_b, true_s)\n",
    "    cklerror_gmm_diag[i] = gmm_diag_obj.score_latent_kl(posterior_true_logprob)[0]/len(train_X)\n",
    "    cklerror_gmm_cov[i] = gmm_cov_obj.score_latent_kl(posterior_true_logprob)[0]/len(train_X)\n",
    "    cklerror_hsmm[i] = hsmm_obj.score_latent_kl(posterior_true_logprob)[0]/len(train_X)\n",
    "    \n",
    "    c01error_gmm_diag[i] = gmm_diag_obj.score_clustering(train_label_arg)[0]/len(train_X)\n",
    "    c01error_gmm_cov[i] = gmm_cov_obj.score_clustering(train_label_arg)[0]/len(train_X)\n",
    "    c01error_hsmm[i] = hsmm_obj.score_clustering(train_label_arg)[0]/len(train_X)\n",
    "    \n",
    "    true_empirical_entropy = -LaplaceMixtureModel.logpdf(test_X, true_ratio, true_b, true_s)\n",
    "    gerror_gmm_diag[i] = (-true_empirical_entropy - gmm_diag_obj.predict_logproba(test_X))/len(test_X)\n",
    "    gerror_gmm_cov[i] = (-true_empirical_entropy - gmm_cov_obj.predict_logproba(test_X))/len(test_X)\n",
    "    gerror_hsmm[i] = (-true_empirical_entropy - hsmm_obj.predict_logproba(test_X))/len(test_X)"
   ]
  },
  {
   "cell_type": "code",
   "execution_count": 13,
   "metadata": {},
   "outputs": [
    {
     "name": "stdout",
     "output_type": "stream",
     "text": [
      "\n",
      "gerror_gmm_diag: 0.10750980688289108,\n",
      "gerror_gmm_cov: 0.10739847285574537,\n",
      "gerror_hsmm: 0.04253613190151873,\n",
      "cklerror_gmm_diag: 0.7187472120431455,\n",
      "cklerror_gmm_cov: 0.9635010660320588,\n",
      "cklerror_hsmm: 0.020684320264473484,\n",
      "c01error_gmm_diag: 0.80905,\n",
      "c01error_gmm_cov: 0.7776499999999998,\n",
      "c01error_hsmm: 0.9178000000000002\n",
      "\n"
     ]
    }
   ],
   "source": [
    "print(f\"\"\"\n",
    "gerror_gmm_diag: {gerror_gmm_diag.mean()},\n",
    "gerror_gmm_cov: {gerror_gmm_cov.mean()},\n",
    "gerror_hsmm: {gerror_hsmm.mean()},\n",
    "cklerror_gmm_diag: {cklerror_gmm_diag.mean()},\n",
    "cklerror_gmm_cov: {cklerror_gmm_cov.mean()},\n",
    "cklerror_hsmm: {cklerror_hsmm.mean()},\n",
    "c01error_gmm_diag: {c01error_gmm_diag.mean()},\n",
    "c01error_gmm_cov: {c01error_gmm_cov.mean()},\n",
    "c01error_hsmm: {c01error_hsmm.mean()}\n",
    "\"\"\")"
   ]
  },
  {
   "cell_type": "markdown",
   "metadata": {},
   "source": [
    "# コンポーネントの分布がガンベル分布の場合"
   ]
  },
  {
   "cell_type": "code",
   "execution_count": 14,
   "metadata": {},
   "outputs": [],
   "source": [
    "gerror_gmm_diag = np.zeros(len(data_seeds))\n",
    "cklerror_gmm_diag = np.zeros(len(data_seeds))\n",
    "c01error_gmm_diag = np.zeros(len(data_seeds))\n",
    "\n",
    "gerror_gmm_cov = np.zeros(len(data_seeds))\n",
    "cklerror_gmm_cov = np.zeros(len(data_seeds))\n",
    "c01error_gmm_cov = np.zeros(len(data_seeds))\n",
    "\n",
    "gerror_hsmm = np.zeros(len(data_seeds))\n",
    "cklerror_hsmm = np.zeros(len(data_seeds))\n",
    "c01error_hsmm = np.zeros(len(data_seeds))\n",
    "\n",
    "for i, data_seed in enumerate(data_seeds):\n",
    "    ### データを生成する\n",
    "    (train_X, train_label, train_label_arg) = GumbelMixtureModel.rvs(true_ratio, true_b, true_s, size = n, data_seed = data_seed)\n",
    "    (test_X, test_label, test_label_arg) = GumbelMixtureModel.rvs(true_ratio, true_b, true_s, size = N)\n",
    "    \n",
    "    gmm_diag_obj = GaussianMixtureModelVB(K = K[0],\n",
    "                                     pri_alpha = pri_params[\"pri_alpha\"], pri_beta = pri_params[\"pri_beta\"], pri_gamma = pri_params[\"pri_gamma\"], pri_delta = pri_params[\"pri_delta\"], \n",
    "                                     iteration = 1000, restart_num=learning_num, learning_seed=data_seed + learning_seed_offset, method = \"diag\")\n",
    "    gmm_diag_obj.fit(train_X)\n",
    "    \n",
    "    gmm_cov_obj = GaussianMixtureModelVB(K = K[0],\n",
    "                                     pri_alpha = pri_params[\"pri_alpha\"], pri_beta = pri_params[\"pri_beta\"], pri_gamma = pri_params[\"pri_gamma\"], pri_delta = pri_params[\"pri_delta\"], \n",
    "                                     iteration = 1000, restart_num=learning_num, learning_seed=data_seed + learning_seed_offset, method = \"full\")\n",
    "    gmm_cov_obj.fit(train_X)\n",
    "    \n",
    "    hsmm_obj = HyperbolicSecantMixtureVB(K = K[0],                                     \n",
    "                                         pri_alpha = pri_params[\"pri_alpha\"], pri_beta = pri_params[\"pri_beta\"], pri_gamma = pri_params[\"pri_gamma\"], pri_delta = pri_params[\"pri_delta\"], \n",
    "                                         iteration = 1000, restart_num=learning_num, learning_seed=data_seed + learning_seed_offset)\n",
    "    hsmm_obj.fit(train_X)\n",
    "    \n",
    "    posterior_true_logprob = GumbelMixtureModel().latent_posterior_logprob(train_X, true_ratio, true_b, true_s)\n",
    "    cklerror_gmm_diag[i] = gmm_diag_obj.score_latent_kl(posterior_true_logprob)[0]/len(train_X)\n",
    "    cklerror_gmm_cov[i] = gmm_cov_obj.score_latent_kl(posterior_true_logprob)[0]/len(train_X)\n",
    "    cklerror_hsmm[i] = hsmm_obj.score_latent_kl(posterior_true_logprob)[0]/len(train_X)\n",
    "    \n",
    "    c01error_gmm_diag[i] = gmm_diag_obj.score_clustering(train_label_arg)[0]/len(train_X)\n",
    "    c01error_gmm_cov[i] = gmm_cov_obj.score_clustering(train_label_arg)[0]/len(train_X)\n",
    "    c01error_hsmm[i] = hsmm_obj.score_clustering(train_label_arg)[0]/len(train_X)\n",
    "    \n",
    "    true_empirical_entropy = -GumbelMixtureModel.logpdf(test_X, true_ratio, true_b, true_s)\n",
    "    gerror_gmm_diag[i] = (-true_empirical_entropy - gmm_diag_obj.predict_logproba(test_X))/len(test_X)\n",
    "    gerror_gmm_cov[i] = (-true_empirical_entropy - gmm_cov_obj.predict_logproba(test_X))/len(test_X)\n",
    "    gerror_hsmm[i] = (-true_empirical_entropy - hsmm_obj.predict_logproba(test_X))/len(test_X)"
   ]
  },
  {
   "cell_type": "code",
   "execution_count": 15,
   "metadata": {},
   "outputs": [
    {
     "name": "stdout",
     "output_type": "stream",
     "text": [
      "\n",
      "gerror_gmm_diag: 0.12300595951150159,\n",
      "gerror_gmm_cov: 0.1258183757125078,\n",
      "gerror_hsmm: 0.12178722572644286,\n",
      "cklerror_gmm_diag: 0.5648916827644413,\n",
      "cklerror_gmm_cov: 0.7974884700487435,\n",
      "cklerror_hsmm: 0.16794291808598177,\n",
      "c01error_gmm_diag: 0.8296999999999999,\n",
      "c01error_gmm_cov: 0.81625,\n",
      "c01error_hsmm: 0.8878\n",
      "\n"
     ]
    }
   ],
   "source": [
    "print(f\"\"\"\n",
    "gerror_gmm_diag: {gerror_gmm_diag.mean()},\n",
    "gerror_gmm_cov: {gerror_gmm_cov.mean()},\n",
    "gerror_hsmm: {gerror_hsmm.mean()},\n",
    "cklerror_gmm_diag: {cklerror_gmm_diag.mean()},\n",
    "cklerror_gmm_cov: {cklerror_gmm_cov.mean()},\n",
    "cklerror_hsmm: {cklerror_hsmm.mean()},\n",
    "c01error_gmm_diag: {c01error_gmm_diag.mean()},\n",
    "c01error_gmm_cov: {c01error_gmm_cov.mean()},\n",
    "c01error_hsmm: {c01error_hsmm.mean()}\n",
    "\"\"\")"
   ]
  },
  {
   "cell_type": "markdown",
   "metadata": {},
   "source": [
    "# For real data\n",
    "+ Fisher's iris data are used.\n",
    "+ generalization loss and 01 loss are calculated here."
   ]
  },
  {
   "cell_type": "code",
   "execution_count": 24,
   "metadata": {},
   "outputs": [],
   "source": [
    "# データを生成する\n",
    "data = load_iris()\n",
    "total_data = data.data\n",
    "mean_val = total_data.mean(axis = 0)\n",
    "std_val = total_data.std(axis = 0)\n",
    "total_X = (total_data - mean_val)/std_val\n",
    "\n",
    "n = 100\n",
    "N = total_X.shape[0] - n\n",
    "shuffled_ind = np.random.permutation(n + N)\n",
    "train_ind = shuffled_ind[:n]\n",
    "test_ind = shuffled_ind[n:]\n",
    "\n",
    "train_X = total_X[train_ind,:]\n",
    "train_label_arg = data.target[train_ind]\n",
    "test_X = total_X[test_ind,:]\n",
    "test_label_arg = data.target[test_ind,]\n",
    "n, M = train_X.shape\n",
    "\n",
    "gmm_diag_obj = GaussianMixtureModelVB(K = K[0],\n",
    "                                 pri_alpha = pri_params[\"pri_alpha\"], pri_beta = pri_params[\"pri_beta\"], pri_gamma = pri_params[\"pri_gamma\"], pri_delta = pri_params[\"pri_delta\"], \n",
    "                                 iteration = 1000, restart_num=learning_num, learning_seed=data_seed + learning_seed_offset, method = \"diag\")\n",
    "gmm_diag_obj.fit(train_X)\n",
    "\n",
    "gmm_cov_obj = GaussianMixtureModelVB(K = K[0],\n",
    "                                 pri_alpha = pri_params[\"pri_alpha\"], pri_beta = pri_params[\"pri_beta\"], pri_gamma = M+2, pri_delta = pri_params[\"pri_delta\"], \n",
    "                                 iteration = 1000, restart_num=learning_num, learning_seed=data_seed + learning_seed_offset, method = \"full\")\n",
    "gmm_cov_obj.fit(train_X)\n",
    "\n",
    "hsmm_obj = HyperbolicSecantMixtureVB(K = K[0],                                     \n",
    "                                     pri_alpha = pri_params[\"pri_alpha\"], pri_beta = pri_params[\"pri_beta\"], pri_gamma = pri_params[\"pri_gamma\"], pri_delta = pri_params[\"pri_delta\"], \n",
    "                                     iteration = 1000, restart_num=learning_num, learning_seed=data_seed + learning_seed_offset)\n",
    "hsmm_obj.fit(train_X)\n",
    "\n",
    "c01error_gmm_diag = gmm_diag_obj.score_clustering(train_label_arg)[0]/len(train_X)\n",
    "c01error_gmm_cov = gmm_cov_obj.score_clustering(train_label_arg)[0]/len(train_X)\n",
    "c01error_hsmm = hsmm_obj.score_clustering(train_label_arg)[0]/len(train_X)\n",
    "\n",
    "gerror_gmm_diag = - gmm_diag_obj.predict_logproba(test_X)/len(test_X)\n",
    "gerror_gmm_cov=  - gmm_cov_obj.predict_logproba(test_X)/len(test_X)\n",
    "gerror_hsmm = - hsmm_obj.predict_logproba(test_X)/len(test_X)"
   ]
  },
  {
   "cell_type": "code",
   "execution_count": 25,
   "metadata": {},
   "outputs": [
    {
     "name": "stdout",
     "output_type": "stream",
     "text": [
      "\n",
      "gerror_gmm_diag: 3.1910851090952326,\n",
      "gerror_gmm_cov: 2.6216884526558517,\n",
      "gerror_hsmm: 4.394376622469922,\n",
      "c01error_gmm_diag: 0.74,\n",
      "c01error_gmm_cov: 0.71,\n",
      "c01error_hsmm: 0.71\n",
      "\n"
     ]
    }
   ],
   "source": [
    "print(f\"\"\"\n",
    "gerror_gmm_diag: {gerror_gmm_diag},\n",
    "gerror_gmm_cov: {gerror_gmm_cov},\n",
    "gerror_hsmm: {gerror_hsmm},\n",
    "c01error_gmm_diag: {c01error_gmm_diag},\n",
    "c01error_gmm_cov: {c01error_gmm_cov},\n",
    "c01error_hsmm: {c01error_hsmm}\n",
    "\"\"\")"
   ]
  },
  {
   "cell_type": "markdown",
   "metadata": {},
   "source": [
    "# For real data\n",
    "+ wine data are used.\n",
    "+ generalization loss and 01 loss are calculated here."
   ]
  },
  {
   "cell_type": "code",
   "execution_count": 21,
   "metadata": {},
   "outputs": [],
   "source": [
    "# データを生成する\n",
    "data = load_wine()\n",
    "total_data = data.data\n",
    "mean_val = total_data.mean(axis = 0)\n",
    "std_val = total_data.std(axis = 0)\n",
    "total_X = (total_data - mean_val)/std_val\n",
    "\n",
    "n = 150\n",
    "N = total_X.shape[0] - n\n",
    "shuffled_ind = np.random.permutation(n + N)\n",
    "train_ind = shuffled_ind[:n]\n",
    "test_ind = shuffled_ind[n:]\n",
    "\n",
    "train_X = total_X[train_ind,:]\n",
    "train_label_arg = data.target[train_ind]\n",
    "test_X = total_X[test_ind,:]\n",
    "test_label_arg = data.target[test_ind,]\n",
    "n, M = train_X.shape\n",
    "\n",
    "gmm_diag_obj = GaussianMixtureModelVB(K = K[0],\n",
    "                                 pri_alpha = pri_params[\"pri_alpha\"], pri_beta = pri_params[\"pri_beta\"], pri_gamma = pri_params[\"pri_gamma\"], pri_delta = pri_params[\"pri_delta\"], \n",
    "                                 iteration = 1000, restart_num=learning_num, learning_seed=data_seed + learning_seed_offset, method = \"diag\")\n",
    "gmm_diag_obj.fit(train_X)\n",
    "\n",
    "gmm_cov_obj = GaussianMixtureModelVB(K = K[0],\n",
    "                                 pri_alpha = pri_params[\"pri_alpha\"], pri_beta = pri_params[\"pri_beta\"], pri_gamma = M+2, pri_delta = pri_params[\"pri_delta\"], \n",
    "                                 iteration = 1000, restart_num=learning_num, learning_seed=data_seed + learning_seed_offset, method = \"full\")\n",
    "gmm_cov_obj.fit(train_X)\n",
    "\n",
    "hsmm_obj = HyperbolicSecantMixtureVB(K = K[0],                                     \n",
    "                                     pri_alpha = pri_params[\"pri_alpha\"], pri_beta = pri_params[\"pri_beta\"], pri_gamma = pri_params[\"pri_gamma\"], pri_delta = pri_params[\"pri_delta\"], \n",
    "                                     iteration = 1000, restart_num=learning_num, learning_seed=data_seed + learning_seed_offset)\n",
    "hsmm_obj.fit(train_X)\n",
    "\n",
    "c01error_gmm_diag = gmm_diag_obj.score_clustering(train_label_arg)[0]/len(train_X)\n",
    "c01error_gmm_cov = gmm_cov_obj.score_clustering(train_label_arg)[0]/len(train_X)\n",
    "c01error_hsmm = hsmm_obj.score_clustering(train_label_arg)[0]/len(train_X)\n",
    "\n",
    "gerror_gmm_diag = - gmm_diag_obj.predict_logproba(test_X)/len(test_X)\n",
    "gerror_gmm_cov=  - gmm_cov_obj.predict_logproba(test_X)/len(test_X)\n",
    "gerror_hsmm = - hsmm_obj.predict_logproba(test_X)/len(test_X)"
   ]
  },
  {
   "cell_type": "code",
   "execution_count": 23,
   "metadata": {},
   "outputs": [
    {
     "name": "stdout",
     "output_type": "stream",
     "text": [
      "\n",
      "gerror_gmm_diag: 15.440162151750929,\n",
      "gerror_gmm_cov: 18.33944664836915,\n",
      "gerror_hsmm: 15.729363240826501,\n",
      "c01error_gmm_diag: 0.96,\n",
      "c01error_gmm_cov: 0.6066666666666667,\n",
      "c01error_hsmm: 0.9666666666666667\n",
      "\n"
     ]
    }
   ],
   "source": [
    "print(f\"\"\"\n",
    "gerror_gmm_diag: {gerror_gmm_diag},\n",
    "gerror_gmm_cov: {gerror_gmm_cov},\n",
    "gerror_hsmm: {gerror_hsmm},\n",
    "c01error_gmm_diag: {c01error_gmm_diag},\n",
    "c01error_gmm_cov: {c01error_gmm_cov},\n",
    "c01error_hsmm: {c01error_hsmm}\n",
    "\"\"\")"
   ]
  },
  {
   "cell_type": "markdown",
   "metadata": {},
   "source": [
    "# For real data\n",
    "+ breast cancer data\n",
    "+ generalization loss and 01 loss are calculated here."
   ]
  },
  {
   "cell_type": "code",
   "execution_count": 26,
   "metadata": {},
   "outputs": [],
   "source": [
    "# データを生成する\n",
    "data = load_breast_cancer()\n",
    "total_data = data.data\n",
    "mean_val = total_data.mean(axis = 0)\n",
    "std_val = total_data.std(axis = 0)\n",
    "total_X = (total_data - mean_val)/std_val\n",
    "\n",
    "n = 400\n",
    "N = total_X.shape[0] - n\n",
    "shuffled_ind = np.random.permutation(n + N)\n",
    "train_ind = shuffled_ind[:n]\n",
    "test_ind = shuffled_ind[n:]\n",
    "\n",
    "train_X = total_X[train_ind,:]\n",
    "train_label_arg = data.target[train_ind]\n",
    "test_X = total_X[test_ind,:]\n",
    "test_label_arg = data.target[test_ind,]\n",
    "n, M = train_X.shape\n",
    "\n",
    "gmm_diag_obj = GaussianMixtureModelVB(K = K[1],\n",
    "                                 pri_alpha = pri_params[\"pri_alpha\"], pri_beta = pri_params[\"pri_beta\"], pri_gamma = pri_params[\"pri_gamma\"], pri_delta = pri_params[\"pri_delta\"], \n",
    "                                 iteration = 1000, restart_num=learning_num, learning_seed=data_seed + learning_seed_offset, method = \"diag\")\n",
    "gmm_diag_obj.fit(train_X)\n",
    "\n",
    "gmm_cov_obj = GaussianMixtureModelVB(K = K[1],\n",
    "                                 pri_alpha = pri_params[\"pri_alpha\"], pri_beta = pri_params[\"pri_beta\"], pri_gamma = M + 2, pri_delta = pri_params[\"pri_delta\"], \n",
    "                                 iteration = 1000, restart_num=learning_num, learning_seed=data_seed + learning_seed_offset, method = \"full\")\n",
    "gmm_cov_obj.fit(train_X)\n",
    "\n",
    "hsmm_obj = HyperbolicSecantMixtureVB(K = K[1],                                     \n",
    "                                     pri_alpha = pri_params[\"pri_alpha\"], pri_beta = pri_params[\"pri_beta\"], pri_gamma = pri_params[\"pri_gamma\"], pri_delta = pri_params[\"pri_delta\"], \n",
    "                                     iteration = 1000, restart_num=learning_num, learning_seed=data_seed + learning_seed_offset)\n",
    "hsmm_obj.fit(train_X)\n",
    "\n",
    "c01error_gmm_diag = gmm_diag_obj.score_clustering(train_label_arg)[0]/len(train_X)\n",
    "c01error_gmm_cov = gmm_cov_obj.score_clustering(train_label_arg)[0]/len(train_X)\n",
    "c01error_hsmm = hsmm_obj.score_clustering(train_label_arg)[0]/len(train_X)\n",
    "\n",
    "gerror_gmm_diag = - gmm_diag_obj.predict_logproba(test_X)/len(test_X)\n",
    "gerror_gmm_cov=  - gmm_cov_obj.predict_logproba(test_X)/len(test_X)\n",
    "gerror_hsmm = - hsmm_obj.predict_logproba(test_X)/len(test_X)"
   ]
  },
  {
   "cell_type": "code",
   "execution_count": 27,
   "metadata": {},
   "outputs": [
    {
     "name": "stdout",
     "output_type": "stream",
     "text": [
      "\n",
      "gerror_gmm_diag: 31.688391947536594,\n",
      "gerror_gmm_cov: 10.106748081751261,\n",
      "gerror_hsmm: 31.865661794653562,\n",
      "c01error_gmm_diag: 0.7425,\n",
      "c01error_gmm_cov: 0.8675,\n",
      "c01error_hsmm: 0.8225\n",
      "\n"
     ]
    }
   ],
   "source": [
    "print(f\"\"\"\n",
    "gerror_gmm_diag: {gerror_gmm_diag},\n",
    "gerror_gmm_cov: {gerror_gmm_cov},\n",
    "gerror_hsmm: {gerror_hsmm},\n",
    "c01error_gmm_diag: {c01error_gmm_diag},\n",
    "c01error_gmm_cov: {c01error_gmm_cov},\n",
    "c01error_hsmm: {c01error_hsmm}\n",
    "\"\"\")"
   ]
  }
 ],
 "metadata": {
  "jupytext": {
   "formats": "ipynb,py"
  },
  "kernelspec": {
   "display_name": "Python 3",
   "language": "python",
   "name": "python3"
  },
  "language_info": {
   "codemirror_mode": {
    "name": "ipython",
    "version": 3
   },
   "file_extension": ".py",
   "mimetype": "text/x-python",
   "name": "python",
   "nbconvert_exporter": "python",
   "pygments_lexer": "ipython3",
   "version": "3.7.3"
  },
  "toc-autonumbering": true
 },
 "nbformat": 4,
 "nbformat_minor": 4
}
