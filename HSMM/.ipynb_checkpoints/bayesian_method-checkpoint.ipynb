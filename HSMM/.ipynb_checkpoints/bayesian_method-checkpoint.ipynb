{
 "cells": [
  {
   "cell_type": "markdown",
   "metadata": {},
   "source": [
    "# Clustering by Bayesian technique\n",
    "+ 2 Bayesian methods can cluster data:\n",
    "    1. Sampling the latent variables from joint distribution of parameter and latent variables.\n",
    "    2. Sampling the latetn variables from marginalized distribution over parameter.\n",
    "\n",
    "## About method 1:\n",
    "+ Procedure of method 1 is as follows:\n",
    "    1. Decide initial state of latent variables\n",
    "    2. Sampling parameter $w$ from the following distribution:\n",
    "        + $p(w|y^n) = Dir(a|\\{\\hat{\\alpha}_k\\}_{k=1}^K) \\prod_{k=1}^K \\prod_{j=1}^M N(b_{kj}|\\hat{\\mu}_{kj}, (s_{kj} \\hat{\\beta}_{kj})^{-1} ) Gam(s_{kj}|\\hat{\\gamma}_{kj}, \\hat{\\delta}_{kj})$, where  \n",
    "            + $\\hat{\\alpha}_k = \\sum_{i=1}^n y_k^{(i)} + \\alpha$,  \n",
    "            + $\\hat{\\beta}_k = \\sum_{i=1}^n y_k^{(i)} + \\beta$,  \n",
    "            + $\\hat{\\mu}_k = \\frac{1}{\\hat{\\beta}_k} \\sum_{i=1}^n y_k^{(i)} x^{(i)}$\n",
    "            + $\\hat{\\gamma}_{kj} = \\gamma_k + \\frac{1}{2}\\sum_{i=1}^n y_k^{(i)}$\n",
    "            + $\\hat{\\delta}_{kj} = \\delta_k + \\frac{1}{2}\\sum_{i=1}^n y_{k}^{(i)}(x_{j}^{(i)})^2 - \\frac{\\hat{\\beta}_{kj}}{2}\\hat{m}_{kj}^2$\n",
    "    3. Sampling latent variables from the following distribution:\n",
    "        + Let $L_{ik} = \\log a_k + \\frac{1}{2}\\sum_{j=1}^M \\log s_{kj} - \\sum_{j=1}^M \\frac{s_{kj}}{2} (x_j^{(i)} - b_{kj})^2$,\n",
    "        + Then for each $i = 1,...,n$, $p(y_k^{(i)}=1|w) = \\frac{\\exp(L_{ik})}{\\sum_{l=1}^K \\exp(L_{il})}$.\n",
    "    4. Back to 2.\n",
    "\n",
    "## About method 2:"
   ]
  },
  {
   "cell_type": "code",
   "execution_count": 1,
   "metadata": {},
   "outputs": [],
   "source": [
    "%matplotlib inline"
   ]
  },
  {
   "cell_type": "code",
   "execution_count": 2,
   "metadata": {},
   "outputs": [],
   "source": [
    "from IPython.core.display import display, Markdown, Latex\n",
    "import numpy as np\n",
    "from scipy.special import gammaln, psi\n",
    "import matplotlib.pyplot as plt\n",
    "import seaborn as sns\n",
    "from scipy.stats import t, cauchy, laplace, gumbel_r, norm"
   ]
  },
  {
   "cell_type": "code",
   "execution_count": 3,
   "metadata": {},
   "outputs": [],
   "source": [
    "def printmd(x):\n",
    "    display(Markdown(x))"
   ]
  },
  {
   "cell_type": "markdown",
   "metadata": {},
   "source": [
    "## Generate training data from true distribution"
   ]
  },
  {
   "cell_type": "code",
   "execution_count": 4,
   "metadata": {},
   "outputs": [],
   "source": [
    "data_seed = 20190522\n",
    "true_ratio = np.array([0.33, 0.33, 0.34])\n",
    "true_delta = 0\n",
    "true_s = np.array([[2, 2], [0.5, 0.5], [1, 1]])\n",
    "true_b = np.array([[4, 4], [-4, -4], [0, 0]])\n",
    "n = 2000\n",
    "M = true_b.shape[1]\n",
    "np.random.seed(data_seed)"
   ]
  },
  {
   "cell_type": "code",
   "execution_count": 5,
   "metadata": {},
   "outputs": [],
   "source": [
    "true_label = np.random.multinomial(n = 1, pvals = true_ratio, size = n)\n",
    "true_label_arg = np.argmax(true_label, axis = 1)"
   ]
  },
  {
   "cell_type": "code",
   "execution_count": 6,
   "metadata": {},
   "outputs": [],
   "source": [
    "### true distribution is GMM\n",
    "import math\n",
    "x = np.zeros((n, M))\n",
    "for i in range(n):\n",
    "    for j in range(M):\n",
    "        x[i, j] = norm.rvs(loc=true_b[true_label_arg[i],j], scale=1/true_s[true_label_arg[i],j], size = 1)\n",
    "noise_data_num = math.ceil(n*true_delta)\n",
    "if noise_data_num > 0:\n",
    "    x[-noise_data_num:,:] = np.random.uniform(low=-30, high=30, size = noise_data_num*M).reshape(noise_data_num,M)"
   ]
  },
  {
   "cell_type": "code",
   "execution_count": 7,
   "metadata": {},
   "outputs": [
    {
     "data": {
      "image/png": "[encoded data removed]",
      "text/plain": [
       "<Figure size 432x288 with 1 Axes>"
      ]
     },
     "metadata": {
      "needs_background": "light"
     },
     "output_type": "display_data"
    }
   ],
   "source": [
    "plt.scatter(x[:,0], x[:,1])\n",
    "plt.show()"
   ]
  },
  {
   "cell_type": "code",
   "execution_count": 8,
   "metadata": {},
   "outputs": [],
   "source": [
    "### learning setting\n",
    "learning_seed = 20190529\n",
    "burn_in = 20\n",
    "sampling_interval = 20\n",
    "sampling_num = 10000\n",
    "\n",
    "K = 3\n",
    "pri_alpha = 2\n",
    "pri_beta = 0.01\n",
    "pri_gamma = 2\n",
    "pri_delta = 2\n"
   ]
  },
  {
   "cell_type": "code",
   "execution_count": 9,
   "metadata": {},
   "outputs": [],
   "source": [
    "np.random.seed(learning_seed)"
   ]
  },
  {
   "cell_type": "code",
   "execution_count": 10,
   "metadata": {},
   "outputs": [],
   "source": [
    "### 初期値を決める\n",
    "latent_label = np.random.multinomial(1, pvals = np.ones(K)/K, size=n)\n",
    "latent_arg = np.argmax(latent_label, axis = 1)"
   ]
  },
  {
   "cell_type": "code",
   "execution_count": 11,
   "metadata": {
    "lines_to_end_of_cell_marker": 2
   },
   "outputs": [],
   "source": [
    "### Calculate the steps until burn_in times\n",
    "for i_burnin in range(burn_in):\n",
    "    ### Samnpling from parameters\n",
    "    n_k = latent_label.sum(axis = 0)\n",
    "    post_alpha = n_k + pri_alpha\n",
    "    post_beta = n_k + pri_beta\n",
    "    post_mu = latent_label.T @ x / (np.repeat(post_beta, M).reshape(K,M))\n",
    "    post_gamma = n_k/2 + pri_gamma\n",
    "    post_delta = latent_label.T @ x**2/2 - np.repeat(post_beta,M).reshape(K,M) * post_mu**2 + pri_delta\n",
    "\n",
    "    \n",
    "    ### Sampling from latent variables"
   ]
  },
  {
   "cell_type": "code",
   "execution_count": 14,
   "metadata": {},
   "outputs": [
    {
     "data": {
      "text/plain": [
       "array([[3865.44792021, 3841.06267781],\n",
       "       [4145.23891719, 4145.72840638],\n",
       "       [4033.83785828, 3858.58152277]])"
      ]
     },
     "execution_count": 14,
     "metadata": {},
     "output_type": "execute_result"
    }
   ],
   "source": [
    "np.random.gamma()"
   ]
  },
  {
   "cell_type": "code",
   "execution_count": null,
   "metadata": {},
   "outputs": [],
   "source": [
    "for ite in range(sampling_interval * sampling_num):"
   ]
  },
  {
   "cell_type": "code",
   "execution_count": null,
   "metadata": {},
   "outputs": [],
   "source": []
  }
 ],
 "metadata": {
  "jupytext": {
   "text_representation": {
    "extension": ".py",
    "format_name": "light",
    "format_version": "1.4",
    "jupytext_version": "1.1.3"
   }
  },
  "kernelspec": {
   "display_name": "Python 3",
   "language": "python",
   "name": "python3"
  },
  "language_info": {
   "codemirror_mode": {
    "name": "ipython",
    "version": 3
   },
   "file_extension": ".py",
   "mimetype": "text/x-python",
   "name": "python",
   "nbconvert_exporter": "python",
   "pygments_lexer": "ipython3",
   "version": "3.7.1"
  }
 },
 "nbformat": 4,
 "nbformat_minor": 2
}
