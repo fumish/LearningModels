{
 "cells": [
  {
   "cell_type": "markdown",
   "metadata": {},
   "source": [
    "# Multivariate Hyperbolic Secant Mixture modelの推定\n",
    "+ モデル:\n",
    "    + $p(x|w) = \\sum_{k=1}^K a_k \\prod_{j = 1}^M \\frac{\\sqrt{s_{kj}}}{2} \\frac{1}{\\cosh(\\frac{s_{kj}}{2}(x_j - b_{kj}))}$\n",
    "    + $x, b_k \\in \\mathbb{R}^M, s_k \\in \\mathbb{R}_+^M$\n",
    "+ 事前分布:\n",
    "    + $\\varphi(w) = Dir(a|\\{ \\alpha_k \\}_{k=1}^K) \\prod_{k=1}^K N(b_k|0, (s_k \\beta_k)^{-1} ) Gam(s_k|\\gamma_k, \\delta_k)$\n",
    "+ アルゴリズム\n",
    "   1. 以下の初期化を行う:\n",
    "       + $g_{ikj}(\\eta), v_{ikj}(\\eta), h_{ik}(\\xi), u_{ik}(\\xi)$\n",
    "   2. 以下を計算する\n",
    "       + $\\hat{\\alpha}_k = \\alpha_k + \\sum_{i=1}^n u_{ik}(\\xi)$\n",
    "       + $\\hat{\\beta}_{kj} = \\beta_k + \\sum_{i=1}^n -2v_{ikj}(\\eta)$\n",
    "       + $\\hat{m}_{kj} = \\frac{1}{\\hat{\\beta}_k} \\sum_{i=1}^n -2v_{ik}(\\eta)x_i$\n",
    "       + $\\hat{\\gamma}_{kj} = \\gamma_k + \\frac{1}{2}\\sum_{i=1}^n u_{ik}(\\xi)$\n",
    "       + $\\hat{\\delta}_{kj} = \\delta_k + \\sum_{i=1}^n -v_{ikj}(\\eta)x_{ij}^2 - \\frac{\\hat{\\beta}_{kj}}{2}\\hat{m}_{kj}^2$\n",
    "   3. 以下を計算する\n",
    "       + $g_{ikj}(\\eta) = \\frac{\\hat{\\gamma}_{kj}}{\\hat{\\delta}_{kj}} (x_{ij} - \\hat{m}_{kj})^2 + \\frac{1}{\\hat{\\beta}_{kj}}$\n",
    "       + $v_{ikj}(\\eta) = -u_{ik}(\\xi)\\frac{ \\tanh(\\sqrt{g_{ikj}(\\eta)}/2) }{4\\sqrt{g_{ikj}(\\eta)}}$\n",
    "   4. 以下を計算する\n",
    "       + $h_{ik}(\\xi) = \\psi(\\hat{\\alpha}_k) - \\psi(\\sum_{l=1}^K \\hat{\\alpha}_l) + \\frac{1}{2} \\sum_{j=1}^M (\\psi(\\hat{\\gamma}_{kj}) - \\log(\\hat{\\delta}_{kj})) - \\sum_{j=1}^M \\log(\\cosh(\\sqrt{g_{ikj}(\\eta)}/2)) $\n",
    "       + $u_{ik}(\\xi) = \\frac{ \\exp(h_{ik}(\\xi)) }{ \\sum_{l=1}^K \\exp(h_{il}(\\xi)) }$\n",
    "       + ここで,$\\psi(x) = \\frac{d}{dx}\\log \\Gamma(x)$\n",
    "   5. 2.に戻る\n",
    "   \n",
    "+ 評価関数$\\overline{F}_{\\xi, \\eta}(x^n)$の値\n",
    "    + $\\overline{F}_{\\xi, \\eta}(x^n) = - \\phi(h(\\xi)) - \\psi(g(\\eta)) + u(\\xi) \\cdot h(\\xi) + v(\\eta) \\cdot g(\\eta) $  \n",
    "        $+ nM \\log 2 \\pi + \\log \\Gamma(\\sum_{l = 1}^K \\hat{\\alpha}_l) - \\log \\Gamma({\\sum_{l = 1}^K\\alpha}_l) + \\sum_{k=1}^K \\log \\frac{\\Gamma(\\alpha_k)}{\\Gamma(\\hat{\\alpha}_k)}$  \n",
    "        $+ \\sum_{k=1}^K \\sum_{j=1}^M \\bigl\\{ \\frac{1}{2} \\log \\frac{\\hat{\\beta}_{kj}}{\\beta_{kj}} + \\hat{\\gamma}_{kj} \\log \\hat{\\delta}_{kj} - \\gamma_{kj} \\log \\delta_{kj} - \\log \\Gamma(\\hat{\\gamma}_{kj}) + \\log \\Gamma(\\gamma_{kj}) \\bigr\\}$"
   ]
  },
  {
   "cell_type": "code",
   "execution_count": 1,
   "metadata": {},
   "outputs": [],
   "source": [
    "%matplotlib inline"
   ]
  },
  {
   "cell_type": "code",
   "execution_count": 2,
   "metadata": {},
   "outputs": [],
   "source": [
    "import numpy as np\n",
    "from scipy.special import gammaln, psi\n",
    "import matplotlib.pyplot as plt\n",
    "import seaborn as sns\n",
    "from scipy.stats import t, cauchy"
   ]
  },
  {
   "cell_type": "markdown",
   "metadata": {},
   "source": [
    "## HSMMに従う確率変数を生成する"
   ]
  },
  {
   "cell_type": "code",
   "execution_count": 31,
   "metadata": {},
   "outputs": [],
   "source": [
    "data_seed = 20190522\n",
    "true_ratio = np.array([0.33, 0.33, 0.34])\n",
    "true_delta = 0\n",
    "true_s = np.array([[2, 2], [0.5, 0.5], [1, 1]])\n",
    "true_b = np.array([[4, 4], [-4, -4], [0, 0]])\n",
    "n = 2000\n",
    "M = true_b.shape[1]\n",
    "np.random.seed(data_seed)"
   ]
  },
  {
   "cell_type": "code",
   "execution_count": 32,
   "metadata": {},
   "outputs": [],
   "source": [
    "true_label = np.random.multinomial(n = 1, pvals = true_ratio, size = n)\n",
    "true_label_arg = np.argmax(true_label, axis = 1)"
   ]
  },
  {
   "cell_type": "code",
   "execution_count": 33,
   "metadata": {},
   "outputs": [],
   "source": [
    "def random_hsm(n, loc = 0, scale = 1):\n",
    "    \"\"\"\n",
    "    hyperbolic secant distributionに従う確率変数を生成する\n",
    "    $Y \\sim standard_cauchy(x)$の時,  \n",
    "    $X = \\frac{2}{s}\\sinh^{-1}(Y) + b$は,  \n",
    "    $X \\sim p(x) = \\frac{s}{2\\pi}\\frac{1}{\\cosh(s(x-b)/2)}$に従うはずなので、その確認を行う\n",
    "    \"\"\"\n",
    "    Y = np.random.standard_cauchy(size=n)\n",
    "    X = 2/np.sqrt(scale)*np.arcsinh(Y) + loc    \n",
    "    return X"
   ]
  },
  {
   "cell_type": "code",
   "execution_count": 34,
   "metadata": {},
   "outputs": [],
   "source": [
    "# x = np.zeros((n, M))\n",
    "# for i in range(n):\n",
    "#     for j in range(M):\n",
    "#         x[i, j] = random_hsm(n=1, loc=true_b[true_label_arg[i],j], scale=true_s[true_label_arg[i],j])"
   ]
  },
  {
   "cell_type": "code",
   "execution_count": 35,
   "metadata": {},
   "outputs": [],
   "source": [
    "import math\n",
    "x = np.zeros((n, M))\n",
    "for i in range(n):\n",
    "    for j in range(M):\n",
    "#         x[i, j] = np.random.normal(loc=true_b[true_label_arg[i],j], scale=1/true_s[true_label_arg[i],j], size=1)        \n",
    "#         x[i, j] = random_hsm(n = 1, loc=true_b[true_label_arg[i],j], scale=1/true_s[true_label_arg[i],j])\n",
    "        x[i, j] = t.rvs(df = 1.5, loc=true_b[true_label_arg[i],j], scale=1/true_s[true_label_arg[i],j], size = 1)\n",
    "noise_data_num = math.ceil(n*true_delta)\n",
    "if noise_data_num > 0:\n",
    "#     x[-noise_data_num:,:] = np.random.uniform(low=-30, high=30, size = noise_data_num*M).reshape(noise_data_num,M)\n",
    "    x[-noise_data_num:,:] = t.rvs(df = 0.8,size = noise_data_num*M).reshape(noise_data_num,M)"
   ]
  },
  {
   "cell_type": "code",
   "execution_count": 36,
   "metadata": {},
   "outputs": [],
   "source": [
    "# x = np.zeros((n, M))\n",
    "# is_outlier = -1*np.ones(n)\n",
    "# for i in range(n):\n",
    "#     if np.random.uniform(size=1) < true_delta[true_label_arg[i]]:\n",
    "# #         x[i] =  (np.random.standard_cauchy(size=1) - true_b[true_label_arg[i]])/true_s[true_label_arg[i]]\n",
    "#         x[i,:] =  np.random.uniform(low = -10, high = 10, size = M)\n",
    "#         is_outlier[i] = true_label_arg[i]\n",
    "#     else:\n",
    "#         for j in range(M):\n",
    "#             x[i, j] = np.random.normal(loc=true_b[true_label_arg[i],j], scale=1/true_s[true_label_arg[i],j], size=1)"
   ]
  },
  {
   "cell_type": "code",
   "execution_count": 37,
   "metadata": {},
   "outputs": [],
   "source": [
    "# from scipy.stats import t\n",
    "# x = np.zeros((n, M))\n",
    "# for i in range(n):\n",
    "#     for j in range(M):\n",
    "#         x[i, j] = t.rvs(df = 2, loc=true_b[true_label_arg[i],j], scale=true_s[true_label_arg[i],j], size = 1)"
   ]
  },
  {
   "cell_type": "code",
   "execution_count": 38,
   "metadata": {},
   "outputs": [
    {
     "data": {
      "text/plain": [
       "<matplotlib.collections.PathCollection at 0x138e6508898>"
      ]
     },
     "execution_count": 38,
     "metadata": {},
     "output_type": "execute_result"
    },
    {
     "data": {
      "image/png": "[encoded data removed]",
      "text/plain": [
       "<Figure size 432x288 with 1 Axes>"
      ]
     },
     "metadata": {
      "needs_background": "light"
     },
     "output_type": "display_data"
    }
   ],
   "source": [
    "plt.scatter(x[:,0], x[:,1])"
   ]
  },
  {
   "cell_type": "code",
   "execution_count": 39,
   "metadata": {},
   "outputs": [
    {
     "data": {
      "image/png": "[encoded data removed]",
      "text/plain": [
       "<Figure size 432x288 with 2 Axes>"
      ]
     },
     "metadata": {
      "needs_background": "light"
     },
     "output_type": "display_data"
    }
   ],
   "source": [
    "plt.hist2d(x[:,0], x[:,1], bins = 40)\n",
    "plt.colorbar()\n",
    "plt.show()"
   ]
  },
  {
   "cell_type": "code",
   "execution_count": 40,
   "metadata": {},
   "outputs": [],
   "source": [
    "def simple_2dhist(k:int = 0):\n",
    "    max_val = x.max(axis = 0)\n",
    "    min_val = x.min(axis = 0)    \n",
    "    plt.hist2d(x[np.where(true_label_arg == k),0].squeeze(), x[np.where(true_label_arg == k),1].squeeze(), range = [[min_val[0], max_val[0]], [min_val[1], max_val[1]]], bins = 40)\n",
    "    plt.colorbar()\n",
    "    plt.xlim(left = min_val[0], right = max_val[0])\n",
    "    plt.ylim(bottom = min_val[1], top = max_val[1])\n",
    "    plt.show()\n",
    "    pass"
   ]
  },
  {
   "cell_type": "code",
   "execution_count": 41,
   "metadata": {},
   "outputs": [
    {
     "data": {
      "image/png": "[encoded data removed]",
      "text/plain": [
       "<Figure size 432x288 with 2 Axes>"
      ]
     },
     "metadata": {
      "needs_background": "light"
     },
     "output_type": "display_data"
    }
   ],
   "source": [
    "simple_2dhist(0)"
   ]
  },
  {
   "cell_type": "code",
   "execution_count": 42,
   "metadata": {},
   "outputs": [
    {
     "data": {
      "image/png": "[encoded data removed]",
      "text/plain": [
       "<Figure size 432x288 with 2 Axes>"
      ]
     },
     "metadata": {
      "needs_background": "light"
     },
     "output_type": "display_data"
    }
   ],
   "source": [
    "simple_2dhist(1)"
   ]
  },
  {
   "cell_type": "code",
   "execution_count": 43,
   "metadata": {},
   "outputs": [
    {
     "data": {
      "image/png": "[encoded data removed]",
      "text/plain": [
       "<Figure size 432x288 with 2 Axes>"
      ]
     },
     "metadata": {
      "needs_background": "light"
     },
     "output_type": "display_data"
    }
   ],
   "source": [
    "simple_2dhist(2)"
   ]
  },
  {
   "cell_type": "code",
   "execution_count": null,
   "metadata": {},
   "outputs": [],
   "source": []
  },
  {
   "cell_type": "markdown",
   "metadata": {},
   "source": [
    "# 学習を行う"
   ]
  },
  {
   "cell_type": "code",
   "execution_count": 44,
   "metadata": {},
   "outputs": [],
   "source": [
    "def fit_lva_gmm(train_X:np.ndarray, K:int,\n",
    "                 pri_alpha = 0.1, pri_beta = 0.001, pri_gamma = 2, pri_delta = 2,\n",
    "                 iteration = 1000, restart_num:int = 5, learning_seeds:list = None):\n",
    "    (n, M) = train_X.shape\n",
    "    ### 計算前の設定\n",
    "    expand_x = np.repeat(x, K).reshape(n, M, K).transpose((0, 2, 1)) ### n * K * M data with the same matrix among 2nd dimension\n",
    "\n",
    "    min_energy = np.inf\n",
    "    result = dict()\n",
    "    \n",
    "    for restart in range(restart_num):\n",
    "        ### learning_seedsに指定があれば乱数の種を設定する\n",
    "        if learning_seeds is not None and len(learning_seeds) >= restart:\n",
    "            np.random.seed(learning_seeds[restart])\n",
    "\n",
    "        energy = np.zeros(iteration)\n",
    "        ### 初期値の設定\n",
    "#         est_h_xi = np.random.gamma(shape = 1, size = (n, K))\n",
    "#         est_u_xi = np.exp(est_h_xi) / np.repeat(np.exp(est_h_xi).sum(axis = 1), K).reshape(n,K)\n",
    "        est_u_xi = np.random.dirichlet(alpha = np.ones(K), size=n)\n",
    "    \n",
    "        ### 学習開始\n",
    "        for ite in range(iteration):\n",
    "            ### 事後分布の更新\n",
    "            est_alpha = pri_alpha + est_u_xi.sum(axis = 0)\n",
    "            est_beta = np.repeat(pri_beta + est_u_xi.sum(axis = 0), M).reshape(K,M)\n",
    "            est_m = est_u_xi.T @ x / est_beta\n",
    "            est_gamma = np.repeat(pri_gamma + est_u_xi.sum(axis = 0)/2, M).reshape(K,M)\n",
    "            est_delta = pri_delta + est_u_xi.T @ (x**2) /2 - est_beta / 2 * est_m**2\n",
    "            ### 対数双曲線関数の更新\n",
    "            est_g_eta = np.repeat(est_gamma / est_delta, n).reshape(K,M,n).transpose((2,0,1)) * (expand_x - np.repeat(est_m,n).reshape(K,M,n).transpose((2,0,1)))**2 + 1/np.repeat(est_beta, n).reshape(K,M,n).transpose((2,0,1))\n",
    "\n",
    "            ### 隠れ変数の更新\n",
    "            est_h_xi = -M/2*np.log(2*np.pi) + np.repeat(psi(est_alpha) - psi(est_alpha.sum()) + (psi(est_gamma) - np.log(est_delta)).sum(axis = 1)/2, n).reshape(K,n).T - est_g_eta.sum(axis = 2)/2\n",
    "            max_h_xi = est_h_xi.max(axis = 1)\n",
    "            norm_h_xi = est_h_xi - np.repeat(max_h_xi,K).reshape(n,K)\n",
    "            est_u_xi = np.exp(norm_h_xi) / np.repeat(np.exp(norm_h_xi).sum(axis = 1), K).reshape(n,K)\n",
    "\n",
    "            ### エネルギーの計算\n",
    "            energy[ite] = - (np.log(np.exp(norm_h_xi).sum(axis = 1)) + max_h_xi).sum() + (est_u_xi * est_h_xi).sum()\n",
    "            energy[ite] += gammaln(est_alpha.sum()) - gammaln(K*pri_alpha) + (-gammaln(est_alpha) + gammaln(pri_alpha)).sum()\n",
    "            energy[ite] += (np.log(est_beta/pri_beta)/2 + est_gamma * np.log(est_delta) - pri_gamma * np.log(pri_delta) - gammaln(est_gamma) + gammaln(pri_gamma)).sum()\n",
    "        \n",
    "        print(energy[-1])        \n",
    "        if energy[-1] < min_energy:\n",
    "            min_energy = energy[-1]\n",
    "            result[\"alpha\"] = est_alpha\n",
    "            result[\"mu\"] = est_m\n",
    "            result[\"beta\"] = est_beta\n",
    "            result[\"gamma\"] = est_gamma\n",
    "            result[\"delta\"] = est_delta\n",
    "            result[\"h_xi\"] = est_h_xi\n",
    "            result[\"u_xi\"] = est_u_xi\n",
    "            result[\"energy\"] = energy\n",
    "            if learning_seeds is not None and len(learning_seeds) >= restart:\n",
    "                result[\"seed\"] = learning_seeds[restart]\n",
    "    return result"
   ]
  },
  {
   "cell_type": "code",
   "execution_count": 45,
   "metadata": {},
   "outputs": [],
   "source": [
    "def fit_lva_hsmm(train_X:np.ndarray, K:int,\n",
    "                 pri_alpha = 0.1, pri_beta = 0.001, pri_gamma = 2, pri_delta = 2,\n",
    "                 iteration = 1000, restart_num:int = 5, learning_seeds:list = None):\n",
    "    (n, M) = train_X.shape\n",
    "    ### 計算前の設定\n",
    "    expand_x = np.repeat(x, K).reshape(n, M, K).transpose((0, 2, 1)) ### n * K * M data with the same matrix among 2nd dimension\n",
    "\n",
    "    min_energy = np.inf\n",
    "    result = dict()\n",
    "    \n",
    "    for restart in range(restart_num):\n",
    "        ### learning_seedsに指定があれば乱数の種を設定する\n",
    "        if learning_seeds is not None and len(learning_seeds) >= restart:\n",
    "            np.random.seed(learning_seeds[restart])\n",
    "\n",
    "        energy = np.zeros(iteration)\n",
    "        ### 初期値の設定\n",
    "#         est_h_xi = np.random.gamma(shape = 1, size = (n, K))\n",
    "#         est_u_xi = np.exp(est_h_xi) / np.repeat(np.exp(est_h_xi).sum(axis = 1), K).reshape(n,K)\n",
    "        est_u_xi = np.random.dirichlet(alpha = np.ones(K), size=n)\n",
    "\n",
    "        est_g_eta = np.abs(np.random.normal(size=(n,K,M)))\n",
    "        est_v_eta = - np.repeat(est_u_xi, M).reshape(n, K, M) * np.tanh(np.sqrt(est_g_eta)/2)/(4*np.sqrt(est_g_eta))\n",
    "\n",
    "        ### 学習開始\n",
    "        for ite in range(iteration):\n",
    "            ### 事後分布の更新\n",
    "            est_alpha = pri_alpha + est_u_xi.sum(axis = 0)\n",
    "            est_beta = pri_beta + (-2*est_v_eta.sum(axis = 0))\n",
    "            est_m = -2 * (expand_x * est_v_eta).sum(axis = 0) / est_beta\n",
    "            est_gamma = np.repeat(pri_gamma + est_u_xi.sum(axis = 0)/2, M).reshape(K,M)\n",
    "            est_delta = pri_delta - (expand_x**2 * est_v_eta).sum(axis = 0) - est_beta / 2 * est_m**2\n",
    "            ### 対数双曲線関数の更新\n",
    "            est_g_eta = np.repeat(est_gamma / est_delta, n).reshape(K,M,n).transpose((2,0,1)) * (expand_x - np.repeat(est_m,n).reshape(K,M,n).transpose((2,0,1)))**2 + 1/np.repeat(est_beta, n).reshape(K,M,n).transpose((2,0,1))\n",
    "            est_v_eta = - np.repeat(est_u_xi, M).reshape(n, K, M) * np.tanh(np.sqrt(est_g_eta)/2)/(4*np.sqrt(est_g_eta))\n",
    "\n",
    "            ### 隠れ変数の更新\n",
    "            sqrt_g_eta = np.sqrt(est_g_eta)\n",
    "            est_h_xi = np.repeat(psi(est_alpha) - psi(est_alpha.sum()) + (psi(est_gamma) - np.log(est_delta)).sum(axis = 1)/2, n).reshape(K,n).T - (sqrt_g_eta/2 +  np.log( (1 + np.exp(-2*sqrt_g_eta/2 ))/2)).sum(axis = 2)\n",
    "            max_h_xi = est_h_xi.max(axis = 1)\n",
    "            norm_h_xi = est_h_xi - np.repeat(max_h_xi,K).reshape(n,K)\n",
    "            est_u_xi = np.exp(norm_h_xi) / np.repeat(np.exp(norm_h_xi).sum(axis = 1), K).reshape(n,K)\n",
    "\n",
    "            ### エネルギーの計算\n",
    "            energy[ite] = (np.repeat(est_u_xi, M).reshape(n, K, M) * (sqrt_g_eta/2 +  np.log( (1 + np.exp(-2*sqrt_g_eta/2 ))/2)) ).sum() - (np.log(np.exp(norm_h_xi).sum(axis = 1)) + max_h_xi).sum() + (est_u_xi * est_h_xi).sum() + (est_v_eta * est_g_eta).sum()\n",
    "            energy[ite] += gammaln(est_alpha.sum()) - gammaln(K*pri_alpha) + (-gammaln(est_alpha) + gammaln(pri_alpha)).sum()\n",
    "            energy[ite] += (np.log(est_beta/pri_beta)/2 + est_gamma * np.log(est_delta) - pri_gamma * np.log(pri_delta) - gammaln(est_gamma) + gammaln(pri_gamma)).sum()\n",
    "        \n",
    "        print(energy[-1])        \n",
    "        if energy[-1] < min_energy:\n",
    "            min_energy = energy[-1]\n",
    "            result[\"alpha\"] = est_alpha\n",
    "            result[\"beta\"] = est_beta\n",
    "            result[\"mu\"] = est_m\n",
    "            result[\"gamma\"] = est_gamma\n",
    "            result[\"delta\"] = est_delta\n",
    "            result[\"h_xi\"] = est_h_xi\n",
    "            result[\"u_xi\"] = est_u_xi\n",
    "            result[\"g_eta\"] = est_g_eta\n",
    "            result[\"v_eta\"] = est_v_eta            \n",
    "            result[\"energy\"] = energy\n",
    "            if learning_seeds is not None and len(learning_seeds) >= restart:\n",
    "                result[\"seed\"] = learning_seeds[restart]\n",
    "    return result"
   ]
  },
  {
   "cell_type": "code",
   "execution_count": 46,
   "metadata": {},
   "outputs": [],
   "source": [
    "### 初期設定を行う\n",
    "iteration = 1000\n",
    "learning_seeds = [20190511, 20190512, 20190513, 20190514, 20190515]\n",
    "\n",
    "## 学習モデルのコンポーネントの数\n",
    "K = 5\n",
    "\n",
    "## ハイパーパラメータ\n",
    "pri_alpha = 0.1\n",
    "pri_beta = 0.001\n",
    "pri_gamma = 2\n",
    "pri_delta = 2\n",
    "\n"
   ]
  },
  {
   "cell_type": "code",
   "execution_count": 47,
   "metadata": {},
   "outputs": [
    {
     "name": "stdout",
     "output_type": "stream",
     "text": [
      "4843.228997382068\n",
      "4857.449693332859\n",
      "4880.235051183133\n",
      "4875.01109531741\n",
      "4875.011095317437\n"
     ]
    }
   ],
   "source": [
    "hsmm_result = fit_lva_hsmm(x, K, pri_alpha = pri_alpha, pri_beta = pri_beta, pri_gamma = pri_gamma, pri_delta = pri_delta, learning_seeds=learning_seeds)"
   ]
  },
  {
   "cell_type": "code",
   "execution_count": 48,
   "metadata": {},
   "outputs": [
    {
     "data": {
      "text/plain": [
       "{'est_ratio': array([0.65935061, 0.02703302, 0.03725573, 0.02666491, 0.24969572]),\n",
       " 'est_mean': array([[ -1.15132301,  -1.18259146],\n",
       "        [ -1.7016063 ,   1.10222848],\n",
       "        [ -0.8809361 ,   4.78480226],\n",
       "        [-12.58565172,  -3.03009936],\n",
       "        [  4.03341543,   4.00115909]]),\n",
       " 'est_precision': array([[4.94338494e-01, 4.83995217e-01],\n",
       "        [2.23147567e-03, 5.54364928e-01],\n",
       "        [2.19216414e-01, 3.74670912e-04],\n",
       "        [5.35006758e-04, 1.11512645e+00],\n",
       "        [1.23096667e+01, 1.32484221e+01]])}"
      ]
     },
     "execution_count": 48,
     "metadata": {},
     "output_type": "execute_result"
    }
   ],
   "source": [
    "{\n",
    "    \"est_ratio\": hsmm_result[\"alpha\"] / sum(hsmm_result[\"alpha\"]),\n",
    "    \"est_mean\": hsmm_result[\"mu\"],\n",
    "    \"est_precision\": hsmm_result[\"gamma\"] / hsmm_result[\"delta\"]\n",
    "}"
   ]
  },
  {
   "cell_type": "code",
   "execution_count": 49,
   "metadata": {},
   "outputs": [
    {
     "name": "stdout",
     "output_type": "stream",
     "text": [
      "8755.95839961465\n",
      "8726.922813161871\n",
      "8743.872636786073\n",
      "8684.286506425251\n",
      "8684.286506425247\n"
     ]
    }
   ],
   "source": [
    "gmm_result = fit_lva_gmm(x, K, pri_alpha = pri_alpha, pri_beta = pri_beta, pri_gamma = pri_gamma, pri_delta = pri_delta, learning_seeds = learning_seeds)"
   ]
  },
  {
   "cell_type": "code",
   "execution_count": 51,
   "metadata": {},
   "outputs": [
    {
     "data": {
      "text/plain": [
       "{'est_ratio': array([0.21857436, 0.63785596, 0.01098207, 0.07015806, 0.06242955]),\n",
       " 'est_mean': array([[   4.06317781,    3.99444387],\n",
       "        [  -1.00524214,   -0.957463  ],\n",
       "        [  27.80164091, -140.55172596],\n",
       "        [  -1.58954398,   -0.99934761],\n",
       "        [  -0.68215411,   -0.6929767 ]]),\n",
       " 'est_precision': array([[2.19825765e+00, 2.51959039e+00],\n",
       "        [6.05333632e-02, 6.40943494e-02],\n",
       "        [1.96477991e-06, 2.71963429e-06],\n",
       "        [5.57034585e-04, 7.37953401e-02],\n",
       "        [5.55059185e-02, 4.34979802e-04]])}"
      ]
     },
     "execution_count": 51,
     "metadata": {},
     "output_type": "execute_result"
    }
   ],
   "source": [
    "{\n",
    "    \"est_ratio\": gmm_result[\"alpha\"] / sum(gmm_result[\"alpha\"]),\n",
    "    \"est_mean\": gmm_result[\"mu\"],\n",
    "    \"est_precision\": gmm_result[\"gamma\"] / gmm_result[\"delta\"]\n",
    "}"
   ]
  },
  {
   "cell_type": "markdown",
   "metadata": {},
   "source": [
    "## クラスタ確率の評価\n",
    "+ クラスタの番号は入れ替え対称性があるので、全ての置換の中で真のラベルと一致している数が多いもので対応付けを行う"
   ]
  },
  {
   "cell_type": "code",
   "execution_count": 52,
   "metadata": {},
   "outputs": [],
   "source": [
    "import itertools\n",
    "label_prob_gmm = gmm_result[\"u_xi\"]\n",
    "if noise_data_num > 0:\n",
    "    target_label_arg = true_label_arg[:-noise_data_num]\n",
    "    label_arg_gmm = np.argmax(label_prob_gmm, axis = 1)[:-noise_data_num]\n",
    "else:\n",
    "    target_label_arg = true_label_arg\n",
    "    label_arg_gmm = np.argmax(label_prob_gmm, axis = 1)\n",
    "\n",
    "max_correct_num_gmm = 0\n",
    "for perm in list(itertools.permutations(range(K), K)):\n",
    "    permed_label_arg_gmm = label_arg_gmm.copy()\n",
    "    for i in range(len(perm)):\n",
    "        permed_label_arg_gmm[label_arg_gmm == i] = perm[i]\n",
    "    correct_num_gmm = (permed_label_arg_gmm == target_label_arg).sum()\n",
    "    if correct_num_gmm > max_correct_num_gmm:\n",
    "        max_correct_num_gmm = correct_num_gmm\n",
    "        max_perm_gmm = perm\n",
    "        max_label_arg_gmm = permed_label_arg_gmm"
   ]
  },
  {
   "cell_type": "code",
   "execution_count": 53,
   "metadata": {},
   "outputs": [],
   "source": [
    "import itertools\n",
    "label_prob_hsmm = hsmm_result[\"u_xi\"]\n",
    "if noise_data_num > 0:\n",
    "    target_label_arg = true_label_arg[:-noise_data_num]\n",
    "    label_arg_hsmm = np.argmax(label_prob_hsmm, axis = 1)[:-noise_data_num]    \n",
    "else:\n",
    "    target_label_arg = true_label_arg\n",
    "    label_arg_hsmm = np.argmax(label_prob_hsmm, axis = 1)\n",
    "max_correct_num_hsmm = 0\n",
    "for perm in list(itertools.permutations(range(K), K)):\n",
    "    permed_label_arg_hsmm = label_arg_hsmm.copy()\n",
    "    for i in range(len(perm)):\n",
    "        permed_label_arg_hsmm[label_arg_hsmm == i] = perm[i]\n",
    "    correct_num_hsmm = (permed_label_arg_hsmm == target_label_arg).sum()\n",
    "    if correct_num_hsmm > max_correct_num_hsmm:\n",
    "        max_correct_num_hsmm = correct_num_hsmm\n",
    "        max_perm_hsmm = perm\n",
    "        max_label_arg_hsmm = permed_label_arg_hsmm"
   ]
  },
  {
   "cell_type": "code",
   "execution_count": 54,
   "metadata": {},
   "outputs": [
    {
     "data": {
      "text/plain": [
       "1141"
      ]
     },
     "execution_count": 54,
     "metadata": {},
     "output_type": "execute_result"
    }
   ],
   "source": [
    "max_correct_num_gmm"
   ]
  },
  {
   "cell_type": "code",
   "execution_count": 55,
   "metadata": {},
   "outputs": [
    {
     "data": {
      "text/plain": [
       "1193"
      ]
     },
     "execution_count": 55,
     "metadata": {},
     "output_type": "execute_result"
    }
   ],
   "source": [
    "max_correct_num_hsmm"
   ]
  },
  {
   "cell_type": "code",
   "execution_count": 56,
   "metadata": {},
   "outputs": [
    {
     "data": {
      "image/png": "[encoded data removed]",
      "text/plain": [
       "<Figure size 432x288 with 1 Axes>"
      ]
     },
     "metadata": {
      "needs_background": "light"
     },
     "output_type": "display_data"
    }
   ],
   "source": [
    "for i in range(K):\n",
    "    if noise_data_num > 0:\n",
    "        plt.scatter(x[np.where(true_label_arg[:-noise_data_num] == i)[0],0], x[np.where(true_label_arg[:-noise_data_num] == i)[0],1])\n",
    "    else:\n",
    "        plt.scatter(x[np.where(true_label_arg == i)[0],0], x[np.where(true_label_arg == i)[0],1])        \n",
    "plt.show()"
   ]
  },
  {
   "cell_type": "code",
   "execution_count": 57,
   "metadata": {},
   "outputs": [
    {
     "data": {
      "image/png": "[encoded data removed]",
      "text/plain": [
       "<Figure size 432x288 with 1 Axes>"
      ]
     },
     "metadata": {
      "needs_background": "light"
     },
     "output_type": "display_data"
    }
   ],
   "source": [
    "for i in range(K):\n",
    "    if noise_data_num > 0:\n",
    "        plt.scatter(x[np.where(max_label_arg_hsmm[:-noise_data_num] == i)[0],0], x[np.where(max_label_arg_hsmm[:-noise_data_num] == i)[0],1])\n",
    "    else:\n",
    "        plt.scatter(x[np.where(max_label_arg_hsmm == i)[0],0], x[np.where(max_label_arg_hsmm == i)[0],1])\n",
    "    \n",
    "plt.show()"
   ]
  },
  {
   "cell_type": "code",
   "execution_count": 58,
   "metadata": {},
   "outputs": [
    {
     "data": {
      "image/png": "[encoded data removed]",
      "text/plain": [
       "<Figure size 432x288 with 1 Axes>"
      ]
     },
     "metadata": {
      "needs_background": "light"
     },
     "output_type": "display_data"
    }
   ],
   "source": [
    "for i in range(K):\n",
    "    if noise_data_num > 0:\n",
    "        plt.scatter(x[np.where(max_label_arg_gmm[:-noise_data_num] == i)[0],0], x[np.where(max_label_arg_gmm[:-noise_data_num] == i)[0],1])\n",
    "    else:\n",
    "        plt.scatter(x[np.where(max_label_arg_gmm == i)[0],0], x[np.where(max_label_arg_gmm == i)[0],1])    \n",
    "plt.show()"
   ]
  },
  {
   "cell_type": "code",
   "execution_count": null,
   "metadata": {},
   "outputs": [],
   "source": []
  }
 ],
 "metadata": {
  "kernelspec": {
   "display_name": "Python 3",
   "language": "python",
   "name": "python3"
  },
  "language_info": {
   "codemirror_mode": {
    "name": "ipython",
    "version": 3
   },
   "file_extension": ".py",
   "mimetype": "text/x-python",
   "name": "python",
   "nbconvert_exporter": "python",
   "pygments_lexer": "ipython3",
   "version": "3.7.1"
  }
 },
 "nbformat": 4,
 "nbformat_minor": 2
}
