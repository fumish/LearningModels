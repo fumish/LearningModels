{
 "cells": [
  {
   "cell_type": "markdown",
   "metadata": {},
   "source": [
    "# Library for hyperbolic secant distribution\n",
    "This library is for hyperbolic secant distribution. The distribution is as follows:\n",
    "$ p(x|w) = \\frac{s}{2\\pi} sech(\\frac{s}{2}(x - b))$,  \n",
    "where $x, b \\in \\mathbb{R}, s \\in \\mathbb{R}_+$.\n",
    "\n",
    "To estimate the distribution, local variational approximation is used.\n",
    "Through the estimation, there are various usage.\n",
    "1. Regression\n",
    "  + <img src=\"https://latex.codecogs.com/gif.latex?p(y|x,w)&space;=&space;\\frac{s}{2\\pi}&space;sech(y&space;-&space;f(x,b)),\" title=\"p(y|x,w) = \\frac{s}{2\\pi} sech(y - f(x,b)),\" /> is regression model.  \n",
    "  Here, there are various possibility for the form of f(x,b). Simple case is <img src=\"https://latex.codecogs.com/gif.latex?f(x,b)&space;=&space;x&space;\\cdot&space;b,&space;x,b&space;\\in&space;\\mathbb{R}^M\" title=\"f(x,b) = x \\cdot b, x,b \\in \\mathbb{R}^M\" />.\n",
    "  + This library does not consider the above case, but also non-parameteric case, i.e. the prior distribution is gaussian process.\n",
    "\n",
    "2. \n",
    "\n",
    "# Sample Code for use\n",
    "See example for more detail.\n"
   ]
  }
 ],
 "metadata": {
  "jupytext": {
   "text_representation": {
    "extension": ".py",
    "format_name": "light",
    "format_version": "1.4",
    "jupytext_version": "1.2.1"
   }
  },
  "kernelspec": {
   "display_name": "Python 3",
   "language": "python",
   "name": "python3"
  },
  "language_info": {
   "codemirror_mode": {
    "name": "ipython",
    "version": 3
   },
   "file_extension": ".py",
   "mimetype": "text/x-python",
   "name": "python",
   "nbconvert_exporter": "python",
   "pygments_lexer": "ipython3",
   "version": "3.6.3"
  }
 },
 "nbformat": 4,
 "nbformat_minor": 4
}
