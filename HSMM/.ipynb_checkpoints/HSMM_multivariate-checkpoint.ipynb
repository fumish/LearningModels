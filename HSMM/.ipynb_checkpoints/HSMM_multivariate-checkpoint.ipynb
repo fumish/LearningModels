{
 "cells": [
  {
   "cell_type": "markdown",
   "metadata": {},
   "source": [
    "# Multivariate Hyperbolic Secant Mixture modelの推定\n",
    "+ モデル:\n",
    "    + $p(x|w) = \\sum_{k=1}^K a_k \\prod_{j = 1}^M \\frac{\\sqrt{s_{kj}}}{2} \\frac{1}{\\cosh(\\frac{s_{kj}}{2}(x_j - b_{kj}))}$\n",
    "    + $x, b_k \\in \\mathbb{R}^M, s_k \\in \\mathbb{R}_+^M$\n",
    "+ 事前分布:\n",
    "    + $\\varphi(w) = Dir(a|\\{ \\alpha_k \\}_{k=1}^K) \\prod_{k=1}^K N(b_k|0, (s_k \\beta_k)^{-1} ) Gam(s_k|\\gamma_k, \\delta_k)$\n",
    "+ アルゴリズム\n",
    "   1. 以下の初期化を行う:\n",
    "       + $g_{ikj}(\\eta), v_{ikj}(\\eta), h_{ik}(\\xi), u_{ik}(\\xi)$\n",
    "   2. 以下を計算する\n",
    "       + $\\hat{\\alpha}_k = \\alpha_k + \\sum_{i=1}^n u_{ik}(\\xi)$\n",
    "       + $\\hat{\\beta}_{kj} = \\beta_k + \\sum_{i=1}^n -2v_{ikj}(\\eta)$\n",
    "       + $\\hat{m}_{kj} = \\frac{1}{\\hat{\\beta}_k} \\sum_{i=1}^n -2v_{ik}(\\eta)x_i$\n",
    "       + $\\hat{\\gamma}_{kj} = \\gamma_k + \\frac{1}{2}\\sum_{i=1}^n u_{ik}(\\xi)$\n",
    "       + $\\hat{\\delta}_{kj} = \\delta_k + \\sum_{i=1}^n -v_{ikj}(\\eta)x_{ij}^2 - \\frac{\\hat{\\beta}_{kj}}{2}\\hat{m}_{kj}^2$\n",
    "   3. 以下を計算する\n",
    "       + $g_{ikj}(\\eta) = \\frac{\\hat{\\gamma}_{kj}}{\\hat{\\delta}_{kj}} (x_{ij} - \\hat{m}_{kj})^2 + \\frac{1}{\\hat{\\beta}_{kj}}$\n",
    "       + $v_{ikj}(\\eta) = -u_{ik}(\\xi)\\frac{ \\tanh(\\sqrt{g_{ikj}(\\eta)}/2) }{4\\sqrt{g_{ikj}(\\eta)}}$\n",
    "   4. 以下を計算する\n",
    "       + $h_{ik}(\\xi) = \\psi(\\hat{\\alpha}_k) - \\psi(\\sum_{l=1}^K \\hat{\\alpha}_l) + \\frac{1}{2} \\sum_{j=1}^M (\\psi(\\hat{\\gamma}_{kj}) - \\log(\\hat{\\delta}_{kj})) - \\sum_{j=1}^M \\log(\\cosh(\\sqrt{g_{ikj}(\\eta)}/2)) $\n",
    "       + $u_{ik}(\\xi) = \\frac{ \\exp(h_{ik}(\\xi)) }{ \\sum_{l=1}^K \\exp(h_{il}(\\xi)) }$\n",
    "       + ここで,$\\psi(x) = \\frac{d}{dx}\\log \\Gamma(x)$\n",
    "   5. 2.に戻る\n",
    "   \n",
    "+ 評価関数$\\overline{F}_{\\xi, \\eta}(x^n)$の値\n",
    "    + $\\overline{F}_{\\xi, \\eta}(x^n) = - \\phi(h(\\xi)) - \\psi(g(\\eta)) + u(\\xi) \\cdot h(\\xi) + v(\\eta) \\cdot g(\\eta) $  \n",
    "        $+ nM \\log 2 \\pi + \\log \\Gamma(\\sum_{l = 1}^K \\hat{\\alpha}_l) - \\log \\Gamma({\\sum_{l = 1}^K\\alpha}_l) + \\sum_{k=1}^K \\log \\frac{\\Gamma(\\alpha_k)}{\\Gamma(\\hat{\\alpha}_k)}$  \n",
    "        $+ \\sum_{k=1}^K \\sum_{j=1}^M \\bigl\\{ \\frac{1}{2} \\log \\frac{\\hat{\\beta}_{kj}}{\\beta_{kj}} + \\hat{\\gamma}_{kj} \\log \\hat{\\delta}_{kj} - \\gamma_{kj} \\log \\delta_{kj} - \\log \\Gamma(\\hat{\\gamma}_{kj}) + \\log \\Gamma(\\gamma_{kj}) \\bigr\\}$"
   ]
  },
  {
   "cell_type": "code",
   "execution_count": 1,
   "metadata": {},
   "outputs": [],
   "source": [
    "%matplotlib inline"
   ]
  },
  {
   "cell_type": "code",
   "execution_count": 2,
   "metadata": {},
   "outputs": [],
   "source": [
    "import numpy as np\n",
    "from scipy.special import gammaln, psi\n",
    "import matplotlib.pyplot as plt\n",
    "import seaborn as sns"
   ]
  },
  {
   "cell_type": "markdown",
   "metadata": {},
   "source": [
    "## HSMMに従う確率変数を生成する"
   ]
  },
  {
   "cell_type": "code",
   "execution_count": 3,
   "metadata": {},
   "outputs": [],
   "source": [
    "data_seed = 20190514\n",
    "true_ratio = np.array([0.33, 0.33, 0.34])\n",
    "true_s = np.array([[2, 2], [0.5, 0.5], [1, 1]])\n",
    "true_b = np.array([[4, 4], [-4, -4], [0, 0]])\n",
    "n = 2000\n",
    "M = true_b.shape[1]\n",
    "np.random.seed(data_seed)"
   ]
  },
  {
   "cell_type": "code",
   "execution_count": 4,
   "metadata": {},
   "outputs": [],
   "source": [
    "true_label = np.random.multinomial(n = 1, pvals = true_ratio, size = n)\n",
    "true_label_arg = np.argmax(true_label, axis = 1)"
   ]
  },
  {
   "cell_type": "code",
   "execution_count": 5,
   "metadata": {},
   "outputs": [],
   "source": [
    "def random_hsm(n, loc = 0, scale = 1):\n",
    "    \"\"\"\n",
    "    hyperbolic secant distributionに従う確率変数を生成する\n",
    "    $Y \\sim standard_cauchy(x)$の時,  \n",
    "    $X = \\frac{2}{s}\\sinh^{-1}(Y) + b$は,  \n",
    "    $X \\sim p(x) = \\frac{s}{2\\pi}\\frac{1}{\\cosh(s(x-b)/2)}$に従うはずなので、その確認を行う\n",
    "    \"\"\"\n",
    "    Y = np.random.standard_cauchy(size=n)\n",
    "    X = 2/np.sqrt(scale)*np.arcsinh(Y) + loc    \n",
    "    return X"
   ]
  },
  {
   "cell_type": "code",
   "execution_count": 6,
   "metadata": {},
   "outputs": [],
   "source": [
    "x = np.zeros((n, M))\n",
    "for i in range(n):\n",
    "    for j in range(M):\n",
    "        x[i, j] = random_hsm(n=1, loc=true_b[true_label_arg[i],j], scale=true_s[true_label_arg[i],j])"
   ]
  },
  {
   "cell_type": "code",
   "execution_count": 7,
   "metadata": {},
   "outputs": [
    {
     "data": {
      "text/plain": [
       "<matplotlib.collections.PathCollection at 0x19c3c9643c8>"
      ]
     },
     "execution_count": 7,
     "metadata": {},
     "output_type": "execute_result"
    },
    {
     "data": {
      "image/png": "[encoded data removed]",
      "text/plain": [
       "<Figure size 432x288 with 1 Axes>"
      ]
     },
     "metadata": {
      "needs_background": "light"
     },
     "output_type": "display_data"
    }
   ],
   "source": [
    "plt.scatter(x[:,0], x[:,1])"
   ]
  },
  {
   "cell_type": "code",
   "execution_count": 8,
   "metadata": {},
   "outputs": [
    {
     "data": {
      "image/png": "[encoded data removed]",
      "text/plain": [
       "<Figure size 432x288 with 2 Axes>"
      ]
     },
     "metadata": {
      "needs_background": "light"
     },
     "output_type": "display_data"
    }
   ],
   "source": [
    "plt.hist2d(x[:,0], x[:,1], bins = 40)\n",
    "plt.colorbar()\n",
    "plt.show()"
   ]
  },
  {
   "cell_type": "code",
   "execution_count": 9,
   "metadata": {},
   "outputs": [],
   "source": [
    "def simple_2dhist(k:int = 0):\n",
    "    max_val = x.max(axis = 0)\n",
    "    min_val = x.min(axis = 0)    \n",
    "    plt.hist2d(x[np.where(true_label_arg == k),0].squeeze(), x[np.where(true_label_arg == k),1].squeeze(), range = [[min_val[0], max_val[0]], [min_val[1], max_val[1]]], bins = 40)\n",
    "    plt.colorbar()\n",
    "    plt.xlim(left = min_val[0], right = max_val[0])\n",
    "    plt.ylim(bottom = min_val[1], top = max_val[1])\n",
    "    plt.show()\n",
    "    pass"
   ]
  },
  {
   "cell_type": "code",
   "execution_count": 10,
   "metadata": {},
   "outputs": [
    {
     "data": {
      "image/png": "[encoded data removed]",
      "text/plain": [
       "<Figure size 432x288 with 2 Axes>"
      ]
     },
     "metadata": {
      "needs_background": "light"
     },
     "output_type": "display_data"
    }
   ],
   "source": [
    "simple_2dhist(0)"
   ]
  },
  {
   "cell_type": "code",
   "execution_count": 11,
   "metadata": {},
   "outputs": [
    {
     "data": {
      "image/png": "[encoded data removed]",
      "text/plain": [
       "<Figure size 432x288 with 2 Axes>"
      ]
     },
     "metadata": {
      "needs_background": "light"
     },
     "output_type": "display_data"
    }
   ],
   "source": [
    "simple_2dhist(1)"
   ]
  },
  {
   "cell_type": "code",
   "execution_count": 12,
   "metadata": {},
   "outputs": [
    {
     "data": {
      "image/png": "[encoded data removed]",
      "text/plain": [
       "<Figure size 432x288 with 2 Axes>"
      ]
     },
     "metadata": {
      "needs_background": "light"
     },
     "output_type": "display_data"
    }
   ],
   "source": [
    "simple_2dhist(2)"
   ]
  },
  {
   "cell_type": "code",
   "execution_count": null,
   "metadata": {},
   "outputs": [],
   "source": []
  },
  {
   "cell_type": "markdown",
   "metadata": {},
   "source": [
    "# 学習を行う"
   ]
  },
  {
   "cell_type": "code",
   "execution_count": 61,
   "metadata": {},
   "outputs": [],
   "source": [
    "### 初期設定を行う\n",
    "iteration = 1000\n",
    "learning_seed = 20190514\n",
    "\n",
    "## 学習モデルのコンポーネントの数\n",
    "K = 5\n",
    "\n",
    "## ハイパーパラメータ\n",
    "pri_alpha = 0.1\n",
    "pri_beta = 0.001\n",
    "pri_gamma = 2\n",
    "pri_delta = 2\n",
    "\n",
    "np.random.seed(learning_seed)\n",
    "\n",
    "energy = np.zeros(iteration)"
   ]
  },
  {
   "cell_type": "code",
   "execution_count": 62,
   "metadata": {},
   "outputs": [],
   "source": [
    "### 初期値の設定\n",
    "est_h_xi = np.random.gamma(shape = 1, size = (n, K))\n",
    "est_u_xi = np.exp(est_h_xi) / np.repeat(np.exp(est_h_xi).sum(axis = 1), K).reshape(n,K)\n",
    "# est_u_xi = np.random.dirichlet(alpha = np.ones(K), size=n)\n",
    "\n",
    "est_g_eta = np.abs(np.random.normal(size=(n,K,M)))\n",
    "est_v_eta = - np.repeat(est_u_xi, M).reshape(n, K, M) * np.tanh(np.sqrt(est_g_eta)/2)/(4*np.sqrt(est_g_eta))"
   ]
  },
  {
   "cell_type": "code",
   "execution_count": 63,
   "metadata": {},
   "outputs": [
    {
     "name": "stdout",
     "output_type": "stream",
     "text": [
      "4098.458329053392\n"
     ]
    }
   ],
   "source": [
    "### 繰り返し計算部分\n",
    "expand_x = np.repeat(x, K).reshape(n, M, K).transpose((0, 2, 1)) ### n * K * M data with the same matrix among 2nd dimension\n",
    "for ite in range(iteration):\n",
    "    ### 事後分布の更新\n",
    "    est_alpha = pri_alpha + est_u_xi.sum(axis = 0)\n",
    "    est_beta = pri_beta + (-2*est_v_eta.sum(axis = 0))\n",
    "    est_m = -2 * (expand_x * est_v_eta).sum(axis = 0) / est_beta\n",
    "    est_gamma = np.repeat(pri_gamma + est_u_xi.sum(axis = 0)/2, M).reshape(K,M)\n",
    "    est_delta = pri_delta - (expand_x**2 * est_v_eta).sum(axis = 0) - est_beta / 2 * est_m**2\n",
    "    ### 対数双曲線関数の更新\n",
    "    est_g_eta = np.repeat(est_gamma / est_delta, n).reshape(K,M,n).transpose((2,0,1)) * (expand_x - np.repeat(est_m,n).reshape(K,M,n).transpose((2,0,1)))**2 + 1/np.repeat(est_beta, n).reshape(K,M,n).transpose((2,0,1))\n",
    "    est_v_eta = - np.repeat(est_u_xi, M).reshape(n, K, M) * np.tanh(np.sqrt(est_g_eta)/2)/(4*np.sqrt(est_g_eta))\n",
    "    \n",
    "    ### 隠れ変数の更新\n",
    "    est_h_xi = np.repeat(psi(est_alpha) - psi(est_alpha.sum()) + (psi(est_gamma) - np.log(est_delta)).sum(axis = 1)/2, n).reshape(K,n).T - np.log(np.cosh(np.sqrt(est_g_eta)/2)).sum(axis = 2)\n",
    "    max_h_xi = est_h_xi.max(axis = 1)\n",
    "    norm_h_xi = est_h_xi - np.repeat(max_h_xi,K).reshape(n,K)\n",
    "    est_u_xi = np.exp(norm_h_xi) / np.repeat(np.exp(norm_h_xi).sum(axis = 1), K).reshape(n,K)\n",
    "\n",
    "    ### エネルギーの計算\n",
    "    energy[ite] = (np.repeat(est_u_xi, M).reshape(n, K, M) * np.log(np.cosh(np.sqrt(est_g_eta)/2))).sum() - (np.log(np.exp(norm_h_xi).sum(axis = 1)) + max_h_xi).sum() + (est_u_xi * est_h_xi).sum() + (est_v_eta * est_g_eta).sum()\n",
    "    energy[ite] += gammaln(est_alpha.sum()) - gammaln(K*pri_alpha) + (-gammaln(est_alpha) + gammaln(pri_alpha)).sum()\n",
    "    energy[ite] += (np.log(est_beta/pri_beta)/2 + est_gamma * np.log(est_delta) - pri_gamma * np.log(pri_delta) - gammaln(est_gamma) + gammaln(pri_gamma)).sum()\n",
    "print(energy[-1])"
   ]
  },
  {
   "cell_type": "code",
   "execution_count": 64,
   "metadata": {},
   "outputs": [
    {
     "data": {
      "text/plain": [
       "{'est_ratio': array([0.00049875, 0.33704223, 0.26488721, 0.34545529, 0.05211652]),\n",
       " 'est_b': array([[ 4.36116330e-12, -8.85390746e-12],\n",
       "        [ 4.06508742e+00,  3.98625519e+00],\n",
       "        [-3.42200494e-01,  3.29749909e-01],\n",
       "        [-4.00369903e+00, -3.71341525e+00],\n",
       "        [ 1.05865081e+00, -2.56343708e+00]]),\n",
       " 'est_s': array([[1.        , 1.        ],\n",
       "        [2.02100792, 1.75115537],\n",
       "        [1.4502635 , 1.40473725],\n",
       "        [0.51889133, 0.45228681],\n",
       "        [0.48801172, 1.31731723]])}"
      ]
     },
     "execution_count": 64,
     "metadata": {},
     "output_type": "execute_result"
    }
   ],
   "source": [
    "{\n",
    "    \"est_ratio\": est_alpha / est_alpha.sum(),\n",
    "    \"est_b\": est_m,\n",
    "    \"est_s\": est_gamma / est_delta\n",
    "}"
   ]
  },
  {
   "cell_type": "code",
   "execution_count": null,
   "metadata": {},
   "outputs": [],
   "source": []
  }
 ],
 "metadata": {
  "kernelspec": {
   "display_name": "Python 3",
   "language": "python",
   "name": "python3"
  },
  "language_info": {
   "codemirror_mode": {
    "name": "ipython",
    "version": 3
   },
   "file_extension": ".py",
   "mimetype": "text/x-python",
   "name": "python",
   "nbconvert_exporter": "python",
   "pygments_lexer": "ipython3",
   "version": "3.7.1"
  }
 },
 "nbformat": 4,
 "nbformat_minor": 2
}
