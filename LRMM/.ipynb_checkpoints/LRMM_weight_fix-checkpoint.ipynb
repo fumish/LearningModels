{
 "cells": [
  {
   "cell_type": "markdown",
   "metadata": {},
   "source": [
    "# 混合ロジスティックで混合比を一定にした場合の推定\n",
    "+ $p(y=1|x,w) = \\sum_{k=1}^K \\frac{1}{K} r(b_k^T x)$の推定を行う\n",
    "    + 特に$K$を大きくしたとき、どのようになるか調べる"
   ]
  },
  {
   "cell_type": "code",
   "execution_count": 2,
   "metadata": {},
   "outputs": [],
   "source": [
    "%matplotlib inline"
   ]
  },
  {
   "cell_type": "code",
   "execution_count": 12,
   "metadata": {},
   "outputs": [],
   "source": [
    "import sys\n",
    "sys.path.append(\"../lib\")\n",
    "\n",
    "import numpy as np\n",
    "import matplotlib.pyplot as plt\n",
    "from scipy.special import expit\n",
    "\n",
    "from util import logcosh"
   ]
  },
  {
   "cell_type": "code",
   "execution_count": 3,
   "metadata": {},
   "outputs": [],
   "source": [
    "### problem setting\n",
    "n = 1000\n",
    "N = 1000\n",
    "M = 2\n",
    "X_domain = (-10, 10)\n",
    "data_seed = 20191123\n",
    "true_func = lambda x: (x * np.sin(x)).sum(axis = 1)"
   ]
  },
  {
   "cell_type": "code",
   "execution_count": 4,
   "metadata": {},
   "outputs": [],
   "source": [
    "test = np.random.normal(size = (2,3))"
   ]
  },
  {
   "cell_type": "code",
   "execution_count": 5,
   "metadata": {},
   "outputs": [],
   "source": [
    "### data generation\n",
    "np.random.seed(data_seed)\n",
    "def data_generation(n:int):\n",
    "    ret_X = np.zeros((n, M))\n",
    "    base_X = np.random.uniform(low = X_domain[0], high = X_domain[1], size = n)\n",
    "    for j in range(M):\n",
    "        ret_X[:,j] = base_X**j\n",
    "    ret_func = true_func(ret_X)\n",
    "    ret_prob = expit(ret_func)\n",
    "    ret_Y = np.random.binomial(n = 1, p = ret_prob, size = n)\n",
    "\n",
    "    return (ret_X, ret_Y, ret_func, ret_prob)\n",
    "    \n",
    "(train_X, train_Y, train_func, train_prob) = data_generation(n)\n",
    "(test_X, test_Y, test_func, test_prob) = data_generation(N)"
   ]
  },
  {
   "cell_type": "code",
   "execution_count": 47,
   "metadata": {},
   "outputs": [],
   "source": [
    "### learning setting\n",
    "learning_seed = 20181123\n",
    "iteration = 1000\n",
    "K = 10\n",
    "pri_beta = 0.0001"
   ]
  },
  {
   "cell_type": "code",
   "execution_count": 36,
   "metadata": {},
   "outputs": [],
   "source": [
    "### initial learning\n",
    "np.random.seed(learning_seed)\n",
    "est_u_xi = np.random.dirichlet(alpha = np.ones(K), size = n)\n",
    "est_g_eta = np.abs(np.random.normal(size = (n,K)))\n",
    "est_v_eta = -est_u_xi*np.tanh(np.sqrt(est_g_eta)/2)/(4*np.sqrt(est_g_eta))\n",
    "\n",
    "in_out_matrix = np.repeat((train_Y - 0.5),M).reshape(n,M) * train_X"
   ]
  },
  {
   "cell_type": "code",
   "execution_count": 37,
   "metadata": {},
   "outputs": [
    {
     "ename": "IndexError",
     "evalue": "index 10 is out of bounds for axis 2 with size 10",
     "output_type": "error",
     "traceback": [
      "\u001b[1;31m---------------------------------------------------------------------------\u001b[0m",
      "\u001b[1;31mIndexError\u001b[0m                                Traceback (most recent call last)",
      "\u001b[1;32m<ipython-input-37-021febc18130>\u001b[0m in \u001b[0;36m<module>\u001b[1;34m\u001b[0m\n\u001b[1;32m----> 1\u001b[1;33m \u001b[0msum\u001b[0m\u001b[1;33m(\u001b[0m\u001b[1;33m[\u001b[0m\u001b[0mnp\u001b[0m\u001b[1;33m.\u001b[0m\u001b[0mlinalg\u001b[0m\u001b[1;33m.\u001b[0m\u001b[0mslogdet\u001b[0m\u001b[1;33m(\u001b[0m\u001b[0mest_beta\u001b[0m\u001b[1;33m[\u001b[0m\u001b[1;33m:\u001b[0m\u001b[1;33m,\u001b[0m\u001b[1;33m:\u001b[0m\u001b[1;33m,\u001b[0m\u001b[0mk\u001b[0m\u001b[1;33m]\u001b[0m\u001b[1;33m)\u001b[0m\u001b[1;33m[\u001b[0m\u001b[1;36m1\u001b[0m\u001b[1;33m]\u001b[0m \u001b[1;32mfor\u001b[0m \u001b[0mk\u001b[0m \u001b[1;32min\u001b[0m \u001b[0mrange\u001b[0m\u001b[1;33m(\u001b[0m\u001b[0mK\u001b[0m\u001b[1;33m)\u001b[0m\u001b[1;33m]\u001b[0m\u001b[1;33m)\u001b[0m\u001b[1;33m\u001b[0m\u001b[1;33m\u001b[0m\u001b[0m\n\u001b[0m",
      "\u001b[1;32m<ipython-input-37-021febc18130>\u001b[0m in \u001b[0;36m<listcomp>\u001b[1;34m(.0)\u001b[0m\n\u001b[1;32m----> 1\u001b[1;33m \u001b[0msum\u001b[0m\u001b[1;33m(\u001b[0m\u001b[1;33m[\u001b[0m\u001b[0mnp\u001b[0m\u001b[1;33m.\u001b[0m\u001b[0mlinalg\u001b[0m\u001b[1;33m.\u001b[0m\u001b[0mslogdet\u001b[0m\u001b[1;33m(\u001b[0m\u001b[0mest_beta\u001b[0m\u001b[1;33m[\u001b[0m\u001b[1;33m:\u001b[0m\u001b[1;33m,\u001b[0m\u001b[1;33m:\u001b[0m\u001b[1;33m,\u001b[0m\u001b[0mk\u001b[0m\u001b[1;33m]\u001b[0m\u001b[1;33m)\u001b[0m\u001b[1;33m[\u001b[0m\u001b[1;36m1\u001b[0m\u001b[1;33m]\u001b[0m \u001b[1;32mfor\u001b[0m \u001b[0mk\u001b[0m \u001b[1;32min\u001b[0m \u001b[0mrange\u001b[0m\u001b[1;33m(\u001b[0m\u001b[0mK\u001b[0m\u001b[1;33m)\u001b[0m\u001b[1;33m]\u001b[0m\u001b[1;33m)\u001b[0m\u001b[1;33m\u001b[0m\u001b[1;33m\u001b[0m\u001b[0m\n\u001b[0m",
      "\u001b[1;31mIndexError\u001b[0m: index 10 is out of bounds for axis 2 with size 10"
     ]
    }
   ],
   "source": [
    "sum([np.linalg.slogdet(est_beta[:,:,k])[1] for k in range(K)])"
   ]
  },
  {
   "cell_type": "code",
   "execution_count": 46,
   "metadata": {},
   "outputs": [],
   "source": [
    "### iteration\n",
    "for ite in range(iteration):\n",
    "    ### update param posterior\n",
    "    est_beta = np.repeat(pri_beta * np.eye(M), K).reshape(M,M,K)\n",
    "    for i in range(M):\n",
    "        for j in range(M):\n",
    "            est_beta[i,j,:] += train_X[:,i] * train_X[:,j] @ (-2*est_v_eta)\n",
    "    est_inv_beta = np.array([np.linalg.inv(est_beta[:,:, k]) for k in range(K)]).transpose((1,2,0))\n",
    "    est_b = np.zeros((M,K))\n",
    "    for j in range(M):\n",
    "        est_b[j,:] = (est_inv_beta[j,:,:] * (in_out_matrix.T @ est_u_xi)).sum(axis = 0)\n",
    "    \n",
    "    ### update g_eta\n",
    "    est_g_eta = np.zeros((n,K))\n",
    "    for i in range(M):\n",
    "        for j in range(M):\n",
    "            est_g_eta += np.repeat(train_X[:,i] * train_X[:,j], K).reshape((n,K)) * np.repeat(est_b[i,:] * est_b[j,:] + est_inv_beta[i,j,:], n).reshape((K,n)).T\n",
    "    sq_g_eta = np.sqrt(est_g_eta)\n",
    "    \n",
    "    ### update h_xi\n",
    "    est_h_xi = -np.log(K) + in_out_matrix @ est_b - np.log(2) - logcosh(sq_g_eta/2)\n",
    "    max_est_h_xi = est_h_xi.max(axis = 1)\n",
    "    norm_est_h_xi = est_h_xi - np.repeat(max_est_h_xi, K).reshape(n,K)\n",
    "    est_u_xi = np.exp(norm_est_h_xi) / np.repeat(np.exp(norm_est_h_xi).sum(axis = 1), K).reshape(n,K)\n",
    "    \n",
    "    ### energy calculation\n",
    "    energy = n*np.log(K)\n",
    "    energy += -(np.log(np.exp(norm_est_h_xi).sum(axis = 1)) + max_est_h_xi).sum()\n",
    "    energy += (est_u_xi * (np.log(2) + logcosh(sq_g_eta/2) )).sum()\n",
    "    energy += (est_u_xi * est_h_xi).sum()\n",
    "    energy += (est_v_eta * est_g_eta).sum()\n",
    "    for i in range(M):\n",
    "        for j in range(M):\n",
    "            energy += (-est_beta[i,j,:] * est_b[i,:] * est_b[j,:]/2).sum()\n",
    "        pass\n",
    "    energy += sum([np.linalg.slogdet(est_beta[:,:,k])[1]/2 for k in range(K)])-M*K/2*np.log(pri_beta)\n",
    "    print(energy)\n",
    "    pass"
   ]
  },
  {
   "cell_type": "code",
   "execution_count": 16,
   "metadata": {},
   "outputs": [
    {
     "data": {
      "text/plain": [
       "(1000, 10)"
      ]
     },
     "execution_count": 16,
     "metadata": {},
     "output_type": "execute_result"
    }
   ],
   "source": [
    "est_h_xi.shape"
   ]
  },
  {
   "cell_type": "code",
   "execution_count": 9,
   "metadata": {},
   "outputs": [
    {
     "data": {
      "text/plain": [
       "(1000, 10)"
      ]
     },
     "execution_count": 9,
     "metadata": {},
     "output_type": "execute_result"
    }
   ],
   "source": [
    "est_g_eta.shape"
   ]
  },
  {
   "cell_type": "code",
   "execution_count": 45,
   "metadata": {},
   "outputs": [
    {
     "data": {
      "text/plain": [
       "array([[ 4.78286009e-01, -1.53970557e-03],\n",
       "       [-1.53970557e-03,  4.95664350e-06]])"
      ]
     },
     "execution_count": 45,
     "metadata": {},
     "output_type": "execute_result"
    }
   ],
   "source": []
  },
  {
   "cell_type": "code",
   "execution_count": 47,
   "metadata": {},
   "outputs": [],
   "source": [
    "debug_g_eta = np.zeros((n,K))\n",
    "for k in range(K):\n",
    "    debug_g_eta[:,k] = np.diag(train_X @ (est_b[:,0].reshape((M,1)) @ est_b[:,0].reshape((1,M)) + est_inv_beta[:,:,k]) @ train_X.T)\n",
    "    pass"
   ]
  },
  {
   "cell_type": "code",
   "execution_count": 50,
   "metadata": {},
   "outputs": [
    {
     "data": {
      "text/plain": [
       "False"
      ]
     },
     "execution_count": 50,
     "metadata": {},
     "output_type": "execute_result"
    }
   ],
   "source": [
    "np.allclose(est_g_eta, debug_g_eta)"
   ]
  },
  {
   "cell_type": "code",
   "execution_count": 51,
   "metadata": {},
   "outputs": [
    {
     "data": {
      "text/plain": [
       "array([[0.53230047, 0.32348865, 0.50860542, ..., 0.38101478, 0.44958491,\n",
       "        0.50704554],\n",
       "       [0.65357134, 0.467749  , 0.66127278, ..., 0.51911687, 0.38043045,\n",
       "        0.58622026],\n",
       "       [0.56143098, 0.36105132, 0.5489754 , ..., 0.415234  , 0.406066  ,\n",
       "        0.52036624],\n",
       "       ...,\n",
       "       [0.53110276, 0.32179304, 0.50675343, ..., 0.37955351, 0.45277256,\n",
       "        0.50679397],\n",
       "       [0.51958419, 0.29683962, 0.4779551 , ..., 0.36239307, 0.56338151,\n",
       "        0.5213054 ],\n",
       "       [0.51959236, 0.30241936, 0.48504355, ..., 0.36440399, 0.51187079,\n",
       "        0.51040381]])"
      ]
     },
     "execution_count": 51,
     "metadata": {},
     "output_type": "execute_result"
    }
   ],
   "source": [
    "est_g_eta"
   ]
  },
  {
   "cell_type": "code",
   "execution_count": 48,
   "metadata": {},
   "outputs": [
    {
     "data": {
      "text/plain": [
       "array([[0.53230047, 0.53111938, 0.52956119, ..., 0.53068484, 0.53036172,\n",
       "        0.53236387],\n",
       "       [0.65357134, 0.64662563, 0.6388145 , ..., 0.64885839, 0.64709297,\n",
       "        0.64941506],\n",
       "       [0.56143098, 0.55877346, 0.55475537, ..., 0.55796354, 0.55855264,\n",
       "        0.55928558],\n",
       "       ...,\n",
       "       [0.53110276, 0.52998715, 0.52857988, ..., 0.52962084, 0.5291948 ,\n",
       "        0.5313191 ],\n",
       "       [0.51958419, 0.51937075, 0.52226115, ..., 0.52267993, 0.51752407,\n",
       "        0.52482272],\n",
       "       [0.51959236, 0.51920296, 0.52025937, ..., 0.52056732, 0.51782072,\n",
       "        0.52254274]])"
      ]
     },
     "execution_count": 48,
     "metadata": {},
     "output_type": "execute_result"
    }
   ],
   "source": [
    "debug_g_eta"
   ]
  },
  {
   "cell_type": "code",
   "execution_count": 36,
   "metadata": {},
   "outputs": [
    {
     "data": {
      "text/plain": [
       "(2, 2, 10)"
      ]
     },
     "execution_count": 36,
     "metadata": {},
     "output_type": "execute_result"
    }
   ],
   "source": [
    "est_inv_beta.transpose((1,2,0)).shape"
   ]
  },
  {
   "cell_type": "code",
   "execution_count": 34,
   "metadata": {},
   "outputs": [
    {
     "data": {
      "text/plain": [
       "(10, 2, 2)"
      ]
     },
     "execution_count": 34,
     "metadata": {},
     "output_type": "execute_result"
    }
   ],
   "source": [
    "est_inv_beta.shape"
   ]
  }
 ],
 "metadata": {
  "kernelspec": {
   "display_name": "Python 3",
   "language": "python",
   "name": "python3"
  },
  "language_info": {
   "codemirror_mode": {
    "name": "ipython",
    "version": 3
   },
   "file_extension": ".py",
   "mimetype": "text/x-python",
   "name": "python",
   "nbconvert_exporter": "python",
   "pygments_lexer": "ipython3",
   "version": "3.7.3"
  }
 },
 "nbformat": 4,
 "nbformat_minor": 4
}
