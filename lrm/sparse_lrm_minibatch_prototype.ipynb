{
 "cells": [
  {
   "cell_type": "markdown",
   "metadata": {},
   "source": [
    "# スパースガウス過程でロジスティック回帰をminibatchでやるための試作"
   ]
  },
  {
   "cell_type": "code",
   "execution_count": 1,
   "metadata": {},
   "outputs": [],
   "source": [
    "%matplotlib inline"
   ]
  },
  {
   "cell_type": "code",
   "execution_count": 29,
   "metadata": {},
   "outputs": [],
   "source": [
    "import numpy as np\n",
    "import matplotlib.pyplot as plt\n",
    "from scipy.special import expit\n",
    "from scipy.spatial import distance_matrix\n",
    "from scipy.stats import wishart"
   ]
  },
  {
   "cell_type": "markdown",
   "metadata": {},
   "source": [
    "## 学習設定"
   ]
  },
  {
   "cell_type": "code",
   "execution_count": 8,
   "metadata": {},
   "outputs": [],
   "source": [
    "data_seed = 20190908\n",
    "n = 1000\n",
    "sub_n = 400\n",
    "M = 1\n",
    "domain_X = (-10, 10)\n",
    "\n",
    "true_func = lambda x: (x * np.sin(x)).sum(axis = 1)"
   ]
  },
  {
   "cell_type": "markdown",
   "metadata": {},
   "source": [
    "## データ生成"
   ]
  },
  {
   "cell_type": "code",
   "execution_count": 14,
   "metadata": {},
   "outputs": [],
   "source": [
    "np.random.seed(data_seed)\n",
    "\n",
    "train_X = np.random.uniform(low = domain_X[0], high = domain_X[1], size = (n, M))\n",
    "train_func = true_func(train_X)\n",
    "train_prob = expit(train_func)\n",
    "train_Y = np.random.binomial(n = 1, p = train_prob, size = n)"
   ]
  },
  {
   "cell_type": "markdown",
   "metadata": {},
   "source": [
    "# 学習開始"
   ]
  },
  {
   "cell_type": "markdown",
   "metadata": {},
   "source": [
    "## 学習設定"
   ]
  },
  {
   "cell_type": "code",
   "execution_count": 53,
   "metadata": {},
   "outputs": [],
   "source": [
    "learning_seed = 20190909\n",
    "\n",
    "iteration = 1000\n",
    "theta1 = 1; theta2 = 1; theta3 = 0.0001\n",
    "kronecker_delta = lambda x,y: np.exp(-distance_matrix(x,y)**2/(0.00001))\n",
    "gauss_kernel = lambda x,y: theta1 * np.exp(-distance_matrix(x,y)**2/(theta2)) + theta3 * kronecker_delta(x,y)\n",
    "gauss_kernel_diag = lambda x: theta1 * np.ones(len(x))  + theta3\n",
    "\n",
    "used_kernel = gauss_kernel\n",
    "used_kernel_diag = gauss_kernel_diag\n",
    "\n",
    "step = 0.5"
   ]
  },
  {
   "cell_type": "markdown",
   "metadata": {},
   "source": [
    "## 部分データの選択"
   ]
  },
  {
   "cell_type": "code",
   "execution_count": 28,
   "metadata": {},
   "outputs": [],
   "source": [
    "np.random.seed(learning_seed)\n",
    "sub_train_X = np.random.uniform(low = domain_X[0], high = domain_X[1], size = (sub_n, M))\n",
    "# sub_ind = np.random.permutation(n)[:sub_n]\n",
    "# sub_train_X = train_X[sub_ind,:]"
   ]
  },
  {
   "cell_type": "markdown",
   "metadata": {},
   "source": [
    "## 学習前の事前計算"
   ]
  },
  {
   "cell_type": "code",
   "execution_count": 110,
   "metadata": {},
   "outputs": [],
   "source": [
    "## 学習で用いるカーネルの計算\n",
    "sub_sub_kernel = used_kernel(sub_train_X, sub_train_X)\n",
    "inv_sub_sub_kernel = np.linalg.inv(sub_sub_kernel)\n",
    "train_sub_kernel = used_kernel(train_X, sub_train_X)\n",
    "\n",
    "## 事後分布の形状パラメータの初期化\n",
    "est_u = np.random.normal(size = sub_n)\n",
    "est_Sigma = wishart.rvs(df = sub_n + 2, scale = np.eye(sub_n), size = 1)\n",
    "est_g_xi = np.random.normal(size = n)\n",
    "\n",
    "nu1 = np.linalg.solve(est_Sigma, est_u)\n",
    "nu2 = -np.linalg.inv(est_Sigma)/2"
   ]
  },
  {
   "cell_type": "markdown",
   "metadata": {},
   "source": [
    "## メインの学習部分"
   ]
  },
  {
   "cell_type": "code",
   "execution_count": 104,
   "metadata": {},
   "outputs": [],
   "source": [
    "a = train_sub_kernel @ inv_sub_sub_kernel\n",
    "est_var_fu = used_kernel_diag(train_X) - ((train_sub_kernel @ inv_sub_sub_kernel) * train_sub_kernel).sum(axis = 1)"
   ]
  },
  {
   "cell_type": "code",
   "execution_count": 105,
   "metadata": {},
   "outputs": [],
   "source": [
    "def logcosh(x):\n",
    "    return np.abs(x) + np.log((1 + np.exp(-2*np.abs(x)))/2)"
   ]
  },
  {
   "cell_type": "code",
   "execution_count": null,
   "metadata": {},
   "outputs": [],
   "source": [
    "zero_condition = 0.000001\n",
    "def ratio_tanh_x(x):\n",
    "    \"\"\"\n",
    "    tanh(x/2)/xの計算\n",
    "    原点がoverflowの原因になるが、原点の値は1/2\n",
    "    \"\"\"\n",
    "    ratio_val = np.zeros(len(sq_h_xi))\n",
    "    zero_ind = np.abs(x) < zero_condition\n",
    "    ratio_val[zero_ind] = 1/2\n",
    "    ratio_val[~zero_ind] = np.tanh(ratio_val[~zero_ind]/2)/(ratio_val[~zero_ind])\n",
    "    return ratio_val"
   ]
  },
  {
   "cell_type": "code",
   "execution_count": 106,
   "metadata": {},
   "outputs": [],
   "source": [
    "# zero_condition = 0.000001\n",
    "# def calc_dphidh(sq_h_xi):\n",
    "#     v_xi = np.zeros(len(sq_h_xi))\n",
    "#     zero_ind = np.abs(sq_h_xi) < zero_condition\n",
    "#     v_xi[zero_ind] = -1/8\n",
    "#     v_xi[~zero_ind] = -np.tanh(sq_h_xi[~zero_ind]/2)/(4*sq_h_xi[~zero_ind])\n",
    "#     return v_xi"
   ]
  },
  {
   "cell_type": "code",
   "execution_count": 116,
   "metadata": {},
   "outputs": [],
   "source": [
    "est_h_xi = np.exp(est_g_xi)\n",
    "est_sq_h_xi = np.sqrt(est_h_xi)\n",
    "est_v_xi = calc_dphidh(est_sq_h_xi)\n"
   ]
  },
  {
   "cell_type": "code",
   "execution_count": 119,
   "metadata": {},
   "outputs": [],
   "source": [
    "dFdnu1 = -(train_Y - 0.5) @ a + nu1\n",
    "dFdnu2 = np.einsum(\"i, ij, ik -> jk\", -est_v_xi, a, a) + inv_sub_sub_kernel/2 + nu2\n",
    "nu1 += -step * dFdnu1\n",
    "nu2 += -step * dFdnu2\n"
   ]
  },
  {
   "cell_type": "code",
   "execution_count": null,
   "metadata": {},
   "outputs": [],
   "source": [
    "dvdg = -((1/np.cosh(est_sq_h_xi/2)**2/4) - np.tanh(est_sq_h_xi/2)/est_sq_h_xi/2)/4\n",
    "dFdg = -dvdg*(est_var_fu + ((a @ nu2) * a).sum(axis = 1) - est_h_xi)\n",
    "est_g_xi += -step * dFdg\n"
   ]
  },
  {
   "cell_type": "code",
   "execution_count": 111,
   "metadata": {},
   "outputs": [
    {
     "name": "stdout",
     "output_type": "stream",
     "text": [
      "-537415979439.3279 3418.592679929211 2.4456422777882194 2591.850626839903\n"
     ]
    }
   ],
   "source": [
    "for ite in range(iteration):\n",
    "    ## 補助変数のを計算用に変換する\n",
    "    est_h_xi = np.exp(est_g_xi)\n",
    "    est_sq_h_xi = np.sqrt(est_h_xi)\n",
    "    est_v_xi = calc_dphidh(est_sq_h_xi)\n",
    "    \n",
    "    ## 事後分布の形状パラメータの計算\n",
    "    dFdnu1 = -(train_Y - 0.5) @ a + nu1\n",
    "    dFdnu2 = np.einsum(\"i, ij, ik -> jk\", -est_v_xi, a, a) + inv_sub_sub_kernel/2 + nu2\n",
    "    nu1 += -step * dFdnu1\n",
    "    nu2 += -step * dFdnu2\n",
    "    \n",
    "    ## 補助変数の計算 -> もともとのものにlogを付けた変数の最適化を行っている\n",
    "    dvdg = -((1/np.cosh(est_sq_h_xi/2)**2/4) - np.tanh(est_sq_h_xi/2)/est_sq_h_xi/2)/4\n",
    "    dFdg = -dvdg*(est_var_fu + ((a @ nu2) * a).sum(axis = 1) - est_h_xi)\n",
    "    est_g_xi += -step * dFdg\n",
    "    \n",
    "    ### エネルギーの計算\n",
    "    est_h_xi = np.exp(est_g_xi)\n",
    "    est_sq_h_xi = np.sqrt(est_h_xi)\n",
    "    est_v_xi = calc_dphidh(est_sq_h_xi)    \n",
    "    phi_h = (-logcosh(est_g_xi)-np.log(2)).sum()\n",
    "    est_Sigma = nu2 - nu1.reshape((sub_n,1)) @ nu1.reshape((1,sub_n))\n",
    "    F = 0\n",
    "    F += -phi_h + est_v_xi @ est_h_xi\n",
    "    F += -(train_Y - 0.5) @ a @ nu1 - est_v_xi @ (est_var_fu + ((a @ nu2)*a).sum(axis=1))\n",
    "    F += (np.trace(inv_sub_sub_kernel @ est_Sigma) + nu1 @ inv_sub_sub_kernel @ nu1 - sub_n + np.linalg.slogdet(sub_sub_kernel)[1] -  np.linalg.slogdet(est_Sigma)[1])/2\n",
    "    \n",
    "    print(F, np.sqrt((dFdg**2).mean()), np.sqrt((dFdnu1**2).mean()), np.sqrt((dFdnu2**2).mean()))\n",
    "    break\n",
    "    pass"
   ]
  },
  {
   "cell_type": "code",
   "execution_count": 115,
   "metadata": {},
   "outputs": [
    {
     "data": {
      "text/plain": [
       "-49949.02674611836"
      ]
     },
     "execution_count": 115,
     "metadata": {},
     "output_type": "execute_result"
    }
   ],
   "source": [
    "est_g_xi.min()"
   ]
  },
  {
   "cell_type": "code",
   "execution_count": null,
   "metadata": {},
   "outputs": [],
   "source": []
  }
 ],
 "metadata": {
  "jupytext": {
   "text_representation": {
    "extension": ".py",
    "format_name": "light",
    "format_version": "1.4",
    "jupytext_version": "1.1.3"
   }
  },
  "kernelspec": {
   "display_name": "Python 3",
   "language": "python",
   "name": "python3"
  },
  "language_info": {
   "codemirror_mode": {
    "name": "ipython",
    "version": 3
   },
   "file_extension": ".py",
   "mimetype": "text/x-python",
   "name": "python",
   "nbconvert_exporter": "python",
   "pygments_lexer": "ipython3",
   "version": "3.7.3"
  },
  "toc-autonumbering": true
 },
 "nbformat": 4,
 "nbformat_minor": 4
}
