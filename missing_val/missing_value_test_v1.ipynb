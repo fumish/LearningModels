{
 "cells": [
  {
   "cell_type": "markdown",
   "metadata": {},
   "source": [
    "# Parameter Estimation with Missing Value\n",
    "## Concept\n",
    "+ In a binary classification problem, a situation contains missing values in inputs are often occur, and validation of whether estimate the parameter of the model and the missing values accurately is important issue.\n",
    "+ In this notebook, we examine a test case that the $M$-th input feature is partialy missing.\n",
    "\n",
    "## Notation\n",
    "+ $n$: the number of training data\n",
    "+ $M$: dimension of input feature\n",
    "+ $x$: input $\\in \\mathbb{R}^M$\n",
    "+ $y$: output $\\in \\{0,1\\}$\n",
    "+ $(x^n, y^n)$: the pair of the training input and output data\n",
    "+ $w$: weight parameter to be estimated\n",
    "+ $x^*$: the test input\n",
    "+ $y^*$: the test output\n",
    "+ $\\lambda_1$: hyperparameter for regularization of $w$\n",
    "+ $\\lambda_2$: hyperparameter for regularization of the missing values\n",
    "+ $n_1$: the number of the inputs that is not missing.\n",
    "+ $n_2$: the number of the inputs that is missing.\n",
    "+ $x_M^{n_2}$: the missing value of the training data\n",
    "+ $x_M^{n_1}$: $M$-th feature of the input that is not missing\n",
    "+ $\\tilde{x} := (x_1, \\ldots, x_{M-1})$\n",
    "\n",
    "## Model\n",
    "+ In this notebook, we particularly consider about logisitic regression case:\n",
    "+ Objective function: \n",
    "$$\n",
    "L(w,x_M^{n_2}) = \\sum_{i=1}^{n_1} \\Bigl\\{ (y_i - 0.5) x_i \\cdot w - \\log 2 \\cosh(x_i \\cdot w / 2) \\Bigr\\} +   \n",
    "\\sum_{i=n_1 + 1}^{n} \\Bigl\\{ (y_i - 0.5) (\\tilde{x}_i \\cdot \\tilde{w} + x_{i,M} w_{M}) - \\log 2 \\cosh(x_i \\cdot w / 2) \\Bigr\\} - \n",
    "\\lambda_1 \\|w\\|^2 - \\lambda_2 \\sum_{i=n_1+1}^n \\|x_{i,M}\\|^2\n",
    "$$\n",
    "+ Note that we search a maximum likelihood estimation here, but we can extend it to approximate posterior distribution, that is variational Bayesian methodology by asuuming independency between $w$ and $x_M^{n_2}$.\n",
    "\n",
    "## Comparison\n",
    "+ To validate the above formalization, we compare it with the following another method:\n",
    "    1. Predict by $(y^{n_1}, x^{n_1})$\n",
    "    2. Predict by $(y^n, \\tilde{x}^n)$"
   ]
  },
  {
   "cell_type": "markdown",
   "metadata": {},
   "source": [
    "# Problme setting"
   ]
  },
  {
   "cell_type": "markdown",
   "metadata": {},
   "source": [
    "## library import"
   ]
  },
  {
   "cell_type": "code",
   "execution_count": 1,
   "metadata": {},
   "outputs": [],
   "source": [
    "%matplotlib inline"
   ]
  },
  {
   "cell_type": "code",
   "execution_count": 2,
   "metadata": {},
   "outputs": [],
   "source": [
    "import numpy as np\n",
    "import matplotlib.pyplot as plt\n",
    "from scipy.special import expit"
   ]
  },
  {
   "cell_type": "code",
   "execution_count": 3,
   "metadata": {},
   "outputs": [],
   "source": [
    "data_seed = 20191228\n",
    "n = 400\n",
    "N = 400\n",
    "M = 4\n",
    "X_domain = (-5, 5)\n",
    "\n",
    "n1 = 200\n",
    "n1_ind = np.arange(n1)\n",
    "n2 = n - n1\n",
    "n2_ind = np.arange(start = n1, stop = n)"
   ]
  },
  {
   "cell_type": "code",
   "execution_count": 4,
   "metadata": {},
   "outputs": [],
   "source": [
    "np.random.seed(data_seed)"
   ]
  },
  {
   "cell_type": "code",
   "execution_count": 5,
   "metadata": {},
   "outputs": [],
   "source": [
    "true_w = np.random.normal(size = M)\n",
    "base_X = np.random.uniform(low = X_domain[0], high = X_domain[1], size = n)\n",
    "train_X = np.array([base_X**j for j in range(M)]).T\n",
    "train_prob = expit(train_X @ true_w)\n",
    "train_Y = np.random.binomial(n = 1, p = train_prob, size = n)"
   ]
  },
  {
   "cell_type": "code",
   "execution_count": 6,
   "metadata": {},
   "outputs": [
    {
     "data": {
      "image/png": "[encoded data removed]",
      "text/plain": [
       "<Figure size 432x288 with 1 Axes>"
      ]
     },
     "metadata": {
      "needs_background": "light"
     },
     "output_type": "display_data"
    }
   ],
   "source": [
    "plt.scatter(train_X[:,1], train_prob)\n",
    "plt.show()"
   ]
  },
  {
   "cell_type": "markdown",
   "metadata": {},
   "source": [
    "# Learning\n",
    "+ At first, train without missing value."
   ]
  },
  {
   "cell_type": "code",
   "execution_count": 7,
   "metadata": {},
   "outputs": [],
   "source": [
    "learning_seed = 20191229\n",
    "iteration = 100\n",
    "l1 = 1"
   ]
  },
  {
   "cell_type": "code",
   "execution_count": 11,
   "metadata": {},
   "outputs": [],
   "source": [
    "np.random.seed(learning_seed)\n",
    "est_w = np.random.normal(size = M)"
   ]
  },
  {
   "cell_type": "code",
   "execution_count": 12,
   "metadata": {},
   "outputs": [],
   "source": [
    "for ite in range(iteration):\n",
    "    dw = (train_Y - 0.5) @ train_X - np.tanh(train_X @ est_w/2) @ train_X/2 - l1 * est_w\n",
    "    break"
   ]
  },
  {
   "cell_type": "code",
   "execution_count": 14,
   "metadata": {},
   "outputs": [
    {
     "data": {
      "text/plain": [
       "array([-0.34006367,  0.1885226 ,  0.46197246,  0.00196691])"
      ]
     },
     "execution_count": 14,
     "metadata": {},
     "output_type": "execute_result"
    }
   ],
   "source": [
    "est_w"
   ]
  },
  {
   "cell_type": "code",
   "execution_count": 15,
   "metadata": {},
   "outputs": [
    {
     "data": {
      "text/plain": [
       "array([ 0.2806828 ,  0.59928418, -0.28747788, -0.13122198])"
      ]
     },
     "execution_count": 15,
     "metadata": {},
     "output_type": "execute_result"
    }
   ],
   "source": [
    "true_w"
   ]
  },
  {
   "cell_type": "code",
   "execution_count": 13,
   "metadata": {},
   "outputs": [
    {
     "data": {
      "text/plain": [
       "array([ -183.20768246,  -259.79344697, -2043.9154487 , -5248.12512302])"
      ]
     },
     "execution_count": 13,
     "metadata": {},
     "output_type": "execute_result"
    }
   ],
   "source": [
    "dw"
   ]
  }
 ],
 "metadata": {
  "jupytext": {
   "text_representation": {
    "extension": ".py",
    "format_name": "light",
    "format_version": "1.4",
    "jupytext_version": "1.1.3"
   }
  },
  "kernelspec": {
   "display_name": "Python 3",
   "language": "python",
   "name": "python3"
  },
  "language_info": {
   "codemirror_mode": {
    "name": "ipython",
    "version": 3
   },
   "file_extension": ".py",
   "mimetype": "text/x-python",
   "name": "python",
   "nbconvert_exporter": "python",
   "pygments_lexer": "ipython3",
   "version": "3.7.3"
  },
  "toc-autonumbering": true
 },
 "nbformat": 4,
 "nbformat_minor": 4
}
